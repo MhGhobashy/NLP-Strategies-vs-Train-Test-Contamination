{
 "cells": [
  {
   "cell_type": "markdown",
   "id": "b0bca7d7",
   "metadata": {
    "papermill": {
     "duration": 0.017479,
     "end_time": "2024-06-20T03:27:17.155550",
     "exception": false,
     "start_time": "2024-06-20T03:27:17.138071",
     "status": "completed"
    },
    "tags": []
   },
   "source": [
    "### This notebook is part 2 of [100% accuracy using One-Hot Encoding](https://www.kaggle.com/code/mghobashy/100-accuracy-model-using-one-hot-encoding)\n",
    "### In this continuation, we talk about ***Train-Test Contamination*** while exploring different approaches to improve our model.\n",
    "# Import the necessary libraries:"
   ]
  },
  {
   "cell_type": "code",
   "execution_count": 1,
   "id": "df81f915",
   "metadata": {
    "_cell_guid": "b1076dfc-b9ad-4769-8c92-a6c4dae69d19",
    "_uuid": "8f2839f25d086af736a60e9eeb907d3b93b6e0e5",
    "execution": {
     "iopub.execute_input": "2024-06-20T03:27:17.192300Z",
     "iopub.status.busy": "2024-06-20T03:27:17.191568Z",
     "iopub.status.idle": "2024-06-20T03:27:31.824433Z",
     "shell.execute_reply": "2024-06-20T03:27:31.823630Z"
    },
    "papermill": {
     "duration": 14.653329,
     "end_time": "2024-06-20T03:27:31.826644",
     "exception": false,
     "start_time": "2024-06-20T03:27:17.173315",
     "status": "completed"
    },
    "tags": []
   },
   "outputs": [
    {
     "name": "stderr",
     "output_type": "stream",
     "text": [
      "2024-06-20 03:27:21.769763: E external/local_xla/xla/stream_executor/cuda/cuda_dnn.cc:9261] Unable to register cuDNN factory: Attempting to register factory for plugin cuDNN when one has already been registered\n",
      "2024-06-20 03:27:21.769888: E external/local_xla/xla/stream_executor/cuda/cuda_fft.cc:607] Unable to register cuFFT factory: Attempting to register factory for plugin cuFFT when one has already been registered\n",
      "2024-06-20 03:27:21.919310: E external/local_xla/xla/stream_executor/cuda/cuda_blas.cc:1515] Unable to register cuBLAS factory: Attempting to register factory for plugin cuBLAS when one has already been registered\n"
     ]
    }
   ],
   "source": [
    "import random\n",
    "import regex as re\n",
    "import numpy as np\n",
    "import pandas as pd\n",
    "import plotly.express as px\n",
    "\n",
    "from sklearn.manifold import TSNE\n",
    "from sklearn.cluster import KMeans\n",
    "from sklearn.preprocessing import LabelEncoder\n",
    "from sklearn.neighbors import NearestNeighbors\n",
    "from sklearn.model_selection import train_test_split\n",
    "from sklearn.feature_extraction.text import TfidfVectorizer\n",
    "from sklearn.metrics import adjusted_rand_score, normalized_mutual_info_score\n",
    "\n",
    "import tensorflow as tf\n",
    "from tensorflow import keras\n",
    "from tensorflow.keras import layers\n",
    "from tensorflow.keras.callbacks import EarlyStopping\n",
    "from tensorflow.keras.layers import TextVectorization\n",
    "\n",
    "import warnings\n",
    "warnings.filterwarnings(\"ignore\")\n",
    "pd.set_option('display.max_columns', None)\n",
    "pd.set_option('display.max_rows', None)"
   ]
  },
  {
   "cell_type": "code",
   "execution_count": 2,
   "id": "580624d6",
   "metadata": {
    "execution": {
     "iopub.execute_input": "2024-06-20T03:27:31.863243Z",
     "iopub.status.busy": "2024-06-20T03:27:31.862268Z",
     "iopub.status.idle": "2024-06-20T03:27:31.904635Z",
     "shell.execute_reply": "2024-06-20T03:27:31.903758Z"
    },
    "papermill": {
     "duration": 0.061976,
     "end_time": "2024-06-20T03:27:31.906882",
     "exception": false,
     "start_time": "2024-06-20T03:27:31.844906",
     "status": "completed"
    },
    "tags": []
   },
   "outputs": [],
   "source": [
    "main_data = pd.read_csv(\"/kaggle/input/disease-symptom-description-dataset/dataset.csv\")"
   ]
  },
  {
   "cell_type": "code",
   "execution_count": 3,
   "id": "e1ee3a00",
   "metadata": {
    "execution": {
     "iopub.execute_input": "2024-06-20T03:27:31.941975Z",
     "iopub.status.busy": "2024-06-20T03:27:31.941711Z",
     "iopub.status.idle": "2024-06-20T03:27:31.971776Z",
     "shell.execute_reply": "2024-06-20T03:27:31.970860Z"
    },
    "papermill": {
     "duration": 0.049445,
     "end_time": "2024-06-20T03:27:31.973713",
     "exception": false,
     "start_time": "2024-06-20T03:27:31.924268",
     "status": "completed"
    },
    "tags": []
   },
   "outputs": [
    {
     "data": {
      "text/html": [
       "<div>\n",
       "<style scoped>\n",
       "    .dataframe tbody tr th:only-of-type {\n",
       "        vertical-align: middle;\n",
       "    }\n",
       "\n",
       "    .dataframe tbody tr th {\n",
       "        vertical-align: top;\n",
       "    }\n",
       "\n",
       "    .dataframe thead th {\n",
       "        text-align: right;\n",
       "    }\n",
       "</style>\n",
       "<table border=\"1\" class=\"dataframe\">\n",
       "  <thead>\n",
       "    <tr style=\"text-align: right;\">\n",
       "      <th></th>\n",
       "      <th>Disease</th>\n",
       "      <th>Symptom_1</th>\n",
       "      <th>Symptom_2</th>\n",
       "      <th>Symptom_3</th>\n",
       "      <th>Symptom_4</th>\n",
       "      <th>Symptom_5</th>\n",
       "      <th>Symptom_6</th>\n",
       "      <th>Symptom_7</th>\n",
       "      <th>Symptom_8</th>\n",
       "      <th>Symptom_9</th>\n",
       "      <th>Symptom_10</th>\n",
       "      <th>Symptom_11</th>\n",
       "      <th>Symptom_12</th>\n",
       "      <th>Symptom_13</th>\n",
       "      <th>Symptom_14</th>\n",
       "      <th>Symptom_15</th>\n",
       "      <th>Symptom_16</th>\n",
       "      <th>Symptom_17</th>\n",
       "    </tr>\n",
       "  </thead>\n",
       "  <tbody>\n",
       "    <tr>\n",
       "      <th>4051</th>\n",
       "      <td>Hypoglycemia</td>\n",
       "      <td>vomiting</td>\n",
       "      <td>fatigue</td>\n",
       "      <td>anxiety</td>\n",
       "      <td>sweating</td>\n",
       "      <td>headache</td>\n",
       "      <td>nausea</td>\n",
       "      <td>blurred_and_distorted_vision</td>\n",
       "      <td>excessive_hunger</td>\n",
       "      <td>drying_and_tingling_lips</td>\n",
       "      <td>slurred_speech</td>\n",
       "      <td>irritability</td>\n",
       "      <td>palpitations</td>\n",
       "      <td>NaN</td>\n",
       "      <td>NaN</td>\n",
       "      <td>NaN</td>\n",
       "      <td>NaN</td>\n",
       "      <td>NaN</td>\n",
       "    </tr>\n",
       "    <tr>\n",
       "      <th>2321</th>\n",
       "      <td>Pneumonia</td>\n",
       "      <td>chills</td>\n",
       "      <td>fatigue</td>\n",
       "      <td>cough</td>\n",
       "      <td>high_fever</td>\n",
       "      <td>breathlessness</td>\n",
       "      <td>sweating</td>\n",
       "      <td>malaise</td>\n",
       "      <td>phlegm</td>\n",
       "      <td>chest_pain</td>\n",
       "      <td>fast_heart_rate</td>\n",
       "      <td>rusty_sputum</td>\n",
       "      <td>NaN</td>\n",
       "      <td>NaN</td>\n",
       "      <td>NaN</td>\n",
       "      <td>NaN</td>\n",
       "      <td>NaN</td>\n",
       "      <td>NaN</td>\n",
       "    </tr>\n",
       "    <tr>\n",
       "      <th>4443</th>\n",
       "      <td>Malaria</td>\n",
       "      <td>chills</td>\n",
       "      <td>vomiting</td>\n",
       "      <td>high_fever</td>\n",
       "      <td>sweating</td>\n",
       "      <td>headache</td>\n",
       "      <td>nausea</td>\n",
       "      <td>diarrhoea</td>\n",
       "      <td>muscle_pain</td>\n",
       "      <td>NaN</td>\n",
       "      <td>NaN</td>\n",
       "      <td>NaN</td>\n",
       "      <td>NaN</td>\n",
       "      <td>NaN</td>\n",
       "      <td>NaN</td>\n",
       "      <td>NaN</td>\n",
       "      <td>NaN</td>\n",
       "      <td>NaN</td>\n",
       "    </tr>\n",
       "    <tr>\n",
       "      <th>2879</th>\n",
       "      <td>Bronchial Asthma</td>\n",
       "      <td>fatigue</td>\n",
       "      <td>cough</td>\n",
       "      <td>high_fever</td>\n",
       "      <td>breathlessness</td>\n",
       "      <td>family_history</td>\n",
       "      <td>mucoid_sputum</td>\n",
       "      <td>NaN</td>\n",
       "      <td>NaN</td>\n",
       "      <td>NaN</td>\n",
       "      <td>NaN</td>\n",
       "      <td>NaN</td>\n",
       "      <td>NaN</td>\n",
       "      <td>NaN</td>\n",
       "      <td>NaN</td>\n",
       "      <td>NaN</td>\n",
       "      <td>NaN</td>\n",
       "      <td>NaN</td>\n",
       "    </tr>\n",
       "    <tr>\n",
       "      <th>3375</th>\n",
       "      <td>Paralysis (brain hemorrhage)</td>\n",
       "      <td>vomiting</td>\n",
       "      <td>headache</td>\n",
       "      <td>weakness_of_one_body_side</td>\n",
       "      <td>altered_sensorium</td>\n",
       "      <td>NaN</td>\n",
       "      <td>NaN</td>\n",
       "      <td>NaN</td>\n",
       "      <td>NaN</td>\n",
       "      <td>NaN</td>\n",
       "      <td>NaN</td>\n",
       "      <td>NaN</td>\n",
       "      <td>NaN</td>\n",
       "      <td>NaN</td>\n",
       "      <td>NaN</td>\n",
       "      <td>NaN</td>\n",
       "      <td>NaN</td>\n",
       "      <td>NaN</td>\n",
       "    </tr>\n",
       "  </tbody>\n",
       "</table>\n",
       "</div>"
      ],
      "text/plain": [
       "                           Disease  Symptom_1  Symptom_2  \\\n",
       "4051                  Hypoglycemia   vomiting    fatigue   \n",
       "2321                     Pneumonia     chills    fatigue   \n",
       "4443                       Malaria     chills   vomiting   \n",
       "2879              Bronchial Asthma    fatigue      cough   \n",
       "3375  Paralysis (brain hemorrhage)   vomiting   headache   \n",
       "\n",
       "                       Symptom_3           Symptom_4        Symptom_5  \\\n",
       "4051                     anxiety            sweating         headache   \n",
       "2321                       cough          high_fever   breathlessness   \n",
       "4443                  high_fever            sweating         headache   \n",
       "2879                  high_fever      breathlessness   family_history   \n",
       "3375   weakness_of_one_body_side   altered_sensorium              NaN   \n",
       "\n",
       "           Symptom_6                      Symptom_7          Symptom_8  \\\n",
       "4051          nausea   blurred_and_distorted_vision   excessive_hunger   \n",
       "2321        sweating                        malaise             phlegm   \n",
       "4443          nausea                      diarrhoea        muscle_pain   \n",
       "2879   mucoid_sputum                            NaN                NaN   \n",
       "3375             NaN                            NaN                NaN   \n",
       "\n",
       "                      Symptom_9        Symptom_10     Symptom_11  \\\n",
       "4051   drying_and_tingling_lips    slurred_speech   irritability   \n",
       "2321                 chest_pain   fast_heart_rate   rusty_sputum   \n",
       "4443                        NaN               NaN            NaN   \n",
       "2879                        NaN               NaN            NaN   \n",
       "3375                        NaN               NaN            NaN   \n",
       "\n",
       "         Symptom_12 Symptom_13 Symptom_14 Symptom_15 Symptom_16 Symptom_17  \n",
       "4051   palpitations        NaN        NaN        NaN        NaN        NaN  \n",
       "2321            NaN        NaN        NaN        NaN        NaN        NaN  \n",
       "4443            NaN        NaN        NaN        NaN        NaN        NaN  \n",
       "2879            NaN        NaN        NaN        NaN        NaN        NaN  \n",
       "3375            NaN        NaN        NaN        NaN        NaN        NaN  "
      ]
     },
     "execution_count": 3,
     "metadata": {},
     "output_type": "execute_result"
    }
   ],
   "source": [
    "main_data.sample(5)"
   ]
  },
  {
   "cell_type": "markdown",
   "id": "5cc272ed",
   "metadata": {
    "papermill": {
     "duration": 0.016684,
     "end_time": "2024-06-20T03:27:32.007337",
     "exception": false,
     "start_time": "2024-06-20T03:27:31.990653",
     "status": "completed"
    },
    "tags": []
   },
   "source": [
    "# Clean and preprocess the data:"
   ]
  },
  {
   "cell_type": "markdown",
   "id": "49de620c",
   "metadata": {
    "papermill": {
     "duration": 0.016625,
     "end_time": "2024-06-20T03:27:32.040649",
     "exception": false,
     "start_time": "2024-06-20T03:27:32.024024",
     "status": "completed"
    },
    "tags": []
   },
   "source": [
    "## In Part 1, we converted the text data into integers to feed through our neural network. Here, we will explore more advanced strategies like LSTMs and K-means clustering that can work with text."
   ]
  },
  {
   "cell_type": "markdown",
   "id": "2f5df22c",
   "metadata": {
    "papermill": {
     "duration": 0.019947,
     "end_time": "2024-06-20T03:27:32.077879",
     "exception": false,
     "start_time": "2024-06-20T03:27:32.057932",
     "status": "completed"
    },
    "tags": []
   },
   "source": [
    "### First we concatenate the entire Symptoms columns into a single column."
   ]
  },
  {
   "cell_type": "code",
   "execution_count": 4,
   "id": "5408746a",
   "metadata": {
    "execution": {
     "iopub.execute_input": "2024-06-20T03:27:32.114888Z",
     "iopub.status.busy": "2024-06-20T03:27:32.114243Z",
     "iopub.status.idle": "2024-06-20T03:27:32.624098Z",
     "shell.execute_reply": "2024-06-20T03:27:32.623295Z"
    },
    "papermill": {
     "duration": 0.53105,
     "end_time": "2024-06-20T03:27:32.626551",
     "exception": false,
     "start_time": "2024-06-20T03:27:32.095501",
     "status": "completed"
    },
    "tags": []
   },
   "outputs": [
    {
     "data": {
      "text/html": [
       "<div>\n",
       "<style scoped>\n",
       "    .dataframe tbody tr th:only-of-type {\n",
       "        vertical-align: middle;\n",
       "    }\n",
       "\n",
       "    .dataframe tbody tr th {\n",
       "        vertical-align: top;\n",
       "    }\n",
       "\n",
       "    .dataframe thead th {\n",
       "        text-align: right;\n",
       "    }\n",
       "</style>\n",
       "<table border=\"1\" class=\"dataframe\">\n",
       "  <thead>\n",
       "    <tr style=\"text-align: right;\">\n",
       "      <th></th>\n",
       "      <th>Disease</th>\n",
       "      <th>Symptoms</th>\n",
       "    </tr>\n",
       "  </thead>\n",
       "  <tbody>\n",
       "    <tr>\n",
       "      <th>0</th>\n",
       "      <td>Fungal infection</td>\n",
       "      <td>dischromic _patches, nodal_skin_eruptions, sk...</td>\n",
       "    </tr>\n",
       "    <tr>\n",
       "      <th>1</th>\n",
       "      <td>Fungal infection</td>\n",
       "      <td>dischromic _patches, nodal_skin_eruptions, sk...</td>\n",
       "    </tr>\n",
       "    <tr>\n",
       "      <th>2</th>\n",
       "      <td>Fungal infection</td>\n",
       "      <td>dischromic _patches, nodal_skin_eruptions,itc...</td>\n",
       "    </tr>\n",
       "    <tr>\n",
       "      <th>3</th>\n",
       "      <td>Fungal infection</td>\n",
       "      <td>dischromic _patches, skin_rash,itching</td>\n",
       "    </tr>\n",
       "    <tr>\n",
       "      <th>4</th>\n",
       "      <td>Fungal infection</td>\n",
       "      <td>nodal_skin_eruptions, skin_rash,itching</td>\n",
       "    </tr>\n",
       "  </tbody>\n",
       "</table>\n",
       "</div>"
      ],
      "text/plain": [
       "            Disease                                           Symptoms\n",
       "0  Fungal infection   dischromic _patches, nodal_skin_eruptions, sk...\n",
       "1  Fungal infection   dischromic _patches, nodal_skin_eruptions, sk...\n",
       "2  Fungal infection   dischromic _patches, nodal_skin_eruptions,itc...\n",
       "3  Fungal infection             dischromic _patches, skin_rash,itching\n",
       "4  Fungal infection            nodal_skin_eruptions, skin_rash,itching"
      ]
     },
     "execution_count": 4,
     "metadata": {},
     "output_type": "execute_result"
    }
   ],
   "source": [
    "symptom_cols = main_data.columns.difference(['Disease'])  # Select all columns except 'Disease'\n",
    "\n",
    "# Combine all symptom columns into a single column\n",
    "conc_df = main_data.copy()  # Copy the original data incase we needed the original later\n",
    "conc_df['Symptoms'] = conc_df[symptom_cols].apply(lambda row: ','.join(row.dropna()), # Dropping NaN\n",
    "                                                  axis=1)\n",
    "\n",
    "# Drop duplicate symptoms within each cell\n",
    "conc_df['Symptoms'] = conc_df['Symptoms'].apply(lambda x: ','.join(sorted(set(\n",
    "                                                x.split(','))) if x else ''))\n",
    "\n",
    "# Keep only the 'Disease' and 'Symptoms' columns\n",
    "stay_cols = ['Disease', 'Symptoms']\n",
    "conc_df = conc_df[stay_cols]\n",
    "\n",
    "conc_df.head()"
   ]
  },
  {
   "cell_type": "code",
   "execution_count": 5,
   "id": "22f4f8d7",
   "metadata": {
    "execution": {
     "iopub.execute_input": "2024-06-20T03:27:32.663406Z",
     "iopub.status.busy": "2024-06-20T03:27:32.663142Z",
     "iopub.status.idle": "2024-06-20T03:27:32.668714Z",
     "shell.execute_reply": "2024-06-20T03:27:32.667904Z"
    },
    "papermill": {
     "duration": 0.025334,
     "end_time": "2024-06-20T03:27:32.670672",
     "exception": false,
     "start_time": "2024-06-20T03:27:32.645338",
     "status": "completed"
    },
    "tags": []
   },
   "outputs": [
    {
     "data": {
      "text/plain": [
       "' dischromic _patches, nodal_skin_eruptions, skin_rash,itching'"
      ]
     },
     "execution_count": 5,
     "metadata": {},
     "output_type": "execute_result"
    }
   ],
   "source": [
    "# Let's view the Symptoms\n",
    "conc_df['Symptoms'][0]"
   ]
  },
  {
   "cell_type": "markdown",
   "id": "827cf4e0",
   "metadata": {
    "papermill": {
     "duration": 0.016963,
     "end_time": "2024-06-20T03:27:32.704820",
     "exception": false,
     "start_time": "2024-06-20T03:27:32.687857",
     "status": "completed"
    },
    "tags": []
   },
   "source": [
    "### Then we clean the 'Symptoms' column."
   ]
  },
  {
   "cell_type": "code",
   "execution_count": 6,
   "id": "4d7a5a1b",
   "metadata": {
    "execution": {
     "iopub.execute_input": "2024-06-20T03:27:32.740548Z",
     "iopub.status.busy": "2024-06-20T03:27:32.739987Z",
     "iopub.status.idle": "2024-06-20T03:27:32.892061Z",
     "shell.execute_reply": "2024-06-20T03:27:32.891153Z"
    },
    "papermill": {
     "duration": 0.173143,
     "end_time": "2024-06-20T03:27:32.894888",
     "exception": false,
     "start_time": "2024-06-20T03:27:32.721745",
     "status": "completed"
    },
    "tags": []
   },
   "outputs": [
    {
     "data": {
      "text/html": [
       "<div>\n",
       "<style scoped>\n",
       "    .dataframe tbody tr th:only-of-type {\n",
       "        vertical-align: middle;\n",
       "    }\n",
       "\n",
       "    .dataframe tbody tr th {\n",
       "        vertical-align: top;\n",
       "    }\n",
       "\n",
       "    .dataframe thead th {\n",
       "        text-align: right;\n",
       "    }\n",
       "</style>\n",
       "<table border=\"1\" class=\"dataframe\">\n",
       "  <thead>\n",
       "    <tr style=\"text-align: right;\">\n",
       "      <th></th>\n",
       "      <th>Disease</th>\n",
       "      <th>Basic Tokens</th>\n",
       "    </tr>\n",
       "  </thead>\n",
       "  <tbody>\n",
       "    <tr>\n",
       "      <th>0</th>\n",
       "      <td>Fungal infection</td>\n",
       "      <td>dischromic patches, nodal skin eruptions, skin...</td>\n",
       "    </tr>\n",
       "    <tr>\n",
       "      <th>1</th>\n",
       "      <td>Fungal infection</td>\n",
       "      <td>dischromic patches, nodal skin eruptions, skin...</td>\n",
       "    </tr>\n",
       "    <tr>\n",
       "      <th>2</th>\n",
       "      <td>Fungal infection</td>\n",
       "      <td>dischromic patches, nodal skin eruptions, itching</td>\n",
       "    </tr>\n",
       "    <tr>\n",
       "      <th>3</th>\n",
       "      <td>Fungal infection</td>\n",
       "      <td>dischromic patches, skin rash, itching</td>\n",
       "    </tr>\n",
       "    <tr>\n",
       "      <th>4</th>\n",
       "      <td>Fungal infection</td>\n",
       "      <td>nodal skin eruptions, skin rash, itching</td>\n",
       "    </tr>\n",
       "  </tbody>\n",
       "</table>\n",
       "</div>"
      ],
      "text/plain": [
       "            Disease                                       Basic Tokens\n",
       "0  Fungal infection  dischromic patches, nodal skin eruptions, skin...\n",
       "1  Fungal infection  dischromic patches, nodal skin eruptions, skin...\n",
       "2  Fungal infection  dischromic patches, nodal skin eruptions, itching\n",
       "3  Fungal infection             dischromic patches, skin rash, itching\n",
       "4  Fungal infection           nodal skin eruptions, skin rash, itching"
      ]
     },
     "execution_count": 6,
     "metadata": {},
     "output_type": "execute_result"
    }
   ],
   "source": [
    "def strip_to_basic_tokens(text):\n",
    "    # Remove double spaces and underscores\n",
    "    text = re.sub(r'[_\\s]+', ' ', text)\n",
    "    # Split by commas and lowercase the tokens\n",
    "    tokens = [token.strip().lower() for token in text.split(',')]\n",
    "    return tokens\n",
    "\n",
    "data = conc_df.copy() # Making a copy\n",
    "\n",
    "# Apply the function to 'Symptoms' column\n",
    "data['Basic Tokens'] = data['Symptoms'].apply(strip_to_basic_tokens)\n",
    "data['Basic Tokens'] = data['Basic Tokens'].apply(lambda x: ', '.join(x))\n",
    "data = data.drop(['Symptoms'], axis = 1)\n",
    "data.head()"
   ]
  },
  {
   "cell_type": "code",
   "execution_count": 7,
   "id": "2236d218",
   "metadata": {
    "execution": {
     "iopub.execute_input": "2024-06-20T03:27:32.952136Z",
     "iopub.status.busy": "2024-06-20T03:27:32.951814Z",
     "iopub.status.idle": "2024-06-20T03:27:32.957559Z",
     "shell.execute_reply": "2024-06-20T03:27:32.956741Z"
    },
    "papermill": {
     "duration": 0.028668,
     "end_time": "2024-06-20T03:27:32.959479",
     "exception": false,
     "start_time": "2024-06-20T03:27:32.930811",
     "status": "completed"
    },
    "tags": []
   },
   "outputs": [
    {
     "data": {
      "text/plain": [
       "'dischromic patches, nodal skin eruptions, skin rash, itching'"
      ]
     },
     "execution_count": 7,
     "metadata": {},
     "output_type": "execute_result"
    }
   ],
   "source": [
    "# Now the Symptoms column is ready\n",
    "data['Basic Tokens'][0]"
   ]
  },
  {
   "cell_type": "markdown",
   "id": "0b231235",
   "metadata": {
    "papermill": {
     "duration": 0.017305,
     "end_time": "2024-06-20T03:27:32.994922",
     "exception": false,
     "start_time": "2024-06-20T03:27:32.977617",
     "status": "completed"
    },
    "tags": []
   },
   "source": [
    "### We will also label encode the 'Disease' column."
   ]
  },
  {
   "cell_type": "code",
   "execution_count": 8,
   "id": "bfe91969",
   "metadata": {
    "execution": {
     "iopub.execute_input": "2024-06-20T03:27:33.030946Z",
     "iopub.status.busy": "2024-06-20T03:27:33.030661Z",
     "iopub.status.idle": "2024-06-20T03:27:33.043299Z",
     "shell.execute_reply": "2024-06-20T03:27:33.042463Z"
    },
    "papermill": {
     "duration": 0.032951,
     "end_time": "2024-06-20T03:27:33.045286",
     "exception": false,
     "start_time": "2024-06-20T03:27:33.012335",
     "status": "completed"
    },
    "tags": []
   },
   "outputs": [
    {
     "data": {
      "text/html": [
       "<div>\n",
       "<style scoped>\n",
       "    .dataframe tbody tr th:only-of-type {\n",
       "        vertical-align: middle;\n",
       "    }\n",
       "\n",
       "    .dataframe tbody tr th {\n",
       "        vertical-align: top;\n",
       "    }\n",
       "\n",
       "    .dataframe thead th {\n",
       "        text-align: right;\n",
       "    }\n",
       "</style>\n",
       "<table border=\"1\" class=\"dataframe\">\n",
       "  <thead>\n",
       "    <tr style=\"text-align: right;\">\n",
       "      <th></th>\n",
       "      <th>Disease</th>\n",
       "      <th>Basic Tokens</th>\n",
       "    </tr>\n",
       "  </thead>\n",
       "  <tbody>\n",
       "    <tr>\n",
       "      <th>0</th>\n",
       "      <td>15</td>\n",
       "      <td>dischromic patches, nodal skin eruptions, skin...</td>\n",
       "    </tr>\n",
       "    <tr>\n",
       "      <th>1</th>\n",
       "      <td>15</td>\n",
       "      <td>dischromic patches, nodal skin eruptions, skin...</td>\n",
       "    </tr>\n",
       "    <tr>\n",
       "      <th>2</th>\n",
       "      <td>15</td>\n",
       "      <td>dischromic patches, nodal skin eruptions, itching</td>\n",
       "    </tr>\n",
       "    <tr>\n",
       "      <th>3</th>\n",
       "      <td>15</td>\n",
       "      <td>dischromic patches, skin rash, itching</td>\n",
       "    </tr>\n",
       "    <tr>\n",
       "      <th>4</th>\n",
       "      <td>15</td>\n",
       "      <td>nodal skin eruptions, skin rash, itching</td>\n",
       "    </tr>\n",
       "  </tbody>\n",
       "</table>\n",
       "</div>"
      ],
      "text/plain": [
       "   Disease                                       Basic Tokens\n",
       "0       15  dischromic patches, nodal skin eruptions, skin...\n",
       "1       15  dischromic patches, nodal skin eruptions, skin...\n",
       "2       15  dischromic patches, nodal skin eruptions, itching\n",
       "3       15             dischromic patches, skin rash, itching\n",
       "4       15           nodal skin eruptions, skin rash, itching"
      ]
     },
     "execution_count": 8,
     "metadata": {},
     "output_type": "execute_result"
    }
   ],
   "source": [
    "# Flatten the 'Disease' column into a single Series\n",
    "encoded_data = data.copy()\n",
    "flattened_series = encoded_data['Disease'].astype(str)\n",
    "# Apply label encoding on the Disease column\n",
    "encoder = LabelEncoder()\n",
    "encoded_values = encoder.fit_transform(flattened_series)\n",
    "encoded_data['Disease'] = encoded_values\n",
    "# Saving the encoding to reverse it later in the predictions\n",
    "label_mapping = {index: label for index, label in enumerate(encoder.classes_)}\n",
    "\n",
    "encoded_data.head()"
   ]
  },
  {
   "cell_type": "markdown",
   "id": "7a7f6103",
   "metadata": {
    "papermill": {
     "duration": 0.017327,
     "end_time": "2024-06-20T03:27:33.082045",
     "exception": false,
     "start_time": "2024-06-20T03:27:33.064718",
     "status": "completed"
    },
    "tags": []
   },
   "source": [
    "## Now that the data is ready, let's review how we are going to train and evaluate our models."
   ]
  },
  {
   "cell_type": "markdown",
   "id": "313b56df",
   "metadata": {
    "papermill": {
     "duration": 0.018039,
     "end_time": "2024-06-20T03:27:33.117796",
     "exception": false,
     "start_time": "2024-06-20T03:27:33.099757",
     "status": "completed"
    },
    "tags": []
   },
   "source": [
    "# Bidirectional LSTM:"
   ]
  },
  {
   "cell_type": "markdown",
   "id": "a575018b",
   "metadata": {
    "papermill": {
     "duration": 0.019089,
     "end_time": "2024-06-20T03:27:33.154720",
     "exception": false,
     "start_time": "2024-06-20T03:27:33.135631",
     "status": "completed"
    },
    "tags": []
   },
   "source": [
    "### First we create the train, test, val."
   ]
  },
  {
   "cell_type": "code",
   "execution_count": 9,
   "id": "4a38fff0",
   "metadata": {
    "execution": {
     "iopub.execute_input": "2024-06-20T03:27:33.192199Z",
     "iopub.status.busy": "2024-06-20T03:27:33.191893Z",
     "iopub.status.idle": "2024-06-20T03:27:33.207133Z",
     "shell.execute_reply": "2024-06-20T03:27:33.206207Z"
    },
    "papermill": {
     "duration": 0.036553,
     "end_time": "2024-06-20T03:27:33.209036",
     "exception": false,
     "start_time": "2024-06-20T03:27:33.172483",
     "status": "completed"
    },
    "tags": []
   },
   "outputs": [],
   "source": [
    "train_sentences, val_sentences, train_labels, val_labels = train_test_split(\n",
    "    encoded_data[\"Basic Tokens\"].to_numpy(),\n",
    "    encoded_data[\"Disease\"].to_numpy(),\n",
    "    stratify = data[\"Disease\"], # To make sure of an even distribution between the train and test\n",
    "    test_size=0.25,\n",
    "    random_state=42)\n",
    "val_sentences, test_sentences, val_labels, test_labels = train_test_split(\n",
    "    val_sentences,\n",
    "    val_labels,\n",
    "    test_size=0.5,\n",
    "    random_state=42)"
   ]
  },
  {
   "cell_type": "markdown",
   "id": "3ee4c5db",
   "metadata": {
    "papermill": {
     "duration": 0.017863,
     "end_time": "2024-06-20T03:27:33.245042",
     "exception": false,
     "start_time": "2024-06-20T03:27:33.227179",
     "status": "completed"
    },
    "tags": []
   },
   "source": [
    "### Next, we will set up our `text_vectorizer` layer and adapt it."
   ]
  },
  {
   "cell_type": "code",
   "execution_count": 10,
   "id": "3b14133a",
   "metadata": {
    "execution": {
     "iopub.execute_input": "2024-06-20T03:27:33.281364Z",
     "iopub.status.busy": "2024-06-20T03:27:33.281101Z",
     "iopub.status.idle": "2024-06-20T03:27:34.056475Z",
     "shell.execute_reply": "2024-06-20T03:27:34.055584Z"
    },
    "papermill": {
     "duration": 0.796247,
     "end_time": "2024-06-20T03:27:34.058819",
     "exception": false,
     "start_time": "2024-06-20T03:27:33.262572",
     "status": "completed"
    },
    "tags": []
   },
   "outputs": [],
   "source": [
    "max_length = max(len(sentence.split()) for sentence in train_sentences)\n",
    "text_vectorizer = TextVectorization(split=\"whitespace\", # how to split tokens\n",
    "                                    output_mode=\"int\", # how to map tokens to numbers\n",
    "                                    output_sequence_length = max_length,\n",
    "                                    #standardize=\"lower_and_strip_punctuation\", # We've already done that\n",
    "                                   )"
   ]
  },
  {
   "cell_type": "code",
   "execution_count": 11,
   "id": "b2e4efe9",
   "metadata": {
    "execution": {
     "iopub.execute_input": "2024-06-20T03:27:34.137702Z",
     "iopub.status.busy": "2024-06-20T03:27:34.137356Z",
     "iopub.status.idle": "2024-06-20T03:27:34.261163Z",
     "shell.execute_reply": "2024-06-20T03:27:34.260323Z"
    },
    "papermill": {
     "duration": 0.18638,
     "end_time": "2024-06-20T03:27:34.263377",
     "exception": false,
     "start_time": "2024-06-20T03:27:34.076997",
     "status": "completed"
    },
    "tags": []
   },
   "outputs": [],
   "source": [
    "text_vectorizer.adapt(train_sentences)"
   ]
  },
  {
   "cell_type": "markdown",
   "id": "4bf57e93",
   "metadata": {
    "papermill": {
     "duration": 0.017923,
     "end_time": "2024-06-20T03:27:34.299705",
     "exception": false,
     "start_time": "2024-06-20T03:27:34.281782",
     "status": "completed"
    },
    "tags": []
   },
   "source": [
    "### Let's see how the text vectorizer handles the text."
   ]
  },
  {
   "cell_type": "code",
   "execution_count": 12,
   "id": "c2339fcd",
   "metadata": {
    "execution": {
     "iopub.execute_input": "2024-06-20T03:27:34.337565Z",
     "iopub.status.busy": "2024-06-20T03:27:34.337234Z",
     "iopub.status.idle": "2024-06-20T03:27:35.599273Z",
     "shell.execute_reply": "2024-06-20T03:27:35.598333Z"
    },
    "papermill": {
     "duration": 1.283356,
     "end_time": "2024-06-20T03:27:35.601394",
     "exception": false,
     "start_time": "2024-06-20T03:27:34.318038",
     "status": "completed"
    },
    "tags": []
   },
   "outputs": [
    {
     "name": "stdout",
     "output_type": "stream",
     "text": [
      "Original text:\n",
      "burning micturition, skin rash, spotting urination, stomach pain      \n",
      "\n",
      "Vectorized version:\n"
     ]
    },
    {
     "data": {
      "text/plain": [
       "<tf.Tensor: shape=(1, 30), dtype=int64, numpy=\n",
       "array([[ 91,  90,   6,  22, 188, 187,  36,   2,   0,   0,   0,   0,   0,\n",
       "          0,   0,   0,   0,   0,   0,   0,   0,   0,   0,   0,   0,   0,\n",
       "          0,   0,   0,   0]])>"
      ]
     },
     "execution_count": 12,
     "metadata": {},
     "output_type": "execute_result"
    }
   ],
   "source": [
    "random_sentence = random.choice(train_sentences)\n",
    "print(f\"Original text:\\n{random_sentence}\\\n",
    "      \\n\\nVectorized version:\")\n",
    "text_vectorizer([random_sentence])"
   ]
  },
  {
   "cell_type": "code",
   "execution_count": 13,
   "id": "51b1b9d8",
   "metadata": {
    "execution": {
     "iopub.execute_input": "2024-06-20T03:27:35.639987Z",
     "iopub.status.busy": "2024-06-20T03:27:35.639686Z",
     "iopub.status.idle": "2024-06-20T03:27:35.648269Z",
     "shell.execute_reply": "2024-06-20T03:27:35.647390Z"
    },
    "papermill": {
     "duration": 0.029342,
     "end_time": "2024-06-20T03:27:35.650285",
     "exception": false,
     "start_time": "2024-06-20T03:27:35.620943",
     "status": "completed"
    },
    "tags": []
   },
   "outputs": [
    {
     "data": {
      "text/plain": [
       "210"
      ]
     },
     "execution_count": 13,
     "metadata": {},
     "output_type": "execute_result"
    }
   ],
   "source": [
    "# Getting the max vocab length\n",
    "words_in_vocab = text_vectorizer.get_vocabulary()\n",
    "max_vocab_length = len(words_in_vocab)\n",
    "max_vocab_length"
   ]
  },
  {
   "cell_type": "code",
   "execution_count": 14,
   "id": "30f21400",
   "metadata": {
    "execution": {
     "iopub.execute_input": "2024-06-20T03:27:35.687638Z",
     "iopub.status.busy": "2024-06-20T03:27:35.687344Z",
     "iopub.status.idle": "2024-06-20T03:27:35.695716Z",
     "shell.execute_reply": "2024-06-20T03:27:35.694851Z"
    },
    "papermill": {
     "duration": 0.02966,
     "end_time": "2024-06-20T03:27:35.697944",
     "exception": false,
     "start_time": "2024-06-20T03:27:35.668284",
     "status": "completed"
    },
    "tags": []
   },
   "outputs": [
    {
     "data": {
      "text/plain": [
       "41"
      ]
     },
     "execution_count": 14,
     "metadata": {},
     "output_type": "execute_result"
    }
   ],
   "source": [
    "# Getting the number of targets to put in the output layer\n",
    "targets = data['Disease'].nunique()\n",
    "targets"
   ]
  },
  {
   "cell_type": "markdown",
   "id": "7a465049",
   "metadata": {
    "papermill": {
     "duration": 0.017969,
     "end_time": "2024-06-20T03:27:35.735735",
     "exception": false,
     "start_time": "2024-06-20T03:27:35.717766",
     "status": "completed"
    },
    "tags": []
   },
   "source": [
    "## Now, let's create, compile, and train the model."
   ]
  },
  {
   "cell_type": "code",
   "execution_count": 15,
   "id": "49ed15c8",
   "metadata": {
    "execution": {
     "iopub.execute_input": "2024-06-20T03:27:35.773228Z",
     "iopub.status.busy": "2024-06-20T03:27:35.772958Z",
     "iopub.status.idle": "2024-06-20T03:27:36.019809Z",
     "shell.execute_reply": "2024-06-20T03:27:36.018953Z"
    },
    "papermill": {
     "duration": 0.268104,
     "end_time": "2024-06-20T03:27:36.022017",
     "exception": false,
     "start_time": "2024-06-20T03:27:35.753913",
     "status": "completed"
    },
    "tags": []
   },
   "outputs": [],
   "source": [
    "tf.random.set_seed(42)\n",
    "# We set the embedding layer\n",
    "embedding = layers.Embedding(input_dim=max_vocab_length,\n",
    "                                     output_dim=128,\n",
    "                                     embeddings_initializer=\"uniform\",\n",
    "                                     input_length=max_length,\n",
    "                                     name=\"embedding\")\n",
    "\n",
    "inputs = layers.Input(shape=(1,), dtype=\"string\")\n",
    "x = text_vectorizer(inputs)\n",
    "x = embedding(x)\n",
    "x = layers.Bidirectional(layers.LSTM(32, return_sequences=True))(x)\n",
    "x = layers.Bidirectional(layers.LSTM((64)))(x)\n",
    "x = layers.Dense(64, activation=\"relu\")(x)\n",
    "outputs = layers.Dense(targets, activation=\"softmax\")(x)\n",
    "model_1 = tf.keras.Model(inputs, outputs, name=\"Bidirectional_LSTM\")"
   ]
  },
  {
   "cell_type": "code",
   "execution_count": 16,
   "id": "b15b5345",
   "metadata": {
    "execution": {
     "iopub.execute_input": "2024-06-20T03:27:36.060391Z",
     "iopub.status.busy": "2024-06-20T03:27:36.060103Z",
     "iopub.status.idle": "2024-06-20T03:27:36.071808Z",
     "shell.execute_reply": "2024-06-20T03:27:36.071122Z"
    },
    "papermill": {
     "duration": 0.032907,
     "end_time": "2024-06-20T03:27:36.073609",
     "exception": false,
     "start_time": "2024-06-20T03:27:36.040702",
     "status": "completed"
    },
    "tags": []
   },
   "outputs": [],
   "source": [
    "model_1.compile(loss=\"sparse_categorical_crossentropy\",\n",
    "                optimizer=tf.keras.optimizers.Adam(),\n",
    "                metrics=[\"accuracy\"])"
   ]
  },
  {
   "cell_type": "code",
   "execution_count": 17,
   "id": "77ade19c",
   "metadata": {
    "execution": {
     "iopub.execute_input": "2024-06-20T03:27:36.110940Z",
     "iopub.status.busy": "2024-06-20T03:27:36.110659Z",
     "iopub.status.idle": "2024-06-20T03:27:36.132022Z",
     "shell.execute_reply": "2024-06-20T03:27:36.131180Z"
    },
    "papermill": {
     "duration": 0.042202,
     "end_time": "2024-06-20T03:27:36.133847",
     "exception": false,
     "start_time": "2024-06-20T03:27:36.091645",
     "status": "completed"
    },
    "tags": []
   },
   "outputs": [
    {
     "data": {
      "text/html": [
       "<pre style=\"white-space:pre;overflow-x:auto;line-height:normal;font-family:Menlo,'DejaVu Sans Mono',consolas,'Courier New',monospace\"><span style=\"font-weight: bold\">Model: \"Bidirectional_LSTM\"</span>\n",
       "</pre>\n"
      ],
      "text/plain": [
       "\u001b[1mModel: \"Bidirectional_LSTM\"\u001b[0m\n"
      ]
     },
     "metadata": {},
     "output_type": "display_data"
    },
    {
     "data": {
      "text/html": [
       "<pre style=\"white-space:pre;overflow-x:auto;line-height:normal;font-family:Menlo,'DejaVu Sans Mono',consolas,'Courier New',monospace\">┏━━━━━━━━━━━━━━━━━━━━━━━━━━━━━━━━━┳━━━━━━━━━━━━━━━━━━━━━━━━┳━━━━━━━━━━━━━━━┓\n",
       "┃<span style=\"font-weight: bold\"> Layer (type)                    </span>┃<span style=\"font-weight: bold\"> Output Shape           </span>┃<span style=\"font-weight: bold\">       Param # </span>┃\n",
       "┡━━━━━━━━━━━━━━━━━━━━━━━━━━━━━━━━━╇━━━━━━━━━━━━━━━━━━━━━━━━╇━━━━━━━━━━━━━━━┩\n",
       "│ input_layer (<span style=\"color: #0087ff; text-decoration-color: #0087ff\">InputLayer</span>)        │ (<span style=\"color: #00d7ff; text-decoration-color: #00d7ff\">None</span>, <span style=\"color: #00af00; text-decoration-color: #00af00\">1</span>)              │             <span style=\"color: #00af00; text-decoration-color: #00af00\">0</span> │\n",
       "├─────────────────────────────────┼────────────────────────┼───────────────┤\n",
       "│ text_vectorization              │ (<span style=\"color: #00d7ff; text-decoration-color: #00d7ff\">None</span>, <span style=\"color: #00af00; text-decoration-color: #00af00\">30</span>)             │             <span style=\"color: #00af00; text-decoration-color: #00af00\">0</span> │\n",
       "│ (<span style=\"color: #0087ff; text-decoration-color: #0087ff\">TextVectorization</span>)             │                        │               │\n",
       "├─────────────────────────────────┼────────────────────────┼───────────────┤\n",
       "│ embedding (<span style=\"color: #0087ff; text-decoration-color: #0087ff\">Embedding</span>)           │ (<span style=\"color: #00d7ff; text-decoration-color: #00d7ff\">None</span>, <span style=\"color: #00af00; text-decoration-color: #00af00\">30</span>, <span style=\"color: #00af00; text-decoration-color: #00af00\">128</span>)        │        <span style=\"color: #00af00; text-decoration-color: #00af00\">26,880</span> │\n",
       "├─────────────────────────────────┼────────────────────────┼───────────────┤\n",
       "│ bidirectional (<span style=\"color: #0087ff; text-decoration-color: #0087ff\">Bidirectional</span>)   │ (<span style=\"color: #00d7ff; text-decoration-color: #00d7ff\">None</span>, <span style=\"color: #00af00; text-decoration-color: #00af00\">30</span>, <span style=\"color: #00af00; text-decoration-color: #00af00\">64</span>)         │        <span style=\"color: #00af00; text-decoration-color: #00af00\">41,216</span> │\n",
       "├─────────────────────────────────┼────────────────────────┼───────────────┤\n",
       "│ bidirectional_1 (<span style=\"color: #0087ff; text-decoration-color: #0087ff\">Bidirectional</span>) │ (<span style=\"color: #00d7ff; text-decoration-color: #00d7ff\">None</span>, <span style=\"color: #00af00; text-decoration-color: #00af00\">128</span>)            │        <span style=\"color: #00af00; text-decoration-color: #00af00\">66,048</span> │\n",
       "├─────────────────────────────────┼────────────────────────┼───────────────┤\n",
       "│ dense (<span style=\"color: #0087ff; text-decoration-color: #0087ff\">Dense</span>)                   │ (<span style=\"color: #00d7ff; text-decoration-color: #00d7ff\">None</span>, <span style=\"color: #00af00; text-decoration-color: #00af00\">64</span>)             │         <span style=\"color: #00af00; text-decoration-color: #00af00\">8,256</span> │\n",
       "├─────────────────────────────────┼────────────────────────┼───────────────┤\n",
       "│ dense_1 (<span style=\"color: #0087ff; text-decoration-color: #0087ff\">Dense</span>)                 │ (<span style=\"color: #00d7ff; text-decoration-color: #00d7ff\">None</span>, <span style=\"color: #00af00; text-decoration-color: #00af00\">41</span>)             │         <span style=\"color: #00af00; text-decoration-color: #00af00\">2,665</span> │\n",
       "└─────────────────────────────────┴────────────────────────┴───────────────┘\n",
       "</pre>\n"
      ],
      "text/plain": [
       "┏━━━━━━━━━━━━━━━━━━━━━━━━━━━━━━━━━┳━━━━━━━━━━━━━━━━━━━━━━━━┳━━━━━━━━━━━━━━━┓\n",
       "┃\u001b[1m \u001b[0m\u001b[1mLayer (type)                   \u001b[0m\u001b[1m \u001b[0m┃\u001b[1m \u001b[0m\u001b[1mOutput Shape          \u001b[0m\u001b[1m \u001b[0m┃\u001b[1m \u001b[0m\u001b[1m      Param #\u001b[0m\u001b[1m \u001b[0m┃\n",
       "┡━━━━━━━━━━━━━━━━━━━━━━━━━━━━━━━━━╇━━━━━━━━━━━━━━━━━━━━━━━━╇━━━━━━━━━━━━━━━┩\n",
       "│ input_layer (\u001b[38;5;33mInputLayer\u001b[0m)        │ (\u001b[38;5;45mNone\u001b[0m, \u001b[38;5;34m1\u001b[0m)              │             \u001b[38;5;34m0\u001b[0m │\n",
       "├─────────────────────────────────┼────────────────────────┼───────────────┤\n",
       "│ text_vectorization              │ (\u001b[38;5;45mNone\u001b[0m, \u001b[38;5;34m30\u001b[0m)             │             \u001b[38;5;34m0\u001b[0m │\n",
       "│ (\u001b[38;5;33mTextVectorization\u001b[0m)             │                        │               │\n",
       "├─────────────────────────────────┼────────────────────────┼───────────────┤\n",
       "│ embedding (\u001b[38;5;33mEmbedding\u001b[0m)           │ (\u001b[38;5;45mNone\u001b[0m, \u001b[38;5;34m30\u001b[0m, \u001b[38;5;34m128\u001b[0m)        │        \u001b[38;5;34m26,880\u001b[0m │\n",
       "├─────────────────────────────────┼────────────────────────┼───────────────┤\n",
       "│ bidirectional (\u001b[38;5;33mBidirectional\u001b[0m)   │ (\u001b[38;5;45mNone\u001b[0m, \u001b[38;5;34m30\u001b[0m, \u001b[38;5;34m64\u001b[0m)         │        \u001b[38;5;34m41,216\u001b[0m │\n",
       "├─────────────────────────────────┼────────────────────────┼───────────────┤\n",
       "│ bidirectional_1 (\u001b[38;5;33mBidirectional\u001b[0m) │ (\u001b[38;5;45mNone\u001b[0m, \u001b[38;5;34m128\u001b[0m)            │        \u001b[38;5;34m66,048\u001b[0m │\n",
       "├─────────────────────────────────┼────────────────────────┼───────────────┤\n",
       "│ dense (\u001b[38;5;33mDense\u001b[0m)                   │ (\u001b[38;5;45mNone\u001b[0m, \u001b[38;5;34m64\u001b[0m)             │         \u001b[38;5;34m8,256\u001b[0m │\n",
       "├─────────────────────────────────┼────────────────────────┼───────────────┤\n",
       "│ dense_1 (\u001b[38;5;33mDense\u001b[0m)                 │ (\u001b[38;5;45mNone\u001b[0m, \u001b[38;5;34m41\u001b[0m)             │         \u001b[38;5;34m2,665\u001b[0m │\n",
       "└─────────────────────────────────┴────────────────────────┴───────────────┘\n"
      ]
     },
     "metadata": {},
     "output_type": "display_data"
    },
    {
     "data": {
      "text/html": [
       "<pre style=\"white-space:pre;overflow-x:auto;line-height:normal;font-family:Menlo,'DejaVu Sans Mono',consolas,'Courier New',monospace\"><span style=\"font-weight: bold\"> Total params: </span><span style=\"color: #00af00; text-decoration-color: #00af00\">145,065</span> (566.66 KB)\n",
       "</pre>\n"
      ],
      "text/plain": [
       "\u001b[1m Total params: \u001b[0m\u001b[38;5;34m145,065\u001b[0m (566.66 KB)\n"
      ]
     },
     "metadata": {},
     "output_type": "display_data"
    },
    {
     "data": {
      "text/html": [
       "<pre style=\"white-space:pre;overflow-x:auto;line-height:normal;font-family:Menlo,'DejaVu Sans Mono',consolas,'Courier New',monospace\"><span style=\"font-weight: bold\"> Trainable params: </span><span style=\"color: #00af00; text-decoration-color: #00af00\">145,065</span> (566.66 KB)\n",
       "</pre>\n"
      ],
      "text/plain": [
       "\u001b[1m Trainable params: \u001b[0m\u001b[38;5;34m145,065\u001b[0m (566.66 KB)\n"
      ]
     },
     "metadata": {},
     "output_type": "display_data"
    },
    {
     "data": {
      "text/html": [
       "<pre style=\"white-space:pre;overflow-x:auto;line-height:normal;font-family:Menlo,'DejaVu Sans Mono',consolas,'Courier New',monospace\"><span style=\"font-weight: bold\"> Non-trainable params: </span><span style=\"color: #00af00; text-decoration-color: #00af00\">0</span> (0.00 B)\n",
       "</pre>\n"
      ],
      "text/plain": [
       "\u001b[1m Non-trainable params: \u001b[0m\u001b[38;5;34m0\u001b[0m (0.00 B)\n"
      ]
     },
     "metadata": {},
     "output_type": "display_data"
    }
   ],
   "source": [
    "model_1.summary()"
   ]
  },
  {
   "cell_type": "code",
   "execution_count": 18,
   "id": "0bbf29be",
   "metadata": {
    "execution": {
     "iopub.execute_input": "2024-06-20T03:27:36.174689Z",
     "iopub.status.busy": "2024-06-20T03:27:36.174398Z",
     "iopub.status.idle": "2024-06-20T03:27:49.567729Z",
     "shell.execute_reply": "2024-06-20T03:27:49.566924Z"
    },
    "papermill": {
     "duration": 13.416399,
     "end_time": "2024-06-20T03:27:49.569735",
     "exception": false,
     "start_time": "2024-06-20T03:27:36.153336",
     "status": "completed"
    },
    "tags": []
   },
   "outputs": [
    {
     "name": "stdout",
     "output_type": "stream",
     "text": [
      "Epoch 1/500\n",
      "\u001b[1m116/116\u001b[0m \u001b[32m━━━━━━━━━━━━━━━━━━━━\u001b[0m\u001b[37m\u001b[0m \u001b[1m7s\u001b[0m 19ms/step - accuracy: 0.2166 - loss: 3.0875 - val_accuracy: 0.9756 - val_loss: 0.3279\n",
      "Epoch 2/500\n",
      "\u001b[1m116/116\u001b[0m \u001b[32m━━━━━━━━━━━━━━━━━━━━\u001b[0m\u001b[37m\u001b[0m \u001b[1m1s\u001b[0m 11ms/step - accuracy: 0.9935 - loss: 0.1824 - val_accuracy: 0.9951 - val_loss: 0.0428\n",
      "Epoch 3/500\n",
      "\u001b[1m116/116\u001b[0m \u001b[32m━━━━━━━━━━━━━━━━━━━━\u001b[0m\u001b[37m\u001b[0m \u001b[1m1s\u001b[0m 11ms/step - accuracy: 1.0000 - loss: 0.0248 - val_accuracy: 1.0000 - val_loss: 0.0095\n",
      "Epoch 4/500\n",
      "\u001b[1m116/116\u001b[0m \u001b[32m━━━━━━━━━━━━━━━━━━━━\u001b[0m\u001b[37m\u001b[0m \u001b[1m1s\u001b[0m 11ms/step - accuracy: 1.0000 - loss: 0.0082 - val_accuracy: 1.0000 - val_loss: 0.0052\n",
      "Epoch 5/500\n",
      "\u001b[1m116/116\u001b[0m \u001b[32m━━━━━━━━━━━━━━━━━━━━\u001b[0m\u001b[37m\u001b[0m \u001b[1m1s\u001b[0m 11ms/step - accuracy: 1.0000 - loss: 0.0046 - val_accuracy: 1.0000 - val_loss: 0.0033\n",
      "Epoch 6/500\n",
      "\u001b[1m116/116\u001b[0m \u001b[32m━━━━━━━━━━━━━━━━━━━━\u001b[0m\u001b[37m\u001b[0m \u001b[1m1s\u001b[0m 11ms/step - accuracy: 1.0000 - loss: 0.0030 - val_accuracy: 1.0000 - val_loss: 0.0023\n"
     ]
    }
   ],
   "source": [
    "early_stopping = EarlyStopping(monitor='val_accuracy', patience=3, mode='max', \n",
    "                               restore_best_weights=True)\n",
    "\n",
    "\n",
    "model_1_history = model_1.fit(\n",
    "    train_sentences,\n",
    "    train_labels,\n",
    "    epochs=500,\n",
    "    validation_data=(val_sentences, val_labels),\n",
    "    callbacks=[early_stopping]\n",
    ")"
   ]
  },
  {
   "cell_type": "code",
   "execution_count": 19,
   "id": "b7cc2db8",
   "metadata": {
    "execution": {
     "iopub.execute_input": "2024-06-20T03:27:49.631754Z",
     "iopub.status.busy": "2024-06-20T03:27:49.631414Z",
     "iopub.status.idle": "2024-06-20T03:27:49.787827Z",
     "shell.execute_reply": "2024-06-20T03:27:49.786976Z"
    },
    "papermill": {
     "duration": 0.189365,
     "end_time": "2024-06-20T03:27:49.789724",
     "exception": false,
     "start_time": "2024-06-20T03:27:49.600359",
     "status": "completed"
    },
    "tags": []
   },
   "outputs": [
    {
     "name": "stdout",
     "output_type": "stream",
     "text": [
      "\u001b[1m20/20\u001b[0m \u001b[32m━━━━━━━━━━━━━━━━━━━━\u001b[0m\u001b[37m\u001b[0m \u001b[1m0s\u001b[0m 5ms/step - accuracy: 1.0000 - loss: 0.0090\n"
     ]
    },
    {
     "data": {
      "text/plain": [
       "[0.009187723509967327, 1.0]"
      ]
     },
     "execution_count": 19,
     "metadata": {},
     "output_type": "execute_result"
    }
   ],
   "source": [
    "model_1.evaluate(test_sentences, test_labels)"
   ]
  },
  {
   "cell_type": "markdown",
   "id": "3e7ae5f8",
   "metadata": {
    "papermill": {
     "duration": 0.029796,
     "end_time": "2024-06-20T03:27:49.849881",
     "exception": false,
     "start_time": "2024-06-20T03:27:49.820085",
     "status": "completed"
    },
    "tags": []
   },
   "source": [
    "## Great! 100% accuracy on both train and test. Looks like the model is flawless, but ***is it though?***"
   ]
  },
  {
   "cell_type": "markdown",
   "id": "cd66a226",
   "metadata": {
    "papermill": {
     "duration": 0.03009,
     "end_time": "2024-06-20T03:27:49.909686",
     "exception": false,
     "start_time": "2024-06-20T03:27:49.879596",
     "status": "completed"
    },
    "tags": []
   },
   "source": [
    "### Let's view the nearest neighbors (symptoms) for each class label (disease). It should make sense *medically* since the model achieved 100% accuracy."
   ]
  },
  {
   "cell_type": "code",
   "execution_count": 20,
   "id": "2ca4c8e8",
   "metadata": {
    "execution": {
     "iopub.execute_input": "2024-06-20T03:27:49.970699Z",
     "iopub.status.busy": "2024-06-20T03:27:49.970360Z",
     "iopub.status.idle": "2024-06-20T03:27:50.051610Z",
     "shell.execute_reply": "2024-06-20T03:27:50.050469Z"
    },
    "papermill": {
     "duration": 0.113873,
     "end_time": "2024-06-20T03:27:50.053419",
     "exception": false,
     "start_time": "2024-06-20T03:27:49.939546",
     "status": "completed"
    },
    "tags": []
   },
   "outputs": [
    {
     "name": "stdout",
     "output_type": "stream",
     "text": [
      "Nearest neighbors to class label 'Diabetes ':\n",
      "1: nausea\n",
      "2: shivering\n",
      "3: vomiting\n",
      "4: appetite\n",
      "5: from\n"
     ]
    }
   ],
   "source": [
    "# Generate a random number between 0 and 40 since there's 41 targets\n",
    "random_number = random.randint(0, 40)\n",
    "\n",
    "def find_nearest_neighbors(class_label):\n",
    "    # Get the embedding layer of the model\n",
    "    embedding_layer = model_1.get_layer(\"embedding\")\n",
    "\n",
    "    # Get the weights of the embedding layer\n",
    "    weights = embedding_layer.get_weights()[0]\n",
    "\n",
    "    # Prepare the nearest neighbors model\n",
    "    neighbors_model = NearestNeighbors(n_neighbors=5, algorithm='auto')\n",
    "    \n",
    "    # Fit the nearest neighbors model with the weights of the embedding layer\n",
    "    neighbors_model.fit(weights)\n",
    "\n",
    "    # Get the embedding vector for the class label\n",
    "    class_embedding = weights[class_label]\n",
    "\n",
    "    # Find the nearest neighbors to the class embedding\n",
    "    distances, indices = neighbors_model.kneighbors([class_embedding])\n",
    "    print(\"Nearest neighbors to class label '{}':\".format(label_mapping[class_label]))\n",
    "    for i, idx in enumerate(indices[0]):\n",
    "        print(\"{}: {}\".format(i+1, text_vectorizer.get_vocabulary()[idx]))\n",
    "\n",
    "find_nearest_neighbors(class_label=12) # replace '12' with 'random_number' to view the rest"
   ]
  },
  {
   "cell_type": "markdown",
   "id": "6c9cdaf2",
   "metadata": {
    "papermill": {
     "duration": 0.029899,
     "end_time": "2024-06-20T03:27:50.114398",
     "exception": false,
     "start_time": "2024-06-20T03:27:50.084499",
     "status": "completed"
    },
    "tags": []
   },
   "source": [
    "## Well, this is completely wrong. But why is the model behaving poorly? Didn't we achieve 100% accuracy? What happened?\n",
    "## We encountered this issue in part 1 when we used LabelEncoder to encode the entire dataset. Despite achieving around 100% accuracy on both training and testing, the model's results were nonsensical when deployed.\n",
    "## This happened due to the **\"Train-Test Contamination\"**"
   ]
  },
  {
   "cell_type": "markdown",
   "id": "d6eea3d7",
   "metadata": {
    "papermill": {
     "duration": 0.032236,
     "end_time": "2024-06-20T03:27:50.177039",
     "exception": false,
     "start_time": "2024-06-20T03:27:50.144803",
     "status": "completed"
    },
    "tags": []
   },
   "source": [
    "# Train-Test Contamination:\n",
    "[Read more about it here](https://towardsdatascience.com/the-dreaded-antagonist-data-leakage-in-machine-learning-5f08679852cc)\n",
    "## It's a part of larger concept known as *Data Leakage*.\n",
    "### Data leakage occurs when information from the test dataset is mistakenly included in the training dataset.\n",
    "### The result? Unrealistically good performance metrics during training, but poor performance when the model is actually put to use.\n",
    "### In simpler terms, the model memorized information that it should not have access to, leading to artificially inflated performance metrics during training."
   ]
  },
  {
   "cell_type": "markdown",
   "id": "678f7084",
   "metadata": {
    "papermill": {
     "duration": 0.030181,
     "end_time": "2024-06-20T03:27:50.240126",
     "exception": false,
     "start_time": "2024-06-20T03:27:50.209945",
     "status": "completed"
    },
    "tags": []
   },
   "source": [
    "### But how and when did that happen?\n",
    "### Well, if we revisit the data again after knowing about train-test contamination, we will notice a crucial oversight."
   ]
  },
  {
   "cell_type": "code",
   "execution_count": 21,
   "id": "60ad4829",
   "metadata": {
    "execution": {
     "iopub.execute_input": "2024-06-20T03:27:50.303449Z",
     "iopub.status.busy": "2024-06-20T03:27:50.303080Z",
     "iopub.status.idle": "2024-06-20T03:27:50.313127Z",
     "shell.execute_reply": "2024-06-20T03:27:50.312186Z"
    },
    "papermill": {
     "duration": 0.044278,
     "end_time": "2024-06-20T03:27:50.315235",
     "exception": false,
     "start_time": "2024-06-20T03:27:50.270957",
     "status": "completed"
    },
    "tags": []
   },
   "outputs": [
    {
     "data": {
      "text/html": [
       "<div>\n",
       "<style scoped>\n",
       "    .dataframe tbody tr th:only-of-type {\n",
       "        vertical-align: middle;\n",
       "    }\n",
       "\n",
       "    .dataframe tbody tr th {\n",
       "        vertical-align: top;\n",
       "    }\n",
       "\n",
       "    .dataframe thead th {\n",
       "        text-align: right;\n",
       "    }\n",
       "</style>\n",
       "<table border=\"1\" class=\"dataframe\">\n",
       "  <thead>\n",
       "    <tr style=\"text-align: right;\">\n",
       "      <th></th>\n",
       "      <th>Disease</th>\n",
       "      <th>Basic Tokens</th>\n",
       "    </tr>\n",
       "  </thead>\n",
       "  <tbody>\n",
       "    <tr>\n",
       "      <th>0</th>\n",
       "      <td>Fungal infection</td>\n",
       "      <td>dischromic patches, nodal skin eruptions, skin...</td>\n",
       "    </tr>\n",
       "    <tr>\n",
       "      <th>1</th>\n",
       "      <td>Fungal infection</td>\n",
       "      <td>dischromic patches, nodal skin eruptions, skin...</td>\n",
       "    </tr>\n",
       "    <tr>\n",
       "      <th>2</th>\n",
       "      <td>Fungal infection</td>\n",
       "      <td>dischromic patches, nodal skin eruptions, itching</td>\n",
       "    </tr>\n",
       "    <tr>\n",
       "      <th>3</th>\n",
       "      <td>Fungal infection</td>\n",
       "      <td>dischromic patches, skin rash, itching</td>\n",
       "    </tr>\n",
       "    <tr>\n",
       "      <th>4</th>\n",
       "      <td>Fungal infection</td>\n",
       "      <td>nodal skin eruptions, skin rash, itching</td>\n",
       "    </tr>\n",
       "    <tr>\n",
       "      <th>5</th>\n",
       "      <td>Fungal infection</td>\n",
       "      <td>dischromic patches, nodal skin eruptions, skin...</td>\n",
       "    </tr>\n",
       "    <tr>\n",
       "      <th>6</th>\n",
       "      <td>Fungal infection</td>\n",
       "      <td>dischromic patches, nodal skin eruptions, itching</td>\n",
       "    </tr>\n",
       "    <tr>\n",
       "      <th>7</th>\n",
       "      <td>Fungal infection</td>\n",
       "      <td>dischromic patches, skin rash, itching</td>\n",
       "    </tr>\n",
       "    <tr>\n",
       "      <th>8</th>\n",
       "      <td>Fungal infection</td>\n",
       "      <td>nodal skin eruptions, skin rash, itching</td>\n",
       "    </tr>\n",
       "    <tr>\n",
       "      <th>9</th>\n",
       "      <td>Fungal infection</td>\n",
       "      <td>dischromic patches, nodal skin eruptions, skin...</td>\n",
       "    </tr>\n",
       "  </tbody>\n",
       "</table>\n",
       "</div>"
      ],
      "text/plain": [
       "            Disease                                       Basic Tokens\n",
       "0  Fungal infection  dischromic patches, nodal skin eruptions, skin...\n",
       "1  Fungal infection  dischromic patches, nodal skin eruptions, skin...\n",
       "2  Fungal infection  dischromic patches, nodal skin eruptions, itching\n",
       "3  Fungal infection             dischromic patches, skin rash, itching\n",
       "4  Fungal infection           nodal skin eruptions, skin rash, itching\n",
       "5  Fungal infection  dischromic patches, nodal skin eruptions, skin...\n",
       "6  Fungal infection  dischromic patches, nodal skin eruptions, itching\n",
       "7  Fungal infection             dischromic patches, skin rash, itching\n",
       "8  Fungal infection           nodal skin eruptions, skin rash, itching\n",
       "9  Fungal infection  dischromic patches, nodal skin eruptions, skin..."
      ]
     },
     "execution_count": 21,
     "metadata": {},
     "output_type": "execute_result"
    }
   ],
   "source": [
    "data.head(10)"
   ]
  },
  {
   "cell_type": "markdown",
   "id": "ca986b18",
   "metadata": {
    "papermill": {
     "duration": 0.030221,
     "end_time": "2024-06-20T03:27:50.377228",
     "exception": false,
     "start_time": "2024-06-20T03:27:50.347007",
     "status": "completed"
    },
    "tags": []
   },
   "source": [
    "### The \"Basic Tokens\" rows for each disease are too similar. This similarity means that when we split the data into train and test sets, both sets ended up containing nearly identical or highly overlapping instances of data."
   ]
  },
  {
   "cell_type": "markdown",
   "id": "78534d5c",
   "metadata": {
    "papermill": {
     "duration": 0.03012,
     "end_time": "2024-06-20T03:27:50.437496",
     "exception": false,
     "start_time": "2024-06-20T03:27:50.407376",
     "status": "completed"
    },
    "tags": []
   },
   "source": [
    "#### How can we solve this problem with this particular dataset? While we can't directly fix it, we can approach the data differently. \n",
    "#### One method is to concatenate the rows for each disease while emphasizing unique symptoms to give them more weight during model training. \n",
    "#### Alternatively, we can employ unsupervised techniques that focus solely on the features. And one of these techniques is..."
   ]
  },
  {
   "cell_type": "markdown",
   "id": "2d31874c",
   "metadata": {
    "papermill": {
     "duration": 0.030365,
     "end_time": "2024-06-20T03:27:50.498956",
     "exception": false,
     "start_time": "2024-06-20T03:27:50.468591",
     "status": "completed"
    },
    "tags": []
   },
   "source": [
    "# K-means clustering:"
   ]
  },
  {
   "cell_type": "markdown",
   "id": "b39b534a",
   "metadata": {
    "papermill": {
     "duration": 0.030824,
     "end_time": "2024-06-20T03:27:50.559902",
     "exception": false,
     "start_time": "2024-06-20T03:27:50.529078",
     "status": "completed"
    },
    "tags": []
   },
   "source": [
    "#### Clustering helps mitigate train-test contamination by promoting a generalized learning approach based on clusters. This approach enhances the model’s ability to generalize and make accurate predictions on new, unseen data points.\n",
    "#### Clustering is particularly suitable for this dataset, whether as a preprocessing step or the primary model."
   ]
  },
  {
   "cell_type": "code",
   "execution_count": 22,
   "id": "78e9ca27",
   "metadata": {
    "execution": {
     "iopub.execute_input": "2024-06-20T03:27:50.622106Z",
     "iopub.status.busy": "2024-06-20T03:27:50.621773Z",
     "iopub.status.idle": "2024-06-20T03:27:50.630755Z",
     "shell.execute_reply": "2024-06-20T03:27:50.629858Z"
    },
    "papermill": {
     "duration": 0.042446,
     "end_time": "2024-06-20T03:27:50.632678",
     "exception": false,
     "start_time": "2024-06-20T03:27:50.590232",
     "status": "completed"
    },
    "tags": []
   },
   "outputs": [
    {
     "data": {
      "text/html": [
       "<div>\n",
       "<style scoped>\n",
       "    .dataframe tbody tr th:only-of-type {\n",
       "        vertical-align: middle;\n",
       "    }\n",
       "\n",
       "    .dataframe tbody tr th {\n",
       "        vertical-align: top;\n",
       "    }\n",
       "\n",
       "    .dataframe thead th {\n",
       "        text-align: right;\n",
       "    }\n",
       "</style>\n",
       "<table border=\"1\" class=\"dataframe\">\n",
       "  <thead>\n",
       "    <tr style=\"text-align: right;\">\n",
       "      <th></th>\n",
       "      <th>Disease</th>\n",
       "      <th>Basic Tokens</th>\n",
       "    </tr>\n",
       "  </thead>\n",
       "  <tbody>\n",
       "    <tr>\n",
       "      <th>0</th>\n",
       "      <td>Fungal infection</td>\n",
       "      <td>dischromic patches, nodal skin eruptions, skin...</td>\n",
       "    </tr>\n",
       "    <tr>\n",
       "      <th>1</th>\n",
       "      <td>Fungal infection</td>\n",
       "      <td>dischromic patches, nodal skin eruptions, skin...</td>\n",
       "    </tr>\n",
       "    <tr>\n",
       "      <th>2</th>\n",
       "      <td>Fungal infection</td>\n",
       "      <td>dischromic patches, nodal skin eruptions, itching</td>\n",
       "    </tr>\n",
       "    <tr>\n",
       "      <th>3</th>\n",
       "      <td>Fungal infection</td>\n",
       "      <td>dischromic patches, skin rash, itching</td>\n",
       "    </tr>\n",
       "    <tr>\n",
       "      <th>4</th>\n",
       "      <td>Fungal infection</td>\n",
       "      <td>nodal skin eruptions, skin rash, itching</td>\n",
       "    </tr>\n",
       "  </tbody>\n",
       "</table>\n",
       "</div>"
      ],
      "text/plain": [
       "            Disease                                       Basic Tokens\n",
       "0  Fungal infection  dischromic patches, nodal skin eruptions, skin...\n",
       "1  Fungal infection  dischromic patches, nodal skin eruptions, skin...\n",
       "2  Fungal infection  dischromic patches, nodal skin eruptions, itching\n",
       "3  Fungal infection             dischromic patches, skin rash, itching\n",
       "4  Fungal infection           nodal skin eruptions, skin rash, itching"
      ]
     },
     "execution_count": 22,
     "metadata": {},
     "output_type": "execute_result"
    }
   ],
   "source": [
    "data.head()"
   ]
  },
  {
   "cell_type": "markdown",
   "id": "d283f53c",
   "metadata": {
    "papermill": {
     "duration": 0.030513,
     "end_time": "2024-06-20T03:27:50.695080",
     "exception": false,
     "start_time": "2024-06-20T03:27:50.664567",
     "status": "completed"
    },
    "tags": []
   },
   "source": [
    "### We can either use the Keras text vectorizer with an embedding layer to vectorize the text, or we can use TF-IDF."
   ]
  },
  {
   "cell_type": "markdown",
   "id": "ad72f0a0",
   "metadata": {
    "papermill": {
     "duration": 0.030292,
     "end_time": "2024-06-20T03:27:50.755775",
     "exception": false,
     "start_time": "2024-06-20T03:27:50.725483",
     "status": "completed"
    },
    "tags": []
   },
   "source": [
    "## Keras Text Vectorizer and Embedding"
   ]
  },
  {
   "cell_type": "code",
   "execution_count": 23,
   "id": "b7ceeb4c",
   "metadata": {
    "execution": {
     "iopub.execute_input": "2024-06-20T03:27:50.817912Z",
     "iopub.status.busy": "2024-06-20T03:27:50.817183Z",
     "iopub.status.idle": "2024-06-20T03:27:50.822873Z",
     "shell.execute_reply": "2024-06-20T03:27:50.822043Z"
    },
    "papermill": {
     "duration": 0.038856,
     "end_time": "2024-06-20T03:27:50.824787",
     "exception": false,
     "start_time": "2024-06-20T03:27:50.785931",
     "status": "completed"
    },
    "tags": []
   },
   "outputs": [
    {
     "data": {
      "text/plain": [
       "<TextVectorization name=text_vectorization, built=True>"
      ]
     },
     "execution_count": 23,
     "metadata": {},
     "output_type": "execute_result"
    }
   ],
   "source": [
    "text_vectorizer"
   ]
  },
  {
   "cell_type": "code",
   "execution_count": 24,
   "id": "dbc67ba1",
   "metadata": {
    "execution": {
     "iopub.execute_input": "2024-06-20T03:27:50.886951Z",
     "iopub.status.busy": "2024-06-20T03:27:50.886689Z",
     "iopub.status.idle": "2024-06-20T03:27:50.956864Z",
     "shell.execute_reply": "2024-06-20T03:27:50.955975Z"
    },
    "papermill": {
     "duration": 0.103369,
     "end_time": "2024-06-20T03:27:50.958888",
     "exception": false,
     "start_time": "2024-06-20T03:27:50.855519",
     "status": "completed"
    },
    "tags": []
   },
   "outputs": [
    {
     "data": {
      "text/plain": [
       "TensorShape([4920, 30, 128])"
      ]
     },
     "execution_count": 24,
     "metadata": {},
     "output_type": "execute_result"
    }
   ],
   "source": [
    "X = text_vectorizer(data['Basic Tokens'])\n",
    "X_embed = embedding(X)\n",
    "X_embed.shape"
   ]
  },
  {
   "cell_type": "markdown",
   "id": "97a6ae54",
   "metadata": {
    "papermill": {
     "duration": 0.030337,
     "end_time": "2024-06-20T03:27:51.020480",
     "exception": false,
     "start_time": "2024-06-20T03:27:50.990143",
     "status": "completed"
    },
    "tags": []
   },
   "source": [
    "#### If we used X_embed we would get this error `ValueError: Found array with dim 3. KMeans expected <= 2`. That's why we need to use `GlobalAverage`."
   ]
  },
  {
   "cell_type": "code",
   "execution_count": 25,
   "id": "899626f2",
   "metadata": {
    "execution": {
     "iopub.execute_input": "2024-06-20T03:27:51.083367Z",
     "iopub.status.busy": "2024-06-20T03:27:51.083067Z",
     "iopub.status.idle": "2024-06-20T03:27:51.094178Z",
     "shell.execute_reply": "2024-06-20T03:27:51.093395Z"
    },
    "papermill": {
     "duration": 0.04489,
     "end_time": "2024-06-20T03:27:51.096027",
     "exception": false,
     "start_time": "2024-06-20T03:27:51.051137",
     "status": "completed"
    },
    "tags": []
   },
   "outputs": [
    {
     "data": {
      "text/plain": [
       "(4920, 128)"
      ]
     },
     "execution_count": 25,
     "metadata": {},
     "output_type": "execute_result"
    }
   ],
   "source": [
    "# Apply GlobalAveragePooling1D\n",
    "global_avg_pooling = layers.GlobalAveragePooling1D(data_format='channels_last')\n",
    "X_avg = global_avg_pooling(X_embed).numpy()\n",
    "X_avg.shape"
   ]
  },
  {
   "cell_type": "markdown",
   "id": "817e9027",
   "metadata": {
    "papermill": {
     "duration": 0.030315,
     "end_time": "2024-06-20T03:27:51.157178",
     "exception": false,
     "start_time": "2024-06-20T03:27:51.126863",
     "status": "completed"
    },
    "tags": []
   },
   "source": [
    "### Label_encode the disease column."
   ]
  },
  {
   "cell_type": "code",
   "execution_count": 26,
   "id": "e3a9ed15",
   "metadata": {
    "execution": {
     "iopub.execute_input": "2024-06-20T03:27:51.221812Z",
     "iopub.status.busy": "2024-06-20T03:27:51.221520Z",
     "iopub.status.idle": "2024-06-20T03:27:51.227173Z",
     "shell.execute_reply": "2024-06-20T03:27:51.226365Z"
    },
    "papermill": {
     "duration": 0.04035,
     "end_time": "2024-06-20T03:27:51.228984",
     "exception": false,
     "start_time": "2024-06-20T03:27:51.188634",
     "status": "completed"
    },
    "tags": []
   },
   "outputs": [],
   "source": [
    "le = LabelEncoder()\n",
    "y = le.fit_transform(data['Disease'])"
   ]
  },
  {
   "cell_type": "markdown",
   "id": "1925af8f",
   "metadata": {
    "papermill": {
     "duration": 0.030635,
     "end_time": "2024-06-20T03:27:51.291348",
     "exception": false,
     "start_time": "2024-06-20T03:27:51.260713",
     "status": "completed"
    },
    "tags": []
   },
   "source": [
    "### Now we create our K-Means model."
   ]
  },
  {
   "cell_type": "code",
   "execution_count": 27,
   "id": "844b7a04",
   "metadata": {
    "execution": {
     "iopub.execute_input": "2024-06-20T03:27:51.354690Z",
     "iopub.status.busy": "2024-06-20T03:27:51.354355Z",
     "iopub.status.idle": "2024-06-20T03:27:54.070358Z",
     "shell.execute_reply": "2024-06-20T03:27:54.069541Z"
    },
    "papermill": {
     "duration": 2.751954,
     "end_time": "2024-06-20T03:27:54.074197",
     "exception": false,
     "start_time": "2024-06-20T03:27:51.322243",
     "status": "completed"
    },
    "tags": []
   },
   "outputs": [],
   "source": [
    "n_clusters = 41  # The number of diseases the dataset\n",
    "kmeans_1 = KMeans(n_clusters=n_clusters, random_state=42)\n",
    "data['cluster_embed'] = kmeans_1.fit_predict(X_avg)"
   ]
  },
  {
   "cell_type": "markdown",
   "id": "8b29598b",
   "metadata": {
    "papermill": {
     "duration": 0.062387,
     "end_time": "2024-06-20T03:27:54.202290",
     "exception": false,
     "start_time": "2024-06-20T03:27:54.139903",
     "status": "completed"
    },
    "tags": []
   },
   "source": [
    "### Evaluating Clustering Performance.\n",
    "#### ARI and NMI values closer to 1 indicate higher similarity or correlation between the predicted clusters and the true disease labels, while values closer to 0 indicate no meaningful similarity."
   ]
  },
  {
   "cell_type": "code",
   "execution_count": 28,
   "id": "0935cf8f",
   "metadata": {
    "execution": {
     "iopub.execute_input": "2024-06-20T03:27:54.270609Z",
     "iopub.status.busy": "2024-06-20T03:27:54.270280Z",
     "iopub.status.idle": "2024-06-20T03:27:54.289711Z",
     "shell.execute_reply": "2024-06-20T03:27:54.288579Z"
    },
    "papermill": {
     "duration": 0.05584,
     "end_time": "2024-06-20T03:27:54.291808",
     "exception": false,
     "start_time": "2024-06-20T03:27:54.235968",
     "status": "completed"
    },
    "tags": []
   },
   "outputs": [
    {
     "name": "stdout",
     "output_type": "stream",
     "text": [
      "Adjusted Rand Index (ARI): 0.9596\n",
      "Normalized Mutual Information (NMI): 0.9814\n"
     ]
    }
   ],
   "source": [
    "# Compute Adjusted Rand Index\n",
    "ari = adjusted_rand_score(y, data['cluster_embed'])\n",
    "print(f'Adjusted Rand Index (ARI): {ari:.4f}')\n",
    "\n",
    "# Compute Normalized Mutual Information\n",
    "nmi = normalized_mutual_info_score(y, data['cluster_embed'])\n",
    "print(f'Normalized Mutual Information (NMI): {nmi:.4f}')"
   ]
  },
  {
   "cell_type": "markdown",
   "id": "8ed7555f",
   "metadata": {
    "papermill": {
     "duration": 0.031559,
     "end_time": "2024-06-20T03:27:54.355654",
     "exception": false,
     "start_time": "2024-06-20T03:27:54.324095",
     "status": "completed"
    },
    "tags": []
   },
   "source": [
    "### Let's visualize the clustering."
   ]
  },
  {
   "cell_type": "code",
   "execution_count": 29,
   "id": "7d30f4d4",
   "metadata": {
    "execution": {
     "iopub.execute_input": "2024-06-20T03:27:54.419245Z",
     "iopub.status.busy": "2024-06-20T03:27:54.418935Z",
     "iopub.status.idle": "2024-06-20T03:28:11.343430Z",
     "shell.execute_reply": "2024-06-20T03:28:11.342472Z"
    },
    "papermill": {
     "duration": 16.96106,
     "end_time": "2024-06-20T03:28:11.347942",
     "exception": false,
     "start_time": "2024-06-20T03:27:54.386882",
     "status": "completed"
    },
    "tags": []
   },
   "outputs": [
    {
     "data": {
      "text/html": [
       "        <script type=\"text/javascript\">\n",
       "        window.PlotlyConfig = {MathJaxConfig: 'local'};\n",
       "        if (window.MathJax && window.MathJax.Hub && window.MathJax.Hub.Config) {window.MathJax.Hub.Config({SVG: {font: \"STIX-Web\"}});}\n",
       "        if (typeof require !== 'undefined') {\n",
       "        require.undef(\"plotly\");\n",
       "        requirejs.config({\n",
       "            paths: {\n",
       "                'plotly': ['https://cdn.plot.ly/plotly-2.27.0.min']\n",
       "            }\n",
       "        });\n",
       "        require(['plotly'], function(Plotly) {\n",
       "            window._Plotly = Plotly;\n",
       "        });\n",
       "        }\n",
       "        </script>\n",
       "        "
      ]
     },
     "metadata": {},
     "output_type": "display_data"
    },
    {
     "data": {
      "text/html": [
       "<div>                            <div id=\"a63ce675-2c47-4679-a85f-d0ca42b490f2\" class=\"plotly-graph-div\" style=\"height:525px; width:100%;\"></div>            <script type=\"text/javascript\">                require([\"plotly\"], function(Plotly) {                    window.PLOTLYENV=window.PLOTLYENV || {};                                    if (document.getElementById(\"a63ce675-2c47-4679-a85f-d0ca42b490f2\")) {                    Plotly.newPlot(                        \"a63ce675-2c47-4679-a85f-d0ca42b490f2\",                        [{\"customdata\":[[\"Fungal infection\"],[\"Fungal infection\"],[\"Fungal infection\"],[\"Fungal infection\"],[\"Fungal infection\"],[\"Fungal infection\"],[\"Fungal infection\"],[\"Fungal infection\"],[\"Fungal infection\"],[\"Fungal infection\"],[\"Allergy\"],[\"Allergy\"],[\"Allergy\"],[\"Allergy\"],[\"Allergy\"],[\"Allergy\"],[\"Allergy\"],[\"Allergy\"],[\"Allergy\"],[\"Allergy\"],[\"GERD\"],[\"GERD\"],[\"GERD\"],[\"GERD\"],[\"GERD\"],[\"GERD\"],[\"GERD\"],[\"GERD\"],[\"GERD\"],[\"GERD\"],[\"Chronic cholestasis\"],[\"Chronic cholestasis\"],[\"Chronic cholestasis\"],[\"Chronic cholestasis\"],[\"Chronic cholestasis\"],[\"Chronic cholestasis\"],[\"Chronic cholestasis\"],[\"Chronic cholestasis\"],[\"Chronic cholestasis\"],[\"Chronic cholestasis\"],[\"Drug Reaction\"],[\"Drug Reaction\"],[\"Drug Reaction\"],[\"Drug Reaction\"],[\"Drug Reaction\"],[\"Drug Reaction\"],[\"Drug Reaction\"],[\"Drug Reaction\"],[\"Drug Reaction\"],[\"Drug Reaction\"],[\"Peptic ulcer diseae\"],[\"Peptic ulcer diseae\"],[\"Peptic ulcer diseae\"],[\"Peptic ulcer diseae\"],[\"Peptic ulcer diseae\"],[\"Peptic ulcer diseae\"],[\"Peptic ulcer diseae\"],[\"Peptic ulcer diseae\"],[\"Peptic ulcer diseae\"],[\"Peptic ulcer diseae\"],[\"AIDS\"],[\"AIDS\"],[\"AIDS\"],[\"AIDS\"],[\"AIDS\"],[\"AIDS\"],[\"AIDS\"],[\"AIDS\"],[\"AIDS\"],[\"AIDS\"],[\"Diabetes \"],[\"Diabetes \"],[\"Diabetes \"],[\"Diabetes \"],[\"Diabetes \"],[\"Diabetes \"],[\"Diabetes \"],[\"Diabetes \"],[\"Diabetes \"],[\"Diabetes \"],[\"Gastroenteritis\"],[\"Gastroenteritis\"],[\"Gastroenteritis\"],[\"Gastroenteritis\"],[\"Gastroenteritis\"],[\"Gastroenteritis\"],[\"Gastroenteritis\"],[\"Gastroenteritis\"],[\"Gastroenteritis\"],[\"Gastroenteritis\"],[\"Bronchial Asthma\"],[\"Bronchial Asthma\"],[\"Bronchial Asthma\"],[\"Bronchial Asthma\"],[\"Bronchial Asthma\"],[\"Bronchial Asthma\"],[\"Bronchial Asthma\"],[\"Bronchial Asthma\"],[\"Bronchial Asthma\"],[\"Bronchial Asthma\"],[\"Hypertension \"],[\"Hypertension \"],[\"Hypertension \"],[\"Hypertension \"],[\"Hypertension \"],[\"Hypertension \"],[\"Hypertension \"],[\"Hypertension \"],[\"Hypertension \"],[\"Hypertension \"],[\"Migraine\"],[\"Migraine\"],[\"Migraine\"],[\"Migraine\"],[\"Migraine\"],[\"Migraine\"],[\"Migraine\"],[\"Migraine\"],[\"Migraine\"],[\"Migraine\"],[\"Cervical spondylosis\"],[\"Cervical spondylosis\"],[\"Cervical spondylosis\"],[\"Cervical spondylosis\"],[\"Cervical spondylosis\"],[\"Cervical spondylosis\"],[\"Cervical spondylosis\"],[\"Cervical spondylosis\"],[\"Cervical spondylosis\"],[\"Cervical spondylosis\"],[\"Paralysis (brain hemorrhage)\"],[\"Paralysis (brain hemorrhage)\"],[\"Paralysis (brain hemorrhage)\"],[\"Paralysis (brain hemorrhage)\"],[\"Paralysis (brain hemorrhage)\"],[\"Paralysis (brain hemorrhage)\"],[\"Paralysis (brain hemorrhage)\"],[\"Paralysis (brain hemorrhage)\"],[\"Paralysis (brain hemorrhage)\"],[\"Paralysis (brain hemorrhage)\"],[\"Jaundice\"],[\"Jaundice\"],[\"Jaundice\"],[\"Jaundice\"],[\"Jaundice\"],[\"Jaundice\"],[\"Jaundice\"],[\"Jaundice\"],[\"Jaundice\"],[\"Jaundice\"],[\"Malaria\"],[\"Malaria\"],[\"Malaria\"],[\"Malaria\"],[\"Malaria\"],[\"Malaria\"],[\"Malaria\"],[\"Malaria\"],[\"Malaria\"],[\"Malaria\"],[\"Chicken pox\"],[\"Chicken pox\"],[\"Chicken pox\"],[\"Chicken pox\"],[\"Chicken pox\"],[\"Chicken pox\"],[\"Chicken pox\"],[\"Chicken pox\"],[\"Chicken pox\"],[\"Chicken pox\"],[\"Dengue\"],[\"Dengue\"],[\"Dengue\"],[\"Dengue\"],[\"Dengue\"],[\"Dengue\"],[\"Dengue\"],[\"Dengue\"],[\"Dengue\"],[\"Dengue\"],[\"Typhoid\"],[\"Typhoid\"],[\"Typhoid\"],[\"Typhoid\"],[\"Typhoid\"],[\"Typhoid\"],[\"Typhoid\"],[\"Typhoid\"],[\"Typhoid\"],[\"Typhoid\"],[\"hepatitis A\"],[\"hepatitis A\"],[\"hepatitis A\"],[\"hepatitis A\"],[\"hepatitis A\"],[\"hepatitis A\"],[\"hepatitis A\"],[\"hepatitis A\"],[\"hepatitis A\"],[\"hepatitis A\"],[\"Hepatitis B\"],[\"Hepatitis B\"],[\"Hepatitis B\"],[\"Hepatitis B\"],[\"Hepatitis B\"],[\"Hepatitis B\"],[\"Hepatitis B\"],[\"Hepatitis B\"],[\"Hepatitis B\"],[\"Hepatitis B\"],[\"Hepatitis C\"],[\"Hepatitis C\"],[\"Hepatitis C\"],[\"Hepatitis C\"],[\"Hepatitis C\"],[\"Hepatitis C\"],[\"Hepatitis C\"],[\"Hepatitis C\"],[\"Hepatitis C\"],[\"Hepatitis C\"],[\"Hepatitis D\"],[\"Hepatitis D\"],[\"Hepatitis D\"],[\"Hepatitis D\"],[\"Hepatitis D\"],[\"Hepatitis D\"],[\"Hepatitis D\"],[\"Hepatitis D\"],[\"Hepatitis D\"],[\"Hepatitis D\"],[\"Hepatitis E\"],[\"Hepatitis E\"],[\"Hepatitis E\"],[\"Hepatitis E\"],[\"Hepatitis E\"],[\"Hepatitis E\"],[\"Hepatitis E\"],[\"Hepatitis E\"],[\"Hepatitis E\"],[\"Hepatitis E\"],[\"Alcoholic hepatitis\"],[\"Alcoholic hepatitis\"],[\"Alcoholic hepatitis\"],[\"Alcoholic hepatitis\"],[\"Alcoholic hepatitis\"],[\"Alcoholic hepatitis\"],[\"Alcoholic hepatitis\"],[\"Alcoholic hepatitis\"],[\"Alcoholic hepatitis\"],[\"Alcoholic hepatitis\"],[\"Tuberculosis\"],[\"Tuberculosis\"],[\"Tuberculosis\"],[\"Tuberculosis\"],[\"Tuberculosis\"],[\"Tuberculosis\"],[\"Tuberculosis\"],[\"Tuberculosis\"],[\"Tuberculosis\"],[\"Tuberculosis\"],[\"Common Cold\"],[\"Common Cold\"],[\"Common Cold\"],[\"Common Cold\"],[\"Common Cold\"],[\"Common Cold\"],[\"Common Cold\"],[\"Common Cold\"],[\"Common Cold\"],[\"Common Cold\"],[\"Pneumonia\"],[\"Pneumonia\"],[\"Pneumonia\"],[\"Pneumonia\"],[\"Pneumonia\"],[\"Pneumonia\"],[\"Pneumonia\"],[\"Pneumonia\"],[\"Pneumonia\"],[\"Pneumonia\"],[\"Dimorphic hemmorhoids(piles)\"],[\"Dimorphic hemmorhoids(piles)\"],[\"Dimorphic hemmorhoids(piles)\"],[\"Dimorphic hemmorhoids(piles)\"],[\"Dimorphic hemmorhoids(piles)\"],[\"Dimorphic hemmorhoids(piles)\"],[\"Dimorphic hemmorhoids(piles)\"],[\"Dimorphic hemmorhoids(piles)\"],[\"Dimorphic hemmorhoids(piles)\"],[\"Dimorphic hemmorhoids(piles)\"],[\"Heart attack\"],[\"Heart attack\"],[\"Heart attack\"],[\"Heart attack\"],[\"Heart attack\"],[\"Heart attack\"],[\"Heart attack\"],[\"Heart attack\"],[\"Heart attack\"],[\"Heart attack\"],[\"Varicose veins\"],[\"Varicose veins\"],[\"Varicose veins\"],[\"Varicose veins\"],[\"Varicose veins\"],[\"Varicose veins\"],[\"Varicose veins\"],[\"Varicose veins\"],[\"Varicose veins\"],[\"Varicose veins\"],[\"Hypothyroidism\"],[\"Hypothyroidism\"],[\"Hypothyroidism\"],[\"Hypothyroidism\"],[\"Hypothyroidism\"],[\"Hypothyroidism\"],[\"Hypothyroidism\"],[\"Hypothyroidism\"],[\"Hypothyroidism\"],[\"Hypothyroidism\"],[\"Hyperthyroidism\"],[\"Hyperthyroidism\"],[\"Hyperthyroidism\"],[\"Hyperthyroidism\"],[\"Hyperthyroidism\"],[\"Hyperthyroidism\"],[\"Hyperthyroidism\"],[\"Hyperthyroidism\"],[\"Hyperthyroidism\"],[\"Hyperthyroidism\"],[\"Hypoglycemia\"],[\"Hypoglycemia\"],[\"Hypoglycemia\"],[\"Hypoglycemia\"],[\"Hypoglycemia\"],[\"Hypoglycemia\"],[\"Hypoglycemia\"],[\"Hypoglycemia\"],[\"Hypoglycemia\"],[\"Hypoglycemia\"],[\"Osteoarthristis\"],[\"Osteoarthristis\"],[\"Osteoarthristis\"],[\"Osteoarthristis\"],[\"Osteoarthristis\"],[\"Osteoarthristis\"],[\"Osteoarthristis\"],[\"Osteoarthristis\"],[\"Osteoarthristis\"],[\"Osteoarthristis\"],[\"Arthritis\"],[\"Arthritis\"],[\"Arthritis\"],[\"Arthritis\"],[\"Arthritis\"],[\"Arthritis\"],[\"Arthritis\"],[\"Arthritis\"],[\"Arthritis\"],[\"Arthritis\"],[\"(vertigo) Paroymsal  Positional Vertigo\"],[\"(vertigo) Paroymsal  Positional Vertigo\"],[\"(vertigo) Paroymsal  Positional Vertigo\"],[\"(vertigo) Paroymsal  Positional Vertigo\"],[\"(vertigo) Paroymsal  Positional Vertigo\"],[\"(vertigo) Paroymsal  Positional Vertigo\"],[\"(vertigo) Paroymsal  Positional Vertigo\"],[\"(vertigo) Paroymsal  Positional Vertigo\"],[\"(vertigo) Paroymsal  Positional Vertigo\"],[\"(vertigo) Paroymsal  Positional Vertigo\"],[\"Acne\"],[\"Acne\"],[\"Acne\"],[\"Acne\"],[\"Acne\"],[\"Acne\"],[\"Acne\"],[\"Acne\"],[\"Acne\"],[\"Acne\"],[\"Urinary tract infection\"],[\"Urinary tract infection\"],[\"Urinary tract infection\"],[\"Urinary tract infection\"],[\"Urinary tract infection\"],[\"Urinary tract infection\"],[\"Urinary tract infection\"],[\"Urinary tract infection\"],[\"Urinary tract infection\"],[\"Urinary tract infection\"],[\"Psoriasis\"],[\"Psoriasis\"],[\"Psoriasis\"],[\"Psoriasis\"],[\"Psoriasis\"],[\"Psoriasis\"],[\"Psoriasis\"],[\"Psoriasis\"],[\"Psoriasis\"],[\"Psoriasis\"],[\"Impetigo\"],[\"Impetigo\"],[\"Impetigo\"],[\"Impetigo\"],[\"Impetigo\"],[\"Impetigo\"],[\"Impetigo\"],[\"Impetigo\"],[\"Impetigo\"],[\"Impetigo\"],[\"Fungal infection\"],[\"Fungal infection\"],[\"Fungal infection\"],[\"Fungal infection\"],[\"Fungal infection\"],[\"Fungal infection\"],[\"Fungal infection\"],[\"Fungal infection\"],[\"Fungal infection\"],[\"Fungal infection\"],[\"Allergy\"],[\"Allergy\"],[\"Allergy\"],[\"Allergy\"],[\"Allergy\"],[\"Allergy\"],[\"Allergy\"],[\"Allergy\"],[\"Allergy\"],[\"Allergy\"],[\"GERD\"],[\"GERD\"],[\"GERD\"],[\"GERD\"],[\"GERD\"],[\"GERD\"],[\"GERD\"],[\"GERD\"],[\"GERD\"],[\"GERD\"],[\"Chronic cholestasis\"],[\"Chronic cholestasis\"],[\"Chronic cholestasis\"],[\"Chronic cholestasis\"],[\"Chronic cholestasis\"],[\"Chronic cholestasis\"],[\"Chronic cholestasis\"],[\"Chronic cholestasis\"],[\"Chronic cholestasis\"],[\"Chronic cholestasis\"],[\"Drug Reaction\"],[\"Drug Reaction\"],[\"Drug Reaction\"],[\"Drug Reaction\"],[\"Drug Reaction\"],[\"Drug Reaction\"],[\"Drug Reaction\"],[\"Drug Reaction\"],[\"Drug Reaction\"],[\"Drug Reaction\"],[\"Peptic ulcer diseae\"],[\"Peptic ulcer diseae\"],[\"Peptic ulcer diseae\"],[\"Peptic ulcer diseae\"],[\"Peptic ulcer diseae\"],[\"Peptic ulcer diseae\"],[\"Peptic ulcer diseae\"],[\"Peptic ulcer diseae\"],[\"Peptic ulcer diseae\"],[\"Peptic ulcer diseae\"],[\"AIDS\"],[\"AIDS\"],[\"AIDS\"],[\"AIDS\"],[\"AIDS\"],[\"AIDS\"],[\"AIDS\"],[\"AIDS\"],[\"AIDS\"],[\"AIDS\"],[\"Diabetes \"],[\"Diabetes \"],[\"Diabetes \"],[\"Diabetes \"],[\"Diabetes \"],[\"Diabetes \"],[\"Diabetes \"],[\"Diabetes \"],[\"Diabetes \"],[\"Diabetes \"],[\"Gastroenteritis\"],[\"Gastroenteritis\"],[\"Gastroenteritis\"],[\"Gastroenteritis\"],[\"Gastroenteritis\"],[\"Gastroenteritis\"],[\"Gastroenteritis\"],[\"Gastroenteritis\"],[\"Gastroenteritis\"],[\"Gastroenteritis\"],[\"Bronchial Asthma\"],[\"Bronchial Asthma\"],[\"Bronchial Asthma\"],[\"Bronchial Asthma\"],[\"Bronchial Asthma\"],[\"Bronchial Asthma\"],[\"Bronchial Asthma\"],[\"Bronchial Asthma\"],[\"Bronchial Asthma\"],[\"Bronchial Asthma\"],[\"Hypertension \"],[\"Hypertension \"],[\"Hypertension \"],[\"Hypertension \"],[\"Hypertension \"],[\"Hypertension \"],[\"Hypertension \"],[\"Hypertension \"],[\"Hypertension \"],[\"Hypertension \"],[\"Migraine\"],[\"Migraine\"],[\"Migraine\"],[\"Migraine\"],[\"Migraine\"],[\"Migraine\"],[\"Migraine\"],[\"Migraine\"],[\"Migraine\"],[\"Migraine\"],[\"Cervical spondylosis\"],[\"Cervical spondylosis\"],[\"Cervical spondylosis\"],[\"Cervical spondylosis\"],[\"Cervical spondylosis\"],[\"Cervical spondylosis\"],[\"Cervical spondylosis\"],[\"Cervical spondylosis\"],[\"Cervical spondylosis\"],[\"Cervical spondylosis\"],[\"Paralysis (brain hemorrhage)\"],[\"Paralysis (brain hemorrhage)\"],[\"Paralysis (brain hemorrhage)\"],[\"Paralysis (brain hemorrhage)\"],[\"Paralysis (brain hemorrhage)\"],[\"Paralysis (brain hemorrhage)\"],[\"Paralysis (brain hemorrhage)\"],[\"Paralysis (brain hemorrhage)\"],[\"Paralysis (brain hemorrhage)\"],[\"Paralysis (brain hemorrhage)\"],[\"Jaundice\"],[\"Jaundice\"],[\"Jaundice\"],[\"Jaundice\"],[\"Jaundice\"],[\"Jaundice\"],[\"Jaundice\"],[\"Jaundice\"],[\"Jaundice\"],[\"Jaundice\"],[\"Malaria\"],[\"Malaria\"],[\"Malaria\"],[\"Malaria\"],[\"Malaria\"],[\"Malaria\"],[\"Malaria\"],[\"Malaria\"],[\"Malaria\"],[\"Malaria\"],[\"Chicken pox\"],[\"Chicken pox\"],[\"Chicken pox\"],[\"Chicken pox\"],[\"Chicken pox\"],[\"Chicken pox\"],[\"Chicken pox\"],[\"Chicken pox\"],[\"Chicken pox\"],[\"Chicken pox\"],[\"Dengue\"],[\"Dengue\"],[\"Dengue\"],[\"Dengue\"],[\"Dengue\"],[\"Dengue\"],[\"Dengue\"],[\"Dengue\"],[\"Dengue\"],[\"Dengue\"],[\"Typhoid\"],[\"Typhoid\"],[\"Typhoid\"],[\"Typhoid\"],[\"Typhoid\"],[\"Typhoid\"],[\"Typhoid\"],[\"Typhoid\"],[\"Typhoid\"],[\"Typhoid\"],[\"hepatitis A\"],[\"hepatitis A\"],[\"hepatitis A\"],[\"hepatitis A\"],[\"hepatitis A\"],[\"hepatitis A\"],[\"hepatitis A\"],[\"hepatitis A\"],[\"hepatitis A\"],[\"hepatitis A\"],[\"Hepatitis B\"],[\"Hepatitis B\"],[\"Hepatitis B\"],[\"Hepatitis B\"],[\"Hepatitis B\"],[\"Hepatitis B\"],[\"Hepatitis B\"],[\"Hepatitis B\"],[\"Hepatitis B\"],[\"Hepatitis B\"],[\"Hepatitis C\"],[\"Hepatitis C\"],[\"Hepatitis C\"],[\"Hepatitis C\"],[\"Hepatitis C\"],[\"Hepatitis C\"],[\"Hepatitis C\"],[\"Hepatitis C\"],[\"Hepatitis C\"],[\"Hepatitis C\"],[\"Hepatitis D\"],[\"Hepatitis D\"],[\"Hepatitis D\"],[\"Hepatitis D\"],[\"Hepatitis D\"],[\"Hepatitis D\"],[\"Hepatitis D\"],[\"Hepatitis D\"],[\"Hepatitis D\"],[\"Hepatitis D\"],[\"Hepatitis E\"],[\"Hepatitis E\"],[\"Hepatitis E\"],[\"Hepatitis E\"],[\"Hepatitis E\"],[\"Hepatitis E\"],[\"Hepatitis E\"],[\"Hepatitis E\"],[\"Hepatitis E\"],[\"Hepatitis E\"],[\"Alcoholic hepatitis\"],[\"Alcoholic hepatitis\"],[\"Alcoholic hepatitis\"],[\"Alcoholic hepatitis\"],[\"Alcoholic hepatitis\"],[\"Alcoholic hepatitis\"],[\"Alcoholic hepatitis\"],[\"Alcoholic hepatitis\"],[\"Alcoholic hepatitis\"],[\"Alcoholic hepatitis\"],[\"Tuberculosis\"],[\"Tuberculosis\"],[\"Tuberculosis\"],[\"Tuberculosis\"],[\"Tuberculosis\"],[\"Tuberculosis\"],[\"Tuberculosis\"],[\"Tuberculosis\"],[\"Tuberculosis\"],[\"Tuberculosis\"],[\"Common Cold\"],[\"Common Cold\"],[\"Common Cold\"],[\"Common Cold\"],[\"Common Cold\"],[\"Common Cold\"],[\"Common Cold\"],[\"Common Cold\"],[\"Common Cold\"],[\"Common Cold\"],[\"Pneumonia\"],[\"Pneumonia\"],[\"Pneumonia\"],[\"Pneumonia\"],[\"Pneumonia\"],[\"Pneumonia\"],[\"Pneumonia\"],[\"Pneumonia\"],[\"Pneumonia\"],[\"Pneumonia\"],[\"Dimorphic hemmorhoids(piles)\"],[\"Dimorphic hemmorhoids(piles)\"],[\"Dimorphic hemmorhoids(piles)\"],[\"Dimorphic hemmorhoids(piles)\"],[\"Dimorphic hemmorhoids(piles)\"],[\"Dimorphic hemmorhoids(piles)\"],[\"Dimorphic hemmorhoids(piles)\"],[\"Dimorphic hemmorhoids(piles)\"],[\"Dimorphic hemmorhoids(piles)\"],[\"Dimorphic hemmorhoids(piles)\"],[\"Heart attack\"],[\"Heart attack\"],[\"Heart attack\"],[\"Heart attack\"],[\"Heart attack\"],[\"Heart attack\"],[\"Heart attack\"],[\"Heart attack\"],[\"Heart attack\"],[\"Heart attack\"],[\"Varicose veins\"],[\"Varicose veins\"],[\"Varicose veins\"],[\"Varicose veins\"],[\"Varicose veins\"],[\"Varicose veins\"],[\"Varicose veins\"],[\"Varicose veins\"],[\"Varicose veins\"],[\"Varicose veins\"],[\"Hypothyroidism\"],[\"Hypothyroidism\"],[\"Hypothyroidism\"],[\"Hypothyroidism\"],[\"Hypothyroidism\"],[\"Hypothyroidism\"],[\"Hypothyroidism\"],[\"Hypothyroidism\"],[\"Hypothyroidism\"],[\"Hypothyroidism\"],[\"Hyperthyroidism\"],[\"Hyperthyroidism\"],[\"Hyperthyroidism\"],[\"Hyperthyroidism\"],[\"Hyperthyroidism\"],[\"Hyperthyroidism\"],[\"Hyperthyroidism\"],[\"Hyperthyroidism\"],[\"Hyperthyroidism\"],[\"Hyperthyroidism\"],[\"Hypoglycemia\"],[\"Hypoglycemia\"],[\"Hypoglycemia\"],[\"Hypoglycemia\"],[\"Hypoglycemia\"],[\"Hypoglycemia\"],[\"Hypoglycemia\"],[\"Hypoglycemia\"],[\"Hypoglycemia\"],[\"Hypoglycemia\"],[\"Osteoarthristis\"],[\"Osteoarthristis\"],[\"Osteoarthristis\"],[\"Osteoarthristis\"],[\"Osteoarthristis\"],[\"Osteoarthristis\"],[\"Osteoarthristis\"],[\"Osteoarthristis\"],[\"Osteoarthristis\"],[\"Osteoarthristis\"],[\"Arthritis\"],[\"Arthritis\"],[\"Arthritis\"],[\"Arthritis\"],[\"Arthritis\"],[\"Arthritis\"],[\"Arthritis\"],[\"Arthritis\"],[\"Arthritis\"],[\"Arthritis\"],[\"(vertigo) Paroymsal  Positional Vertigo\"],[\"(vertigo) Paroymsal  Positional Vertigo\"],[\"(vertigo) Paroymsal  Positional Vertigo\"],[\"(vertigo) Paroymsal  Positional Vertigo\"],[\"(vertigo) Paroymsal  Positional Vertigo\"],[\"(vertigo) Paroymsal  Positional Vertigo\"],[\"(vertigo) Paroymsal  Positional Vertigo\"],[\"(vertigo) Paroymsal  Positional Vertigo\"],[\"(vertigo) Paroymsal  Positional Vertigo\"],[\"(vertigo) Paroymsal  Positional Vertigo\"],[\"Acne\"],[\"Acne\"],[\"Acne\"],[\"Acne\"],[\"Acne\"],[\"Acne\"],[\"Acne\"],[\"Acne\"],[\"Acne\"],[\"Acne\"],[\"Urinary tract infection\"],[\"Urinary tract infection\"],[\"Urinary tract infection\"],[\"Urinary tract infection\"],[\"Urinary tract infection\"],[\"Urinary tract infection\"],[\"Urinary tract infection\"],[\"Urinary tract infection\"],[\"Urinary tract infection\"],[\"Urinary tract infection\"],[\"Psoriasis\"],[\"Psoriasis\"],[\"Psoriasis\"],[\"Psoriasis\"],[\"Psoriasis\"],[\"Psoriasis\"],[\"Psoriasis\"],[\"Psoriasis\"],[\"Psoriasis\"],[\"Psoriasis\"],[\"Impetigo\"],[\"Impetigo\"],[\"Impetigo\"],[\"Impetigo\"],[\"Impetigo\"],[\"Impetigo\"],[\"Impetigo\"],[\"Impetigo\"],[\"Impetigo\"],[\"Impetigo\"],[\"Fungal infection\"],[\"Fungal infection\"],[\"Fungal infection\"],[\"Fungal infection\"],[\"Fungal infection\"],[\"Fungal infection\"],[\"Fungal infection\"],[\"Fungal infection\"],[\"Fungal infection\"],[\"Fungal infection\"],[\"Allergy\"],[\"Allergy\"],[\"Allergy\"],[\"Allergy\"],[\"Allergy\"],[\"Allergy\"],[\"Allergy\"],[\"Allergy\"],[\"Allergy\"],[\"Allergy\"],[\"GERD\"],[\"GERD\"],[\"GERD\"],[\"GERD\"],[\"GERD\"],[\"GERD\"],[\"GERD\"],[\"GERD\"],[\"GERD\"],[\"GERD\"],[\"Chronic cholestasis\"],[\"Chronic cholestasis\"],[\"Chronic cholestasis\"],[\"Chronic cholestasis\"],[\"Chronic cholestasis\"],[\"Chronic cholestasis\"],[\"Chronic cholestasis\"],[\"Chronic cholestasis\"],[\"Chronic cholestasis\"],[\"Chronic cholestasis\"],[\"Drug Reaction\"],[\"Drug Reaction\"],[\"Drug Reaction\"],[\"Drug Reaction\"],[\"Drug Reaction\"],[\"Drug Reaction\"],[\"Drug Reaction\"],[\"Drug Reaction\"],[\"Drug Reaction\"],[\"Drug Reaction\"],[\"Peptic ulcer diseae\"],[\"Peptic ulcer diseae\"],[\"Peptic ulcer diseae\"],[\"Peptic ulcer diseae\"],[\"Peptic ulcer diseae\"],[\"Peptic ulcer diseae\"],[\"Peptic ulcer diseae\"],[\"Peptic ulcer diseae\"],[\"Peptic ulcer diseae\"],[\"Peptic ulcer diseae\"],[\"AIDS\"],[\"AIDS\"],[\"AIDS\"],[\"AIDS\"],[\"AIDS\"],[\"AIDS\"],[\"AIDS\"],[\"AIDS\"],[\"AIDS\"],[\"AIDS\"],[\"Diabetes \"],[\"Diabetes \"],[\"Diabetes \"],[\"Diabetes \"],[\"Diabetes \"],[\"Diabetes \"],[\"Diabetes \"],[\"Diabetes \"],[\"Diabetes \"],[\"Diabetes \"],[\"Gastroenteritis\"],[\"Gastroenteritis\"],[\"Gastroenteritis\"],[\"Gastroenteritis\"],[\"Gastroenteritis\"],[\"Gastroenteritis\"],[\"Gastroenteritis\"],[\"Gastroenteritis\"],[\"Gastroenteritis\"],[\"Gastroenteritis\"],[\"Bronchial Asthma\"],[\"Bronchial Asthma\"],[\"Bronchial Asthma\"],[\"Bronchial Asthma\"],[\"Bronchial Asthma\"],[\"Bronchial Asthma\"],[\"Bronchial Asthma\"],[\"Bronchial Asthma\"],[\"Bronchial Asthma\"],[\"Bronchial Asthma\"],[\"Hypertension \"],[\"Hypertension \"],[\"Hypertension \"],[\"Hypertension \"],[\"Hypertension \"],[\"Hypertension \"],[\"Hypertension \"],[\"Hypertension \"],[\"Hypertension \"],[\"Hypertension \"],[\"Migraine\"],[\"Migraine\"],[\"Migraine\"],[\"Migraine\"],[\"Migraine\"],[\"Migraine\"],[\"Migraine\"],[\"Migraine\"],[\"Migraine\"],[\"Migraine\"],[\"Cervical spondylosis\"],[\"Cervical spondylosis\"],[\"Cervical spondylosis\"],[\"Cervical spondylosis\"],[\"Cervical spondylosis\"],[\"Cervical spondylosis\"],[\"Cervical spondylosis\"],[\"Cervical spondylosis\"],[\"Cervical spondylosis\"],[\"Cervical spondylosis\"],[\"Paralysis (brain hemorrhage)\"],[\"Paralysis (brain hemorrhage)\"],[\"Paralysis (brain hemorrhage)\"],[\"Paralysis (brain hemorrhage)\"],[\"Paralysis (brain hemorrhage)\"],[\"Paralysis (brain hemorrhage)\"],[\"Paralysis (brain hemorrhage)\"],[\"Paralysis (brain hemorrhage)\"],[\"Paralysis (brain hemorrhage)\"],[\"Paralysis (brain hemorrhage)\"],[\"Jaundice\"],[\"Jaundice\"],[\"Jaundice\"],[\"Jaundice\"],[\"Jaundice\"],[\"Jaundice\"],[\"Jaundice\"],[\"Jaundice\"],[\"Jaundice\"],[\"Jaundice\"],[\"Malaria\"],[\"Malaria\"],[\"Malaria\"],[\"Malaria\"],[\"Malaria\"],[\"Malaria\"],[\"Malaria\"],[\"Malaria\"],[\"Malaria\"],[\"Malaria\"],[\"Chicken pox\"],[\"Chicken pox\"],[\"Chicken pox\"],[\"Chicken pox\"],[\"Chicken pox\"],[\"Chicken pox\"],[\"Chicken pox\"],[\"Chicken pox\"],[\"Chicken pox\"],[\"Chicken pox\"],[\"Dengue\"],[\"Dengue\"],[\"Dengue\"],[\"Dengue\"],[\"Dengue\"],[\"Dengue\"],[\"Dengue\"],[\"Dengue\"],[\"Dengue\"],[\"Dengue\"],[\"Typhoid\"],[\"Typhoid\"],[\"Typhoid\"],[\"Typhoid\"],[\"Typhoid\"],[\"Typhoid\"],[\"Typhoid\"],[\"Typhoid\"],[\"Typhoid\"],[\"Typhoid\"],[\"hepatitis A\"],[\"hepatitis A\"],[\"hepatitis A\"],[\"hepatitis A\"],[\"hepatitis A\"],[\"hepatitis A\"],[\"hepatitis A\"],[\"hepatitis A\"],[\"hepatitis A\"],[\"hepatitis A\"],[\"Hepatitis B\"],[\"Hepatitis B\"],[\"Hepatitis B\"],[\"Hepatitis B\"],[\"Hepatitis B\"],[\"Hepatitis B\"],[\"Hepatitis B\"],[\"Hepatitis B\"],[\"Hepatitis B\"],[\"Hepatitis B\"],[\"Hepatitis C\"],[\"Hepatitis C\"],[\"Hepatitis C\"],[\"Hepatitis C\"],[\"Hepatitis C\"],[\"Hepatitis C\"],[\"Hepatitis C\"],[\"Hepatitis C\"],[\"Hepatitis C\"],[\"Hepatitis C\"],[\"Hepatitis D\"],[\"Hepatitis D\"],[\"Hepatitis D\"],[\"Hepatitis D\"],[\"Hepatitis D\"],[\"Hepatitis D\"],[\"Hepatitis D\"],[\"Hepatitis D\"],[\"Hepatitis D\"],[\"Hepatitis D\"],[\"Hepatitis E\"],[\"Hepatitis E\"],[\"Hepatitis E\"],[\"Hepatitis E\"],[\"Hepatitis E\"],[\"Hepatitis E\"],[\"Hepatitis E\"],[\"Hepatitis E\"],[\"Hepatitis E\"],[\"Hepatitis E\"],[\"Alcoholic hepatitis\"],[\"Alcoholic hepatitis\"],[\"Alcoholic hepatitis\"],[\"Alcoholic hepatitis\"],[\"Alcoholic hepatitis\"],[\"Alcoholic hepatitis\"],[\"Alcoholic hepatitis\"],[\"Alcoholic hepatitis\"],[\"Alcoholic hepatitis\"],[\"Alcoholic hepatitis\"],[\"Tuberculosis\"],[\"Tuberculosis\"],[\"Tuberculosis\"],[\"Tuberculosis\"],[\"Tuberculosis\"],[\"Tuberculosis\"],[\"Tuberculosis\"],[\"Tuberculosis\"],[\"Tuberculosis\"],[\"Tuberculosis\"],[\"Common Cold\"],[\"Common Cold\"],[\"Common Cold\"],[\"Common Cold\"],[\"Common Cold\"],[\"Common Cold\"],[\"Common Cold\"],[\"Common Cold\"],[\"Common Cold\"],[\"Common Cold\"],[\"Pneumonia\"],[\"Pneumonia\"],[\"Pneumonia\"],[\"Pneumonia\"],[\"Pneumonia\"],[\"Pneumonia\"],[\"Pneumonia\"],[\"Pneumonia\"],[\"Pneumonia\"],[\"Pneumonia\"],[\"Dimorphic hemmorhoids(piles)\"],[\"Dimorphic hemmorhoids(piles)\"],[\"Dimorphic hemmorhoids(piles)\"],[\"Dimorphic hemmorhoids(piles)\"],[\"Dimorphic hemmorhoids(piles)\"],[\"Dimorphic hemmorhoids(piles)\"],[\"Dimorphic hemmorhoids(piles)\"],[\"Dimorphic hemmorhoids(piles)\"],[\"Dimorphic hemmorhoids(piles)\"],[\"Dimorphic hemmorhoids(piles)\"],[\"Heart attack\"],[\"Heart attack\"],[\"Heart attack\"],[\"Heart attack\"],[\"Heart attack\"],[\"Heart attack\"],[\"Heart attack\"],[\"Heart attack\"],[\"Heart attack\"],[\"Heart attack\"],[\"Varicose veins\"],[\"Varicose veins\"],[\"Varicose veins\"],[\"Varicose veins\"],[\"Varicose veins\"],[\"Varicose veins\"],[\"Varicose veins\"],[\"Varicose veins\"],[\"Varicose veins\"],[\"Varicose veins\"],[\"Hypothyroidism\"],[\"Hypothyroidism\"],[\"Hypothyroidism\"],[\"Hypothyroidism\"],[\"Hypothyroidism\"],[\"Hypothyroidism\"],[\"Hypothyroidism\"],[\"Hypothyroidism\"],[\"Hypothyroidism\"],[\"Hypothyroidism\"],[\"Hyperthyroidism\"],[\"Hyperthyroidism\"],[\"Hyperthyroidism\"],[\"Hyperthyroidism\"],[\"Hyperthyroidism\"],[\"Hyperthyroidism\"],[\"Hyperthyroidism\"],[\"Hyperthyroidism\"],[\"Hyperthyroidism\"],[\"Hyperthyroidism\"],[\"Hypoglycemia\"],[\"Hypoglycemia\"],[\"Hypoglycemia\"],[\"Hypoglycemia\"],[\"Hypoglycemia\"],[\"Hypoglycemia\"],[\"Hypoglycemia\"],[\"Hypoglycemia\"],[\"Hypoglycemia\"],[\"Hypoglycemia\"],[\"Osteoarthristis\"],[\"Osteoarthristis\"],[\"Osteoarthristis\"],[\"Osteoarthristis\"],[\"Osteoarthristis\"],[\"Osteoarthristis\"],[\"Osteoarthristis\"],[\"Osteoarthristis\"],[\"Osteoarthristis\"],[\"Osteoarthristis\"],[\"Arthritis\"],[\"Arthritis\"],[\"Arthritis\"],[\"Arthritis\"],[\"Arthritis\"],[\"Arthritis\"],[\"Arthritis\"],[\"Arthritis\"],[\"Arthritis\"],[\"Arthritis\"],[\"(vertigo) Paroymsal  Positional Vertigo\"],[\"(vertigo) Paroymsal  Positional Vertigo\"],[\"(vertigo) Paroymsal  Positional Vertigo\"],[\"(vertigo) Paroymsal  Positional Vertigo\"],[\"(vertigo) Paroymsal  Positional Vertigo\"],[\"(vertigo) Paroymsal  Positional Vertigo\"],[\"(vertigo) Paroymsal  Positional Vertigo\"],[\"(vertigo) Paroymsal  Positional Vertigo\"],[\"(vertigo) Paroymsal  Positional Vertigo\"],[\"(vertigo) Paroymsal  Positional Vertigo\"],[\"Acne\"],[\"Acne\"],[\"Acne\"],[\"Acne\"],[\"Acne\"],[\"Acne\"],[\"Acne\"],[\"Acne\"],[\"Acne\"],[\"Acne\"],[\"Urinary tract infection\"],[\"Urinary tract infection\"],[\"Urinary tract infection\"],[\"Urinary tract infection\"],[\"Urinary tract infection\"],[\"Urinary tract infection\"],[\"Urinary tract infection\"],[\"Urinary tract infection\"],[\"Urinary tract infection\"],[\"Urinary tract infection\"],[\"Psoriasis\"],[\"Psoriasis\"],[\"Psoriasis\"],[\"Psoriasis\"],[\"Psoriasis\"],[\"Psoriasis\"],[\"Psoriasis\"],[\"Psoriasis\"],[\"Psoriasis\"],[\"Psoriasis\"],[\"Impetigo\"],[\"Impetigo\"],[\"Impetigo\"],[\"Impetigo\"],[\"Impetigo\"],[\"Impetigo\"],[\"Impetigo\"],[\"Impetigo\"],[\"Impetigo\"],[\"Impetigo\"],[\"Fungal infection\"],[\"Fungal infection\"],[\"Fungal infection\"],[\"Fungal infection\"],[\"Fungal infection\"],[\"Fungal infection\"],[\"Fungal infection\"],[\"Fungal infection\"],[\"Fungal infection\"],[\"Fungal infection\"],[\"Allergy\"],[\"Allergy\"],[\"Allergy\"],[\"Allergy\"],[\"Allergy\"],[\"Allergy\"],[\"Allergy\"],[\"Allergy\"],[\"Allergy\"],[\"Allergy\"],[\"GERD\"],[\"GERD\"],[\"GERD\"],[\"GERD\"],[\"GERD\"],[\"GERD\"],[\"GERD\"],[\"GERD\"],[\"GERD\"],[\"GERD\"],[\"Chronic cholestasis\"],[\"Chronic cholestasis\"],[\"Chronic cholestasis\"],[\"Chronic cholestasis\"],[\"Chronic cholestasis\"],[\"Chronic cholestasis\"],[\"Chronic cholestasis\"],[\"Chronic cholestasis\"],[\"Chronic cholestasis\"],[\"Chronic cholestasis\"],[\"Drug Reaction\"],[\"Drug Reaction\"],[\"Drug Reaction\"],[\"Drug Reaction\"],[\"Drug Reaction\"],[\"Drug Reaction\"],[\"Drug Reaction\"],[\"Drug Reaction\"],[\"Drug Reaction\"],[\"Drug Reaction\"],[\"Peptic ulcer diseae\"],[\"Peptic ulcer diseae\"],[\"Peptic ulcer diseae\"],[\"Peptic ulcer diseae\"],[\"Peptic ulcer diseae\"],[\"Peptic ulcer diseae\"],[\"Peptic ulcer diseae\"],[\"Peptic ulcer diseae\"],[\"Peptic ulcer diseae\"],[\"Peptic ulcer diseae\"],[\"AIDS\"],[\"AIDS\"],[\"AIDS\"],[\"AIDS\"],[\"AIDS\"],[\"AIDS\"],[\"AIDS\"],[\"AIDS\"],[\"AIDS\"],[\"AIDS\"],[\"Diabetes \"],[\"Diabetes \"],[\"Diabetes \"],[\"Diabetes \"],[\"Diabetes \"],[\"Diabetes \"],[\"Diabetes \"],[\"Diabetes \"],[\"Diabetes \"],[\"Diabetes \"],[\"Gastroenteritis\"],[\"Gastroenteritis\"],[\"Gastroenteritis\"],[\"Gastroenteritis\"],[\"Gastroenteritis\"],[\"Gastroenteritis\"],[\"Gastroenteritis\"],[\"Gastroenteritis\"],[\"Gastroenteritis\"],[\"Gastroenteritis\"],[\"Bronchial Asthma\"],[\"Bronchial Asthma\"],[\"Bronchial Asthma\"],[\"Bronchial Asthma\"],[\"Bronchial Asthma\"],[\"Bronchial Asthma\"],[\"Bronchial Asthma\"],[\"Bronchial Asthma\"],[\"Bronchial Asthma\"],[\"Bronchial Asthma\"],[\"Hypertension \"],[\"Hypertension \"],[\"Hypertension \"],[\"Hypertension \"],[\"Hypertension \"],[\"Hypertension \"],[\"Hypertension \"],[\"Hypertension \"],[\"Hypertension \"],[\"Hypertension \"],[\"Migraine\"],[\"Migraine\"],[\"Migraine\"],[\"Migraine\"],[\"Migraine\"],[\"Migraine\"],[\"Migraine\"],[\"Migraine\"],[\"Migraine\"],[\"Migraine\"],[\"Cervical spondylosis\"],[\"Cervical spondylosis\"],[\"Cervical spondylosis\"],[\"Cervical spondylosis\"],[\"Cervical spondylosis\"],[\"Cervical spondylosis\"],[\"Cervical spondylosis\"],[\"Cervical spondylosis\"],[\"Cervical spondylosis\"],[\"Cervical spondylosis\"],[\"Paralysis (brain hemorrhage)\"],[\"Paralysis (brain hemorrhage)\"],[\"Paralysis (brain hemorrhage)\"],[\"Paralysis (brain hemorrhage)\"],[\"Paralysis (brain hemorrhage)\"],[\"Paralysis (brain hemorrhage)\"],[\"Paralysis (brain hemorrhage)\"],[\"Paralysis (brain hemorrhage)\"],[\"Paralysis (brain hemorrhage)\"],[\"Paralysis (brain hemorrhage)\"],[\"Jaundice\"],[\"Jaundice\"],[\"Jaundice\"],[\"Jaundice\"],[\"Jaundice\"],[\"Jaundice\"],[\"Jaundice\"],[\"Jaundice\"],[\"Jaundice\"],[\"Jaundice\"],[\"Malaria\"],[\"Malaria\"],[\"Malaria\"],[\"Malaria\"],[\"Malaria\"],[\"Malaria\"],[\"Malaria\"],[\"Malaria\"],[\"Malaria\"],[\"Malaria\"],[\"Chicken pox\"],[\"Chicken pox\"],[\"Chicken pox\"],[\"Chicken pox\"],[\"Chicken pox\"],[\"Chicken pox\"],[\"Chicken pox\"],[\"Chicken pox\"],[\"Chicken pox\"],[\"Chicken pox\"],[\"Dengue\"],[\"Dengue\"],[\"Dengue\"],[\"Dengue\"],[\"Dengue\"],[\"Dengue\"],[\"Dengue\"],[\"Dengue\"],[\"Dengue\"],[\"Dengue\"],[\"Typhoid\"],[\"Typhoid\"],[\"Typhoid\"],[\"Typhoid\"],[\"Typhoid\"],[\"Typhoid\"],[\"Typhoid\"],[\"Typhoid\"],[\"Typhoid\"],[\"Typhoid\"],[\"hepatitis A\"],[\"hepatitis A\"],[\"hepatitis A\"],[\"hepatitis A\"],[\"hepatitis A\"],[\"hepatitis A\"],[\"hepatitis A\"],[\"hepatitis A\"],[\"hepatitis A\"],[\"hepatitis A\"],[\"Hepatitis B\"],[\"Hepatitis B\"],[\"Hepatitis B\"],[\"Hepatitis B\"],[\"Hepatitis B\"],[\"Hepatitis B\"],[\"Hepatitis B\"],[\"Hepatitis B\"],[\"Hepatitis B\"],[\"Hepatitis B\"],[\"Hepatitis C\"],[\"Hepatitis C\"],[\"Hepatitis C\"],[\"Hepatitis C\"],[\"Hepatitis C\"],[\"Hepatitis C\"],[\"Hepatitis C\"],[\"Hepatitis C\"],[\"Hepatitis C\"],[\"Hepatitis C\"],[\"Hepatitis D\"],[\"Hepatitis D\"],[\"Hepatitis D\"],[\"Hepatitis D\"],[\"Hepatitis D\"],[\"Hepatitis D\"],[\"Hepatitis D\"],[\"Hepatitis D\"],[\"Hepatitis D\"],[\"Hepatitis D\"],[\"Hepatitis E\"],[\"Hepatitis E\"],[\"Hepatitis E\"],[\"Hepatitis E\"],[\"Hepatitis E\"],[\"Hepatitis E\"],[\"Hepatitis E\"],[\"Hepatitis E\"],[\"Hepatitis E\"],[\"Hepatitis E\"],[\"Alcoholic hepatitis\"],[\"Alcoholic hepatitis\"],[\"Alcoholic hepatitis\"],[\"Alcoholic hepatitis\"],[\"Alcoholic hepatitis\"],[\"Alcoholic hepatitis\"],[\"Alcoholic hepatitis\"],[\"Alcoholic hepatitis\"],[\"Alcoholic hepatitis\"],[\"Alcoholic hepatitis\"],[\"Tuberculosis\"],[\"Tuberculosis\"],[\"Tuberculosis\"],[\"Tuberculosis\"],[\"Tuberculosis\"],[\"Tuberculosis\"],[\"Tuberculosis\"],[\"Tuberculosis\"],[\"Tuberculosis\"],[\"Tuberculosis\"],[\"Common Cold\"],[\"Common Cold\"],[\"Common Cold\"],[\"Common Cold\"],[\"Common Cold\"],[\"Common Cold\"],[\"Common Cold\"],[\"Common Cold\"],[\"Common Cold\"],[\"Common Cold\"],[\"Pneumonia\"],[\"Pneumonia\"],[\"Pneumonia\"],[\"Pneumonia\"],[\"Pneumonia\"],[\"Pneumonia\"],[\"Pneumonia\"],[\"Pneumonia\"],[\"Pneumonia\"],[\"Pneumonia\"],[\"Dimorphic hemmorhoids(piles)\"],[\"Dimorphic hemmorhoids(piles)\"],[\"Dimorphic hemmorhoids(piles)\"],[\"Dimorphic hemmorhoids(piles)\"],[\"Dimorphic hemmorhoids(piles)\"],[\"Dimorphic hemmorhoids(piles)\"],[\"Dimorphic hemmorhoids(piles)\"],[\"Dimorphic hemmorhoids(piles)\"],[\"Dimorphic hemmorhoids(piles)\"],[\"Dimorphic hemmorhoids(piles)\"],[\"Heart attack\"],[\"Heart attack\"],[\"Heart attack\"],[\"Heart attack\"],[\"Heart attack\"],[\"Heart attack\"],[\"Heart attack\"],[\"Heart attack\"],[\"Heart attack\"],[\"Heart attack\"],[\"Varicose veins\"],[\"Varicose veins\"],[\"Varicose veins\"],[\"Varicose veins\"],[\"Varicose veins\"],[\"Varicose veins\"],[\"Varicose veins\"],[\"Varicose veins\"],[\"Varicose veins\"],[\"Varicose veins\"],[\"Hypothyroidism\"],[\"Hypothyroidism\"],[\"Hypothyroidism\"],[\"Hypothyroidism\"],[\"Hypothyroidism\"],[\"Hypothyroidism\"],[\"Hypothyroidism\"],[\"Hypothyroidism\"],[\"Hypothyroidism\"],[\"Hypothyroidism\"],[\"Hyperthyroidism\"],[\"Hyperthyroidism\"],[\"Hyperthyroidism\"],[\"Hyperthyroidism\"],[\"Hyperthyroidism\"],[\"Hyperthyroidism\"],[\"Hyperthyroidism\"],[\"Hyperthyroidism\"],[\"Hyperthyroidism\"],[\"Hyperthyroidism\"],[\"Hypoglycemia\"],[\"Hypoglycemia\"],[\"Hypoglycemia\"],[\"Hypoglycemia\"],[\"Hypoglycemia\"],[\"Hypoglycemia\"],[\"Hypoglycemia\"],[\"Hypoglycemia\"],[\"Hypoglycemia\"],[\"Hypoglycemia\"],[\"Osteoarthristis\"],[\"Osteoarthristis\"],[\"Osteoarthristis\"],[\"Osteoarthristis\"],[\"Osteoarthristis\"],[\"Osteoarthristis\"],[\"Osteoarthristis\"],[\"Osteoarthristis\"],[\"Osteoarthristis\"],[\"Osteoarthristis\"],[\"Arthritis\"],[\"Arthritis\"],[\"Arthritis\"],[\"Arthritis\"],[\"Arthritis\"],[\"Arthritis\"],[\"Arthritis\"],[\"Arthritis\"],[\"Arthritis\"],[\"Arthritis\"],[\"(vertigo) Paroymsal  Positional Vertigo\"],[\"(vertigo) Paroymsal  Positional Vertigo\"],[\"(vertigo) Paroymsal  Positional Vertigo\"],[\"(vertigo) Paroymsal  Positional Vertigo\"],[\"(vertigo) Paroymsal  Positional Vertigo\"],[\"(vertigo) Paroymsal  Positional Vertigo\"],[\"(vertigo) Paroymsal  Positional Vertigo\"],[\"(vertigo) Paroymsal  Positional Vertigo\"],[\"(vertigo) Paroymsal  Positional Vertigo\"],[\"(vertigo) Paroymsal  Positional Vertigo\"],[\"Acne\"],[\"Acne\"],[\"Acne\"],[\"Acne\"],[\"Acne\"],[\"Acne\"],[\"Acne\"],[\"Acne\"],[\"Acne\"],[\"Acne\"],[\"Urinary tract infection\"],[\"Urinary tract infection\"],[\"Urinary tract infection\"],[\"Urinary tract infection\"],[\"Urinary tract infection\"],[\"Urinary tract infection\"],[\"Urinary tract infection\"],[\"Urinary tract infection\"],[\"Urinary tract infection\"],[\"Urinary tract infection\"],[\"Psoriasis\"],[\"Psoriasis\"],[\"Psoriasis\"],[\"Psoriasis\"],[\"Psoriasis\"],[\"Psoriasis\"],[\"Psoriasis\"],[\"Psoriasis\"],[\"Psoriasis\"],[\"Psoriasis\"],[\"Impetigo\"],[\"Impetigo\"],[\"Impetigo\"],[\"Impetigo\"],[\"Impetigo\"],[\"Impetigo\"],[\"Impetigo\"],[\"Impetigo\"],[\"Impetigo\"],[\"Impetigo\"],[\"Fungal infection\"],[\"Fungal infection\"],[\"Fungal infection\"],[\"Fungal infection\"],[\"Fungal infection\"],[\"Fungal infection\"],[\"Fungal infection\"],[\"Fungal infection\"],[\"Fungal infection\"],[\"Fungal infection\"],[\"Allergy\"],[\"Allergy\"],[\"Allergy\"],[\"Allergy\"],[\"Allergy\"],[\"Allergy\"],[\"Allergy\"],[\"Allergy\"],[\"Allergy\"],[\"Allergy\"],[\"GERD\"],[\"GERD\"],[\"GERD\"],[\"GERD\"],[\"GERD\"],[\"GERD\"],[\"GERD\"],[\"GERD\"],[\"GERD\"],[\"GERD\"],[\"Chronic cholestasis\"],[\"Chronic cholestasis\"],[\"Chronic cholestasis\"],[\"Chronic cholestasis\"],[\"Chronic cholestasis\"],[\"Chronic cholestasis\"],[\"Chronic cholestasis\"],[\"Chronic cholestasis\"],[\"Chronic cholestasis\"],[\"Chronic cholestasis\"],[\"Drug Reaction\"],[\"Drug Reaction\"],[\"Drug Reaction\"],[\"Drug Reaction\"],[\"Drug Reaction\"],[\"Drug Reaction\"],[\"Drug Reaction\"],[\"Drug Reaction\"],[\"Drug Reaction\"],[\"Drug Reaction\"],[\"Peptic ulcer diseae\"],[\"Peptic ulcer diseae\"],[\"Peptic ulcer diseae\"],[\"Peptic ulcer diseae\"],[\"Peptic ulcer diseae\"],[\"Peptic ulcer diseae\"],[\"Peptic ulcer diseae\"],[\"Peptic ulcer diseae\"],[\"Peptic ulcer diseae\"],[\"Peptic ulcer diseae\"],[\"AIDS\"],[\"AIDS\"],[\"AIDS\"],[\"AIDS\"],[\"AIDS\"],[\"AIDS\"],[\"AIDS\"],[\"AIDS\"],[\"AIDS\"],[\"AIDS\"],[\"Diabetes \"],[\"Diabetes \"],[\"Diabetes \"],[\"Diabetes \"],[\"Diabetes \"],[\"Diabetes \"],[\"Diabetes \"],[\"Diabetes \"],[\"Diabetes \"],[\"Diabetes \"],[\"Gastroenteritis\"],[\"Gastroenteritis\"],[\"Gastroenteritis\"],[\"Gastroenteritis\"],[\"Gastroenteritis\"],[\"Gastroenteritis\"],[\"Gastroenteritis\"],[\"Gastroenteritis\"],[\"Gastroenteritis\"],[\"Gastroenteritis\"],[\"Bronchial Asthma\"],[\"Bronchial Asthma\"],[\"Bronchial Asthma\"],[\"Bronchial Asthma\"],[\"Bronchial Asthma\"],[\"Bronchial Asthma\"],[\"Bronchial Asthma\"],[\"Bronchial Asthma\"],[\"Bronchial Asthma\"],[\"Bronchial Asthma\"],[\"Hypertension \"],[\"Hypertension \"],[\"Hypertension \"],[\"Hypertension \"],[\"Hypertension \"],[\"Hypertension \"],[\"Hypertension \"],[\"Hypertension \"],[\"Hypertension \"],[\"Hypertension \"],[\"Migraine\"],[\"Migraine\"],[\"Migraine\"],[\"Migraine\"],[\"Migraine\"],[\"Migraine\"],[\"Migraine\"],[\"Migraine\"],[\"Migraine\"],[\"Migraine\"],[\"Cervical spondylosis\"],[\"Cervical spondylosis\"],[\"Cervical spondylosis\"],[\"Cervical spondylosis\"],[\"Cervical spondylosis\"],[\"Cervical spondylosis\"],[\"Cervical spondylosis\"],[\"Cervical spondylosis\"],[\"Cervical spondylosis\"],[\"Cervical spondylosis\"],[\"Paralysis (brain hemorrhage)\"],[\"Paralysis (brain hemorrhage)\"],[\"Paralysis (brain hemorrhage)\"],[\"Paralysis (brain hemorrhage)\"],[\"Paralysis (brain hemorrhage)\"],[\"Paralysis (brain hemorrhage)\"],[\"Paralysis (brain hemorrhage)\"],[\"Paralysis (brain hemorrhage)\"],[\"Paralysis (brain hemorrhage)\"],[\"Paralysis (brain hemorrhage)\"],[\"Jaundice\"],[\"Jaundice\"],[\"Jaundice\"],[\"Jaundice\"],[\"Jaundice\"],[\"Jaundice\"],[\"Jaundice\"],[\"Jaundice\"],[\"Jaundice\"],[\"Jaundice\"],[\"Malaria\"],[\"Malaria\"],[\"Malaria\"],[\"Malaria\"],[\"Malaria\"],[\"Malaria\"],[\"Malaria\"],[\"Malaria\"],[\"Malaria\"],[\"Malaria\"],[\"Chicken pox\"],[\"Chicken pox\"],[\"Chicken pox\"],[\"Chicken pox\"],[\"Chicken pox\"],[\"Chicken pox\"],[\"Chicken pox\"],[\"Chicken pox\"],[\"Chicken pox\"],[\"Chicken pox\"],[\"Dengue\"],[\"Dengue\"],[\"Dengue\"],[\"Dengue\"],[\"Dengue\"],[\"Dengue\"],[\"Dengue\"],[\"Dengue\"],[\"Dengue\"],[\"Dengue\"],[\"Typhoid\"],[\"Typhoid\"],[\"Typhoid\"],[\"Typhoid\"],[\"Typhoid\"],[\"Typhoid\"],[\"Typhoid\"],[\"Typhoid\"],[\"Typhoid\"],[\"Typhoid\"],[\"hepatitis A\"],[\"hepatitis A\"],[\"hepatitis A\"],[\"hepatitis A\"],[\"hepatitis A\"],[\"hepatitis A\"],[\"hepatitis A\"],[\"hepatitis A\"],[\"hepatitis A\"],[\"hepatitis A\"],[\"Hepatitis B\"],[\"Hepatitis B\"],[\"Hepatitis B\"],[\"Hepatitis B\"],[\"Hepatitis B\"],[\"Hepatitis B\"],[\"Hepatitis B\"],[\"Hepatitis B\"],[\"Hepatitis B\"],[\"Hepatitis B\"],[\"Hepatitis C\"],[\"Hepatitis C\"],[\"Hepatitis C\"],[\"Hepatitis C\"],[\"Hepatitis C\"],[\"Hepatitis C\"],[\"Hepatitis C\"],[\"Hepatitis C\"],[\"Hepatitis C\"],[\"Hepatitis C\"],[\"Hepatitis D\"],[\"Hepatitis D\"],[\"Hepatitis D\"],[\"Hepatitis D\"],[\"Hepatitis D\"],[\"Hepatitis D\"],[\"Hepatitis D\"],[\"Hepatitis D\"],[\"Hepatitis D\"],[\"Hepatitis D\"],[\"Hepatitis E\"],[\"Hepatitis E\"],[\"Hepatitis E\"],[\"Hepatitis E\"],[\"Hepatitis E\"],[\"Hepatitis E\"],[\"Hepatitis E\"],[\"Hepatitis E\"],[\"Hepatitis E\"],[\"Hepatitis E\"],[\"Alcoholic hepatitis\"],[\"Alcoholic hepatitis\"],[\"Alcoholic hepatitis\"],[\"Alcoholic hepatitis\"],[\"Alcoholic hepatitis\"],[\"Alcoholic hepatitis\"],[\"Alcoholic hepatitis\"],[\"Alcoholic hepatitis\"],[\"Alcoholic hepatitis\"],[\"Alcoholic hepatitis\"],[\"Tuberculosis\"],[\"Tuberculosis\"],[\"Tuberculosis\"],[\"Tuberculosis\"],[\"Tuberculosis\"],[\"Tuberculosis\"],[\"Tuberculosis\"],[\"Tuberculosis\"],[\"Tuberculosis\"],[\"Tuberculosis\"],[\"Common Cold\"],[\"Common Cold\"],[\"Common Cold\"],[\"Common Cold\"],[\"Common Cold\"],[\"Common Cold\"],[\"Common Cold\"],[\"Common Cold\"],[\"Common Cold\"],[\"Common Cold\"],[\"Pneumonia\"],[\"Pneumonia\"],[\"Pneumonia\"],[\"Pneumonia\"],[\"Pneumonia\"],[\"Pneumonia\"],[\"Pneumonia\"],[\"Pneumonia\"],[\"Pneumonia\"],[\"Pneumonia\"],[\"Dimorphic hemmorhoids(piles)\"],[\"Dimorphic hemmorhoids(piles)\"],[\"Dimorphic hemmorhoids(piles)\"],[\"Dimorphic hemmorhoids(piles)\"],[\"Dimorphic hemmorhoids(piles)\"],[\"Dimorphic hemmorhoids(piles)\"],[\"Dimorphic hemmorhoids(piles)\"],[\"Dimorphic hemmorhoids(piles)\"],[\"Dimorphic hemmorhoids(piles)\"],[\"Dimorphic hemmorhoids(piles)\"],[\"Heart attack\"],[\"Heart attack\"],[\"Heart attack\"],[\"Heart attack\"],[\"Heart attack\"],[\"Heart attack\"],[\"Heart attack\"],[\"Heart attack\"],[\"Heart attack\"],[\"Heart attack\"],[\"Varicose veins\"],[\"Varicose veins\"],[\"Varicose veins\"],[\"Varicose veins\"],[\"Varicose veins\"],[\"Varicose veins\"],[\"Varicose veins\"],[\"Varicose veins\"],[\"Varicose veins\"],[\"Varicose veins\"],[\"Hypothyroidism\"],[\"Hypothyroidism\"],[\"Hypothyroidism\"],[\"Hypothyroidism\"],[\"Hypothyroidism\"],[\"Hypothyroidism\"],[\"Hypothyroidism\"],[\"Hypothyroidism\"],[\"Hypothyroidism\"],[\"Hypothyroidism\"],[\"Hyperthyroidism\"],[\"Hyperthyroidism\"],[\"Hyperthyroidism\"],[\"Hyperthyroidism\"],[\"Hyperthyroidism\"],[\"Hyperthyroidism\"],[\"Hyperthyroidism\"],[\"Hyperthyroidism\"],[\"Hyperthyroidism\"],[\"Hyperthyroidism\"],[\"Hypoglycemia\"],[\"Hypoglycemia\"],[\"Hypoglycemia\"],[\"Hypoglycemia\"],[\"Hypoglycemia\"],[\"Hypoglycemia\"],[\"Hypoglycemia\"],[\"Hypoglycemia\"],[\"Hypoglycemia\"],[\"Hypoglycemia\"],[\"Osteoarthristis\"],[\"Osteoarthristis\"],[\"Osteoarthristis\"],[\"Osteoarthristis\"],[\"Osteoarthristis\"],[\"Osteoarthristis\"],[\"Osteoarthristis\"],[\"Osteoarthristis\"],[\"Osteoarthristis\"],[\"Osteoarthristis\"],[\"Arthritis\"],[\"Arthritis\"],[\"Arthritis\"],[\"Arthritis\"],[\"Arthritis\"],[\"Arthritis\"],[\"Arthritis\"],[\"Arthritis\"],[\"Arthritis\"],[\"Arthritis\"],[\"(vertigo) Paroymsal  Positional Vertigo\"],[\"(vertigo) Paroymsal  Positional Vertigo\"],[\"(vertigo) Paroymsal  Positional Vertigo\"],[\"(vertigo) Paroymsal  Positional Vertigo\"],[\"(vertigo) Paroymsal  Positional Vertigo\"],[\"(vertigo) Paroymsal  Positional Vertigo\"],[\"(vertigo) Paroymsal  Positional Vertigo\"],[\"(vertigo) Paroymsal  Positional Vertigo\"],[\"(vertigo) Paroymsal  Positional Vertigo\"],[\"(vertigo) Paroymsal  Positional Vertigo\"],[\"Acne\"],[\"Acne\"],[\"Acne\"],[\"Acne\"],[\"Acne\"],[\"Acne\"],[\"Acne\"],[\"Acne\"],[\"Acne\"],[\"Acne\"],[\"Urinary tract infection\"],[\"Urinary tract infection\"],[\"Urinary tract infection\"],[\"Urinary tract infection\"],[\"Urinary tract infection\"],[\"Urinary tract infection\"],[\"Urinary tract infection\"],[\"Urinary tract infection\"],[\"Urinary tract infection\"],[\"Urinary tract infection\"],[\"Psoriasis\"],[\"Psoriasis\"],[\"Psoriasis\"],[\"Psoriasis\"],[\"Psoriasis\"],[\"Psoriasis\"],[\"Psoriasis\"],[\"Psoriasis\"],[\"Psoriasis\"],[\"Psoriasis\"],[\"Impetigo\"],[\"Impetigo\"],[\"Impetigo\"],[\"Impetigo\"],[\"Impetigo\"],[\"Impetigo\"],[\"Impetigo\"],[\"Impetigo\"],[\"Impetigo\"],[\"Impetigo\"],[\"Fungal infection\"],[\"Fungal infection\"],[\"Fungal infection\"],[\"Fungal infection\"],[\"Fungal infection\"],[\"Fungal infection\"],[\"Fungal infection\"],[\"Fungal infection\"],[\"Fungal infection\"],[\"Fungal infection\"],[\"Allergy\"],[\"Allergy\"],[\"Allergy\"],[\"Allergy\"],[\"Allergy\"],[\"Allergy\"],[\"Allergy\"],[\"Allergy\"],[\"Allergy\"],[\"Allergy\"],[\"GERD\"],[\"GERD\"],[\"GERD\"],[\"GERD\"],[\"GERD\"],[\"GERD\"],[\"GERD\"],[\"GERD\"],[\"GERD\"],[\"GERD\"],[\"Chronic cholestasis\"],[\"Chronic cholestasis\"],[\"Chronic cholestasis\"],[\"Chronic cholestasis\"],[\"Chronic cholestasis\"],[\"Chronic cholestasis\"],[\"Chronic cholestasis\"],[\"Chronic cholestasis\"],[\"Chronic cholestasis\"],[\"Chronic cholestasis\"],[\"Drug Reaction\"],[\"Drug Reaction\"],[\"Drug Reaction\"],[\"Drug Reaction\"],[\"Drug Reaction\"],[\"Drug Reaction\"],[\"Drug Reaction\"],[\"Drug Reaction\"],[\"Drug Reaction\"],[\"Drug Reaction\"],[\"Peptic ulcer diseae\"],[\"Peptic ulcer diseae\"],[\"Peptic ulcer diseae\"],[\"Peptic ulcer diseae\"],[\"Peptic ulcer diseae\"],[\"Peptic ulcer diseae\"],[\"Peptic ulcer diseae\"],[\"Peptic ulcer diseae\"],[\"Peptic ulcer diseae\"],[\"Peptic ulcer diseae\"],[\"AIDS\"],[\"AIDS\"],[\"AIDS\"],[\"AIDS\"],[\"AIDS\"],[\"AIDS\"],[\"AIDS\"],[\"AIDS\"],[\"AIDS\"],[\"AIDS\"],[\"Diabetes \"],[\"Diabetes \"],[\"Diabetes \"],[\"Diabetes \"],[\"Diabetes \"],[\"Diabetes \"],[\"Diabetes \"],[\"Diabetes \"],[\"Diabetes \"],[\"Diabetes \"],[\"Gastroenteritis\"],[\"Gastroenteritis\"],[\"Gastroenteritis\"],[\"Gastroenteritis\"],[\"Gastroenteritis\"],[\"Gastroenteritis\"],[\"Gastroenteritis\"],[\"Gastroenteritis\"],[\"Gastroenteritis\"],[\"Gastroenteritis\"],[\"Bronchial Asthma\"],[\"Bronchial Asthma\"],[\"Bronchial Asthma\"],[\"Bronchial Asthma\"],[\"Bronchial Asthma\"],[\"Bronchial Asthma\"],[\"Bronchial Asthma\"],[\"Bronchial Asthma\"],[\"Bronchial Asthma\"],[\"Bronchial Asthma\"],[\"Hypertension \"],[\"Hypertension \"],[\"Hypertension \"],[\"Hypertension \"],[\"Hypertension \"],[\"Hypertension \"],[\"Hypertension \"],[\"Hypertension \"],[\"Hypertension \"],[\"Hypertension \"],[\"Migraine\"],[\"Migraine\"],[\"Migraine\"],[\"Migraine\"],[\"Migraine\"],[\"Migraine\"],[\"Migraine\"],[\"Migraine\"],[\"Migraine\"],[\"Migraine\"],[\"Cervical spondylosis\"],[\"Cervical spondylosis\"],[\"Cervical spondylosis\"],[\"Cervical spondylosis\"],[\"Cervical spondylosis\"],[\"Cervical spondylosis\"],[\"Cervical spondylosis\"],[\"Cervical spondylosis\"],[\"Cervical spondylosis\"],[\"Cervical spondylosis\"],[\"Paralysis (brain hemorrhage)\"],[\"Paralysis (brain hemorrhage)\"],[\"Paralysis (brain hemorrhage)\"],[\"Paralysis (brain hemorrhage)\"],[\"Paralysis (brain hemorrhage)\"],[\"Paralysis (brain hemorrhage)\"],[\"Paralysis (brain hemorrhage)\"],[\"Paralysis (brain hemorrhage)\"],[\"Paralysis (brain hemorrhage)\"],[\"Paralysis (brain hemorrhage)\"],[\"Jaundice\"],[\"Jaundice\"],[\"Jaundice\"],[\"Jaundice\"],[\"Jaundice\"],[\"Jaundice\"],[\"Jaundice\"],[\"Jaundice\"],[\"Jaundice\"],[\"Jaundice\"],[\"Malaria\"],[\"Malaria\"],[\"Malaria\"],[\"Malaria\"],[\"Malaria\"],[\"Malaria\"],[\"Malaria\"],[\"Malaria\"],[\"Malaria\"],[\"Malaria\"],[\"Chicken pox\"],[\"Chicken pox\"],[\"Chicken pox\"],[\"Chicken pox\"],[\"Chicken pox\"],[\"Chicken pox\"],[\"Chicken pox\"],[\"Chicken pox\"],[\"Chicken pox\"],[\"Chicken pox\"],[\"Dengue\"],[\"Dengue\"],[\"Dengue\"],[\"Dengue\"],[\"Dengue\"],[\"Dengue\"],[\"Dengue\"],[\"Dengue\"],[\"Dengue\"],[\"Dengue\"],[\"Typhoid\"],[\"Typhoid\"],[\"Typhoid\"],[\"Typhoid\"],[\"Typhoid\"],[\"Typhoid\"],[\"Typhoid\"],[\"Typhoid\"],[\"Typhoid\"],[\"Typhoid\"],[\"hepatitis A\"],[\"hepatitis A\"],[\"hepatitis A\"],[\"hepatitis A\"],[\"hepatitis A\"],[\"hepatitis A\"],[\"hepatitis A\"],[\"hepatitis A\"],[\"hepatitis A\"],[\"hepatitis A\"],[\"Hepatitis B\"],[\"Hepatitis B\"],[\"Hepatitis B\"],[\"Hepatitis B\"],[\"Hepatitis B\"],[\"Hepatitis B\"],[\"Hepatitis B\"],[\"Hepatitis B\"],[\"Hepatitis B\"],[\"Hepatitis B\"],[\"Hepatitis C\"],[\"Hepatitis C\"],[\"Hepatitis C\"],[\"Hepatitis C\"],[\"Hepatitis C\"],[\"Hepatitis C\"],[\"Hepatitis C\"],[\"Hepatitis C\"],[\"Hepatitis C\"],[\"Hepatitis C\"],[\"Hepatitis D\"],[\"Hepatitis D\"],[\"Hepatitis D\"],[\"Hepatitis D\"],[\"Hepatitis D\"],[\"Hepatitis D\"],[\"Hepatitis D\"],[\"Hepatitis D\"],[\"Hepatitis D\"],[\"Hepatitis D\"],[\"Hepatitis E\"],[\"Hepatitis E\"],[\"Hepatitis E\"],[\"Hepatitis E\"],[\"Hepatitis E\"],[\"Hepatitis E\"],[\"Hepatitis E\"],[\"Hepatitis E\"],[\"Hepatitis E\"],[\"Hepatitis E\"],[\"Alcoholic hepatitis\"],[\"Alcoholic hepatitis\"],[\"Alcoholic hepatitis\"],[\"Alcoholic hepatitis\"],[\"Alcoholic hepatitis\"],[\"Alcoholic hepatitis\"],[\"Alcoholic hepatitis\"],[\"Alcoholic hepatitis\"],[\"Alcoholic hepatitis\"],[\"Alcoholic hepatitis\"],[\"Tuberculosis\"],[\"Tuberculosis\"],[\"Tuberculosis\"],[\"Tuberculosis\"],[\"Tuberculosis\"],[\"Tuberculosis\"],[\"Tuberculosis\"],[\"Tuberculosis\"],[\"Tuberculosis\"],[\"Tuberculosis\"],[\"Common Cold\"],[\"Common Cold\"],[\"Common Cold\"],[\"Common Cold\"],[\"Common Cold\"],[\"Common Cold\"],[\"Common Cold\"],[\"Common Cold\"],[\"Common Cold\"],[\"Common Cold\"],[\"Pneumonia\"],[\"Pneumonia\"],[\"Pneumonia\"],[\"Pneumonia\"],[\"Pneumonia\"],[\"Pneumonia\"],[\"Pneumonia\"],[\"Pneumonia\"],[\"Pneumonia\"],[\"Pneumonia\"],[\"Dimorphic hemmorhoids(piles)\"],[\"Dimorphic hemmorhoids(piles)\"],[\"Dimorphic hemmorhoids(piles)\"],[\"Dimorphic hemmorhoids(piles)\"],[\"Dimorphic hemmorhoids(piles)\"],[\"Dimorphic hemmorhoids(piles)\"],[\"Dimorphic hemmorhoids(piles)\"],[\"Dimorphic hemmorhoids(piles)\"],[\"Dimorphic hemmorhoids(piles)\"],[\"Dimorphic hemmorhoids(piles)\"],[\"Heart attack\"],[\"Heart attack\"],[\"Heart attack\"],[\"Heart attack\"],[\"Heart attack\"],[\"Heart attack\"],[\"Heart attack\"],[\"Heart attack\"],[\"Heart attack\"],[\"Heart attack\"],[\"Varicose veins\"],[\"Varicose veins\"],[\"Varicose veins\"],[\"Varicose veins\"],[\"Varicose veins\"],[\"Varicose veins\"],[\"Varicose veins\"],[\"Varicose veins\"],[\"Varicose veins\"],[\"Varicose veins\"],[\"Hypothyroidism\"],[\"Hypothyroidism\"],[\"Hypothyroidism\"],[\"Hypothyroidism\"],[\"Hypothyroidism\"],[\"Hypothyroidism\"],[\"Hypothyroidism\"],[\"Hypothyroidism\"],[\"Hypothyroidism\"],[\"Hypothyroidism\"],[\"Hyperthyroidism\"],[\"Hyperthyroidism\"],[\"Hyperthyroidism\"],[\"Hyperthyroidism\"],[\"Hyperthyroidism\"],[\"Hyperthyroidism\"],[\"Hyperthyroidism\"],[\"Hyperthyroidism\"],[\"Hyperthyroidism\"],[\"Hyperthyroidism\"],[\"Hypoglycemia\"],[\"Hypoglycemia\"],[\"Hypoglycemia\"],[\"Hypoglycemia\"],[\"Hypoglycemia\"],[\"Hypoglycemia\"],[\"Hypoglycemia\"],[\"Hypoglycemia\"],[\"Hypoglycemia\"],[\"Hypoglycemia\"],[\"Osteoarthristis\"],[\"Osteoarthristis\"],[\"Osteoarthristis\"],[\"Osteoarthristis\"],[\"Osteoarthristis\"],[\"Osteoarthristis\"],[\"Osteoarthristis\"],[\"Osteoarthristis\"],[\"Osteoarthristis\"],[\"Osteoarthristis\"],[\"Arthritis\"],[\"Arthritis\"],[\"Arthritis\"],[\"Arthritis\"],[\"Arthritis\"],[\"Arthritis\"],[\"Arthritis\"],[\"Arthritis\"],[\"Arthritis\"],[\"Arthritis\"],[\"(vertigo) Paroymsal  Positional Vertigo\"],[\"(vertigo) Paroymsal  Positional Vertigo\"],[\"(vertigo) Paroymsal  Positional Vertigo\"],[\"(vertigo) Paroymsal  Positional Vertigo\"],[\"(vertigo) Paroymsal  Positional Vertigo\"],[\"(vertigo) Paroymsal  Positional Vertigo\"],[\"(vertigo) Paroymsal  Positional Vertigo\"],[\"(vertigo) Paroymsal  Positional Vertigo\"],[\"(vertigo) Paroymsal  Positional Vertigo\"],[\"(vertigo) Paroymsal  Positional Vertigo\"],[\"Acne\"],[\"Acne\"],[\"Acne\"],[\"Acne\"],[\"Acne\"],[\"Acne\"],[\"Acne\"],[\"Acne\"],[\"Acne\"],[\"Acne\"],[\"Urinary tract infection\"],[\"Urinary tract infection\"],[\"Urinary tract infection\"],[\"Urinary tract infection\"],[\"Urinary tract infection\"],[\"Urinary tract infection\"],[\"Urinary tract infection\"],[\"Urinary tract infection\"],[\"Urinary tract infection\"],[\"Urinary tract infection\"],[\"Psoriasis\"],[\"Psoriasis\"],[\"Psoriasis\"],[\"Psoriasis\"],[\"Psoriasis\"],[\"Psoriasis\"],[\"Psoriasis\"],[\"Psoriasis\"],[\"Psoriasis\"],[\"Psoriasis\"],[\"Impetigo\"],[\"Impetigo\"],[\"Impetigo\"],[\"Impetigo\"],[\"Impetigo\"],[\"Impetigo\"],[\"Impetigo\"],[\"Impetigo\"],[\"Impetigo\"],[\"Impetigo\"],[\"Fungal infection\"],[\"Allergy\"],[\"GERD\"],[\"Chronic cholestasis\"],[\"Drug Reaction\"],[\"Peptic ulcer diseae\"],[\"AIDS\"],[\"Diabetes \"],[\"Gastroenteritis\"],[\"Bronchial Asthma\"],[\"Hypertension \"],[\"Migraine\"],[\"Cervical spondylosis\"],[\"Paralysis (brain hemorrhage)\"],[\"Jaundice\"],[\"Malaria\"],[\"Chicken pox\"],[\"Dengue\"],[\"Typhoid\"],[\"hepatitis A\"],[\"Hepatitis B\"],[\"Hepatitis C\"],[\"Hepatitis D\"],[\"Hepatitis E\"],[\"Alcoholic hepatitis\"],[\"Tuberculosis\"],[\"Common Cold\"],[\"Pneumonia\"],[\"Dimorphic hemmorhoids(piles)\"],[\"Heart attack\"],[\"Varicose veins\"],[\"Hypothyroidism\"],[\"Hyperthyroidism\"],[\"Hypoglycemia\"],[\"Osteoarthristis\"],[\"Arthritis\"],[\"(vertigo) Paroymsal  Positional Vertigo\"],[\"Acne\"],[\"Urinary tract infection\"],[\"Psoriasis\"],[\"Impetigo\"],[\"Fungal infection\"],[\"Allergy\"],[\"GERD\"],[\"Chronic cholestasis\"],[\"Drug Reaction\"],[\"Peptic ulcer diseae\"],[\"AIDS\"],[\"Diabetes \"],[\"Gastroenteritis\"],[\"Bronchial Asthma\"],[\"Hypertension \"],[\"Migraine\"],[\"Cervical spondylosis\"],[\"Paralysis (brain hemorrhage)\"],[\"Jaundice\"],[\"Malaria\"],[\"Chicken pox\"],[\"Dengue\"],[\"Typhoid\"],[\"hepatitis A\"],[\"Hepatitis B\"],[\"Hepatitis C\"],[\"Hepatitis D\"],[\"Hepatitis E\"],[\"Alcoholic hepatitis\"],[\"Tuberculosis\"],[\"Common Cold\"],[\"Pneumonia\"],[\"Dimorphic hemmorhoids(piles)\"],[\"Heart attack\"],[\"Varicose veins\"],[\"Hypothyroidism\"],[\"Hyperthyroidism\"],[\"Hypoglycemia\"],[\"Osteoarthristis\"],[\"Arthritis\"],[\"(vertigo) Paroymsal  Positional Vertigo\"],[\"Acne\"],[\"Urinary tract infection\"],[\"Psoriasis\"],[\"Impetigo\"],[\"Fungal infection\"],[\"Allergy\"],[\"GERD\"],[\"Chronic cholestasis\"],[\"Drug Reaction\"],[\"Peptic ulcer diseae\"],[\"AIDS\"],[\"Diabetes \"],[\"Gastroenteritis\"],[\"Bronchial Asthma\"],[\"Hypertension \"],[\"Migraine\"],[\"Cervical spondylosis\"],[\"Paralysis (brain hemorrhage)\"],[\"Jaundice\"],[\"Malaria\"],[\"Chicken pox\"],[\"Dengue\"],[\"Typhoid\"],[\"hepatitis A\"],[\"Hepatitis B\"],[\"Hepatitis C\"],[\"Hepatitis D\"],[\"Hepatitis E\"],[\"Alcoholic hepatitis\"],[\"Tuberculosis\"],[\"Common Cold\"],[\"Pneumonia\"],[\"Dimorphic hemmorhoids(piles)\"],[\"Heart attack\"],[\"Varicose veins\"],[\"Hypothyroidism\"],[\"Hyperthyroidism\"],[\"Hypoglycemia\"],[\"Osteoarthristis\"],[\"Arthritis\"],[\"(vertigo) Paroymsal  Positional Vertigo\"],[\"Acne\"],[\"Urinary tract infection\"],[\"Psoriasis\"],[\"Impetigo\"],[\"Fungal infection\"],[\"Allergy\"],[\"GERD\"],[\"Chronic cholestasis\"],[\"Drug Reaction\"],[\"Peptic ulcer diseae\"],[\"AIDS\"],[\"Diabetes \"],[\"Gastroenteritis\"],[\"Bronchial Asthma\"],[\"Hypertension \"],[\"Migraine\"],[\"Cervical spondylosis\"],[\"Paralysis (brain hemorrhage)\"],[\"Jaundice\"],[\"Malaria\"],[\"Chicken pox\"],[\"Dengue\"],[\"Typhoid\"],[\"hepatitis A\"],[\"Hepatitis B\"],[\"Hepatitis C\"],[\"Hepatitis D\"],[\"Hepatitis E\"],[\"Alcoholic hepatitis\"],[\"Tuberculosis\"],[\"Common Cold\"],[\"Pneumonia\"],[\"Dimorphic hemmorhoids(piles)\"],[\"Heart attack\"],[\"Varicose veins\"],[\"Hypothyroidism\"],[\"Hyperthyroidism\"],[\"Hypoglycemia\"],[\"Osteoarthristis\"],[\"Arthritis\"],[\"(vertigo) Paroymsal  Positional Vertigo\"],[\"Acne\"],[\"Urinary tract infection\"],[\"Psoriasis\"],[\"Impetigo\"],[\"Fungal infection\"],[\"Allergy\"],[\"GERD\"],[\"Chronic cholestasis\"],[\"Drug Reaction\"],[\"Peptic ulcer diseae\"],[\"AIDS\"],[\"Diabetes \"],[\"Gastroenteritis\"],[\"Bronchial Asthma\"],[\"Hypertension \"],[\"Migraine\"],[\"Cervical spondylosis\"],[\"Paralysis (brain hemorrhage)\"],[\"Jaundice\"],[\"Malaria\"],[\"Chicken pox\"],[\"Dengue\"],[\"Typhoid\"],[\"hepatitis A\"],[\"Hepatitis B\"],[\"Hepatitis C\"],[\"Hepatitis D\"],[\"Hepatitis E\"],[\"Alcoholic hepatitis\"],[\"Tuberculosis\"],[\"Common Cold\"],[\"Pneumonia\"],[\"Dimorphic hemmorhoids(piles)\"],[\"Heart attack\"],[\"Varicose veins\"],[\"Hypothyroidism\"],[\"Hyperthyroidism\"],[\"Hypoglycemia\"],[\"Osteoarthristis\"],[\"Arthritis\"],[\"(vertigo) Paroymsal  Positional Vertigo\"],[\"Acne\"],[\"Urinary tract infection\"],[\"Psoriasis\"],[\"Impetigo\"],[\"Fungal infection\"],[\"Allergy\"],[\"GERD\"],[\"Chronic cholestasis\"],[\"Drug Reaction\"],[\"Peptic ulcer diseae\"],[\"AIDS\"],[\"Diabetes \"],[\"Gastroenteritis\"],[\"Bronchial Asthma\"],[\"Hypertension \"],[\"Migraine\"],[\"Cervical spondylosis\"],[\"Paralysis (brain hemorrhage)\"],[\"Jaundice\"],[\"Malaria\"],[\"Chicken pox\"],[\"Dengue\"],[\"Typhoid\"],[\"hepatitis A\"],[\"Hepatitis B\"],[\"Hepatitis C\"],[\"Hepatitis D\"],[\"Hepatitis E\"],[\"Alcoholic hepatitis\"],[\"Tuberculosis\"],[\"Common Cold\"],[\"Pneumonia\"],[\"Dimorphic hemmorhoids(piles)\"],[\"Heart attack\"],[\"Varicose veins\"],[\"Hypothyroidism\"],[\"Hyperthyroidism\"],[\"Hypoglycemia\"],[\"Osteoarthristis\"],[\"Arthritis\"],[\"(vertigo) Paroymsal  Positional Vertigo\"],[\"Acne\"],[\"Urinary tract infection\"],[\"Psoriasis\"],[\"Impetigo\"],[\"Fungal infection\"],[\"Allergy\"],[\"GERD\"],[\"Chronic cholestasis\"],[\"Drug Reaction\"],[\"Peptic ulcer diseae\"],[\"AIDS\"],[\"Diabetes \"],[\"Gastroenteritis\"],[\"Bronchial Asthma\"],[\"Hypertension \"],[\"Migraine\"],[\"Cervical spondylosis\"],[\"Paralysis (brain hemorrhage)\"],[\"Jaundice\"],[\"Malaria\"],[\"Chicken pox\"],[\"Dengue\"],[\"Typhoid\"],[\"hepatitis A\"],[\"Hepatitis B\"],[\"Hepatitis C\"],[\"Hepatitis D\"],[\"Hepatitis E\"],[\"Alcoholic hepatitis\"],[\"Tuberculosis\"],[\"Common Cold\"],[\"Pneumonia\"],[\"Dimorphic hemmorhoids(piles)\"],[\"Heart attack\"],[\"Varicose veins\"],[\"Hypothyroidism\"],[\"Hyperthyroidism\"],[\"Hypoglycemia\"],[\"Osteoarthristis\"],[\"Arthritis\"],[\"(vertigo) Paroymsal  Positional Vertigo\"],[\"Acne\"],[\"Urinary tract infection\"],[\"Psoriasis\"],[\"Impetigo\"],[\"Fungal infection\"],[\"Allergy\"],[\"GERD\"],[\"Chronic cholestasis\"],[\"Drug Reaction\"],[\"Peptic ulcer diseae\"],[\"AIDS\"],[\"Diabetes \"],[\"Gastroenteritis\"],[\"Bronchial Asthma\"],[\"Hypertension \"],[\"Migraine\"],[\"Cervical spondylosis\"],[\"Paralysis (brain hemorrhage)\"],[\"Jaundice\"],[\"Malaria\"],[\"Chicken pox\"],[\"Dengue\"],[\"Typhoid\"],[\"hepatitis A\"],[\"Hepatitis B\"],[\"Hepatitis C\"],[\"Hepatitis D\"],[\"Hepatitis E\"],[\"Alcoholic hepatitis\"],[\"Tuberculosis\"],[\"Common Cold\"],[\"Pneumonia\"],[\"Dimorphic hemmorhoids(piles)\"],[\"Heart attack\"],[\"Varicose veins\"],[\"Hypothyroidism\"],[\"Hyperthyroidism\"],[\"Hypoglycemia\"],[\"Osteoarthristis\"],[\"Arthritis\"],[\"(vertigo) Paroymsal  Positional Vertigo\"],[\"Acne\"],[\"Urinary tract infection\"],[\"Psoriasis\"],[\"Impetigo\"],[\"Fungal infection\"],[\"Allergy\"],[\"GERD\"],[\"Chronic cholestasis\"],[\"Drug Reaction\"],[\"Peptic ulcer diseae\"],[\"AIDS\"],[\"Diabetes \"],[\"Gastroenteritis\"],[\"Bronchial Asthma\"],[\"Hypertension \"],[\"Migraine\"],[\"Cervical spondylosis\"],[\"Paralysis (brain hemorrhage)\"],[\"Jaundice\"],[\"Malaria\"],[\"Chicken pox\"],[\"Dengue\"],[\"Typhoid\"],[\"hepatitis A\"],[\"Hepatitis B\"],[\"Hepatitis C\"],[\"Hepatitis D\"],[\"Hepatitis E\"],[\"Alcoholic hepatitis\"],[\"Tuberculosis\"],[\"Common Cold\"],[\"Pneumonia\"],[\"Dimorphic hemmorhoids(piles)\"],[\"Heart attack\"],[\"Varicose veins\"],[\"Hypothyroidism\"],[\"Hyperthyroidism\"],[\"Hypoglycemia\"],[\"Osteoarthristis\"],[\"Arthritis\"],[\"(vertigo) Paroymsal  Positional Vertigo\"],[\"Acne\"],[\"Urinary tract infection\"],[\"Psoriasis\"],[\"Impetigo\"],[\"Fungal infection\"],[\"Allergy\"],[\"GERD\"],[\"Chronic cholestasis\"],[\"Drug Reaction\"],[\"Peptic ulcer diseae\"],[\"AIDS\"],[\"Diabetes \"],[\"Gastroenteritis\"],[\"Bronchial Asthma\"],[\"Hypertension \"],[\"Migraine\"],[\"Cervical spondylosis\"],[\"Paralysis (brain hemorrhage)\"],[\"Jaundice\"],[\"Malaria\"],[\"Chicken pox\"],[\"Dengue\"],[\"Typhoid\"],[\"hepatitis A\"],[\"Hepatitis B\"],[\"Hepatitis C\"],[\"Hepatitis D\"],[\"Hepatitis E\"],[\"Alcoholic hepatitis\"],[\"Tuberculosis\"],[\"Common Cold\"],[\"Pneumonia\"],[\"Dimorphic hemmorhoids(piles)\"],[\"Heart attack\"],[\"Varicose veins\"],[\"Hypothyroidism\"],[\"Hyperthyroidism\"],[\"Hypoglycemia\"],[\"Osteoarthristis\"],[\"Arthritis\"],[\"(vertigo) Paroymsal  Positional Vertigo\"],[\"Acne\"],[\"Urinary tract infection\"],[\"Psoriasis\"],[\"Impetigo\"],[\"Fungal infection\"],[\"Allergy\"],[\"GERD\"],[\"Chronic cholestasis\"],[\"Drug Reaction\"],[\"Peptic ulcer diseae\"],[\"AIDS\"],[\"Diabetes \"],[\"Gastroenteritis\"],[\"Bronchial Asthma\"],[\"Hypertension \"],[\"Migraine\"],[\"Cervical spondylosis\"],[\"Paralysis (brain hemorrhage)\"],[\"Jaundice\"],[\"Malaria\"],[\"Chicken pox\"],[\"Dengue\"],[\"Typhoid\"],[\"hepatitis A\"],[\"Hepatitis B\"],[\"Hepatitis C\"],[\"Hepatitis D\"],[\"Hepatitis E\"],[\"Alcoholic hepatitis\"],[\"Tuberculosis\"],[\"Common Cold\"],[\"Pneumonia\"],[\"Dimorphic hemmorhoids(piles)\"],[\"Heart attack\"],[\"Varicose veins\"],[\"Hypothyroidism\"],[\"Hyperthyroidism\"],[\"Hypoglycemia\"],[\"Osteoarthristis\"],[\"Arthritis\"],[\"(vertigo) Paroymsal  Positional Vertigo\"],[\"Acne\"],[\"Urinary tract infection\"],[\"Psoriasis\"],[\"Impetigo\"],[\"Fungal infection\"],[\"Allergy\"],[\"GERD\"],[\"Chronic cholestasis\"],[\"Drug Reaction\"],[\"Peptic ulcer diseae\"],[\"AIDS\"],[\"Diabetes \"],[\"Gastroenteritis\"],[\"Bronchial Asthma\"],[\"Hypertension \"],[\"Migraine\"],[\"Cervical spondylosis\"],[\"Paralysis (brain hemorrhage)\"],[\"Jaundice\"],[\"Malaria\"],[\"Chicken pox\"],[\"Dengue\"],[\"Typhoid\"],[\"hepatitis A\"],[\"Hepatitis B\"],[\"Hepatitis C\"],[\"Hepatitis D\"],[\"Hepatitis E\"],[\"Alcoholic hepatitis\"],[\"Tuberculosis\"],[\"Common Cold\"],[\"Pneumonia\"],[\"Dimorphic hemmorhoids(piles)\"],[\"Heart attack\"],[\"Varicose veins\"],[\"Hypothyroidism\"],[\"Hyperthyroidism\"],[\"Hypoglycemia\"],[\"Osteoarthristis\"],[\"Arthritis\"],[\"(vertigo) Paroymsal  Positional Vertigo\"],[\"Acne\"],[\"Urinary tract infection\"],[\"Psoriasis\"],[\"Impetigo\"],[\"Fungal infection\"],[\"Allergy\"],[\"GERD\"],[\"Chronic cholestasis\"],[\"Drug Reaction\"],[\"Peptic ulcer diseae\"],[\"AIDS\"],[\"Diabetes \"],[\"Gastroenteritis\"],[\"Bronchial Asthma\"],[\"Hypertension \"],[\"Migraine\"],[\"Cervical spondylosis\"],[\"Paralysis (brain hemorrhage)\"],[\"Jaundice\"],[\"Malaria\"],[\"Chicken pox\"],[\"Dengue\"],[\"Typhoid\"],[\"hepatitis A\"],[\"Hepatitis B\"],[\"Hepatitis C\"],[\"Hepatitis D\"],[\"Hepatitis E\"],[\"Alcoholic hepatitis\"],[\"Tuberculosis\"],[\"Common Cold\"],[\"Pneumonia\"],[\"Dimorphic hemmorhoids(piles)\"],[\"Heart attack\"],[\"Varicose veins\"],[\"Hypothyroidism\"],[\"Hyperthyroidism\"],[\"Hypoglycemia\"],[\"Osteoarthristis\"],[\"Arthritis\"],[\"(vertigo) Paroymsal  Positional Vertigo\"],[\"Acne\"],[\"Urinary tract infection\"],[\"Psoriasis\"],[\"Impetigo\"],[\"Fungal infection\"],[\"Allergy\"],[\"GERD\"],[\"Chronic cholestasis\"],[\"Drug Reaction\"],[\"Peptic ulcer diseae\"],[\"AIDS\"],[\"Diabetes \"],[\"Gastroenteritis\"],[\"Bronchial Asthma\"],[\"Hypertension \"],[\"Migraine\"],[\"Cervical spondylosis\"],[\"Paralysis (brain hemorrhage)\"],[\"Jaundice\"],[\"Malaria\"],[\"Chicken pox\"],[\"Dengue\"],[\"Typhoid\"],[\"hepatitis A\"],[\"Hepatitis B\"],[\"Hepatitis C\"],[\"Hepatitis D\"],[\"Hepatitis E\"],[\"Alcoholic hepatitis\"],[\"Tuberculosis\"],[\"Common Cold\"],[\"Pneumonia\"],[\"Dimorphic hemmorhoids(piles)\"],[\"Heart attack\"],[\"Varicose veins\"],[\"Hypothyroidism\"],[\"Hyperthyroidism\"],[\"Hypoglycemia\"],[\"Osteoarthristis\"],[\"Arthritis\"],[\"(vertigo) Paroymsal  Positional Vertigo\"],[\"Acne\"],[\"Urinary tract infection\"],[\"Psoriasis\"],[\"Impetigo\"],[\"Fungal infection\"],[\"Allergy\"],[\"GERD\"],[\"Chronic cholestasis\"],[\"Drug Reaction\"],[\"Peptic ulcer diseae\"],[\"AIDS\"],[\"Diabetes \"],[\"Gastroenteritis\"],[\"Bronchial Asthma\"],[\"Hypertension \"],[\"Migraine\"],[\"Cervical spondylosis\"],[\"Paralysis (brain hemorrhage)\"],[\"Jaundice\"],[\"Malaria\"],[\"Chicken pox\"],[\"Dengue\"],[\"Typhoid\"],[\"hepatitis A\"],[\"Hepatitis B\"],[\"Hepatitis C\"],[\"Hepatitis D\"],[\"Hepatitis E\"],[\"Alcoholic hepatitis\"],[\"Tuberculosis\"],[\"Common Cold\"],[\"Pneumonia\"],[\"Dimorphic hemmorhoids(piles)\"],[\"Heart attack\"],[\"Varicose veins\"],[\"Hypothyroidism\"],[\"Hyperthyroidism\"],[\"Hypoglycemia\"],[\"Osteoarthristis\"],[\"Arthritis\"],[\"(vertigo) Paroymsal  Positional Vertigo\"],[\"Acne\"],[\"Urinary tract infection\"],[\"Psoriasis\"],[\"Impetigo\"],[\"Fungal infection\"],[\"Allergy\"],[\"GERD\"],[\"Chronic cholestasis\"],[\"Drug Reaction\"],[\"Peptic ulcer diseae\"],[\"AIDS\"],[\"Diabetes \"],[\"Gastroenteritis\"],[\"Bronchial Asthma\"],[\"Hypertension \"],[\"Migraine\"],[\"Cervical spondylosis\"],[\"Paralysis (brain hemorrhage)\"],[\"Jaundice\"],[\"Malaria\"],[\"Chicken pox\"],[\"Dengue\"],[\"Typhoid\"],[\"hepatitis A\"],[\"Hepatitis B\"],[\"Hepatitis C\"],[\"Hepatitis D\"],[\"Hepatitis E\"],[\"Alcoholic hepatitis\"],[\"Tuberculosis\"],[\"Common Cold\"],[\"Pneumonia\"],[\"Dimorphic hemmorhoids(piles)\"],[\"Heart attack\"],[\"Varicose veins\"],[\"Hypothyroidism\"],[\"Hyperthyroidism\"],[\"Hypoglycemia\"],[\"Osteoarthristis\"],[\"Arthritis\"],[\"(vertigo) Paroymsal  Positional Vertigo\"],[\"Acne\"],[\"Urinary tract infection\"],[\"Psoriasis\"],[\"Impetigo\"],[\"Fungal infection\"],[\"Allergy\"],[\"GERD\"],[\"Chronic cholestasis\"],[\"Drug Reaction\"],[\"Peptic ulcer diseae\"],[\"AIDS\"],[\"Diabetes \"],[\"Gastroenteritis\"],[\"Bronchial Asthma\"],[\"Hypertension \"],[\"Migraine\"],[\"Cervical spondylosis\"],[\"Paralysis (brain hemorrhage)\"],[\"Jaundice\"],[\"Malaria\"],[\"Chicken pox\"],[\"Dengue\"],[\"Typhoid\"],[\"hepatitis A\"],[\"Hepatitis B\"],[\"Hepatitis C\"],[\"Hepatitis D\"],[\"Hepatitis E\"],[\"Alcoholic hepatitis\"],[\"Tuberculosis\"],[\"Common Cold\"],[\"Pneumonia\"],[\"Dimorphic hemmorhoids(piles)\"],[\"Heart attack\"],[\"Varicose veins\"],[\"Hypothyroidism\"],[\"Hyperthyroidism\"],[\"Hypoglycemia\"],[\"Osteoarthristis\"],[\"Arthritis\"],[\"(vertigo) Paroymsal  Positional Vertigo\"],[\"Acne\"],[\"Urinary tract infection\"],[\"Psoriasis\"],[\"Impetigo\"],[\"Fungal infection\"],[\"Allergy\"],[\"GERD\"],[\"Chronic cholestasis\"],[\"Drug Reaction\"],[\"Peptic ulcer diseae\"],[\"AIDS\"],[\"Diabetes \"],[\"Gastroenteritis\"],[\"Bronchial Asthma\"],[\"Hypertension \"],[\"Migraine\"],[\"Cervical spondylosis\"],[\"Paralysis (brain hemorrhage)\"],[\"Jaundice\"],[\"Malaria\"],[\"Chicken pox\"],[\"Dengue\"],[\"Typhoid\"],[\"hepatitis A\"],[\"Hepatitis B\"],[\"Hepatitis C\"],[\"Hepatitis D\"],[\"Hepatitis E\"],[\"Alcoholic hepatitis\"],[\"Tuberculosis\"],[\"Common Cold\"],[\"Pneumonia\"],[\"Dimorphic hemmorhoids(piles)\"],[\"Heart attack\"],[\"Varicose veins\"],[\"Hypothyroidism\"],[\"Hyperthyroidism\"],[\"Hypoglycemia\"],[\"Osteoarthristis\"],[\"Arthritis\"],[\"(vertigo) Paroymsal  Positional Vertigo\"],[\"Acne\"],[\"Urinary tract infection\"],[\"Psoriasis\"],[\"Impetigo\"],[\"Fungal infection\"],[\"Allergy\"],[\"GERD\"],[\"Chronic cholestasis\"],[\"Drug Reaction\"],[\"Peptic ulcer diseae\"],[\"AIDS\"],[\"Diabetes \"],[\"Gastroenteritis\"],[\"Bronchial Asthma\"],[\"Hypertension \"],[\"Migraine\"],[\"Cervical spondylosis\"],[\"Paralysis (brain hemorrhage)\"],[\"Jaundice\"],[\"Malaria\"],[\"Chicken pox\"],[\"Dengue\"],[\"Typhoid\"],[\"hepatitis A\"],[\"Hepatitis B\"],[\"Hepatitis C\"],[\"Hepatitis D\"],[\"Hepatitis E\"],[\"Alcoholic hepatitis\"],[\"Tuberculosis\"],[\"Common Cold\"],[\"Pneumonia\"],[\"Dimorphic hemmorhoids(piles)\"],[\"Heart attack\"],[\"Varicose veins\"],[\"Hypothyroidism\"],[\"Hyperthyroidism\"],[\"Hypoglycemia\"],[\"Osteoarthristis\"],[\"Arthritis\"],[\"(vertigo) Paroymsal  Positional Vertigo\"],[\"Acne\"],[\"Urinary tract infection\"],[\"Psoriasis\"],[\"Impetigo\"],[\"Fungal infection\"],[\"Allergy\"],[\"GERD\"],[\"Chronic cholestasis\"],[\"Drug Reaction\"],[\"Peptic ulcer diseae\"],[\"AIDS\"],[\"Diabetes \"],[\"Gastroenteritis\"],[\"Bronchial Asthma\"],[\"Hypertension \"],[\"Migraine\"],[\"Cervical spondylosis\"],[\"Paralysis (brain hemorrhage)\"],[\"Jaundice\"],[\"Malaria\"],[\"Chicken pox\"],[\"Dengue\"],[\"Typhoid\"],[\"hepatitis A\"],[\"Hepatitis B\"],[\"Hepatitis C\"],[\"Hepatitis D\"],[\"Hepatitis E\"],[\"Alcoholic hepatitis\"],[\"Tuberculosis\"],[\"Common Cold\"],[\"Pneumonia\"],[\"Dimorphic hemmorhoids(piles)\"],[\"Heart attack\"],[\"Varicose veins\"],[\"Hypothyroidism\"],[\"Hyperthyroidism\"],[\"Hypoglycemia\"],[\"Osteoarthristis\"],[\"Arthritis\"],[\"(vertigo) Paroymsal  Positional Vertigo\"],[\"Acne\"],[\"Urinary tract infection\"],[\"Psoriasis\"],[\"Impetigo\"],[\"Fungal infection\"],[\"Allergy\"],[\"GERD\"],[\"Chronic cholestasis\"],[\"Drug Reaction\"],[\"Peptic ulcer diseae\"],[\"AIDS\"],[\"Diabetes \"],[\"Gastroenteritis\"],[\"Bronchial Asthma\"],[\"Hypertension \"],[\"Migraine\"],[\"Cervical spondylosis\"],[\"Paralysis (brain hemorrhage)\"],[\"Jaundice\"],[\"Malaria\"],[\"Chicken pox\"],[\"Dengue\"],[\"Typhoid\"],[\"hepatitis A\"],[\"Hepatitis B\"],[\"Hepatitis C\"],[\"Hepatitis D\"],[\"Hepatitis E\"],[\"Alcoholic hepatitis\"],[\"Tuberculosis\"],[\"Common Cold\"],[\"Pneumonia\"],[\"Dimorphic hemmorhoids(piles)\"],[\"Heart attack\"],[\"Varicose veins\"],[\"Hypothyroidism\"],[\"Hyperthyroidism\"],[\"Hypoglycemia\"],[\"Osteoarthristis\"],[\"Arthritis\"],[\"(vertigo) Paroymsal  Positional Vertigo\"],[\"Acne\"],[\"Urinary tract infection\"],[\"Psoriasis\"],[\"Impetigo\"],[\"Fungal infection\"],[\"Allergy\"],[\"GERD\"],[\"Chronic cholestasis\"],[\"Drug Reaction\"],[\"Peptic ulcer diseae\"],[\"AIDS\"],[\"Diabetes \"],[\"Gastroenteritis\"],[\"Bronchial Asthma\"],[\"Hypertension \"],[\"Migraine\"],[\"Cervical spondylosis\"],[\"Paralysis (brain hemorrhage)\"],[\"Jaundice\"],[\"Malaria\"],[\"Chicken pox\"],[\"Dengue\"],[\"Typhoid\"],[\"hepatitis A\"],[\"Hepatitis B\"],[\"Hepatitis C\"],[\"Hepatitis D\"],[\"Hepatitis E\"],[\"Alcoholic hepatitis\"],[\"Tuberculosis\"],[\"Common Cold\"],[\"Pneumonia\"],[\"Dimorphic hemmorhoids(piles)\"],[\"Heart attack\"],[\"Varicose veins\"],[\"Hypothyroidism\"],[\"Hyperthyroidism\"],[\"Hypoglycemia\"],[\"Osteoarthristis\"],[\"Arthritis\"],[\"(vertigo) Paroymsal  Positional Vertigo\"],[\"Acne\"],[\"Urinary tract infection\"],[\"Psoriasis\"],[\"Impetigo\"],[\"Fungal infection\"],[\"Allergy\"],[\"GERD\"],[\"Chronic cholestasis\"],[\"Drug Reaction\"],[\"Peptic ulcer diseae\"],[\"AIDS\"],[\"Diabetes \"],[\"Gastroenteritis\"],[\"Bronchial Asthma\"],[\"Hypertension \"],[\"Migraine\"],[\"Cervical spondylosis\"],[\"Paralysis (brain hemorrhage)\"],[\"Jaundice\"],[\"Malaria\"],[\"Chicken pox\"],[\"Dengue\"],[\"Typhoid\"],[\"hepatitis A\"],[\"Hepatitis B\"],[\"Hepatitis C\"],[\"Hepatitis D\"],[\"Hepatitis E\"],[\"Alcoholic hepatitis\"],[\"Tuberculosis\"],[\"Common Cold\"],[\"Pneumonia\"],[\"Dimorphic hemmorhoids(piles)\"],[\"Heart attack\"],[\"Varicose veins\"],[\"Hypothyroidism\"],[\"Hyperthyroidism\"],[\"Hypoglycemia\"],[\"Osteoarthristis\"],[\"Arthritis\"],[\"(vertigo) Paroymsal  Positional Vertigo\"],[\"Acne\"],[\"Urinary tract infection\"],[\"Psoriasis\"],[\"Impetigo\"],[\"Fungal infection\"],[\"Allergy\"],[\"GERD\"],[\"Chronic cholestasis\"],[\"Drug Reaction\"],[\"Peptic ulcer diseae\"],[\"AIDS\"],[\"Diabetes \"],[\"Gastroenteritis\"],[\"Bronchial Asthma\"],[\"Hypertension \"],[\"Migraine\"],[\"Cervical spondylosis\"],[\"Paralysis (brain hemorrhage)\"],[\"Jaundice\"],[\"Malaria\"],[\"Chicken pox\"],[\"Dengue\"],[\"Typhoid\"],[\"hepatitis A\"],[\"Hepatitis B\"],[\"Hepatitis C\"],[\"Hepatitis D\"],[\"Hepatitis E\"],[\"Alcoholic hepatitis\"],[\"Tuberculosis\"],[\"Common Cold\"],[\"Pneumonia\"],[\"Dimorphic hemmorhoids(piles)\"],[\"Heart attack\"],[\"Varicose veins\"],[\"Hypothyroidism\"],[\"Hyperthyroidism\"],[\"Hypoglycemia\"],[\"Osteoarthristis\"],[\"Arthritis\"],[\"(vertigo) Paroymsal  Positional Vertigo\"],[\"Acne\"],[\"Urinary tract infection\"],[\"Psoriasis\"],[\"Impetigo\"],[\"Fungal infection\"],[\"Allergy\"],[\"GERD\"],[\"Chronic cholestasis\"],[\"Drug Reaction\"],[\"Peptic ulcer diseae\"],[\"AIDS\"],[\"Diabetes \"],[\"Gastroenteritis\"],[\"Bronchial Asthma\"],[\"Hypertension \"],[\"Migraine\"],[\"Cervical spondylosis\"],[\"Paralysis (brain hemorrhage)\"],[\"Jaundice\"],[\"Malaria\"],[\"Chicken pox\"],[\"Dengue\"],[\"Typhoid\"],[\"hepatitis A\"],[\"Hepatitis B\"],[\"Hepatitis C\"],[\"Hepatitis D\"],[\"Hepatitis E\"],[\"Alcoholic hepatitis\"],[\"Tuberculosis\"],[\"Common Cold\"],[\"Pneumonia\"],[\"Dimorphic hemmorhoids(piles)\"],[\"Heart attack\"],[\"Varicose veins\"],[\"Hypothyroidism\"],[\"Hyperthyroidism\"],[\"Hypoglycemia\"],[\"Osteoarthristis\"],[\"Arthritis\"],[\"(vertigo) Paroymsal  Positional Vertigo\"],[\"Acne\"],[\"Urinary tract infection\"],[\"Psoriasis\"],[\"Impetigo\"],[\"Fungal infection\"],[\"Allergy\"],[\"GERD\"],[\"Chronic cholestasis\"],[\"Drug Reaction\"],[\"Peptic ulcer diseae\"],[\"AIDS\"],[\"Diabetes \"],[\"Gastroenteritis\"],[\"Bronchial Asthma\"],[\"Hypertension \"],[\"Migraine\"],[\"Cervical spondylosis\"],[\"Paralysis (brain hemorrhage)\"],[\"Jaundice\"],[\"Malaria\"],[\"Chicken pox\"],[\"Dengue\"],[\"Typhoid\"],[\"hepatitis A\"],[\"Hepatitis B\"],[\"Hepatitis C\"],[\"Hepatitis D\"],[\"Hepatitis E\"],[\"Alcoholic hepatitis\"],[\"Tuberculosis\"],[\"Common Cold\"],[\"Pneumonia\"],[\"Dimorphic hemmorhoids(piles)\"],[\"Heart attack\"],[\"Varicose veins\"],[\"Hypothyroidism\"],[\"Hyperthyroidism\"],[\"Hypoglycemia\"],[\"Osteoarthristis\"],[\"Arthritis\"],[\"(vertigo) Paroymsal  Positional Vertigo\"],[\"Acne\"],[\"Urinary tract infection\"],[\"Psoriasis\"],[\"Impetigo\"],[\"Fungal infection\"],[\"Allergy\"],[\"GERD\"],[\"Chronic cholestasis\"],[\"Drug Reaction\"],[\"Peptic ulcer diseae\"],[\"AIDS\"],[\"Diabetes \"],[\"Gastroenteritis\"],[\"Bronchial Asthma\"],[\"Hypertension \"],[\"Migraine\"],[\"Cervical spondylosis\"],[\"Paralysis (brain hemorrhage)\"],[\"Jaundice\"],[\"Malaria\"],[\"Chicken pox\"],[\"Dengue\"],[\"Typhoid\"],[\"hepatitis A\"],[\"Hepatitis B\"],[\"Hepatitis C\"],[\"Hepatitis D\"],[\"Hepatitis E\"],[\"Alcoholic hepatitis\"],[\"Tuberculosis\"],[\"Common Cold\"],[\"Pneumonia\"],[\"Dimorphic hemmorhoids(piles)\"],[\"Heart attack\"],[\"Varicose veins\"],[\"Hypothyroidism\"],[\"Hyperthyroidism\"],[\"Hypoglycemia\"],[\"Osteoarthristis\"],[\"Arthritis\"],[\"(vertigo) Paroymsal  Positional Vertigo\"],[\"Acne\"],[\"Urinary tract infection\"],[\"Psoriasis\"],[\"Impetigo\"],[\"Fungal infection\"],[\"Allergy\"],[\"GERD\"],[\"Chronic cholestasis\"],[\"Drug Reaction\"],[\"Peptic ulcer diseae\"],[\"AIDS\"],[\"Diabetes \"],[\"Gastroenteritis\"],[\"Bronchial Asthma\"],[\"Hypertension \"],[\"Migraine\"],[\"Cervical spondylosis\"],[\"Paralysis (brain hemorrhage)\"],[\"Jaundice\"],[\"Malaria\"],[\"Chicken pox\"],[\"Dengue\"],[\"Typhoid\"],[\"hepatitis A\"],[\"Hepatitis B\"],[\"Hepatitis C\"],[\"Hepatitis D\"],[\"Hepatitis E\"],[\"Alcoholic hepatitis\"],[\"Tuberculosis\"],[\"Common Cold\"],[\"Pneumonia\"],[\"Dimorphic hemmorhoids(piles)\"],[\"Heart attack\"],[\"Varicose veins\"],[\"Hypothyroidism\"],[\"Hyperthyroidism\"],[\"Hypoglycemia\"],[\"Osteoarthristis\"],[\"Arthritis\"],[\"(vertigo) Paroymsal  Positional Vertigo\"],[\"Acne\"],[\"Urinary tract infection\"],[\"Psoriasis\"],[\"Impetigo\"],[\"Fungal infection\"],[\"Allergy\"],[\"GERD\"],[\"Chronic cholestasis\"],[\"Drug Reaction\"],[\"Peptic ulcer diseae\"],[\"AIDS\"],[\"Diabetes \"],[\"Gastroenteritis\"],[\"Bronchial Asthma\"],[\"Hypertension \"],[\"Migraine\"],[\"Cervical spondylosis\"],[\"Paralysis (brain hemorrhage)\"],[\"Jaundice\"],[\"Malaria\"],[\"Chicken pox\"],[\"Dengue\"],[\"Typhoid\"],[\"hepatitis A\"],[\"Hepatitis B\"],[\"Hepatitis C\"],[\"Hepatitis D\"],[\"Hepatitis E\"],[\"Alcoholic hepatitis\"],[\"Tuberculosis\"],[\"Common Cold\"],[\"Pneumonia\"],[\"Dimorphic hemmorhoids(piles)\"],[\"Heart attack\"],[\"Varicose veins\"],[\"Hypothyroidism\"],[\"Hyperthyroidism\"],[\"Hypoglycemia\"],[\"Osteoarthristis\"],[\"Arthritis\"],[\"(vertigo) Paroymsal  Positional Vertigo\"],[\"Acne\"],[\"Urinary tract infection\"],[\"Psoriasis\"],[\"Impetigo\"],[\"Fungal infection\"],[\"Allergy\"],[\"GERD\"],[\"Chronic cholestasis\"],[\"Drug Reaction\"],[\"Peptic ulcer diseae\"],[\"AIDS\"],[\"Diabetes \"],[\"Gastroenteritis\"],[\"Bronchial Asthma\"],[\"Hypertension \"],[\"Migraine\"],[\"Cervical spondylosis\"],[\"Paralysis (brain hemorrhage)\"],[\"Jaundice\"],[\"Malaria\"],[\"Chicken pox\"],[\"Dengue\"],[\"Typhoid\"],[\"hepatitis A\"],[\"Hepatitis B\"],[\"Hepatitis C\"],[\"Hepatitis D\"],[\"Hepatitis E\"],[\"Alcoholic hepatitis\"],[\"Tuberculosis\"],[\"Common Cold\"],[\"Pneumonia\"],[\"Dimorphic hemmorhoids(piles)\"],[\"Heart attack\"],[\"Varicose veins\"],[\"Hypothyroidism\"],[\"Hyperthyroidism\"],[\"Hypoglycemia\"],[\"Osteoarthristis\"],[\"Arthritis\"],[\"(vertigo) Paroymsal  Positional Vertigo\"],[\"Acne\"],[\"Urinary tract infection\"],[\"Psoriasis\"],[\"Impetigo\"],[\"Fungal infection\"],[\"Allergy\"],[\"GERD\"],[\"Chronic cholestasis\"],[\"Drug Reaction\"],[\"Peptic ulcer diseae\"],[\"AIDS\"],[\"Diabetes \"],[\"Gastroenteritis\"],[\"Bronchial Asthma\"],[\"Hypertension \"],[\"Migraine\"],[\"Cervical spondylosis\"],[\"Paralysis (brain hemorrhage)\"],[\"Jaundice\"],[\"Malaria\"],[\"Chicken pox\"],[\"Dengue\"],[\"Typhoid\"],[\"hepatitis A\"],[\"Hepatitis B\"],[\"Hepatitis C\"],[\"Hepatitis D\"],[\"Hepatitis E\"],[\"Alcoholic hepatitis\"],[\"Tuberculosis\"],[\"Common Cold\"],[\"Pneumonia\"],[\"Dimorphic hemmorhoids(piles)\"],[\"Heart attack\"],[\"Varicose veins\"],[\"Hypothyroidism\"],[\"Hyperthyroidism\"],[\"Hypoglycemia\"],[\"Osteoarthristis\"],[\"Arthritis\"],[\"(vertigo) Paroymsal  Positional Vertigo\"],[\"Acne\"],[\"Urinary tract infection\"],[\"Psoriasis\"],[\"Impetigo\"],[\"Fungal infection\"],[\"Allergy\"],[\"GERD\"],[\"Chronic cholestasis\"],[\"Drug Reaction\"],[\"Peptic ulcer diseae\"],[\"AIDS\"],[\"Diabetes \"],[\"Gastroenteritis\"],[\"Bronchial Asthma\"],[\"Hypertension \"],[\"Migraine\"],[\"Cervical spondylosis\"],[\"Paralysis (brain hemorrhage)\"],[\"Jaundice\"],[\"Malaria\"],[\"Chicken pox\"],[\"Dengue\"],[\"Typhoid\"],[\"hepatitis A\"],[\"Hepatitis B\"],[\"Hepatitis C\"],[\"Hepatitis D\"],[\"Hepatitis E\"],[\"Alcoholic hepatitis\"],[\"Tuberculosis\"],[\"Common Cold\"],[\"Pneumonia\"],[\"Dimorphic hemmorhoids(piles)\"],[\"Heart attack\"],[\"Varicose veins\"],[\"Hypothyroidism\"],[\"Hyperthyroidism\"],[\"Hypoglycemia\"],[\"Osteoarthristis\"],[\"Arthritis\"],[\"(vertigo) Paroymsal  Positional Vertigo\"],[\"Acne\"],[\"Urinary tract infection\"],[\"Psoriasis\"],[\"Impetigo\"],[\"Fungal infection\"],[\"Allergy\"],[\"GERD\"],[\"Chronic cholestasis\"],[\"Drug Reaction\"],[\"Peptic ulcer diseae\"],[\"AIDS\"],[\"Diabetes \"],[\"Gastroenteritis\"],[\"Bronchial Asthma\"],[\"Hypertension \"],[\"Migraine\"],[\"Cervical spondylosis\"],[\"Paralysis (brain hemorrhage)\"],[\"Jaundice\"],[\"Malaria\"],[\"Chicken pox\"],[\"Dengue\"],[\"Typhoid\"],[\"hepatitis A\"],[\"Hepatitis B\"],[\"Hepatitis C\"],[\"Hepatitis D\"],[\"Hepatitis E\"],[\"Alcoholic hepatitis\"],[\"Tuberculosis\"],[\"Common Cold\"],[\"Pneumonia\"],[\"Dimorphic hemmorhoids(piles)\"],[\"Heart attack\"],[\"Varicose veins\"],[\"Hypothyroidism\"],[\"Hyperthyroidism\"],[\"Hypoglycemia\"],[\"Osteoarthristis\"],[\"Arthritis\"],[\"(vertigo) Paroymsal  Positional Vertigo\"],[\"Acne\"],[\"Urinary tract infection\"],[\"Psoriasis\"],[\"Impetigo\"],[\"Fungal infection\"],[\"Allergy\"],[\"GERD\"],[\"Chronic cholestasis\"],[\"Drug Reaction\"],[\"Peptic ulcer diseae\"],[\"AIDS\"],[\"Diabetes \"],[\"Gastroenteritis\"],[\"Bronchial Asthma\"],[\"Hypertension \"],[\"Migraine\"],[\"Cervical spondylosis\"],[\"Paralysis (brain hemorrhage)\"],[\"Jaundice\"],[\"Malaria\"],[\"Chicken pox\"],[\"Dengue\"],[\"Typhoid\"],[\"hepatitis A\"],[\"Hepatitis B\"],[\"Hepatitis C\"],[\"Hepatitis D\"],[\"Hepatitis E\"],[\"Alcoholic hepatitis\"],[\"Tuberculosis\"],[\"Common Cold\"],[\"Pneumonia\"],[\"Dimorphic hemmorhoids(piles)\"],[\"Heart attack\"],[\"Varicose veins\"],[\"Hypothyroidism\"],[\"Hyperthyroidism\"],[\"Hypoglycemia\"],[\"Osteoarthristis\"],[\"Arthritis\"],[\"(vertigo) Paroymsal  Positional Vertigo\"],[\"Acne\"],[\"Urinary tract infection\"],[\"Psoriasis\"],[\"Impetigo\"],[\"Fungal infection\"],[\"Allergy\"],[\"GERD\"],[\"Chronic cholestasis\"],[\"Drug Reaction\"],[\"Peptic ulcer diseae\"],[\"AIDS\"],[\"Diabetes \"],[\"Gastroenteritis\"],[\"Bronchial Asthma\"],[\"Hypertension \"],[\"Migraine\"],[\"Cervical spondylosis\"],[\"Paralysis (brain hemorrhage)\"],[\"Jaundice\"],[\"Malaria\"],[\"Chicken pox\"],[\"Dengue\"],[\"Typhoid\"],[\"hepatitis A\"],[\"Hepatitis B\"],[\"Hepatitis C\"],[\"Hepatitis D\"],[\"Hepatitis E\"],[\"Alcoholic hepatitis\"],[\"Tuberculosis\"],[\"Common Cold\"],[\"Pneumonia\"],[\"Dimorphic hemmorhoids(piles)\"],[\"Heart attack\"],[\"Varicose veins\"],[\"Hypothyroidism\"],[\"Hyperthyroidism\"],[\"Hypoglycemia\"],[\"Osteoarthristis\"],[\"Arthritis\"],[\"(vertigo) Paroymsal  Positional Vertigo\"],[\"Acne\"],[\"Urinary tract infection\"],[\"Psoriasis\"],[\"Impetigo\"],[\"Fungal infection\"],[\"Allergy\"],[\"GERD\"],[\"Chronic cholestasis\"],[\"Drug Reaction\"],[\"Peptic ulcer diseae\"],[\"AIDS\"],[\"Diabetes \"],[\"Gastroenteritis\"],[\"Bronchial Asthma\"],[\"Hypertension \"],[\"Migraine\"],[\"Cervical spondylosis\"],[\"Paralysis (brain hemorrhage)\"],[\"Jaundice\"],[\"Malaria\"],[\"Chicken pox\"],[\"Dengue\"],[\"Typhoid\"],[\"hepatitis A\"],[\"Hepatitis B\"],[\"Hepatitis C\"],[\"Hepatitis D\"],[\"Hepatitis E\"],[\"Alcoholic hepatitis\"],[\"Tuberculosis\"],[\"Common Cold\"],[\"Pneumonia\"],[\"Dimorphic hemmorhoids(piles)\"],[\"Heart attack\"],[\"Varicose veins\"],[\"Hypothyroidism\"],[\"Hyperthyroidism\"],[\"Hypoglycemia\"],[\"Osteoarthristis\"],[\"Arthritis\"],[\"(vertigo) Paroymsal  Positional Vertigo\"],[\"Acne\"],[\"Urinary tract infection\"],[\"Psoriasis\"],[\"Impetigo\"],[\"Fungal infection\"],[\"Allergy\"],[\"GERD\"],[\"Chronic cholestasis\"],[\"Drug Reaction\"],[\"Peptic ulcer diseae\"],[\"AIDS\"],[\"Diabetes \"],[\"Gastroenteritis\"],[\"Bronchial Asthma\"],[\"Hypertension \"],[\"Migraine\"],[\"Cervical spondylosis\"],[\"Paralysis (brain hemorrhage)\"],[\"Jaundice\"],[\"Malaria\"],[\"Chicken pox\"],[\"Dengue\"],[\"Typhoid\"],[\"hepatitis A\"],[\"Hepatitis B\"],[\"Hepatitis C\"],[\"Hepatitis D\"],[\"Hepatitis E\"],[\"Alcoholic hepatitis\"],[\"Tuberculosis\"],[\"Common Cold\"],[\"Pneumonia\"],[\"Dimorphic hemmorhoids(piles)\"],[\"Heart attack\"],[\"Varicose veins\"],[\"Hypothyroidism\"],[\"Hyperthyroidism\"],[\"Hypoglycemia\"],[\"Osteoarthristis\"],[\"Arthritis\"],[\"(vertigo) Paroymsal  Positional Vertigo\"],[\"Acne\"],[\"Urinary tract infection\"],[\"Psoriasis\"],[\"Impetigo\"],[\"Fungal infection\"],[\"Allergy\"],[\"GERD\"],[\"Chronic cholestasis\"],[\"Drug Reaction\"],[\"Peptic ulcer diseae\"],[\"AIDS\"],[\"Diabetes \"],[\"Gastroenteritis\"],[\"Bronchial Asthma\"],[\"Hypertension \"],[\"Migraine\"],[\"Cervical spondylosis\"],[\"Paralysis (brain hemorrhage)\"],[\"Jaundice\"],[\"Malaria\"],[\"Chicken pox\"],[\"Dengue\"],[\"Typhoid\"],[\"hepatitis A\"],[\"Hepatitis B\"],[\"Hepatitis C\"],[\"Hepatitis D\"],[\"Hepatitis E\"],[\"Alcoholic hepatitis\"],[\"Tuberculosis\"],[\"Common Cold\"],[\"Pneumonia\"],[\"Dimorphic hemmorhoids(piles)\"],[\"Heart attack\"],[\"Varicose veins\"],[\"Hypothyroidism\"],[\"Hyperthyroidism\"],[\"Hypoglycemia\"],[\"Osteoarthristis\"],[\"Arthritis\"],[\"(vertigo) Paroymsal  Positional Vertigo\"],[\"Acne\"],[\"Urinary tract infection\"],[\"Psoriasis\"],[\"Impetigo\"],[\"Fungal infection\"],[\"Allergy\"],[\"GERD\"],[\"Chronic cholestasis\"],[\"Drug Reaction\"],[\"Peptic ulcer diseae\"],[\"AIDS\"],[\"Diabetes \"],[\"Gastroenteritis\"],[\"Bronchial Asthma\"],[\"Hypertension \"],[\"Migraine\"],[\"Cervical spondylosis\"],[\"Paralysis (brain hemorrhage)\"],[\"Jaundice\"],[\"Malaria\"],[\"Chicken pox\"],[\"Dengue\"],[\"Typhoid\"],[\"hepatitis A\"],[\"Hepatitis B\"],[\"Hepatitis C\"],[\"Hepatitis D\"],[\"Hepatitis E\"],[\"Alcoholic hepatitis\"],[\"Tuberculosis\"],[\"Common Cold\"],[\"Pneumonia\"],[\"Dimorphic hemmorhoids(piles)\"],[\"Heart attack\"],[\"Varicose veins\"],[\"Hypothyroidism\"],[\"Hyperthyroidism\"],[\"Hypoglycemia\"],[\"Osteoarthristis\"],[\"Arthritis\"],[\"(vertigo) Paroymsal  Positional Vertigo\"],[\"Acne\"],[\"Urinary tract infection\"],[\"Psoriasis\"],[\"Impetigo\"],[\"Fungal infection\"],[\"Allergy\"],[\"GERD\"],[\"Chronic cholestasis\"],[\"Drug Reaction\"],[\"Peptic ulcer diseae\"],[\"AIDS\"],[\"Diabetes \"],[\"Gastroenteritis\"],[\"Bronchial Asthma\"],[\"Hypertension \"],[\"Migraine\"],[\"Cervical spondylosis\"],[\"Paralysis (brain hemorrhage)\"],[\"Jaundice\"],[\"Malaria\"],[\"Chicken pox\"],[\"Dengue\"],[\"Typhoid\"],[\"hepatitis A\"],[\"Hepatitis B\"],[\"Hepatitis C\"],[\"Hepatitis D\"],[\"Hepatitis E\"],[\"Alcoholic hepatitis\"],[\"Tuberculosis\"],[\"Common Cold\"],[\"Pneumonia\"],[\"Dimorphic hemmorhoids(piles)\"],[\"Heart attack\"],[\"Varicose veins\"],[\"Hypothyroidism\"],[\"Hyperthyroidism\"],[\"Hypoglycemia\"],[\"Osteoarthristis\"],[\"Arthritis\"],[\"(vertigo) Paroymsal  Positional Vertigo\"],[\"Acne\"],[\"Urinary tract infection\"],[\"Psoriasis\"],[\"Impetigo\"],[\"Fungal infection\"],[\"Allergy\"],[\"GERD\"],[\"Chronic cholestasis\"],[\"Drug Reaction\"],[\"Peptic ulcer diseae\"],[\"AIDS\"],[\"Diabetes \"],[\"Gastroenteritis\"],[\"Bronchial Asthma\"],[\"Hypertension \"],[\"Migraine\"],[\"Cervical spondylosis\"],[\"Paralysis (brain hemorrhage)\"],[\"Jaundice\"],[\"Malaria\"],[\"Chicken pox\"],[\"Dengue\"],[\"Typhoid\"],[\"hepatitis A\"],[\"Hepatitis B\"],[\"Hepatitis C\"],[\"Hepatitis D\"],[\"Hepatitis E\"],[\"Alcoholic hepatitis\"],[\"Tuberculosis\"],[\"Common Cold\"],[\"Pneumonia\"],[\"Dimorphic hemmorhoids(piles)\"],[\"Heart attack\"],[\"Varicose veins\"],[\"Hypothyroidism\"],[\"Hyperthyroidism\"],[\"Hypoglycemia\"],[\"Osteoarthristis\"],[\"Arthritis\"],[\"(vertigo) Paroymsal  Positional Vertigo\"],[\"Acne\"],[\"Urinary tract infection\"],[\"Psoriasis\"],[\"Impetigo\"],[\"Fungal infection\"],[\"Allergy\"],[\"GERD\"],[\"Chronic cholestasis\"],[\"Drug Reaction\"],[\"Peptic ulcer diseae\"],[\"AIDS\"],[\"Diabetes \"],[\"Gastroenteritis\"],[\"Bronchial Asthma\"],[\"Hypertension \"],[\"Migraine\"],[\"Cervical spondylosis\"],[\"Paralysis (brain hemorrhage)\"],[\"Jaundice\"],[\"Malaria\"],[\"Chicken pox\"],[\"Dengue\"],[\"Typhoid\"],[\"hepatitis A\"],[\"Hepatitis B\"],[\"Hepatitis C\"],[\"Hepatitis D\"],[\"Hepatitis E\"],[\"Alcoholic hepatitis\"],[\"Tuberculosis\"],[\"Common Cold\"],[\"Pneumonia\"],[\"Dimorphic hemmorhoids(piles)\"],[\"Heart attack\"],[\"Varicose veins\"],[\"Hypothyroidism\"],[\"Hyperthyroidism\"],[\"Hypoglycemia\"],[\"Osteoarthristis\"],[\"Arthritis\"],[\"(vertigo) Paroymsal  Positional Vertigo\"],[\"Acne\"],[\"Urinary tract infection\"],[\"Psoriasis\"],[\"Impetigo\"],[\"Fungal infection\"],[\"Allergy\"],[\"GERD\"],[\"Chronic cholestasis\"],[\"Drug Reaction\"],[\"Peptic ulcer diseae\"],[\"AIDS\"],[\"Diabetes \"],[\"Gastroenteritis\"],[\"Bronchial Asthma\"],[\"Hypertension \"],[\"Migraine\"],[\"Cervical spondylosis\"],[\"Paralysis (brain hemorrhage)\"],[\"Jaundice\"],[\"Malaria\"],[\"Chicken pox\"],[\"Dengue\"],[\"Typhoid\"],[\"hepatitis A\"],[\"Hepatitis B\"],[\"Hepatitis C\"],[\"Hepatitis D\"],[\"Hepatitis E\"],[\"Alcoholic hepatitis\"],[\"Tuberculosis\"],[\"Common Cold\"],[\"Pneumonia\"],[\"Dimorphic hemmorhoids(piles)\"],[\"Heart attack\"],[\"Varicose veins\"],[\"Hypothyroidism\"],[\"Hyperthyroidism\"],[\"Hypoglycemia\"],[\"Osteoarthristis\"],[\"Arthritis\"],[\"(vertigo) Paroymsal  Positional Vertigo\"],[\"Acne\"],[\"Urinary tract infection\"],[\"Psoriasis\"],[\"Impetigo\"],[\"Fungal infection\"],[\"Allergy\"],[\"GERD\"],[\"Chronic cholestasis\"],[\"Drug Reaction\"],[\"Peptic ulcer diseae\"],[\"AIDS\"],[\"Diabetes \"],[\"Gastroenteritis\"],[\"Bronchial Asthma\"],[\"Hypertension \"],[\"Migraine\"],[\"Cervical spondylosis\"],[\"Paralysis (brain hemorrhage)\"],[\"Jaundice\"],[\"Malaria\"],[\"Chicken pox\"],[\"Dengue\"],[\"Typhoid\"],[\"hepatitis A\"],[\"Hepatitis B\"],[\"Hepatitis C\"],[\"Hepatitis D\"],[\"Hepatitis E\"],[\"Alcoholic hepatitis\"],[\"Tuberculosis\"],[\"Common Cold\"],[\"Pneumonia\"],[\"Dimorphic hemmorhoids(piles)\"],[\"Heart attack\"],[\"Varicose veins\"],[\"Hypothyroidism\"],[\"Hyperthyroidism\"],[\"Hypoglycemia\"],[\"Osteoarthristis\"],[\"Arthritis\"],[\"(vertigo) Paroymsal  Positional Vertigo\"],[\"Acne\"],[\"Urinary tract infection\"],[\"Psoriasis\"],[\"Impetigo\"],[\"Fungal infection\"],[\"Allergy\"],[\"GERD\"],[\"Chronic cholestasis\"],[\"Drug Reaction\"],[\"Peptic ulcer diseae\"],[\"AIDS\"],[\"Diabetes \"],[\"Gastroenteritis\"],[\"Bronchial Asthma\"],[\"Hypertension \"],[\"Migraine\"],[\"Cervical spondylosis\"],[\"Paralysis (brain hemorrhage)\"],[\"Jaundice\"],[\"Malaria\"],[\"Chicken pox\"],[\"Dengue\"],[\"Typhoid\"],[\"hepatitis A\"],[\"Hepatitis B\"],[\"Hepatitis C\"],[\"Hepatitis D\"],[\"Hepatitis E\"],[\"Alcoholic hepatitis\"],[\"Tuberculosis\"],[\"Common Cold\"],[\"Pneumonia\"],[\"Dimorphic hemmorhoids(piles)\"],[\"Heart attack\"],[\"Varicose veins\"],[\"Hypothyroidism\"],[\"Hyperthyroidism\"],[\"Hypoglycemia\"],[\"Osteoarthristis\"],[\"Arthritis\"],[\"(vertigo) Paroymsal  Positional Vertigo\"],[\"Acne\"],[\"Urinary tract infection\"],[\"Psoriasis\"],[\"Impetigo\"],[\"Fungal infection\"],[\"Allergy\"],[\"GERD\"],[\"Chronic cholestasis\"],[\"Drug Reaction\"],[\"Peptic ulcer diseae\"],[\"AIDS\"],[\"Diabetes \"],[\"Gastroenteritis\"],[\"Bronchial Asthma\"],[\"Hypertension \"],[\"Migraine\"],[\"Cervical spondylosis\"],[\"Paralysis (brain hemorrhage)\"],[\"Jaundice\"],[\"Malaria\"],[\"Chicken pox\"],[\"Dengue\"],[\"Typhoid\"],[\"hepatitis A\"],[\"Hepatitis B\"],[\"Hepatitis C\"],[\"Hepatitis D\"],[\"Hepatitis E\"],[\"Alcoholic hepatitis\"],[\"Tuberculosis\"],[\"Common Cold\"],[\"Pneumonia\"],[\"Dimorphic hemmorhoids(piles)\"],[\"Heart attack\"],[\"Varicose veins\"],[\"Hypothyroidism\"],[\"Hyperthyroidism\"],[\"Hypoglycemia\"],[\"Osteoarthristis\"],[\"Arthritis\"],[\"(vertigo) Paroymsal  Positional Vertigo\"],[\"Acne\"],[\"Urinary tract infection\"],[\"Psoriasis\"],[\"Impetigo\"],[\"Fungal infection\"],[\"Allergy\"],[\"GERD\"],[\"Chronic cholestasis\"],[\"Drug Reaction\"],[\"Peptic ulcer diseae\"],[\"AIDS\"],[\"Diabetes \"],[\"Gastroenteritis\"],[\"Bronchial Asthma\"],[\"Hypertension \"],[\"Migraine\"],[\"Cervical spondylosis\"],[\"Paralysis (brain hemorrhage)\"],[\"Jaundice\"],[\"Malaria\"],[\"Chicken pox\"],[\"Dengue\"],[\"Typhoid\"],[\"hepatitis A\"],[\"Hepatitis B\"],[\"Hepatitis C\"],[\"Hepatitis D\"],[\"Hepatitis E\"],[\"Alcoholic hepatitis\"],[\"Tuberculosis\"],[\"Common Cold\"],[\"Pneumonia\"],[\"Dimorphic hemmorhoids(piles)\"],[\"Heart attack\"],[\"Varicose veins\"],[\"Hypothyroidism\"],[\"Hyperthyroidism\"],[\"Hypoglycemia\"],[\"Osteoarthristis\"],[\"Arthritis\"],[\"(vertigo) Paroymsal  Positional Vertigo\"],[\"Acne\"],[\"Urinary tract infection\"],[\"Psoriasis\"],[\"Impetigo\"],[\"Fungal infection\"],[\"Allergy\"],[\"GERD\"],[\"Chronic cholestasis\"],[\"Drug Reaction\"],[\"Peptic ulcer diseae\"],[\"AIDS\"],[\"Diabetes \"],[\"Gastroenteritis\"],[\"Bronchial Asthma\"],[\"Hypertension \"],[\"Migraine\"],[\"Cervical spondylosis\"],[\"Paralysis (brain hemorrhage)\"],[\"Jaundice\"],[\"Malaria\"],[\"Chicken pox\"],[\"Dengue\"],[\"Typhoid\"],[\"hepatitis A\"],[\"Hepatitis B\"],[\"Hepatitis C\"],[\"Hepatitis D\"],[\"Hepatitis E\"],[\"Alcoholic hepatitis\"],[\"Tuberculosis\"],[\"Common Cold\"],[\"Pneumonia\"],[\"Dimorphic hemmorhoids(piles)\"],[\"Heart attack\"],[\"Varicose veins\"],[\"Hypothyroidism\"],[\"Hyperthyroidism\"],[\"Hypoglycemia\"],[\"Osteoarthristis\"],[\"Arthritis\"],[\"(vertigo) Paroymsal  Positional Vertigo\"],[\"Acne\"],[\"Urinary tract infection\"],[\"Psoriasis\"],[\"Impetigo\"],[\"Fungal infection\"],[\"Allergy\"],[\"GERD\"],[\"Chronic cholestasis\"],[\"Drug Reaction\"],[\"Peptic ulcer diseae\"],[\"AIDS\"],[\"Diabetes \"],[\"Gastroenteritis\"],[\"Bronchial Asthma\"],[\"Hypertension \"],[\"Migraine\"],[\"Cervical spondylosis\"],[\"Paralysis (brain hemorrhage)\"],[\"Jaundice\"],[\"Malaria\"],[\"Chicken pox\"],[\"Dengue\"],[\"Typhoid\"],[\"hepatitis A\"],[\"Hepatitis B\"],[\"Hepatitis C\"],[\"Hepatitis D\"],[\"Hepatitis E\"],[\"Alcoholic hepatitis\"],[\"Tuberculosis\"],[\"Common Cold\"],[\"Pneumonia\"],[\"Dimorphic hemmorhoids(piles)\"],[\"Heart attack\"],[\"Varicose veins\"],[\"Hypothyroidism\"],[\"Hyperthyroidism\"],[\"Hypoglycemia\"],[\"Osteoarthristis\"],[\"Arthritis\"],[\"(vertigo) Paroymsal  Positional Vertigo\"],[\"Acne\"],[\"Urinary tract infection\"],[\"Psoriasis\"],[\"Impetigo\"],[\"Fungal infection\"],[\"Allergy\"],[\"GERD\"],[\"Chronic cholestasis\"],[\"Drug Reaction\"],[\"Peptic ulcer diseae\"],[\"AIDS\"],[\"Diabetes \"],[\"Gastroenteritis\"],[\"Bronchial Asthma\"],[\"Hypertension \"],[\"Migraine\"],[\"Cervical spondylosis\"],[\"Paralysis (brain hemorrhage)\"],[\"Jaundice\"],[\"Malaria\"],[\"Chicken pox\"],[\"Dengue\"],[\"Typhoid\"],[\"hepatitis A\"],[\"Hepatitis B\"],[\"Hepatitis C\"],[\"Hepatitis D\"],[\"Hepatitis E\"],[\"Alcoholic hepatitis\"],[\"Tuberculosis\"],[\"Common Cold\"],[\"Pneumonia\"],[\"Dimorphic hemmorhoids(piles)\"],[\"Heart attack\"],[\"Varicose veins\"],[\"Hypothyroidism\"],[\"Hyperthyroidism\"],[\"Hypoglycemia\"],[\"Osteoarthristis\"],[\"Arthritis\"],[\"(vertigo) Paroymsal  Positional Vertigo\"],[\"Acne\"],[\"Urinary tract infection\"],[\"Psoriasis\"],[\"Impetigo\"],[\"Fungal infection\"],[\"Allergy\"],[\"GERD\"],[\"Chronic cholestasis\"],[\"Drug Reaction\"],[\"Peptic ulcer diseae\"],[\"AIDS\"],[\"Diabetes \"],[\"Gastroenteritis\"],[\"Bronchial Asthma\"],[\"Hypertension \"],[\"Migraine\"],[\"Cervical spondylosis\"],[\"Paralysis (brain hemorrhage)\"],[\"Jaundice\"],[\"Malaria\"],[\"Chicken pox\"],[\"Dengue\"],[\"Typhoid\"],[\"hepatitis A\"],[\"Hepatitis B\"],[\"Hepatitis C\"],[\"Hepatitis D\"],[\"Hepatitis E\"],[\"Alcoholic hepatitis\"],[\"Tuberculosis\"],[\"Common Cold\"],[\"Pneumonia\"],[\"Dimorphic hemmorhoids(piles)\"],[\"Heart attack\"],[\"Varicose veins\"],[\"Hypothyroidism\"],[\"Hyperthyroidism\"],[\"Hypoglycemia\"],[\"Osteoarthristis\"],[\"Arthritis\"],[\"(vertigo) Paroymsal  Positional Vertigo\"],[\"Acne\"],[\"Urinary tract infection\"],[\"Psoriasis\"],[\"Impetigo\"],[\"Fungal infection\"],[\"Allergy\"],[\"GERD\"],[\"Chronic cholestasis\"],[\"Drug Reaction\"],[\"Peptic ulcer diseae\"],[\"AIDS\"],[\"Diabetes \"],[\"Gastroenteritis\"],[\"Bronchial Asthma\"],[\"Hypertension \"],[\"Migraine\"],[\"Cervical spondylosis\"],[\"Paralysis (brain hemorrhage)\"],[\"Jaundice\"],[\"Malaria\"],[\"Chicken pox\"],[\"Dengue\"],[\"Typhoid\"],[\"hepatitis A\"],[\"Hepatitis B\"],[\"Hepatitis C\"],[\"Hepatitis D\"],[\"Hepatitis E\"],[\"Alcoholic hepatitis\"],[\"Tuberculosis\"],[\"Common Cold\"],[\"Pneumonia\"],[\"Dimorphic hemmorhoids(piles)\"],[\"Heart attack\"],[\"Varicose veins\"],[\"Hypothyroidism\"],[\"Hyperthyroidism\"],[\"Hypoglycemia\"],[\"Osteoarthristis\"],[\"Arthritis\"],[\"(vertigo) Paroymsal  Positional Vertigo\"],[\"Acne\"],[\"Urinary tract infection\"],[\"Psoriasis\"],[\"Impetigo\"],[\"Fungal infection\"],[\"Allergy\"],[\"GERD\"],[\"Chronic cholestasis\"],[\"Drug Reaction\"],[\"Peptic ulcer diseae\"],[\"AIDS\"],[\"Diabetes \"],[\"Gastroenteritis\"],[\"Bronchial Asthma\"],[\"Hypertension \"],[\"Migraine\"],[\"Cervical spondylosis\"],[\"Paralysis (brain hemorrhage)\"],[\"Jaundice\"],[\"Malaria\"],[\"Chicken pox\"],[\"Dengue\"],[\"Typhoid\"],[\"hepatitis A\"],[\"Hepatitis B\"],[\"Hepatitis C\"],[\"Hepatitis D\"],[\"Hepatitis E\"],[\"Alcoholic hepatitis\"],[\"Tuberculosis\"],[\"Common Cold\"],[\"Pneumonia\"],[\"Dimorphic hemmorhoids(piles)\"],[\"Heart attack\"],[\"Varicose veins\"],[\"Hypothyroidism\"],[\"Hyperthyroidism\"],[\"Hypoglycemia\"],[\"Osteoarthristis\"],[\"Arthritis\"],[\"(vertigo) Paroymsal  Positional Vertigo\"],[\"Acne\"],[\"Urinary tract infection\"],[\"Psoriasis\"],[\"Impetigo\"],[\"Fungal infection\"],[\"Allergy\"],[\"GERD\"],[\"Chronic cholestasis\"],[\"Drug Reaction\"],[\"Peptic ulcer diseae\"],[\"AIDS\"],[\"Diabetes \"],[\"Gastroenteritis\"],[\"Bronchial Asthma\"],[\"Hypertension \"],[\"Migraine\"],[\"Cervical spondylosis\"],[\"Paralysis (brain hemorrhage)\"],[\"Jaundice\"],[\"Malaria\"],[\"Chicken pox\"],[\"Dengue\"],[\"Typhoid\"],[\"hepatitis A\"],[\"Hepatitis B\"],[\"Hepatitis C\"],[\"Hepatitis D\"],[\"Hepatitis E\"],[\"Alcoholic hepatitis\"],[\"Tuberculosis\"],[\"Common Cold\"],[\"Pneumonia\"],[\"Dimorphic hemmorhoids(piles)\"],[\"Heart attack\"],[\"Varicose veins\"],[\"Hypothyroidism\"],[\"Hyperthyroidism\"],[\"Hypoglycemia\"],[\"Osteoarthristis\"],[\"Arthritis\"],[\"(vertigo) Paroymsal  Positional Vertigo\"],[\"Acne\"],[\"Urinary tract infection\"],[\"Psoriasis\"],[\"Impetigo\"],[\"Fungal infection\"],[\"Allergy\"],[\"GERD\"],[\"Chronic cholestasis\"],[\"Drug Reaction\"],[\"Peptic ulcer diseae\"],[\"AIDS\"],[\"Diabetes \"],[\"Gastroenteritis\"],[\"Bronchial Asthma\"],[\"Hypertension \"],[\"Migraine\"],[\"Cervical spondylosis\"],[\"Paralysis (brain hemorrhage)\"],[\"Jaundice\"],[\"Malaria\"],[\"Chicken pox\"],[\"Dengue\"],[\"Typhoid\"],[\"hepatitis A\"],[\"Hepatitis B\"],[\"Hepatitis C\"],[\"Hepatitis D\"],[\"Hepatitis E\"],[\"Alcoholic hepatitis\"],[\"Tuberculosis\"],[\"Common Cold\"],[\"Pneumonia\"],[\"Dimorphic hemmorhoids(piles)\"],[\"Heart attack\"],[\"Varicose veins\"],[\"Hypothyroidism\"],[\"Hyperthyroidism\"],[\"Hypoglycemia\"],[\"Osteoarthristis\"],[\"Arthritis\"],[\"(vertigo) Paroymsal  Positional Vertigo\"],[\"Acne\"],[\"Urinary tract infection\"],[\"Psoriasis\"],[\"Impetigo\"],[\"Fungal infection\"],[\"Allergy\"],[\"GERD\"],[\"Chronic cholestasis\"],[\"Drug Reaction\"],[\"Peptic ulcer diseae\"],[\"AIDS\"],[\"Diabetes \"],[\"Gastroenteritis\"],[\"Bronchial Asthma\"],[\"Hypertension \"],[\"Migraine\"],[\"Cervical spondylosis\"],[\"Paralysis (brain hemorrhage)\"],[\"Jaundice\"],[\"Malaria\"],[\"Chicken pox\"],[\"Dengue\"],[\"Typhoid\"],[\"hepatitis A\"],[\"Hepatitis B\"],[\"Hepatitis C\"],[\"Hepatitis D\"],[\"Hepatitis E\"],[\"Alcoholic hepatitis\"],[\"Tuberculosis\"],[\"Common Cold\"],[\"Pneumonia\"],[\"Dimorphic hemmorhoids(piles)\"],[\"Heart attack\"],[\"Varicose veins\"],[\"Hypothyroidism\"],[\"Hyperthyroidism\"],[\"Hypoglycemia\"],[\"Osteoarthristis\"],[\"Arthritis\"],[\"(vertigo) Paroymsal  Positional Vertigo\"],[\"Acne\"],[\"Urinary tract infection\"],[\"Psoriasis\"],[\"Impetigo\"],[\"Fungal infection\"],[\"Allergy\"],[\"GERD\"],[\"Chronic cholestasis\"],[\"Drug Reaction\"],[\"Peptic ulcer diseae\"],[\"AIDS\"],[\"Diabetes \"],[\"Gastroenteritis\"],[\"Bronchial Asthma\"],[\"Hypertension \"],[\"Migraine\"],[\"Cervical spondylosis\"],[\"Paralysis (brain hemorrhage)\"],[\"Jaundice\"],[\"Malaria\"],[\"Chicken pox\"],[\"Dengue\"],[\"Typhoid\"],[\"hepatitis A\"],[\"Hepatitis B\"],[\"Hepatitis C\"],[\"Hepatitis D\"],[\"Hepatitis E\"],[\"Alcoholic hepatitis\"],[\"Tuberculosis\"],[\"Common Cold\"],[\"Pneumonia\"],[\"Dimorphic hemmorhoids(piles)\"],[\"Heart attack\"],[\"Varicose veins\"],[\"Hypothyroidism\"],[\"Hyperthyroidism\"],[\"Hypoglycemia\"],[\"Osteoarthristis\"],[\"Arthritis\"],[\"(vertigo) Paroymsal  Positional Vertigo\"],[\"Acne\"],[\"Urinary tract infection\"],[\"Psoriasis\"],[\"Impetigo\"],[\"Fungal infection\"],[\"Allergy\"],[\"GERD\"],[\"Chronic cholestasis\"],[\"Drug Reaction\"],[\"Peptic ulcer diseae\"],[\"AIDS\"],[\"Diabetes \"],[\"Gastroenteritis\"],[\"Bronchial Asthma\"],[\"Hypertension \"],[\"Migraine\"],[\"Cervical spondylosis\"],[\"Paralysis (brain hemorrhage)\"],[\"Jaundice\"],[\"Malaria\"],[\"Chicken pox\"],[\"Dengue\"],[\"Typhoid\"],[\"hepatitis A\"],[\"Hepatitis B\"],[\"Hepatitis C\"],[\"Hepatitis D\"],[\"Hepatitis E\"],[\"Alcoholic hepatitis\"],[\"Tuberculosis\"],[\"Common Cold\"],[\"Pneumonia\"],[\"Dimorphic hemmorhoids(piles)\"],[\"Heart attack\"],[\"Varicose veins\"],[\"Hypothyroidism\"],[\"Hyperthyroidism\"],[\"Hypoglycemia\"],[\"Osteoarthristis\"],[\"Arthritis\"],[\"(vertigo) Paroymsal  Positional Vertigo\"],[\"Acne\"],[\"Urinary tract infection\"],[\"Psoriasis\"],[\"Impetigo\"],[\"Fungal infection\"],[\"Allergy\"],[\"GERD\"],[\"Chronic cholestasis\"],[\"Drug Reaction\"],[\"Peptic ulcer diseae\"],[\"AIDS\"],[\"Diabetes \"],[\"Gastroenteritis\"],[\"Bronchial Asthma\"],[\"Hypertension \"],[\"Migraine\"],[\"Cervical spondylosis\"],[\"Paralysis (brain hemorrhage)\"],[\"Jaundice\"],[\"Malaria\"],[\"Chicken pox\"],[\"Dengue\"],[\"Typhoid\"],[\"hepatitis A\"],[\"Hepatitis B\"],[\"Hepatitis C\"],[\"Hepatitis D\"],[\"Hepatitis E\"],[\"Alcoholic hepatitis\"],[\"Tuberculosis\"],[\"Common Cold\"],[\"Pneumonia\"],[\"Dimorphic hemmorhoids(piles)\"],[\"Heart attack\"],[\"Varicose veins\"],[\"Hypothyroidism\"],[\"Hyperthyroidism\"],[\"Hypoglycemia\"],[\"Osteoarthristis\"],[\"Arthritis\"],[\"(vertigo) Paroymsal  Positional Vertigo\"],[\"Acne\"],[\"Urinary tract infection\"],[\"Psoriasis\"],[\"Impetigo\"],[\"Fungal infection\"],[\"Allergy\"],[\"GERD\"],[\"Chronic cholestasis\"],[\"Drug Reaction\"],[\"Peptic ulcer diseae\"],[\"AIDS\"],[\"Diabetes \"],[\"Gastroenteritis\"],[\"Bronchial Asthma\"],[\"Hypertension \"],[\"Migraine\"],[\"Cervical spondylosis\"],[\"Paralysis (brain hemorrhage)\"],[\"Jaundice\"],[\"Malaria\"],[\"Chicken pox\"],[\"Dengue\"],[\"Typhoid\"],[\"hepatitis A\"],[\"Hepatitis B\"],[\"Hepatitis C\"],[\"Hepatitis D\"],[\"Hepatitis E\"],[\"Alcoholic hepatitis\"],[\"Tuberculosis\"],[\"Common Cold\"],[\"Pneumonia\"],[\"Dimorphic hemmorhoids(piles)\"],[\"Heart attack\"],[\"Varicose veins\"],[\"Hypothyroidism\"],[\"Hyperthyroidism\"],[\"Hypoglycemia\"],[\"Osteoarthristis\"],[\"Arthritis\"],[\"(vertigo) Paroymsal  Positional Vertigo\"],[\"Acne\"],[\"Urinary tract infection\"],[\"Psoriasis\"],[\"Impetigo\"]],\"hovertemplate\":\"TSNE Component 1=%{x}\\u003cbr\\u003eTSNE Component 2=%{y}\\u003cbr\\u003eDisease=%{customdata[0]}\\u003cbr\\u003eCluster=%{marker.color}\\u003cextra\\u003e\\u003c\\u002fextra\\u003e\",\"legendgroup\":\"\",\"marker\":{\"color\":[29,29,29,29,29,29,29,29,29,29,9,9,9,9,9,9,9,9,9,9,32,32,32,32,32,32,32,32,32,32,24,24,24,24,24,37,24,37,24,24,0,0,0,0,0,0,0,0,0,0,37,37,37,37,37,37,37,37,37,37,4,4,4,4,4,4,4,4,4,4,17,17,17,17,17,17,17,17,17,17,7,7,7,7,7,7,7,7,7,7,33,33,33,33,33,33,33,33,33,33,34,34,34,34,34,39,34,34,34,34,23,23,23,23,23,23,23,23,23,23,20,20,20,20,20,20,20,20,20,20,28,28,28,28,7,28,28,28,28,7,3,3,3,3,3,3,3,3,3,3,12,12,12,12,12,12,12,12,12,12,8,8,8,8,8,8,8,8,8,8,14,14,14,14,14,14,14,14,14,14,25,25,25,25,25,3,25,25,25,25,38,38,38,38,38,38,38,18,38,38,1,1,1,1,1,1,1,1,1,1,40,40,40,40,40,40,40,40,40,40,18,18,18,18,18,18,18,18,18,18,31,31,31,31,31,31,31,31,31,31,15,15,15,15,15,15,15,15,15,15,19,19,19,19,19,19,19,19,19,19,5,5,5,5,5,5,5,5,5,5,22,22,22,22,22,22,22,22,22,22,26,26,26,26,34,34,26,26,26,26,36,36,36,36,36,36,36,36,36,36,21,21,21,21,21,21,21,21,21,21,10,10,10,10,10,10,10,10,10,10,2,2,2,2,2,2,2,2,2,2,6,6,6,6,6,6,6,6,6,6,13,13,13,13,13,13,13,13,13,13,11,11,11,11,11,11,11,11,11,11,39,39,39,39,39,39,36,39,39,39,35,35,35,36,35,35,35,35,35,36,30,30,30,30,0,0,30,0,30,0,16,16,16,16,16,16,16,16,16,16,27,27,27,27,27,27,33,27,27,27,29,29,29,29,29,29,29,29,29,29,9,9,9,9,9,9,9,9,9,9,32,32,32,32,32,32,32,32,32,32,24,24,24,24,24,37,24,37,24,24,0,0,0,0,0,0,0,0,0,0,37,37,37,37,37,37,37,37,37,37,4,4,4,4,4,4,4,4,4,4,17,17,17,17,17,17,17,17,17,17,7,7,7,7,7,7,7,7,7,7,33,33,33,33,33,33,33,33,33,33,34,34,34,34,34,39,34,34,34,34,23,23,23,23,23,23,23,23,23,23,20,20,20,20,20,20,20,20,20,20,28,28,28,28,7,28,28,28,28,7,3,3,3,3,3,3,3,3,3,3,12,12,12,12,12,12,12,12,12,12,8,8,8,8,8,8,8,8,8,8,14,14,14,14,14,14,14,14,14,14,25,25,25,25,25,3,25,25,25,25,38,38,38,38,38,38,38,18,38,38,1,1,1,1,1,1,1,1,1,1,40,40,40,40,40,40,40,40,40,40,18,18,18,18,18,18,18,18,18,18,31,31,31,31,31,31,31,31,31,31,15,15,15,15,15,15,15,15,15,15,19,19,19,19,19,19,19,19,19,19,5,5,5,5,5,5,5,5,5,5,22,22,22,22,22,22,22,22,22,22,26,26,26,26,34,34,26,26,26,26,36,36,36,36,36,36,36,36,36,36,21,21,21,21,21,21,21,21,21,21,10,10,10,10,10,10,10,10,10,10,2,2,2,2,2,2,2,2,2,2,6,6,6,6,6,6,6,6,6,6,13,13,13,13,13,13,13,13,13,13,11,11,11,11,11,11,11,11,11,11,39,39,39,39,39,39,36,39,39,39,35,35,35,36,35,35,35,35,35,36,30,30,30,30,0,0,30,0,30,0,16,16,16,16,16,16,16,16,16,16,27,27,27,27,27,27,33,27,27,27,29,29,29,29,29,29,29,29,29,29,9,9,9,9,9,9,9,9,9,9,32,32,32,32,32,32,32,32,32,32,24,24,24,24,24,37,24,37,24,24,0,0,0,0,0,0,0,0,0,0,37,37,37,37,37,37,37,37,37,37,4,4,4,4,4,4,4,4,4,4,17,17,17,17,17,17,17,17,17,17,7,7,7,7,7,7,7,7,7,7,33,33,33,33,33,33,33,33,33,33,34,34,34,34,34,39,34,34,34,34,23,23,23,23,23,23,23,23,23,23,20,20,20,20,20,20,20,20,20,20,28,28,28,28,7,28,28,28,28,7,3,3,3,3,3,3,3,3,3,3,12,12,12,12,12,12,12,12,12,12,8,8,8,8,8,8,8,8,8,8,14,14,14,14,14,14,14,14,14,14,25,25,25,25,25,3,25,25,25,25,38,38,38,38,38,38,38,18,38,38,1,1,1,1,1,1,1,1,1,1,40,40,40,40,40,40,40,40,40,40,18,18,18,18,18,18,18,18,18,18,31,31,31,31,31,31,31,31,31,31,15,15,15,15,15,15,15,15,15,15,19,19,19,19,19,19,19,19,19,19,5,5,5,5,5,5,5,5,5,5,22,22,22,22,22,22,22,22,22,22,26,26,26,26,34,34,26,26,26,26,36,36,36,36,36,36,36,36,36,36,21,21,21,21,21,21,21,21,21,21,10,10,10,10,10,10,10,10,10,10,2,2,2,2,2,2,2,2,2,2,6,6,6,6,6,6,6,6,6,6,13,13,13,13,13,13,13,13,13,13,11,11,11,11,11,11,11,11,11,11,39,39,39,39,39,39,36,39,39,39,35,35,35,36,35,35,35,35,35,36,30,30,30,30,0,0,30,0,30,0,16,16,16,16,16,16,16,16,16,16,27,27,27,27,27,27,33,27,27,27,29,29,29,29,29,29,29,29,29,29,9,9,9,9,9,9,9,9,9,9,32,32,32,32,32,32,32,32,32,32,24,24,24,24,24,37,24,37,24,24,0,0,0,0,0,0,0,0,0,0,37,37,37,37,37,37,37,37,37,37,4,4,4,4,4,4,4,4,4,4,17,17,17,17,17,17,17,17,17,17,7,7,7,7,7,7,7,7,7,7,33,33,33,33,33,33,33,33,33,33,34,34,34,34,34,39,34,34,34,34,23,23,23,23,23,23,23,23,23,23,20,20,20,20,20,20,20,20,20,20,28,28,28,28,7,28,28,28,28,7,3,3,3,3,3,3,3,3,3,3,12,12,12,12,12,12,12,12,12,12,8,8,8,8,8,8,8,8,8,8,14,14,14,14,14,14,14,14,14,14,25,25,25,25,25,3,25,25,25,25,38,38,38,38,38,38,38,18,38,38,1,1,1,1,1,1,1,1,1,1,40,40,40,40,40,40,40,40,40,40,18,18,18,18,18,18,18,18,18,18,31,31,31,31,31,31,31,31,31,31,15,15,15,15,15,15,15,15,15,15,19,19,19,19,19,19,19,19,19,19,5,5,5,5,5,5,5,5,5,5,22,22,22,22,22,22,22,22,22,22,26,26,26,26,34,34,26,26,26,26,36,36,36,36,36,36,36,36,36,36,21,21,21,21,21,21,21,21,21,21,10,10,10,10,10,10,10,10,10,10,2,2,2,2,2,2,2,2,2,2,6,6,6,6,6,6,6,6,6,6,13,13,13,13,13,13,13,13,13,13,11,11,11,11,11,11,11,11,11,11,39,39,39,39,39,39,36,39,39,39,35,35,35,36,35,35,35,35,35,36,30,30,30,30,0,0,30,0,30,0,16,16,16,16,16,16,16,16,16,16,27,27,27,27,27,27,33,27,27,27,29,29,29,29,29,29,29,29,29,29,9,9,9,9,9,9,9,9,9,9,32,32,32,32,32,32,32,32,32,32,24,24,24,24,24,37,24,37,24,24,0,0,0,0,0,0,0,0,0,0,37,37,37,37,37,37,37,37,37,37,4,4,4,4,4,4,4,4,4,4,17,17,17,17,17,17,17,17,17,17,7,7,7,7,7,7,7,7,7,7,33,33,33,33,33,33,33,33,33,33,34,34,34,34,34,39,34,34,34,34,23,23,23,23,23,23,23,23,23,23,20,20,20,20,20,20,20,20,20,20,28,28,28,28,7,28,28,28,28,7,3,3,3,3,3,3,3,3,3,3,12,12,12,12,12,12,12,12,12,12,8,8,8,8,8,8,8,8,8,8,14,14,14,14,14,14,14,14,14,14,25,25,25,25,25,3,25,25,25,25,38,38,38,38,38,38,38,18,38,38,1,1,1,1,1,1,1,1,1,1,40,40,40,40,40,40,40,40,40,40,18,18,18,18,18,18,18,18,18,18,31,31,31,31,31,31,31,31,31,31,15,15,15,15,15,15,15,15,15,15,19,19,19,19,19,19,19,19,19,19,5,5,5,5,5,5,5,5,5,5,22,22,22,22,22,22,22,22,22,22,26,26,26,26,34,34,26,26,26,26,36,36,36,36,36,36,36,36,36,36,21,21,21,21,21,21,21,21,21,21,10,10,10,10,10,10,10,10,10,10,2,2,2,2,2,2,2,2,2,2,6,6,6,6,6,6,6,6,6,6,13,13,13,13,13,13,13,13,13,13,11,11,11,11,11,11,11,11,11,11,39,39,39,39,39,39,36,39,39,39,35,35,35,36,35,35,35,35,35,36,30,30,30,30,0,0,30,0,30,0,16,16,16,16,16,16,16,16,16,16,27,27,27,27,27,27,33,27,27,27,29,29,29,29,29,29,29,29,29,29,9,9,9,9,9,9,9,9,9,9,32,32,32,32,32,32,32,32,32,32,24,24,24,24,24,37,24,37,24,24,0,0,0,0,0,0,0,0,0,0,37,37,37,37,37,37,37,37,37,37,4,4,4,4,4,4,4,4,4,4,17,17,17,17,17,17,17,17,17,17,7,7,7,7,7,7,7,7,7,7,33,33,33,33,33,33,33,33,33,33,34,34,34,34,34,39,34,34,34,34,23,23,23,23,23,23,23,23,23,23,20,20,20,20,20,20,20,20,20,20,28,28,28,28,7,28,28,28,28,7,3,3,3,3,3,3,3,3,3,3,12,12,12,12,12,12,12,12,12,12,8,8,8,8,8,8,8,8,8,8,14,14,14,14,14,14,14,14,14,14,25,25,25,25,25,3,25,25,25,25,38,38,38,38,38,38,38,18,38,38,1,1,1,1,1,1,1,1,1,1,40,40,40,40,40,40,40,40,40,40,18,18,18,18,18,18,18,18,18,18,31,31,31,31,31,31,31,31,31,31,15,15,15,15,15,15,15,15,15,15,19,19,19,19,19,19,19,19,19,19,5,5,5,5,5,5,5,5,5,5,22,22,22,22,22,22,22,22,22,22,26,26,26,26,34,34,26,26,26,26,36,36,36,36,36,36,36,36,36,36,21,21,21,21,21,21,21,21,21,21,10,10,10,10,10,10,10,10,10,10,2,2,2,2,2,2,2,2,2,2,6,6,6,6,6,6,6,6,6,6,13,13,13,13,13,13,13,13,13,13,11,11,11,11,11,11,11,11,11,11,39,39,39,39,39,39,36,39,39,39,35,35,35,36,35,35,35,35,35,36,30,30,30,30,0,0,30,0,30,0,16,16,16,16,16,16,16,16,16,16,27,27,27,27,27,27,33,27,27,27,29,9,32,24,0,37,4,17,7,33,34,23,20,28,3,12,8,14,25,38,1,40,18,31,15,19,5,22,26,36,21,10,2,6,13,11,39,35,30,16,27,29,9,32,24,0,37,4,17,7,33,34,23,20,28,3,12,8,14,25,38,1,40,18,31,15,19,5,22,26,36,21,10,2,6,13,11,39,35,30,16,27,29,9,32,24,0,37,4,17,7,33,34,23,20,28,3,12,8,14,25,38,1,40,18,31,15,19,5,22,26,36,21,10,2,6,13,11,39,35,30,16,27,29,9,32,24,0,37,4,17,7,33,34,23,20,28,3,12,8,14,25,38,1,40,18,31,15,19,5,22,26,36,21,10,2,6,13,11,39,35,30,16,27,29,9,32,24,0,37,4,17,7,33,34,23,20,28,3,12,8,14,25,38,1,40,18,31,15,19,5,22,26,36,21,10,2,6,13,11,39,35,30,16,27,29,9,32,24,0,37,4,17,7,33,34,23,20,28,3,12,8,14,25,38,1,40,18,31,15,19,5,22,26,36,21,10,2,6,13,11,39,35,30,16,27,29,9,32,24,0,37,4,17,7,33,34,23,20,28,3,12,8,14,25,38,1,40,18,31,15,19,5,22,26,36,21,10,2,6,13,11,39,35,30,16,27,29,9,32,24,0,37,4,17,7,33,34,23,20,28,3,12,8,14,25,38,1,40,18,31,15,19,5,22,26,36,21,10,2,6,13,11,39,35,30,16,27,29,9,32,24,0,37,4,17,7,33,34,23,20,28,3,12,8,14,25,38,1,40,18,31,15,19,5,22,26,36,21,10,2,6,13,11,39,35,30,16,27,29,9,32,24,0,37,4,17,7,33,34,23,20,28,3,12,8,14,25,38,1,40,18,31,15,19,5,22,26,36,21,10,2,6,13,11,39,35,30,16,27,29,9,32,24,0,37,4,17,7,33,34,23,20,28,3,12,8,14,25,38,1,40,18,31,15,19,5,22,26,36,21,10,2,6,13,11,39,35,30,16,27,29,9,32,24,0,37,4,17,7,33,34,23,20,28,3,12,8,14,25,38,1,40,18,31,15,19,5,22,26,36,21,10,2,6,13,11,39,35,30,16,27,29,9,32,24,0,37,4,17,7,33,34,23,20,28,3,12,8,14,25,38,1,40,18,31,15,19,5,22,26,36,21,10,2,6,13,11,39,35,30,16,27,29,9,32,24,0,37,4,17,7,33,34,23,20,28,3,12,8,14,25,38,1,40,18,31,15,19,5,22,26,36,21,10,2,6,13,11,39,35,30,16,27,29,9,32,24,0,37,4,17,7,33,34,23,20,28,3,12,8,14,25,38,1,40,18,31,15,19,5,22,26,36,21,10,2,6,13,11,39,35,30,16,27,29,9,32,24,0,37,4,17,7,33,34,23,20,28,3,12,8,14,25,38,1,40,18,31,15,19,5,22,26,36,21,10,2,6,13,11,39,35,30,16,27,29,9,32,24,0,37,4,17,7,33,34,23,20,28,3,12,8,14,25,38,1,40,18,31,15,19,5,22,26,36,21,10,2,6,13,11,39,35,30,16,27,29,9,32,24,0,37,4,17,7,33,34,23,20,28,3,12,8,14,25,38,1,40,18,31,15,19,5,22,26,36,21,10,2,6,13,11,39,35,30,16,27,29,9,32,24,0,37,4,17,7,33,34,23,20,28,3,12,8,14,25,38,1,40,18,31,15,19,5,22,26,36,21,10,2,6,13,11,39,35,30,16,27,29,9,32,24,0,37,4,17,7,33,34,23,20,28,3,12,8,14,25,38,1,40,18,31,15,19,5,22,26,36,21,10,2,6,13,11,39,35,30,16,27,29,9,32,24,0,37,4,17,7,33,34,23,20,28,3,12,8,14,25,38,1,40,18,31,15,19,5,22,26,36,21,10,2,6,13,11,39,35,30,16,27,29,9,32,24,0,37,4,17,7,33,34,23,20,28,3,12,8,14,25,38,1,40,18,31,15,19,5,22,26,36,21,10,2,6,13,11,39,35,30,16,27,29,9,32,24,0,37,4,17,7,33,34,23,20,28,3,12,8,14,25,38,1,40,18,31,15,19,5,22,26,36,21,10,2,6,13,11,39,35,30,16,27,29,9,32,24,0,37,4,17,7,33,34,23,20,28,3,12,8,14,25,38,1,40,18,31,15,19,5,22,26,36,21,10,2,6,13,11,39,35,30,16,27,29,9,32,24,0,37,4,17,7,33,34,23,20,28,3,12,8,14,25,38,1,40,18,31,15,19,5,22,26,36,21,10,2,6,13,11,39,35,30,16,27,29,9,32,24,0,37,4,17,7,33,34,23,20,28,3,12,8,14,25,38,1,40,18,31,15,19,5,22,26,36,21,10,2,6,13,11,39,35,30,16,27,29,9,32,24,0,37,4,17,7,33,34,23,20,28,3,12,8,14,25,38,1,40,18,31,15,19,5,22,26,36,21,10,2,6,13,11,39,35,30,16,27,29,9,32,24,0,37,4,17,7,33,34,23,20,28,3,12,8,14,25,38,1,40,18,31,15,19,5,22,26,36,21,10,2,6,13,11,39,35,30,16,27,29,9,32,24,0,37,4,17,7,33,34,23,20,28,3,12,8,14,25,38,1,40,18,31,15,19,5,22,26,36,21,10,2,6,13,11,39,35,30,16,27,29,9,32,24,0,37,4,17,7,33,34,23,20,28,3,12,8,14,25,38,1,40,18,31,15,19,5,22,26,36,21,10,2,6,13,11,39,35,30,16,27,29,9,32,24,0,37,4,17,7,33,34,23,20,28,3,12,8,14,25,38,1,40,18,31,15,19,5,22,26,36,21,10,2,6,13,11,39,35,30,16,27,29,9,32,24,0,37,4,17,7,33,34,23,20,28,3,12,8,14,25,38,1,40,18,31,15,19,5,22,26,36,21,10,2,6,13,11,39,35,30,16,27,29,9,32,24,0,37,4,17,7,33,34,23,20,28,3,12,8,14,25,38,1,40,18,31,15,19,5,22,26,36,21,10,2,6,13,11,39,35,30,16,27,29,9,32,24,0,37,4,17,7,33,34,23,20,28,3,12,8,14,25,38,1,40,18,31,15,19,5,22,26,36,21,10,2,6,13,11,39,35,30,16,27,29,9,32,24,0,37,4,17,7,33,34,23,20,28,3,12,8,14,25,38,1,40,18,31,15,19,5,22,26,36,21,10,2,6,13,11,39,35,30,16,27,29,9,32,24,0,37,4,17,7,33,34,23,20,28,3,12,8,14,25,38,1,40,18,31,15,19,5,22,26,36,21,10,2,6,13,11,39,35,30,16,27,29,9,32,24,0,37,4,17,7,33,34,23,20,28,3,12,8,14,25,38,1,40,18,31,15,19,5,22,26,36,21,10,2,6,13,11,39,35,30,16,27,29,9,32,24,0,37,4,17,7,33,34,23,20,28,3,12,8,14,25,38,1,40,18,31,15,19,5,22,26,36,21,10,2,6,13,11,39,35,30,16,27,29,9,32,24,0,37,4,17,7,33,34,23,20,28,3,12,8,14,25,38,1,40,18,31,15,19,5,22,26,36,21,10,2,6,13,11,39,35,30,16,27,29,9,32,24,0,37,4,17,7,33,34,23,20,28,3,12,8,14,25,38,1,40,18,31,15,19,5,22,26,36,21,10,2,6,13,11,39,35,30,16,27,29,9,32,24,0,37,4,17,7,33,34,23,20,28,3,12,8,14,25,38,1,40,18,31,15,19,5,22,26,36,21,10,2,6,13,11,39,35,30,16,27,29,9,32,24,0,37,4,17,7,33,34,23,20,28,3,12,8,14,25,38,1,40,18,31,15,19,5,22,26,36,21,10,2,6,13,11,39,35,30,16,27,29,9,32,24,0,37,4,17,7,33,34,23,20,28,3,12,8,14,25,38,1,40,18,31,15,19,5,22,26,36,21,10,2,6,13,11,39,35,30,16,27,29,9,32,24,0,37,4,17,7,33,34,23,20,28,3,12,8,14,25,38,1,40,18,31,15,19,5,22,26,36,21,10,2,6,13,11,39,35,30,16,27,29,9,32,24,0,37,4,17,7,33,34,23,20,28,3,12,8,14,25,38,1,40,18,31,15,19,5,22,26,36,21,10,2,6,13,11,39,35,30,16,27,29,9,32,24,0,37,4,17,7,33,34,23,20,28,3,12,8,14,25,38,1,40,18,31,15,19,5,22,26,36,21,10,2,6,13,11,39,35,30,16,27,29,9,32,24,0,37,4,17,7,33,34,23,20,28,3,12,8,14,25,38,1,40,18,31,15,19,5,22,26,36,21,10,2,6,13,11,39,35,30,16,27,29,9,32,24,0,37,4,17,7,33,34,23,20,28,3,12,8,14,25,38,1,40,18,31,15,19,5,22,26,36,21,10,2,6,13,11,39,35,30,16,27,29,9,32,24,0,37,4,17,7,33,34,23,20,28,3,12,8,14,25,38,1,40,18,31,15,19,5,22,26,36,21,10,2,6,13,11,39,35,30,16,27,29,9,32,24,0,37,4,17,7,33,34,23,20,28,3,12,8,14,25,38,1,40,18,31,15,19,5,22,26,36,21,10,2,6,13,11,39,35,30,16,27,29,9,32,24,0,37,4,17,7,33,34,23,20,28,3,12,8,14,25,38,1,40,18,31,15,19,5,22,26,36,21,10,2,6,13,11,39,35,30,16,27,29,9,32,24,0,37,4,17,7,33,34,23,20,28,3,12,8,14,25,38,1,40,18,31,15,19,5,22,26,36,21,10,2,6,13,11,39,35,30,16,27,29,9,32,24,0,37,4,17,7,33,34,23,20,28,3,12,8,14,25,38,1,40,18,31,15,19,5,22,26,36,21,10,2,6,13,11,39,35,30,16,27,29,9,32,24,0,37,4,17,7,33,34,23,20,28,3,12,8,14,25,38,1,40,18,31,15,19,5,22,26,36,21,10,2,6,13,11,39,35,30,16,27,29,9,32,24,0,37,4,17,7,33,34,23,20,28,3,12,8,14,25,38,1,40,18,31,15,19,5,22,26,36,21,10,2,6,13,11,39,35,30,16,27,29,9,32,24,0,37,4,17,7,33,34,23,20,28,3,12,8,14,25,38,1,40,18,31,15,19,5,22,26,36,21,10,2,6,13,11,39,35,30,16,27,29,9,32,24,0,37,4,17,7,33,34,23,20,28,3,12,8,14,25,38,1,40,18,31,15,19,5,22,26,36,21,10,2,6,13,11,39,35,30,16,27,29,9,32,24,0,37,4,17,7,33,34,23,20,28,3,12,8,14,25,38,1,40,18,31,15,19,5,22,26,36,21,10,2,6,13,11,39,35,30,16,27,29,9,32,24,0,37,4,17,7,33,34,23,20,28,3,12,8,14,25,38,1,40,18,31,15,19,5,22,26,36,21,10,2,6,13,11,39,35,30,16,27,29,9,32,24,0,37,4,17,7,33,34,23,20,28,3,12,8,14,25,38,1,40,18,31,15,19,5,22,26,36,21,10,2,6,13,11,39,35,30,16,27],\"coloraxis\":\"coloraxis\",\"symbol\":\"circle\"},\"mode\":\"markers\",\"name\":\"\",\"showlegend\":false,\"x\":[-12.58361,-26.000208,-35.414764,-41.917995,-39.70862,-26.000208,-35.414764,-41.917995,-39.70862,-12.58361,-29.712372,-52.58923,-41.993988,-44.48783,-56.249924,-52.58923,-41.993988,-44.48783,-56.249924,-29.712372,-109.61065,-125.57664,-126.0543,-134.09999,-124.597725,-135.4559,-132.90173,-125.57664,-126.0543,-134.09999,3.5529773,-1.7884649,-6.135785,-12.56742,-9.142792,-17.78666,-10.493571,-18.029787,3.5529773,3.5529773,-39.76273,-50.68931,-55.480873,-59.27786,-56.126774,-44.050945,-50.68931,-55.480873,-59.27786,-56.126774,-41.81304,-46.40429,-37.919918,-41.81304,-46.40429,-41.94777,-47.244797,-45.201157,-33.72762,-33.72762,-60.450966,-82.41684,-80.05658,-84.907455,-76.30618,-60.450966,-60.450966,-82.41684,-80.05658,-76.30618,73.99629,73.99629,89.38498,90.791275,93.46786,92.478386,94.72514,88.469444,90.20715,86.972145,-26.906466,-26.906466,-40.12145,-50.28577,-47.97729,-43.388226,-26.906466,-40.12145,-50.28577,-47.97729,-117.69234,-115.51669,-131.68547,-117.54653,-132.04759,-121.0724,-124.760124,-117.69234,-116.98867,-131.68547,-1.843055,-15.81529,-24.284527,-17.916796,-63.284904,-67.6849,-1.843055,-15.81529,-24.284527,-17.916796,15.953393,12.526825,4.921036,3.4897494,-7.7580433,-2.790261,-5.8560486,1.4159651,3.0930796,-3.5087876,-37.225178,-37.225178,-36.723133,-31.858751,-34.072586,-44.33432,-35.207306,-37.225178,-37.0359,-30.426086,-39.65408,-39.65408,-49.291428,-46.403255,-60.22192,-40.256325,-39.65408,-49.291428,-46.403255,-60.22192,30.619707,30.619707,38.03308,37.326775,31.422255,27.009314,25.740479,32.230213,30.380657,33.94478,-118.281105,-136.55492,-136.55492,-114.36392,-121.53128,-112.09983,-123.66297,-119.117805,-118.039276,-118.281105,95.98658,103.4993,97.177666,106.15407,104.47866,95.76569,108.09156,103.26877,98.16442,98.038055,117.46012,126.64407,131.1408,105.94055,120.277596,119.8743,127.231316,113.687004,119.55924,125.245186,67.79488,70.843735,66.30805,60.828217,69.7182,50.144993,58.844604,84.68504,84.68504,71.991745,64.90233,64.90233,86.79608,77.24718,83.575615,85.925644,79.716415,81.43134,87.51757,74.439095,132.54408,132.54408,141.79634,139.22137,136.68832,132.88292,135.9556,127.70445,132.09918,135.80417,0.46801254,-4.601116,-9.801015,-4.564994,-6.369202,1.1988708,0.46801254,-9.004341,-4.601116,-4.601116,63.459404,66.56752,72.52835,66.39274,61.646782,60.38047,71.24082,59.09279,65.16981,62.183533,45.46586,20.832935,20.832935,42.53883,32.830734,34.632626,38.667957,40.785286,44.389458,35.257263,36.491165,36.491165,24.430101,18.36989,21.817755,19.143215,16.509268,17.831352,16.164423,36.491165,58.486656,58.486656,73.16522,75.52457,69.90055,74.31986,70.15219,78.037636,73.93802,71.357445,33.67267,33.67267,44.3976,40.920933,35.63493,42.57054,37.733456,32.8134,43.075424,37.68964,67.26309,70.866776,70.866776,60.382694,63.940678,59.223293,70.37599,61.52562,65.33792,64.58107,1.8713709,1.8713709,1.8713709,-4.5619297,1.0171348,-1.5229163,-1.8817794,-0.78141904,1.8713709,1.8713709,-96.71863,-88.15586,-70.16277,-68.603546,-74.90029,-62.32794,-96.71863,-70.16277,-68.603546,-74.90029,-82.59423,-82.59423,-90.14104,-98.06783,-95.79267,-95.19738,-95.98772,-95.74028,-99.33068,-95.74028,114.9717,114.9717,125.48372,125.48372,119.3131,113.07375,121.88008,126.67202,122.717514,114.04386,11.479036,11.479036,28.879938,34.015984,34.64188,25.645885,22.853771,24.926073,37.265297,37.79871,21.173178,43.442646,43.442646,23.645102,25.840918,21.00585,27.18362,28.797262,25.891285,19.507294,34.735783,34.735783,16.764902,17.185686,19.502413,17.902925,22.101295,20.244385,34.735783,34.735783,-80.822975,-80.822975,-66.319595,-62.57506,-68.65986,-61.731186,-80.822975,-66.76481,-80.822975,-80.822975,-96.32554,-96.32554,-79.51491,-84.65962,-80.019775,-74.281494,-78.54494,-75.50798,-96.32554,-74.281494,-59.362297,-59.362297,-71.64433,-67.11849,-77.32352,-78.78974,-59.362297,-78.78974,-77.32352,-67.11849,-3.206585,-3.206585,-9.315064,-10.955242,-12.590701,-15.822754,-3.206585,-12.590701,-9.315064,-12.590701,66.3795,66.3795,76.235466,82.57957,78.57929,79.99018,76.54777,78.10974,66.3795,66.3795,-87.01333,-87.01333,-70.84709,-64.32006,-62.019695,-75.35351,-63.08312,-65.60128,-87.01333,-62.019695,-12.58361,-26.000208,-34.339573,-41.917995,-39.70862,-26.000208,-34.339573,-41.917995,-39.70862,-12.58361,-29.712372,-52.58923,-41.993988,-44.48783,-56.249924,-52.58923,-41.993988,-44.48783,-56.249924,-29.712372,-109.61065,-125.57664,-126.0543,-134.09999,-124.597725,-135.4559,-132.90173,-125.57664,-126.0543,-134.09999,3.5529773,-1.7884649,-6.135785,-12.56742,-9.142792,-17.78666,-10.493571,-18.029787,3.5529773,3.5529773,-39.76273,-50.68931,-55.480873,-59.27786,-56.126774,-44.050945,-50.68931,-57.660133,-59.27786,-56.126774,-41.81304,-46.40429,-37.919918,-41.81304,-46.40429,-41.94777,-47.244797,-43.98387,-33.72762,-33.72762,-60.450966,-82.41684,-80.05658,-84.907455,-76.30618,-100.47598,-60.450966,-82.41684,-80.05658,-76.30618,73.99629,73.99629,89.38498,90.791275,93.46786,92.478386,94.72514,88.469444,90.20715,86.972145,-26.906466,-26.906466,-40.12145,-50.28577,-47.97729,-43.388226,-26.906466,-40.12145,-50.28577,-47.97729,-117.69234,-115.51669,-131.68547,-117.54653,-132.04759,-121.0724,-124.02623,-117.69234,-116.98867,-131.68547,-1.843055,-15.81529,-24.284527,-17.916796,-63.284904,-67.6849,-1.843055,-15.81529,-24.284527,-17.916796,15.953393,12.526825,4.921036,4.800057,-7.7580433,-2.790261,-5.8560486,1.4159651,1.4506073,-3.5087876,-37.225178,-37.225178,-37.0359,-31.858751,-34.072586,-44.33432,-35.207306,-37.225178,-37.0359,-31.858751,-39.65408,-39.65408,-49.291428,-46.403255,-60.22192,-40.256325,-39.65408,-49.291428,-46.403255,-60.22192,30.619707,30.619707,38.03308,37.326775,31.422255,27.009314,25.740479,32.230213,30.380657,33.94478,-118.281105,-136.55492,-136.55492,-114.36392,-121.53128,-112.09983,-123.66297,-119.117805,-118.039276,-118.281105,95.98658,103.4993,98.74494,106.15407,104.47866,95.76569,108.09156,103.26877,99.45782,98.038055,117.46012,126.64407,131.1408,105.94055,120.07549,119.8743,127.231316,113.687004,119.55924,125.33619,67.79488,70.843735,66.30805,60.828217,69.7182,50.144993,58.844604,84.68504,84.68504,71.991745,64.90233,64.90233,86.79608,77.24718,83.340836,85.925644,79.716415,81.43134,87.51757,74.439095,132.54408,132.54408,141.79634,139.22137,136.68832,132.88292,135.9556,127.70445,132.09918,137.55995,0.46801254,-4.601116,-9.801015,-4.564994,-6.369202,1.1988708,-1.4113132,-9.004341,-4.601116,-4.601116,63.459404,66.56752,72.52835,66.39274,61.646782,60.38047,71.24082,59.09279,65.16981,62.183533,45.46586,20.832935,20.832935,42.53883,32.830734,34.632626,38.667957,39.465622,44.389458,35.257263,36.491165,36.491165,24.430101,18.36989,21.817755,19.143215,16.509268,17.831352,16.164423,36.491165,58.486656,58.486656,73.16522,75.52457,69.90055,74.31986,70.15219,78.037636,73.93802,71.357445,33.67267,33.67267,44.3976,40.920933,35.63493,42.57054,37.733456,32.8134,43.075424,37.68964,67.26309,70.866776,70.866776,60.382694,63.940678,59.223293,70.37599,61.52562,65.33792,64.17859,1.8713709,1.8713709,1.8713709,-4.5619297,1.0171348,-1.5229163,-1.8817794,-0.78141904,1.8713709,1.8713709,-103.67455,-88.15586,-72.06712,-68.603546,-74.90029,-62.32794,-103.67455,-70.16277,-68.603546,-74.90029,-82.59423,-82.59423,-90.14104,-98.06783,-95.79267,-95.19738,-95.98772,-95.74028,-99.33068,-95.74028,114.9717,114.9717,125.48372,125.48372,119.3131,113.07375,121.88008,126.67202,122.717514,114.04386,11.479036,11.479036,28.879938,34.015984,34.64188,25.645885,22.853771,24.926073,37.265297,37.79871,21.173178,43.442646,43.442646,23.645102,25.840918,21.00585,27.18362,28.797262,25.891285,19.507294,34.735783,34.735783,16.764902,17.185686,19.502413,17.902925,22.101295,20.244385,34.735783,34.735783,-80.822975,-80.822975,-66.319595,-62.57506,-68.65986,-61.731186,-80.822975,-65.940956,-80.822975,-80.822975,-96.32554,-96.32554,-79.51491,-84.65962,-80.019775,-74.281494,-78.54494,-75.50798,-96.32554,-74.281494,-59.362297,-59.362297,-71.64433,-67.11849,-77.32352,-78.78974,-59.362297,-78.78974,-77.32352,-67.11849,-3.206585,-3.206585,-9.315064,-10.955242,-12.590701,-15.822754,-3.206585,-12.590701,-9.315064,-12.590701,66.3795,66.3795,76.235466,82.57957,78.57929,79.99018,76.54777,78.10974,66.3795,66.3795,-87.01333,-87.01333,-70.84709,-62.019695,-62.019695,-75.35351,-63.08312,-65.60128,-87.01333,-62.019695,-12.58361,-26.000208,-34.339573,-41.917995,-39.70862,-26.000208,-34.339573,-41.917995,-39.70862,-12.58361,-29.712372,-52.58923,-41.993988,-44.48783,-56.249924,-52.58923,-41.993988,-44.48783,-56.249924,-29.712372,-109.61065,-125.57664,-126.0543,-134.09999,-124.597725,-135.4559,-132.90173,-125.57664,-126.0543,-134.09999,3.5529773,-1.7884649,-6.135785,-12.56742,-9.142792,-17.78666,-10.493571,-18.029787,3.5529773,3.5529773,-39.76273,-50.68931,-55.480873,-59.27786,-56.126774,-44.050945,-50.68931,-57.660133,-59.27786,-56.126774,-41.81304,-46.40429,-37.919918,-41.81304,-46.40429,-41.94777,-47.244797,-43.392517,-33.72762,-33.72762,-60.450966,-82.41684,-80.05658,-84.907455,-76.30618,-60.450966,-60.450966,-82.41684,-80.05658,-76.30618,73.99629,73.99629,89.38498,90.791275,93.46786,92.478386,94.72514,88.469444,90.20715,86.972145,-26.906466,-26.906466,-40.12145,-50.28577,-47.97729,-43.388226,-26.906466,-40.12145,-50.28577,-47.97729,-117.69234,-115.51669,-131.68547,-117.54653,-132.04759,-121.0724,-124.760124,-117.69234,-115.51669,-131.68547,-1.843055,-15.81529,-24.284527,-17.916796,-63.284904,-67.6849,-1.843055,-15.81529,-24.284527,-17.916796,15.953393,12.526825,4.921036,3.4897494,-7.7580433,-2.790261,-5.8560486,1.4159651,1.4506073,-3.5087876,-37.225178,-37.225178,-35.03094,-31.858751,-34.072586,-44.33432,-35.207306,-37.225178,-37.0359,-30.426086,-39.65408,-39.65408,-49.291428,-46.403255,-60.22192,-40.256325,-39.65408,-49.291428,-46.403255,-60.22192,30.619707,30.619707,39.519337,37.326775,31.422255,27.009314,25.740479,30.743246,30.380657,33.94478,-118.281105,-136.55492,-136.55492,-114.36392,-121.53128,-112.09983,-123.66297,-119.117805,-118.039276,-118.281105,95.98658,103.4993,97.177666,106.15407,104.47866,95.76569,108.09156,103.26877,99.45782,98.038055,117.46012,126.64407,131.1408,105.94055,118.521614,119.8743,127.231316,113.687004,119.55924,125.33619,67.79488,70.843735,66.30805,60.828217,69.7182,50.144993,58.844604,84.68504,84.68504,71.991745,64.90233,64.90233,86.79608,77.24718,82.74465,85.925644,79.716415,81.43134,87.51757,74.439095,132.54408,132.54408,141.79634,139.22137,136.68832,132.88292,135.9556,127.70445,132.09918,135.80417,0.46801254,-4.601116,-9.801015,-5.057258,-6.369202,1.1988708,0.46801254,-9.004341,-4.601116,-4.601116,63.459404,66.56752,72.52835,66.39274,61.646782,60.38047,71.24082,59.09279,65.85495,62.183533,45.46586,20.832935,20.832935,42.53883,32.830734,34.632626,38.667957,40.37679,44.389458,35.257263,36.491165,36.491165,24.430101,18.36989,21.817755,19.143215,16.509268,17.831352,16.164423,36.491165,58.486656,58.486656,73.16522,75.52457,69.90055,74.31986,70.15219,78.037636,73.93802,71.357445,33.67267,33.67267,44.3976,40.920933,35.63493,42.57054,37.733456,32.8134,43.075424,37.68964,67.26309,70.866776,70.866776,60.382694,63.940678,59.223293,70.37599,61.52562,65.33792,64.58107,1.8713709,1.8713709,1.8713709,-4.5619297,1.0171348,-1.5229163,-1.8817794,-0.78141904,1.8713709,1.8713709,-96.71863,-102.250275,-70.16277,-68.603546,-74.90029,-62.32794,-96.71863,-70.16277,-68.603546,-74.90029,-82.59423,-82.59423,-90.03268,-98.06783,-95.79267,-95.19738,-95.98772,-95.74028,-99.33068,-95.74028,114.9717,114.9717,125.48372,125.48372,119.3131,113.07375,121.88008,126.67202,122.717514,114.04386,11.479036,11.479036,28.967785,34.015984,34.64188,25.645885,22.853771,24.926073,37.265297,37.79871,21.173178,43.442646,43.442646,23.645102,25.840918,21.00585,27.18362,28.797262,25.891285,19.507294,34.735783,34.735783,16.764902,17.185686,19.502413,17.902925,22.101295,20.244385,34.735783,34.735783,-80.822975,-80.822975,-66.319595,-62.57506,-68.65986,-61.731186,-80.822975,-65.940956,-80.822975,-80.822975,-96.32554,-96.32554,-79.51491,-84.65962,-80.019775,-74.281494,-78.54494,-75.50798,-96.32554,-74.281494,-59.362297,-59.362297,-71.64433,-67.11849,-77.32352,-78.78974,-59.362297,-78.78974,-77.32352,-67.11849,-3.206585,-3.206585,-9.315064,-10.955242,-12.590701,-15.822754,-3.206585,-12.590701,-9.315064,-12.590701,66.3795,66.3795,76.235466,82.57957,78.57929,79.99018,76.54777,78.10974,66.3795,66.3795,-87.01333,-87.01333,-70.84709,-62.019695,-62.019695,-75.35351,-63.08312,-65.60128,-87.01333,-64.32006,-12.58361,-26.000208,-34.339573,-41.917995,-39.70862,-26.000208,-34.339573,-41.917995,-39.70862,-12.58361,-29.712372,-52.58923,-41.993988,-44.48783,-56.249924,-52.58923,-41.993988,-44.48783,-56.249924,-29.712372,-109.61065,-125.57664,-126.0543,-134.09999,-124.597725,-135.4559,-132.90173,-125.57664,-126.0543,-134.09999,3.5529773,-1.7884649,-6.135785,-12.56742,-9.142792,-17.78666,-10.493571,-18.029787,3.5529773,3.5529773,-39.76273,-50.68931,-55.480873,-59.27786,-56.126774,-44.050945,-50.68931,-55.480873,-59.27786,-56.126774,-41.81304,-46.40429,-37.919918,-41.81304,-46.40429,-41.94777,-47.244797,-46.10084,-33.72762,-33.72762,-60.450966,-82.41684,-80.05658,-84.907455,-76.30618,-100.47598,-60.450966,-82.41684,-80.05658,-76.30618,73.99629,73.99629,89.38498,90.791275,93.46786,92.478386,94.72514,88.469444,90.20715,86.972145,-26.906466,-26.906466,-40.12145,-50.28577,-47.97729,-43.388226,-26.906466,-40.12145,-50.28577,-47.97729,-117.69234,-115.51669,-131.68547,-117.54653,-132.04759,-121.0724,-124.02623,-117.69234,-115.51669,-131.68547,-1.843055,-15.81529,-24.284527,-17.916796,-63.284904,-67.6849,-1.843055,-15.81529,-24.284527,-17.916796,15.953393,12.526825,4.921036,3.4897494,-7.7580433,-2.790261,-5.8560486,1.4159651,3.0930796,-3.5087876,-37.225178,-37.225178,-37.0359,-31.858751,-34.072586,-44.33432,-35.207306,-37.225178,-36.364483,-30.426086,-39.65408,-39.65408,-49.291428,-46.403255,-60.22192,-40.256325,-39.65408,-49.291428,-46.403255,-60.22192,30.619707,30.619707,39.519337,37.326775,31.422255,27.009314,25.740479,30.743246,30.380657,33.94478,-118.281105,-136.55492,-136.55492,-114.36392,-121.53128,-112.09983,-123.66297,-119.117805,-118.039276,-118.281105,95.98658,103.4993,97.177666,106.15407,104.47866,95.76569,108.09156,103.26877,98.09702,98.038055,117.46012,126.64407,131.1408,105.94055,118.9082,119.8743,127.231316,113.687004,119.55924,125.245186,67.79488,70.843735,66.30805,60.828217,69.7182,50.144993,58.844604,84.68504,84.68504,71.991745,64.90233,64.90233,86.79608,77.24718,83.575615,85.925644,79.716415,81.43134,87.51757,74.439095,132.54408,132.54408,141.79634,139.22137,136.68832,132.88292,135.9556,127.70445,132.09918,135.80417,0.46801254,-4.601116,-9.801015,-5.057258,-6.369202,1.1988708,0.46801254,-9.004341,-4.601116,-4.601116,63.459404,66.56752,72.52835,66.39274,61.646782,60.38047,71.24082,59.09279,64.0925,62.183533,45.46586,20.832935,20.832935,42.53883,32.830734,34.632626,38.667957,41.632854,44.389458,35.257263,36.491165,36.491165,24.430101,18.36989,20.965218,19.143215,16.509268,17.831352,16.164423,36.491165,58.486656,58.486656,73.16522,75.52457,69.90055,74.31986,70.15219,78.037636,73.93802,71.357445,33.67267,33.67267,44.3976,40.920933,35.63493,42.57054,37.733456,33.690456,43.075424,37.68964,67.26309,70.866776,70.866776,60.382694,63.940678,59.223293,70.37599,61.52562,65.33792,64.17859,1.8713709,1.8713709,1.8713709,-4.5619297,1.0171348,-1.5229163,-1.8817794,-0.78141904,1.8713709,1.8713709,-88.15586,-96.71863,-70.16277,-68.603546,-74.90029,-62.32794,-96.71863,-70.16277,-68.603546,-74.90029,-82.59423,-82.59423,-88.80272,-98.06783,-95.79267,-95.19738,-95.98772,-95.74028,-99.33068,-95.74028,114.9717,114.9717,125.48372,125.48372,119.3131,113.07375,121.88008,126.67202,122.717514,114.04386,11.479036,11.479036,28.879938,34.015984,34.64188,25.645885,22.853771,24.926073,37.265297,37.79871,21.173178,43.442646,43.442646,23.645102,25.840918,21.00585,27.18362,28.797262,25.891285,19.507294,34.735783,34.735783,16.764902,17.185686,19.502413,17.902925,22.101295,20.244385,34.735783,34.735783,-80.822975,-80.822975,-66.319595,-62.57506,-68.65986,-61.731186,-80.822975,-66.76481,-80.822975,-80.822975,-96.32554,-96.32554,-79.51491,-84.65962,-80.019775,-74.281494,-78.54494,-75.50798,-96.32554,-74.281494,-59.362297,-59.362297,-71.64433,-67.11849,-77.32352,-78.78974,-59.362297,-78.78974,-77.32352,-67.11849,-3.206585,-3.206585,-9.315064,-10.955242,-12.590701,-15.822754,-3.206585,-12.590701,-9.315064,-12.590701,66.3795,66.3795,76.235466,82.57957,78.57929,79.99018,76.54777,78.10974,66.3795,66.3795,-87.01333,-87.01333,-70.84709,-64.32006,-64.32006,-75.35351,-63.08312,-65.60128,-87.01333,-62.019695,-12.58361,-26.000208,-34.339573,-41.917995,-39.70862,-26.000208,-35.414764,-41.917995,-39.70862,-12.58361,-29.712372,-52.58923,-41.993988,-44.48783,-56.249924,-52.58923,-41.993988,-44.48783,-56.249924,-29.712372,-109.61065,-125.57664,-126.0543,-134.09999,-124.597725,-135.4559,-132.90173,-125.57664,-126.0543,-134.09999,3.5529773,-1.7884649,-6.135785,-12.56742,-9.142792,-17.78666,-10.493571,-18.029787,3.5529773,3.5529773,-39.76273,-50.68931,-57.660133,-59.27786,-56.126774,-44.050945,-50.68931,-55.480873,-59.27786,-56.126774,-41.81304,-46.40429,-37.919918,-41.81304,-46.40429,-41.94777,-47.244797,-44.85949,-33.72762,-33.72762,-60.450966,-82.41684,-80.05658,-84.907455,-76.30618,-100.47598,-60.450966,-82.41684,-80.05658,-76.30618,73.99629,73.99629,89.38498,90.791275,93.46786,92.478386,94.72514,88.469444,90.20715,86.972145,-26.906466,-26.906466,-40.12145,-50.28577,-47.97729,-43.388226,-26.906466,-40.12145,-50.28577,-47.97729,-117.69234,-115.51669,-131.68547,-117.54653,-132.04759,-121.0724,-124.02623,-117.69234,-115.51669,-131.68547,-1.843055,-15.81529,-24.284527,-17.916796,-63.284904,-67.6849,-1.843055,-15.81529,-24.284527,-17.916796,15.953393,12.526825,4.921036,3.4897494,-7.7580433,-2.790261,-5.8560486,1.4159651,1.4506073,-3.5087876,-37.225178,-37.225178,-37.0359,-31.858751,-34.072586,-44.33432,-35.207306,-37.225178,-36.723133,-31.858751,-39.65408,-39.65408,-49.291428,-46.403255,-60.22192,-40.256325,-39.65408,-49.291428,-46.403255,-60.22192,30.619707,30.619707,38.03308,37.326775,31.422255,27.009314,25.740479,30.743246,30.380657,33.94478,-118.281105,-136.55492,-136.55492,-114.36392,-121.53128,-112.09983,-123.66297,-119.117805,-118.039276,-118.281105,95.98658,103.4993,98.74494,106.15407,104.47866,95.76569,108.09156,103.26877,98.128456,98.038055,117.46012,126.64407,131.1408,105.94055,120.07549,119.8743,127.231316,113.687004,119.55924,125.33619,67.79488,70.843735,66.30805,60.828217,69.7182,50.144993,58.844604,84.68504,84.68504,71.991745,64.90233,64.90233,86.79608,77.24718,81.842125,85.925644,79.716415,81.43134,87.51757,74.439095,132.54408,132.54408,141.79634,139.22137,136.68832,132.88292,135.9556,127.70445,132.09918,137.55995,-1.4113132,-4.601116,-9.801015,-5.057258,-6.369202,1.1988708,0.46801254,-9.004341,-4.601116,-4.601116,63.459404,66.56752,72.52835,66.39274,61.646782,60.38047,71.24082,59.09279,64.33893,62.183533,45.46586,20.832935,20.832935,42.53883,32.830734,34.632626,38.667957,40.785286,44.389458,35.257263,36.491165,36.491165,24.430101,18.36989,20.965218,19.143215,16.509268,17.831352,16.164423,36.491165,58.486656,58.486656,73.16522,75.52457,69.90055,74.31986,70.15219,78.037636,73.93802,71.357445,33.67267,33.67267,44.3976,40.920933,35.63493,42.57054,37.733456,32.8134,43.075424,37.68964,67.26309,70.866776,70.866776,60.382694,63.940678,59.223293,70.37599,61.52562,65.33792,64.58107,1.8713709,1.8713709,1.8713709,-4.5619297,1.0171348,-1.5229163,-1.8817794,-0.78141904,1.8713709,1.8713709,-88.15586,-102.250275,-72.06712,-68.603546,-74.90029,-62.32794,-88.15586,-72.06712,-68.603546,-74.90029,-82.59423,-82.59423,-88.6867,-98.06783,-95.79267,-95.19738,-95.98772,-95.74028,-99.33068,-95.74028,114.9717,114.9717,125.48372,125.48372,119.3131,113.07375,121.88008,126.67202,122.717514,114.04386,11.479036,11.479036,28.967785,34.015984,34.64188,25.645885,22.853771,24.926073,37.265297,37.79871,21.173178,43.442646,43.442646,23.645102,25.840918,21.00585,27.18362,28.797262,25.891285,19.507294,34.735783,34.735783,16.764902,17.185686,19.502413,17.902925,22.101295,20.244385,34.735783,34.735783,-80.822975,-80.822975,-66.319595,-62.57506,-68.65986,-61.731186,-80.822975,-65.940956,-80.822975,-80.822975,-96.32554,-96.32554,-79.51491,-84.65962,-80.019775,-74.281494,-78.54494,-75.50798,-96.32554,-74.281494,-59.362297,-59.362297,-71.64433,-67.11849,-77.32352,-78.78974,-59.362297,-78.78974,-77.32352,-67.11849,-3.206585,-3.206585,-9.315064,-10.955242,-12.590701,-15.822754,-3.206585,-12.590701,-9.315064,-12.590701,66.3795,66.3795,76.235466,82.57957,78.57929,79.99018,76.54777,78.10974,66.3795,66.3795,-87.01333,-87.01333,-70.84709,-62.019695,-62.019695,-75.35351,-63.08312,-65.60128,-87.01333,-64.32006,-12.58361,-26.000208,-35.414764,-41.917995,-39.70862,-26.000208,-34.339573,-41.917995,-39.70862,-12.58361,-29.712372,-52.58923,-41.993988,-44.48783,-56.249924,-52.58923,-41.993988,-44.48783,-56.249924,-29.712372,-109.61065,-125.57664,-126.0543,-134.09999,-124.597725,-135.4559,-132.90173,-125.57664,-126.0543,-134.09999,3.5529773,-1.7884649,-6.135785,-12.56742,-9.142792,-17.78666,-10.493571,-18.029787,3.5529773,3.5529773,-39.76273,-50.68931,-55.480873,-59.27786,-56.126774,-44.050945,-50.68931,-57.660133,-59.27786,-56.126774,-41.81304,-46.40429,-37.919918,-41.81304,-46.40429,-41.94777,-47.244797,-44.85949,-33.72762,-33.72762,-60.450966,-82.41684,-80.05658,-84.907455,-76.30618,-60.450966,-100.47598,-82.41684,-80.05658,-76.30618,73.99629,73.99629,89.38498,90.791275,93.46786,92.478386,94.72514,88.469444,90.20715,86.972145,-26.906466,-26.906466,-40.12145,-50.28577,-47.97729,-43.388226,-26.906466,-40.12145,-50.28577,-47.97729,-117.69234,-115.51669,-131.68547,-117.54653,-132.04759,-121.0724,-124.02623,-117.69234,-115.51669,-131.68547,-1.843055,-15.81529,-24.284527,-17.916796,-63.284904,-67.6849,-1.843055,-15.81529,-24.284527,-17.916796,15.953393,12.526825,4.921036,4.800057,-7.7580433,-2.790261,-5.8560486,1.4159651,1.4506073,-3.5087876,-37.225178,-37.225178,-37.0359,-30.426086,-34.072586,-44.33432,-35.207306,-37.225178,-36.723133,-31.858751,-39.65408,-39.65408,-49.291428,-46.403255,-60.22192,-40.256325,-39.65408,-49.291428,-46.403255,-60.22192,30.619707,30.619707,38.03308,37.326775,31.422255,27.009314,25.740479,30.743246,30.380657,33.94478,-118.281105,-136.55492,-136.55492,-114.36392,-121.53128,-112.09983,-123.66297,-119.117805,-118.039276,-118.281105,95.98658,103.4993,97.177666,106.15407,104.47866,95.76569,108.09156,103.26877,99.4299,98.038055,117.46012,126.64407,131.1408,105.94055,120.07549,119.8743,127.231316,113.687004,119.55924,125.33619,67.79488,70.843735,66.30805,60.828217,69.7182,50.144993,58.844604,84.68504,84.68504,71.991745,64.90233,64.90233,86.79608,77.24718,82.13851,85.925644,79.716415,81.43134,87.51757,74.439095,132.54408,132.54408,141.79634,139.22137,136.68832,132.88292,135.9556,127.70445,132.09918,135.80417,0.46801254,-4.601116,-9.801015,-5.057258,-6.369202,1.1988708,0.46801254,-9.004341,-4.601116,-4.601116,63.459404,66.56752,72.52835,66.39274,61.646782,60.38047,71.24082,59.09279,63.618717,62.183533,45.46586,20.832935,20.832935,42.53883,32.830734,34.632626,38.667957,40.785286,44.389458,35.257263,36.491165,36.491165,24.430101,18.36989,21.817755,19.143215,16.509268,17.831352,16.164423,36.491165,58.486656,58.486656,73.16522,75.52457,69.90055,74.31986,70.15219,78.037636,73.93802,71.357445,33.67267,33.67267,44.3976,40.920933,35.63493,42.57054,37.733456,33.690456,43.075424,37.68964,67.26309,70.866776,70.866776,60.382694,63.940678,59.223293,70.37599,61.52562,65.33792,64.58107,1.8713709,1.8713709,1.8713709,-4.5619297,1.0171348,-1.5229163,-1.8817794,-0.78141904,1.8713709,1.8713709,-88.15586,-88.15586,-70.16277,-68.603546,-74.90029,-62.32794,-88.15586,-72.06712,-68.603546,-74.90029,-82.59423,-82.59423,-90.14104,-98.06783,-95.79267,-95.19738,-95.98772,-95.74028,-99.33068,-95.74028,114.9717,114.9717,125.48372,125.48372,119.3131,113.07375,121.88008,126.67202,122.717514,114.04386,11.479036,11.479036,28.879938,34.015984,34.64188,25.645885,22.853771,24.926073,37.265297,37.79871,21.173178,43.442646,43.442646,23.645102,25.840918,21.00585,27.18362,28.797262,25.891285,19.507294,34.735783,34.735783,16.764902,17.185686,19.502413,17.902925,22.101295,20.244385,34.735783,34.735783,-80.822975,-80.822975,-66.319595,-62.57506,-68.65986,-61.731186,-80.822975,-65.940956,-80.822975,-80.822975,-96.32554,-96.32554,-79.51491,-84.65962,-80.019775,-74.281494,-78.54494,-75.50798,-96.32554,-74.281494,-59.362297,-59.362297,-71.64433,-67.11849,-77.32352,-78.78974,-59.362297,-78.78974,-77.32352,-67.11849,-3.206585,-3.206585,-9.315064,-10.955242,-12.590701,-15.822754,-3.206585,-12.590701,-9.315064,-12.590701,66.3795,66.3795,76.235466,82.57957,78.57929,79.99018,76.54777,78.10974,66.3795,66.3795,-87.01333,-87.01333,-70.84709,-64.32006,-64.32006,-75.35351,-63.08312,-65.60128,-87.01333,-64.32006,-12.58361,-29.712372,-109.61065,3.5529773,-39.76273,-33.72762,-100.47598,73.99629,-26.906466,-117.69234,-1.843055,15.953393,-37.225178,-39.65408,30.619707,-136.55492,95.98658,105.94055,84.68504,64.90233,132.54408,-4.601116,63.459404,20.832935,36.491165,58.486656,33.67267,70.866776,1.8713709,-103.67455,-82.59423,114.9717,11.479036,43.442646,34.735783,-80.822975,-96.32554,-59.362297,-3.206585,66.3795,-87.01333,-12.58361,-29.712372,-109.61065,3.5529773,-39.76273,-33.72762,-100.47598,73.99629,-26.906466,-117.69234,-1.843055,15.953393,-37.225178,-39.65408,30.619707,-136.55492,95.98658,105.94055,84.68504,64.90233,132.54408,-4.601116,63.459404,20.832935,36.491165,58.486656,33.67267,70.866776,1.8713709,-103.67455,-82.59423,114.9717,11.479036,43.442646,34.735783,-80.822975,-96.32554,-59.362297,-3.206585,66.3795,-87.01333,-12.58361,-29.712372,-109.61065,3.5529773,-39.76273,-29.337297,-100.47598,73.99629,-26.906466,-126.23973,-1.843055,15.953393,-37.225178,-39.65408,30.619707,-136.55492,95.98658,105.94055,84.68504,64.90233,132.54408,-4.601116,63.459404,20.832935,36.491165,58.486656,33.67267,70.866776,1.8713709,-89.003586,-82.59423,114.9717,11.479036,43.442646,34.735783,-80.822975,-96.32554,-59.362297,-3.206585,66.3795,-87.01333,-12.58361,-29.712372,-109.61065,3.5529773,-39.76273,-29.337297,-100.47598,73.99629,-26.906466,-126.23973,-1.843055,15.953393,-37.225178,-39.65408,30.619707,-136.55492,95.98658,105.94055,84.68504,64.90233,132.54408,-4.601116,63.459404,20.832935,36.491165,58.486656,33.67267,70.866776,1.8713709,-89.003586,-82.59423,114.9717,11.479036,43.442646,34.735783,-80.822975,-96.32554,-59.362297,-3.206585,66.3795,-87.01333,-12.58361,-29.712372,-109.61065,3.5529773,-39.76273,-29.337297,-100.47598,73.99629,-26.906466,-126.23973,-1.843055,15.953393,-37.225178,-39.65408,30.619707,-136.55492,95.98658,105.94055,84.68504,64.90233,132.54408,-4.601116,63.459404,20.832935,36.491165,58.486656,33.67267,70.866776,1.8713709,-89.003586,-82.59423,114.9717,11.479036,43.442646,34.735783,-80.822975,-96.32554,-59.362297,-3.206585,66.3795,-87.01333,-12.58361,-29.712372,-109.61065,3.5529773,-39.76273,-29.337297,-100.47598,73.99629,-26.906466,-126.23973,-1.843055,15.953393,-37.225178,-39.65408,30.619707,-136.55492,95.98658,105.94055,84.68504,64.90233,132.54408,-4.601116,63.459404,20.832935,36.491165,58.486656,33.67267,70.866776,1.8713709,-89.003586,-82.59423,114.9717,11.479036,43.442646,34.735783,-80.822975,-96.32554,-59.362297,-3.206585,66.3795,-87.01333,-12.58361,-29.712372,-109.61065,3.5529773,-39.76273,-29.337297,-100.47598,73.99629,-26.906466,-126.23973,-1.843055,15.953393,-37.225178,-39.65408,30.619707,-136.55492,95.98658,105.94055,84.68504,64.90233,132.54408,-4.601116,63.459404,20.832935,36.491165,58.486656,33.67267,70.866776,1.8713709,-89.003586,-82.59423,114.9717,11.479036,43.442646,34.735783,-80.822975,-96.32554,-59.362297,-3.206585,66.3795,-87.01333,-12.58361,-29.712372,-109.61065,3.5529773,-39.76273,-29.337297,-100.47598,73.99629,-26.906466,-126.23973,-1.843055,15.953393,-37.225178,-39.65408,30.619707,-136.55492,95.98658,105.94055,84.68504,64.90233,132.54408,-4.601116,63.459404,20.832935,36.491165,58.486656,33.67267,70.866776,1.8713709,-89.003586,-82.59423,114.9717,11.479036,43.442646,34.735783,-80.822975,-96.32554,-59.362297,-3.206585,66.3795,-87.01333,-12.58361,-29.712372,-109.61065,3.5529773,-39.76273,-29.337297,-100.47598,73.99629,-26.906466,-126.23973,-5.468752,15.953393,-37.225178,-39.65408,30.619707,-136.55492,95.98658,105.94055,84.68504,64.90233,132.54408,-4.601116,63.459404,20.832935,36.491165,58.486656,33.67267,70.866776,1.8713709,-89.003586,-82.59423,114.9717,11.479036,43.442646,34.735783,-80.822975,-64.61152,-59.362297,-3.206585,66.3795,-87.01333,-12.58361,-29.712372,-109.61065,3.5529773,-39.76273,-29.337297,-100.47598,73.99629,-26.906466,-126.23973,-5.468752,15.953393,-37.225178,-39.65408,30.619707,-136.55492,95.98658,105.94055,84.68504,64.90233,132.54408,-4.601116,63.459404,20.832935,36.491165,58.486656,33.67267,70.866776,1.8713709,-89.003586,-82.59423,114.9717,11.479036,43.442646,34.735783,-80.822975,-64.61152,-59.362297,-3.206585,66.3795,-87.01333,-12.58361,-29.712372,-109.61065,3.5529773,-39.76273,-29.337297,-100.47598,73.99629,-26.906466,-126.23973,-5.468752,15.953393,-37.225178,-39.65408,30.619707,-136.55492,95.98658,105.94055,84.68504,64.90233,132.54408,-4.601116,63.459404,20.832935,36.491165,58.486656,33.67267,70.866776,1.8713709,-89.003586,-82.59423,114.9717,11.479036,43.442646,34.735783,-80.822975,-64.61152,-59.362297,-3.206585,66.3795,-87.01333,-12.58361,-29.712372,-109.61065,3.5529773,-39.76273,-29.337297,-100.47598,73.99629,-26.906466,-126.23973,-5.468752,15.953393,-37.225178,-39.65408,30.619707,-136.55492,95.98658,105.94055,84.68504,64.90233,132.54408,-4.601116,63.459404,20.832935,36.491165,58.486656,33.67267,70.866776,1.8713709,-89.003586,-82.59423,114.9717,11.479036,43.442646,34.735783,-80.822975,-64.61152,-59.362297,-3.206585,66.3795,-87.01333,-12.58361,-29.712372,-109.61065,3.5529773,-39.76273,-29.337297,-100.47598,73.99629,-26.906466,-126.23973,-5.468752,15.953393,-37.225178,-39.65408,30.619707,-136.55492,95.98658,105.94055,84.68504,64.90233,132.54408,-4.601116,63.459404,20.832935,36.491165,58.486656,33.67267,70.866776,1.8713709,-89.003586,-82.59423,114.9717,11.479036,43.442646,34.735783,-80.822975,-64.61152,-59.362297,-3.206585,66.3795,-87.01333,-12.58361,-29.712372,-109.61065,3.5529773,-39.76273,-29.337297,-100.47598,73.99629,-26.906466,-126.23973,-5.468752,15.953393,-37.225178,-39.65408,30.619707,-136.55492,95.98658,105.94055,84.68504,64.90233,132.54408,-4.601116,63.459404,20.832935,36.491165,58.486656,33.67267,70.866776,1.8713709,-89.003586,-82.59423,114.9717,11.479036,43.442646,34.735783,-80.822975,-64.61152,-59.362297,-3.206585,66.3795,-87.01333,-12.58361,-29.712372,-109.61065,3.5529773,-39.76273,-29.337297,-100.47598,73.99629,-26.522816,-126.23973,-5.468752,15.953393,-37.225178,-39.65408,30.619707,-136.55492,95.98658,105.94055,84.68504,64.90233,132.54408,-4.601116,63.459404,20.832935,36.491165,58.486656,33.67267,70.866776,1.8713709,-89.003586,-82.59423,114.9717,11.479036,43.442646,34.735783,-80.822975,-77.96033,-59.362297,-3.206585,66.3795,-87.01333,-12.58361,-29.712372,-109.61065,3.5529773,-39.76273,-29.337297,-100.47598,73.99629,-26.522816,-126.23973,-5.468752,15.953393,-37.225178,-39.65408,30.619707,-136.55492,95.98658,105.94055,84.68504,64.90233,132.54408,-4.601116,63.459404,20.832935,36.491165,58.486656,33.67267,70.866776,1.8713709,-89.003586,-82.59423,114.9717,11.479036,43.442646,34.735783,-80.822975,-77.96033,-59.362297,-3.206585,66.3795,-87.01333,-12.58361,-29.712372,-109.61065,3.5529773,-39.76273,-29.337297,-100.47598,73.99629,-26.522816,-126.23973,-5.468752,15.953393,-37.225178,-39.65408,30.619707,-136.55492,95.98658,105.94055,84.68504,64.90233,132.54408,-4.601116,63.459404,20.832935,36.491165,58.486656,33.67267,70.866776,1.8713709,-89.003586,-82.59423,114.9717,11.479036,43.442646,34.735783,-80.822975,-77.96033,-59.362297,-3.206585,66.3795,-87.01333,-12.58361,-29.712372,-109.61065,3.5529773,-39.76273,-29.337297,-100.47598,73.99629,-26.522816,-126.23973,-5.468752,15.953393,-37.225178,-39.65408,30.619707,-136.55492,95.98658,105.94055,84.68504,64.90233,132.54408,-4.601116,63.459404,20.832935,36.491165,58.486656,33.67267,70.866776,1.8713709,-89.003586,-82.59423,114.9717,11.479036,43.442646,34.735783,-80.822975,-77.96033,-59.362297,-3.206585,66.3795,-87.01333,-12.58361,-29.712372,-109.61065,3.5529773,-39.76273,-29.337297,-100.47598,73.99629,-26.522816,-126.23973,-5.468752,15.953393,-37.225178,-39.65408,30.619707,-136.55492,95.98658,105.94055,84.68504,64.90233,132.54408,-4.601116,63.459404,20.832935,36.491165,58.486656,33.67267,70.866776,1.8713709,-89.003586,-82.59423,114.9717,11.479036,43.442646,34.735783,-80.822975,-77.96033,-59.362297,-3.206585,66.3795,-87.01333,-12.58361,-29.712372,-109.61065,3.5529773,-39.76273,-29.337297,-100.47598,73.99629,-26.522816,-126.23973,-5.468752,15.953393,-37.225178,-39.65408,30.619707,-136.55492,95.98658,105.94055,84.68504,64.90233,132.54408,-4.601116,63.459404,20.832935,36.491165,58.486656,33.67267,70.866776,1.8713709,-89.003586,-82.59423,114.9717,11.479036,43.442646,34.735783,-80.822975,-77.96033,-59.362297,-3.206585,66.3795,-87.01333,-13.823871,-29.712372,-109.61065,-1.6416873,-39.76273,-23.889223,-98.59251,73.99629,-26.522816,-126.23973,-5.468752,15.953393,-37.225178,-39.65408,30.619707,-136.55492,95.98658,105.94055,84.68504,64.90233,132.54408,-4.601116,63.459404,20.832935,36.491165,58.486656,33.67267,70.866776,1.8713709,-89.003586,-82.59423,114.9717,11.479036,43.442646,34.735783,-80.822975,-77.96033,-59.362297,-3.206585,66.3795,-87.01333,-13.823871,-29.712372,-109.61065,-1.6416873,-39.76273,-23.889223,-98.59251,73.99629,-26.522816,-126.23973,-5.468752,15.953393,-37.225178,-39.65408,30.619707,-136.55492,95.98658,105.94055,84.68504,64.90233,132.54408,-4.601116,63.459404,20.832935,36.491165,58.486656,33.67267,70.866776,1.8713709,-89.003586,-82.59423,114.9717,11.479036,43.442646,34.735783,-80.822975,-77.96033,-59.362297,-3.206585,66.3795,-87.01333,-13.823871,-29.712372,-109.61065,-1.6416873,-39.76273,-23.889223,-98.59251,73.99629,-26.522816,-126.23973,-5.468752,15.953393,-37.225178,-39.65408,30.619707,-136.55492,95.98658,105.94055,84.68504,64.90233,132.54408,-4.601116,63.459404,20.832935,36.491165,58.486656,33.67267,70.866776,1.8713709,-89.003586,-82.59423,114.9717,11.479036,43.442646,34.735783,-80.822975,-77.96033,-59.362297,-3.206585,66.3795,-87.01333,-13.823871,-29.712372,-109.61065,-1.6416873,-39.76273,-23.889223,-98.59251,73.99629,-26.522816,-126.23973,-5.468752,15.953393,-37.225178,-39.65408,30.619707,-136.55492,95.98658,105.94055,84.68504,64.90233,132.54408,-4.601116,63.459404,20.832935,36.491165,58.486656,33.67267,70.866776,1.8713709,-89.003586,-82.59423,114.9717,11.479036,43.442646,34.735783,-80.822975,-77.96033,-59.362297,-3.206585,66.3795,-87.01333,-13.823871,-29.712372,-109.61065,-1.6416873,-39.76273,-23.889223,-98.59251,73.99629,-26.522816,-126.23973,-5.468752,15.953393,-37.225178,-39.65408,30.619707,-136.55492,95.98658,105.94055,84.68504,64.90233,132.54408,-4.601116,63.459404,20.832935,36.491165,58.486656,33.67267,70.866776,1.8713709,-89.003586,-82.59423,114.9717,11.479036,43.442646,34.735783,-80.822975,-77.96033,-59.362297,-3.206585,66.3795,-87.01333,-13.823871,-29.712372,-109.61065,-1.6416873,-39.76273,-23.889223,-98.59251,73.99629,-26.522816,-126.23973,-5.468752,15.953393,-37.225178,-39.65408,30.619707,-136.55492,95.98658,105.94055,84.68504,64.90233,132.54408,-4.601116,63.459404,20.832935,36.491165,58.486656,33.67267,70.866776,1.8713709,-89.003586,-82.59423,114.9717,11.479036,43.442646,34.735783,-80.822975,-77.96033,-59.362297,-3.206585,66.3795,-87.01333,-13.823871,-29.712372,-109.61065,-0.4566051,-38.779045,-23.889223,-98.59251,73.99629,-26.522816,-126.23973,-1.3871623,19.122543,-37.225178,-39.65408,30.619707,-136.55492,95.98658,105.94055,84.68504,64.90233,132.54408,11.240242,63.459404,20.832935,36.491165,58.486656,33.67267,70.866776,1.8713709,-89.003586,-82.59423,114.9717,11.479036,43.442646,34.735783,-80.822975,-77.96033,-59.362297,-3.206585,66.3795,-87.01333,-13.823871,-29.712372,-109.61065,-0.4566051,-38.779045,-23.889223,-98.59251,73.99629,-26.522816,-126.23973,-1.3871623,19.122543,-37.225178,-39.65408,30.619707,-136.55492,95.98658,105.94055,84.68504,64.90233,132.54408,11.240242,63.459404,20.832935,36.491165,58.486656,33.67267,70.866776,1.8713709,-89.003586,-82.59423,114.9717,11.479036,43.442646,34.735783,-80.822975,-77.96033,-59.362297,-3.206585,66.3795,-87.01333,-13.823871,-29.712372,-109.61065,-0.4566051,-38.779045,-23.889223,-98.59251,73.99629,-26.522816,-126.23973,-1.3871623,19.122543,-37.225178,-39.65408,30.619707,-136.55492,95.98658,105.94055,84.68504,64.90233,132.54408,11.240242,63.459404,20.832935,36.491165,58.486656,33.67267,70.866776,1.8713709,-89.003586,-82.59423,114.9717,11.479036,43.442646,34.735783,-80.822975,-77.96033,-59.362297,-3.206585,66.3795,-87.01333,-13.823871,-29.712372,-109.61065,-0.4566051,-38.779045,-23.889223,-98.59251,73.99629,-26.522816,-126.23973,-1.3871623,19.122543,-37.225178,-39.65408,30.619707,-136.55492,95.98658,105.94055,84.68504,64.90233,132.54408,11.240242,63.459404,20.832935,36.491165,58.486656,33.67267,70.866776,1.8713709,-89.003586,-82.59423,114.9717,11.479036,43.442646,34.735783,-80.822975,-77.96033,-59.362297,-3.206585,66.3795,-87.01333,-13.823871,-29.712372,-109.61065,-0.4566051,-38.779045,-23.889223,-98.59251,73.99629,-26.522816,-126.23973,-1.3871623,19.122543,-37.225178,-39.65408,30.619707,-136.55492,95.98658,105.94055,84.68504,64.90233,132.54408,11.240242,63.459404,20.832935,36.491165,58.486656,33.67267,70.866776,1.8713709,-89.003586,-82.59423,114.9717,11.479036,43.442646,34.735783,-80.822975,-77.96033,-59.362297,-3.206585,66.3795,-87.01333,-13.823871,-29.712372,-109.61065,-0.4566051,-38.779045,-23.889223,-98.59251,73.99629,-26.522816,-126.23973,-1.3871623,19.122543,-37.225178,-39.65408,30.619707,-136.55492,95.98658,105.94055,84.68504,64.90233,132.54408,11.240242,63.459404,20.832935,36.491165,58.486656,33.67267,70.866776,1.8713709,-89.003586,-82.59423,114.9717,11.479036,43.442646,34.735783,-80.822975,-77.96033,-59.362297,-3.206585,66.3795,-87.01333,-8.808064,-27.54819,-138.04886,-0.4566051,-35.897873,-60.534157,-82.61921,98.36372,-21.91743,-146.41725,-1.3871623,29.204023,-59.426136,-39.65408,51.240192,-132.86537,111.48916,102.79899,92.12141,62.59816,155.71045,13.879858,103.72547,22.463785,33.052563,56.136196,37.208374,88.74373,-19.075825,-89.003586,-108.7926,132.22026,10.424054,45.00471,33.84536,-123.29109,-99.448685,-61.403717,-28.305523,99.04705,-68.873276,-8.808064,-27.54819,-138.04886,-0.4566051,-35.897873,-60.534157,-82.61921,98.36372,-21.91743,-146.41725,-1.3871623,29.204023,-59.426136,-39.65408,51.240192,-132.86537,111.48916,102.79899,92.12141,62.59816,155.71045,13.879858,103.72547,22.463785,33.052563,56.136196,37.208374,88.74373,-19.075825,-89.003586,-108.7926,132.22026,10.424054,45.00471,33.84536,-123.29109,-99.448685,-61.403717,-28.305523,99.04705,-68.873276,-8.808064,-27.54819,-138.04886,-0.4566051,-35.897873,-60.534157,-82.61921,98.36372,-21.91743,-146.41725,-1.3871623,29.204023,-59.426136,-39.65408,51.240192,-132.86537,111.48916,102.79899,92.12141,62.59816,155.71045,13.879858,103.72547,22.463785,33.052563,56.136196,37.208374,88.74373,-19.075825,-89.003586,-108.7926,132.22026,10.424054,45.00471,33.84536,-123.29109,-99.448685,-61.403717,-28.305523,99.04705,-68.873276,-8.808064,-27.54819,-138.04886,-0.4566051,-35.897873,-60.534157,-82.61921,98.36372,-21.91743,-146.41725,-1.3871623,29.204023,-59.426136,-39.65408,51.240192,-132.86537,111.48916,102.79899,92.12141,62.59816,155.71045,13.879858,103.72547,22.463785,33.052563,56.136196,37.208374,88.74373,-19.075825,-89.003586,-108.7926,132.22026,10.424054,45.00471,33.84536,-123.29109,-99.448685,-61.403717,-28.305523,99.04705,-68.873276,-8.808064,-27.54819,-138.04886,-0.4566051,-35.897873,-60.534157,-82.61921,98.36372,-21.91743,-146.41725,-1.3871623,29.204023,-59.426136,-39.65408,51.240192,-132.86537,111.48916,102.79899,92.12141,62.59816,155.71045,13.879858,103.72547,22.463785,33.052563,56.136196,37.208374,88.74373,-19.075825,-89.003586,-108.7926,132.22026,10.424054,45.00471,33.84536,-123.29109,-99.448685,-61.403717,-28.305523,99.04705,-68.873276,-8.808064,-27.54819,-138.04886,-0.4566051,-35.897873,-60.534157,-82.61921,98.36372,-21.91743,-146.41725,-1.3871623,29.204023,-59.426136,-39.65408,51.240192,-132.86537,111.48916,102.79899,92.12141,62.59816,155.71045,13.879858,103.72547,22.463785,33.052563,56.136196,37.208374,88.74373,-19.075825,-89.003586,-108.7926,132.22026,10.424054,45.00471,33.84536,-123.29109,-99.448685,-61.403717,-28.305523,99.04705,-68.873276,-8.808064,-27.54819,-138.04886,-0.4566051,-35.019783,-60.534157,-82.61921,110.93588,-21.91743,-146.41725,-1.3871623,5.9370046,-59.426136,-39.65408,51.240192,-125.86688,114.377785,117.91257,76.90101,62.59816,155.71045,-22.18084,84.49891,17.502289,38.376373,56.136196,37.208374,45.165203,-19.075825,-117.39391,-108.7926,110.29773,10.424054,45.00471,5.548223,-123.29109,-99.448685,-61.403717,-28.305523,74.6588,-86.61511,-8.808064,-27.54819,-138.04886,-0.4566051,-35.019783,-60.534157,-82.61921,110.93588,-21.91743,-146.41725,-1.3871623,5.9370046,-59.426136,-39.65408,51.240192,-125.86688,114.377785,117.91257,76.90101,62.59816,155.71045,-22.18084,84.49891,17.502289,38.376373,56.136196,37.208374,45.165203,-19.075825,-117.39391,-108.7926,110.29773,10.424054,45.00471,5.548223,-123.29109,-99.448685,-61.403717,-28.305523,74.6588,-86.61511,-8.808064,-27.54819,-138.04886,-0.4566051,-35.019783,-60.534157,-82.61921,110.93588,-21.91743,-146.41725,-1.3871623,5.9370046,-59.426136,-39.65408,51.240192,-125.86688,114.377785,117.91257,76.90101,62.59816,155.71045,-22.18084,84.49891,17.502289,38.376373,56.136196,37.208374,45.165203,-19.075825,-117.39391,-108.7926,110.29773,10.424054,45.00471,5.548223,-123.29109,-99.448685,-61.403717,-28.305523,74.6588,-86.61511,-8.808064,-27.54819,-138.04886,-0.4566051,-35.019783,-60.534157,-82.61921,110.93588,-21.91743,-146.41725,-1.3871623,5.9370046,-59.426136,-39.65408,51.240192,-125.86688,114.377785,117.91257,76.90101,62.59816,155.71045,-22.18084,84.49891,17.502289,38.376373,56.136196,37.208374,45.165203,-19.075825,-117.39391,-108.7926,110.29773,10.424054,45.00471,5.548223,-123.29109,-99.448685,-61.403717,-28.305523,74.6588,-86.61511,-8.808064,-27.54819,-138.04886,-0.4566051,-35.019783,-60.534157,-82.61921,110.93588,-21.91743,-146.41725,-1.3871623,5.9370046,-59.426136,-39.65408,51.240192,-125.86688,114.377785,117.91257,76.90101,62.59816,155.71045,-22.18084,84.49891,17.502289,38.376373,56.136196,37.208374,45.165203,-19.075825,-117.39391,-108.7926,110.29773,10.424054,45.00471,5.548223,-123.29109,-99.448685,-61.403717,-28.305523,74.6588,-86.61511,-8.808064,-27.54819,-138.04886,-0.4566051,-35.019783,-60.534157,-82.61921,110.93588,-21.91743,-146.41725,-1.3871623,5.9370046,-59.426136,-39.65408,51.240192,-125.86688,114.377785,117.91257,76.90101,62.59816,155.71045,-22.18084,84.49891,17.502289,38.376373,56.136196,37.208374,45.165203,-19.075825,-117.39391,-108.7926,110.29773,10.424054,45.00471,5.548223,-123.29109,-99.448685,-61.403717,-28.305523,74.6588,-86.61511,-8.808064,-24.461744,-138.04886,-0.4566051,-35.019783,-47.564007,-82.61921,110.93588,-21.792458,-146.41725,2.1844225,5.9370046,-59.426136,-43.77991,51.240192,-125.86688,122.88742,117.91257,76.90101,62.59816,155.71045,-22.18084,84.49891,17.502289,38.376373,57.03748,28.655807,92.6519,-17.800282,-160.34737,-108.7926,147.00365,10.424054,47.591316,5.548223,-123.29109,-99.448685,-61.403717,-28.305523,98.82554,-86.61511,-8.808064,-24.461744,-138.04886,-0.4566051,-35.019783,-47.564007,-82.61921,110.93588,-21.792458,-146.41725,2.1844225,5.9370046,-59.426136,-43.77991,51.240192,-125.86688,122.88742,117.91257,76.90101,62.59816,155.71045,-22.18084,84.49891,17.502289,38.376373,57.03748,28.655807,92.6519,-17.800282,-160.34737,-108.7926,147.00365,10.424054,47.591316,5.548223,-123.29109,-99.448685,-61.403717,-28.305523,98.82554,-86.61511,-8.808064,-24.461744,-138.04886,-0.4566051,-35.019783,-47.564007,-82.61921,110.93588,-21.792458,-146.41725,2.1844225,5.9370046,-59.426136,-43.77991,51.240192,-125.86688,122.88742,117.91257,76.90101,62.59816,155.71045,-22.18084,84.49891,17.502289,38.376373,57.03748,28.655807,92.6519,-17.800282,-160.34737,-108.7926,147.00365,10.424054,47.591316,5.548223,-123.29109,-99.448685,-61.403717,-28.305523,98.82554,-86.61511,-8.808064,-24.461744,-138.04886,-0.4566051,-35.019783,-47.564007,-82.61921,110.93588,-21.792458,-146.41725,2.1844225,5.9370046,-59.426136,-43.77991,51.240192,-125.86688,122.88742,117.91257,76.90101,62.59816,155.71045,-22.18084,84.49891,17.502289,38.376373,57.03748,28.655807,92.6519,-17.800282,-160.34737,-108.7926,147.00365,10.424054,47.591316,5.548223,-123.29109,-99.448685,-61.403717,-28.305523,98.82554,-86.61511,-8.808064,-24.461744,-138.04886,-0.4566051,-35.019783,-47.564007,-82.61921,110.93588,-21.792458,-146.41725,2.1844225,5.9370046,-59.426136,-43.77991,51.240192,-125.86688,122.88742,117.91257,76.90101,62.59816,155.71045,-22.18084,84.49891,17.502289,38.376373,57.03748,28.655807,92.6519,-17.800282,-160.34737,-108.7926,147.00365,10.424054,47.591316,5.548223,-123.29109,-99.448685,-61.403717,-28.305523,98.82554,-86.61511,-8.808064,-24.461744,-138.04886,-0.4566051,-35.019783,-47.564007,-82.61921,110.93588,-21.792458,-146.41725,2.1844225,5.9370046,-59.426136,-43.77991,51.240192,-125.86688,122.88742,117.91257,76.90101,62.59816,155.71045,-22.18084,84.49891,17.502289,38.376373,57.03748,28.655807,92.6519,-17.800282,-160.34737,-108.7926,147.00365,10.424054,47.591316,5.548223,-123.29109,-99.448685,-61.403717,-28.305523,98.82554,-86.61511,-8.808064,-24.461744,-138.04886,-0.4566051,-35.019783,-47.564007,-82.61921,110.93588,-21.792458,-146.41725,2.1844225,-11.727243,-59.426136,-38.580868,51.240192,-125.86688,122.88742,117.91257,150.2974,62.59816,157.62209,5.893968,84.781204,17.502289,38.376373,53.646873,30.297146,47.004864,149.29922,-160.34737,-108.7926,147.00365,6.504365,48.594296,5.548223,-123.29109,-113.21534,-55.962257,-28.305523,98.82554,-86.61511,-8.808064,-24.461744,-138.04886,-0.4566051,-35.019783,-47.564007,-82.61921,110.93588,-21.792458,-146.41725,2.1844225,-11.727243,-59.426136,-38.580868,51.240192,-125.86688,122.88742,117.91257,150.2974,62.59816,157.62209,5.893968,84.781204,17.502289,38.376373,53.646873,30.297146,47.004864,149.29922,-160.34737,-108.7926,147.00365,6.504365,48.594296,5.548223,-123.29109,-113.21534,-55.962257,-28.305523,98.82554,-86.61511,-8.808064,-24.461744,-138.04886,-0.4566051,-35.019783,-47.564007,-82.61921,110.93588,-21.792458,-146.41725,2.1844225,-11.727243,-59.426136,-38.580868,51.240192,-125.86688,122.88742,117.91257,150.2974,62.59816,157.62209,5.893968,84.781204,17.502289,38.376373,53.646873,30.297146,47.004864,149.29922,-160.34737,-108.7926,147.00365,6.504365,48.594296,5.548223,-123.29109,-113.21534,-55.962257,-28.305523,98.82554,-86.61511,-8.808064,-24.461744,-138.04886,-0.4566051,-35.019783,-47.564007,-82.61921,110.93588,-21.792458,-146.41725,2.1844225,-11.727243,-59.426136,-38.580868,51.240192,-125.86688,122.88742,117.91257,150.2974,62.59816,157.62209,5.893968,84.781204,17.502289,38.376373,53.646873,30.297146,47.004864,149.29922,-160.34737,-108.7926,147.00365,6.504365,48.594296,5.548223,-123.29109,-113.21534,-55.962257,-28.305523,98.82554,-86.61511,-8.808064,-24.461744,-138.04886,-0.4566051,-35.019783,-47.564007,-82.61921,110.93588,-21.792458,-146.41725,2.1844225,-11.727243,-59.426136,-38.580868,51.240192,-125.86688,122.88742,117.91257,150.2974,62.59816,157.62209,5.893968,84.781204,17.502289,38.376373,53.646873,30.297146,47.004864,149.29922,-160.34737,-108.7926,147.00365,6.504365,48.594296,5.548223,-123.29109,-113.21534,-55.962257,-28.305523,98.82554,-86.61511,-8.808064,-24.461744,-138.04886,-0.4566051,-35.019783,-47.564007,-82.61921,110.93588,-21.792458,-146.41725,2.1844225,-11.727243,-59.426136,-38.580868,51.240192,-125.86688,122.88742,117.91257,150.2974,62.59816,157.62209,5.893968,84.781204,17.502289,38.376373,53.646873,30.297146,47.004864,149.29922,-160.34737,-108.7926,147.00365,6.504365,48.594296,5.548223,-123.29109,-113.21534,-55.962257,-28.305523,98.82554,-86.61511,-8.808064,-26.165037,-161.89641,4.668265,-35.019783,-47.564007,-49.57254,137.25049,-21.792458,-152.08963,2.8223941,29.647482,-59.426136,-38.580868,43.719204,-125.86688,122.88742,100.03716,150.2974,62.59816,157.62209,5.893968,84.781204,15.702014,38.376373,53.019863,33.495884,47.004864,149.29922,-160.34737,-94.71122,114.53026,6.4428825,48.594296,5.548223,-123.29109,-153.889,-55.962257,57.218933,98.82554,-86.61511,-8.808064,-26.165037,-161.89641,4.668265,-35.019783,-47.564007,-49.57254,137.25049,-21.792458,-152.08963,2.8223941,29.647482,-59.426136,-38.580868,43.719204,-125.86688,122.88742,100.03716,150.2974,62.59816,157.62209,5.893968,84.781204,15.702014,38.376373,53.019863,33.495884,47.004864,149.29922,-160.34737,-94.71122,114.53026,6.4428825,48.594296,5.548223,-123.29109,-153.889,-55.962257,57.218933,98.82554,-86.61511,-8.808064,-26.165037,-161.89641,4.668265,-35.019783,-47.564007,-49.57254,137.25049,-21.792458,-152.08963,2.8223941,29.647482,-59.426136,-38.580868,43.719204,-125.86688,122.88742,100.03716,150.2974,62.59816,157.62209,5.893968,84.781204,15.702014,38.376373,53.019863,33.495884,47.004864,149.29922,-160.34737,-94.71122,114.53026,6.4428825,48.594296,5.548223,-123.29109,-153.889,-55.962257,57.218933,98.82554,-86.61511,-8.808064,-26.165037,-161.89641,4.668265,-35.019783,-47.564007,-49.57254,137.25049,-21.792458,-152.08963,2.8223941,29.647482,-59.426136,-38.580868,43.719204,-125.86688,122.88742,100.03716,150.2974,62.59816,157.62209,5.893968,84.781204,15.702014,38.376373,53.019863,33.495884,47.004864,149.29922,-160.34737,-94.71122,114.53026,6.4428825,48.594296,5.548223,-123.29109,-153.889,-55.962257,57.218933,98.82554,-86.61511],\"xaxis\":\"x\",\"y\":[6.469208,4.6694937,5.069543,9.040776,12.955709,4.6694937,5.069543,9.040776,12.955709,6.469208,-20.223204,-31.987595,-34.03911,-30.374594,-28.039278,-31.987595,-34.03911,-30.374594,-28.039278,-20.223204,-55.766865,-52.348755,-66.17169,-52.857094,-56.872654,-61.425114,-62.456345,-52.348755,-66.17169,-52.857094,-28.466309,-40.587524,-40.561577,-45.71258,-39.21889,-49.737034,-48.973656,-46.666943,-28.466309,-28.466309,-58.08036,-75.484764,-69.660736,-75.807686,-81.04726,-67.4505,-75.484764,-69.660736,-75.807686,-81.04726,130.5571,115.03512,126.97404,130.5571,115.03512,120.260796,119.37985,126.27777,106.69787,106.69787,-138.15048,-99.241165,-92.41134,-104.164825,-95.042015,-138.15048,-138.15048,-99.241165,-92.41134,-95.042015,41.9747,41.9747,36.3012,30.50765,39.91343,35.845623,27.404966,25.176725,41.971752,30.405882,31.458755,31.458755,40.95648,30.847326,37.714497,35.872566,31.458755,40.95648,30.847326,37.714497,19.70111,0.6565888,7.1664476,6.7996764,0.82588303,2.996338,6.8762293,19.70111,-0.9516838,7.1664476,56.35623,66.75545,57.480335,62.509186,57.265842,57.59833,56.35623,66.75545,57.480335,62.509186,126.40298,138.9766,140.44617,130.9866,128.796,129.72432,139.38196,138.95544,135.77657,134.9305,-118.34848,-118.34848,-91.27409,-89.43272,-94.23318,-106.860306,-85.26692,-118.34848,-93.5742,-91.26173,79.10886,79.10886,67.29831,60.93282,40.717796,62.367348,79.10886,67.29831,60.93282,40.717796,84.41849,84.41849,94.233894,98.31888,99.17424,106.87315,101.60928,105.04362,109.92856,108.39367,53.67227,40.963013,40.963013,48.64539,47.57106,41.75636,51.201855,41.635185,46.436245,53.67227,-13.816917,-5.429353,-0.34631637,5.4441066,2.7956157,6.2008066,2.408285,12.025192,6.017588,11.938685,-70.58797,-65.05922,-70.338646,-56.781425,-61.354378,-68.09129,-62.290497,-68.14037,-74.02208,-73.00217,68.2989,71.57289,73.95505,78.171364,78.84539,80.133736,76.5421,68.48345,68.48345,74.69846,-20.538406,-20.538406,-34.147846,-28.00275,-37.57424,-40.650425,-30.18014,-44.230965,-37.21851,-32.210274,-32.335636,-32.335636,-22.453712,-13.597818,-15.080472,-9.700711,-4.6014705,-8.713374,-5.40863,-7.656493,-59.6658,-80.54105,-65.66132,-62.29107,-68.79782,-56.331768,-59.6658,-58.896732,-80.54105,-80.54105,-52.4423,-75.117805,-63.86145,-65.17875,-75.46598,-71.51011,-66.82441,-80.906624,-72.65516,-80.60167,-13.876974,-6.0261774,-6.0261774,-3.3049905,-1.3692907,-8.375637,-12.673135,-7.746855,-8.178407,-3.393972,-40.569492,-40.569492,-40.094486,-48.063454,-47.43021,-53.480267,-55.090565,-58.02226,-51.107346,-40.569492,15.132044,15.132044,5.696211,10.31906,2.2099912,-1.4955287,18.904573,1.6784873,14.421014,10.501287,-76.59282,-76.59282,-96.6831,-93.079575,-95.303986,-83.88133,-100.241104,-93.44944,-102.054054,-91.55771,112.8798,132.37733,132.37733,112.325356,107.35111,125.66009,107.73907,120.21322,116.73547,111.64625,98.33047,98.33047,98.33047,87.12582,75.56312,75.006714,83.317986,78.533195,98.33047,98.33047,11.978829,19.974405,25.624706,31.693275,29.29278,26.289076,11.978829,25.624706,31.693275,29.29278,-27.812933,-27.812933,-15.26885,-19.199879,-20.975548,-16.472214,-9.438867,-5.172944,-4.2076917,-5.172944,79.24744,79.24744,57.28727,57.28727,54.45458,57.177784,52.228172,60.77019,60.716644,53.796623,26.850916,26.850916,25.40669,26.069262,21.81296,28.715574,19.460499,23.721722,29.677383,24.726423,65.306175,50.125748,50.125748,49.626713,58.18255,53.852398,47.182003,55.98393,52.31374,63.196583,-132.91754,-132.91754,-110.18207,-113.097336,-110.69534,-106.515015,-113.72791,-116.018906,-132.91754,-132.91754,-61.530643,-61.530643,-47.867733,-46.849945,-43.93567,-43.617832,-61.530643,-41.77778,-61.530643,-61.530643,60.064423,60.064423,66.66995,64.38548,63.18546,56.667686,49.429962,63.851933,60.064423,56.667686,-4.648753,-4.648753,6.6611676,14.730738,2.112344,5.73529,-4.648753,5.73529,2.112344,14.730738,-130.13304,-130.13304,-112.777054,-115.77979,-102.064575,-102.01829,-130.13304,-102.064575,-112.777054,-102.064575,-115.611855,-115.611855,-102.2294,-99.19556,-100.37677,-94.022644,-92.22183,-96.88775,-115.611855,-115.611855,102.23857,102.23857,100.29887,102.21704,100.92081,107.82753,93.23935,95.951546,102.23857,100.92081,6.469208,4.6694937,7.0381107,9.040776,12.955709,4.6694937,7.0381107,9.040776,12.955709,6.469208,-20.223204,-31.987595,-34.03911,-30.374594,-28.039278,-31.987595,-34.03911,-30.374594,-28.039278,-20.223204,-55.766865,-52.348755,-66.17169,-52.857094,-56.872654,-61.425114,-62.456345,-52.348755,-66.17169,-52.857094,-28.466309,-40.587524,-40.561577,-45.71258,-39.21889,-49.737034,-48.973656,-46.666943,-28.466309,-28.466309,-58.08036,-75.484764,-69.660736,-75.807686,-81.04726,-67.4505,-75.484764,-69.28359,-75.807686,-81.04726,130.5571,115.03512,126.97404,130.5571,115.03512,120.260796,119.37985,125.93897,106.69787,106.69787,-138.15048,-99.241165,-92.41134,-104.164825,-95.042015,-108.73462,-138.15048,-99.241165,-92.41134,-95.042015,41.9747,41.9747,36.3012,30.50765,39.91343,35.845623,27.404966,25.176725,41.971752,30.405882,31.458755,31.458755,40.95648,30.847326,37.714497,35.872566,31.458755,40.95648,30.847326,37.714497,19.70111,0.6565888,7.1664476,6.7996764,0.82588303,2.996338,8.314208,19.70111,-0.9516838,7.1664476,56.35623,66.75545,57.480335,62.509186,57.265842,57.59833,56.35623,66.75545,57.480335,62.509186,126.40298,138.9766,140.44617,131.8612,128.796,129.72432,139.38196,138.95544,135.37996,134.9305,-118.34848,-118.34848,-93.5742,-89.43272,-94.23318,-106.860306,-85.26692,-118.34848,-93.5742,-89.43272,79.10886,79.10886,67.29831,60.93282,40.717796,62.367348,79.10886,67.29831,60.93282,40.717796,84.41849,84.41849,94.233894,98.31888,99.17424,106.87315,101.60928,105.04362,109.92856,108.39367,53.67227,40.963013,40.963013,48.64539,47.57106,41.75636,51.201855,41.635185,46.436245,53.67227,-13.816917,-5.429353,-0.66485566,5.4441066,2.7956157,6.2008066,2.408285,12.025192,6.6891694,11.938685,-70.58797,-65.05922,-70.338646,-56.781425,-62.881145,-68.09129,-62.290497,-68.14037,-74.02208,-71.34651,68.2989,71.57289,73.95505,78.171364,78.84539,80.133736,76.5421,68.48345,68.48345,74.69846,-20.538406,-20.538406,-34.147846,-28.00275,-36.15278,-40.650425,-30.18014,-44.230965,-37.21851,-32.210274,-32.335636,-32.335636,-22.453712,-13.597818,-15.080472,-9.700711,-4.6014705,-8.713374,-5.40863,-7.25585,-59.6658,-80.54105,-65.66132,-62.29107,-68.79782,-56.331768,-58.142567,-58.896732,-80.54105,-80.54105,-52.4423,-75.117805,-63.86145,-65.17875,-75.46598,-71.51011,-66.82441,-80.906624,-72.65516,-80.60167,-13.876974,-6.0261774,-6.0261774,-3.3049905,-1.3692907,-8.375637,-12.673135,-6.928529,-8.178407,-3.393972,-40.569492,-40.569492,-40.094486,-48.063454,-47.43021,-53.480267,-55.090565,-58.02226,-51.107346,-40.569492,15.132044,15.132044,5.696211,10.31906,2.2099912,-1.4955287,18.904573,1.6784873,14.421014,10.501287,-76.59282,-76.59282,-96.6831,-93.079575,-95.303986,-83.88133,-100.241104,-93.44944,-102.054054,-91.55771,112.8798,132.37733,132.37733,112.325356,107.35111,125.66009,107.73907,120.21322,116.73547,113.354675,98.33047,98.33047,98.33047,87.12582,75.56312,75.006714,83.317986,78.533195,98.33047,98.33047,28.69272,19.974405,24.446749,31.693275,29.29278,26.289076,28.69272,25.624706,31.693275,29.29278,-27.812933,-27.812933,-15.26885,-19.199879,-20.975548,-16.472214,-9.438867,-5.172944,-4.2076917,-5.172944,79.24744,79.24744,57.28727,57.28727,54.45458,57.177784,52.228172,60.77019,60.716644,53.796623,26.850916,26.850916,25.40669,26.069262,21.81296,28.715574,19.460499,23.721722,29.677383,24.726423,65.306175,50.125748,50.125748,49.626713,58.18255,53.852398,47.182003,55.98393,52.31374,63.196583,-132.91754,-132.91754,-110.18207,-113.097336,-110.69534,-106.515015,-113.72791,-116.018906,-132.91754,-132.91754,-61.530643,-61.530643,-47.867733,-46.849945,-43.93567,-43.617832,-61.530643,-43.47945,-61.530643,-61.530643,60.064423,60.064423,66.66995,64.38548,63.18546,56.667686,49.429962,63.851933,60.064423,56.667686,-4.648753,-4.648753,6.6611676,14.730738,2.112344,5.73529,-4.648753,5.73529,2.112344,14.730738,-130.13304,-130.13304,-112.777054,-115.77979,-102.064575,-102.01829,-130.13304,-102.064575,-112.777054,-102.064575,-115.611855,-115.611855,-102.2294,-99.19556,-100.37677,-94.022644,-92.22183,-96.88775,-115.611855,-115.611855,102.23857,102.23857,100.29887,100.92081,100.92081,107.82753,93.23935,95.951546,102.23857,100.92081,6.469208,4.6694937,7.0381107,9.040776,12.955709,4.6694937,7.0381107,9.040776,12.955709,6.469208,-20.223204,-31.987595,-34.03911,-30.374594,-28.039278,-31.987595,-34.03911,-30.374594,-28.039278,-20.223204,-55.766865,-52.348755,-66.17169,-52.857094,-56.872654,-61.425114,-62.456345,-52.348755,-66.17169,-52.857094,-28.466309,-40.587524,-40.561577,-45.71258,-39.21889,-49.737034,-48.973656,-46.666943,-28.466309,-28.466309,-58.08036,-75.484764,-69.660736,-75.807686,-81.04726,-67.4505,-75.484764,-69.28359,-75.807686,-81.04726,130.5571,115.03512,126.97404,130.5571,115.03512,120.260796,119.37985,124.76099,106.69787,106.69787,-138.15048,-99.241165,-92.41134,-104.164825,-95.042015,-138.15048,-138.15048,-99.241165,-92.41134,-95.042015,41.9747,41.9747,36.3012,30.50765,39.91343,35.845623,27.404966,25.176725,41.971752,30.405882,31.458755,31.458755,40.95648,30.847326,37.714497,35.872566,31.458755,40.95648,30.847326,37.714497,19.70111,0.6565888,7.1664476,6.7996764,0.82588303,2.996338,6.8762293,19.70111,0.6565888,7.1664476,56.35623,66.75545,57.480335,62.509186,57.265842,57.59833,56.35623,66.75545,57.480335,62.509186,126.40298,138.9766,140.44617,130.9866,128.796,129.72432,139.38196,138.95544,135.37996,134.9305,-118.34848,-118.34848,-92.01384,-89.43272,-94.23318,-106.860306,-85.26692,-118.34848,-93.5742,-91.26173,79.10886,79.10886,67.29831,60.93282,40.717796,62.367348,79.10886,67.29831,60.93282,40.717796,84.41849,84.41849,94.805916,98.31888,99.17424,106.87315,101.60928,105.78373,109.92856,108.39367,53.67227,40.963013,40.963013,48.64539,47.57106,41.75636,51.201855,41.635185,46.436245,53.67227,-13.816917,-5.429353,-0.34631637,5.4441066,2.7956157,6.2008066,2.408285,12.025192,6.6891694,11.938685,-70.58797,-65.05922,-70.338646,-56.781425,-62.96679,-68.09129,-62.290497,-68.14037,-74.02208,-71.34651,68.2989,71.57289,73.95505,78.171364,78.84539,80.133736,76.5421,68.48345,68.48345,74.69846,-20.538406,-20.538406,-34.147846,-28.00275,-38.75452,-40.650425,-30.18014,-44.230965,-37.21851,-32.210274,-32.335636,-32.335636,-22.453712,-13.597818,-15.080472,-9.700711,-4.6014705,-8.713374,-5.40863,-7.656493,-59.6658,-80.54105,-65.66132,-60.693817,-68.79782,-56.331768,-59.6658,-58.896732,-80.54105,-80.54105,-52.4423,-75.117805,-63.86145,-65.17875,-75.46598,-71.51011,-66.82441,-80.906624,-71.46879,-80.60167,-13.876974,-6.0261774,-6.0261774,-3.3049905,-1.3692907,-8.375637,-12.673135,-5.9941964,-8.178407,-3.393972,-40.569492,-40.569492,-40.094486,-48.063454,-47.43021,-53.480267,-55.090565,-58.02226,-51.107346,-40.569492,15.132044,15.132044,5.696211,10.31906,2.2099912,-1.4955287,18.904573,1.6784873,14.421014,10.501287,-76.59282,-76.59282,-96.6831,-93.079575,-95.303986,-83.88133,-100.241104,-93.44944,-102.054054,-91.55771,112.8798,132.37733,132.37733,112.325356,107.35111,125.66009,107.73907,120.21322,116.73547,111.64625,98.33047,98.33047,98.33047,87.12582,75.56312,75.006714,83.317986,78.533195,98.33047,98.33047,11.978829,19.840904,25.624706,31.693275,29.29278,26.289076,11.978829,25.624706,31.693275,29.29278,-27.812933,-27.812933,-16.785843,-19.199879,-20.975548,-16.472214,-9.438867,-5.172944,-4.2076917,-5.172944,79.24744,79.24744,57.28727,57.28727,54.45458,57.177784,52.228172,60.77019,60.716644,53.796623,26.850916,26.850916,23.735388,26.069262,21.81296,28.715574,19.460499,23.721722,29.677383,24.726423,65.306175,50.125748,50.125748,49.626713,58.18255,53.852398,47.182003,55.98393,52.31374,63.196583,-132.91754,-132.91754,-110.18207,-113.097336,-110.69534,-106.515015,-113.72791,-116.018906,-132.91754,-132.91754,-61.530643,-61.530643,-47.867733,-46.849945,-43.93567,-43.617832,-61.530643,-43.47945,-61.530643,-61.530643,60.064423,60.064423,66.66995,64.38548,63.18546,56.667686,49.429962,63.851933,60.064423,56.667686,-4.648753,-4.648753,6.6611676,14.730738,2.112344,5.73529,-4.648753,5.73529,2.112344,14.730738,-130.13304,-130.13304,-112.777054,-115.77979,-102.064575,-102.01829,-130.13304,-102.064575,-112.777054,-102.064575,-115.611855,-115.611855,-102.2294,-99.19556,-100.37677,-94.022644,-92.22183,-96.88775,-115.611855,-115.611855,102.23857,102.23857,100.29887,100.92081,100.92081,107.82753,93.23935,95.951546,102.23857,102.21704,6.469208,4.6694937,7.0381107,9.040776,12.955709,4.6694937,7.0381107,9.040776,12.955709,6.469208,-20.223204,-31.987595,-34.03911,-30.374594,-28.039278,-31.987595,-34.03911,-30.374594,-28.039278,-20.223204,-55.766865,-52.348755,-66.17169,-52.857094,-56.872654,-61.425114,-62.456345,-52.348755,-66.17169,-52.857094,-28.466309,-40.587524,-40.561577,-45.71258,-39.21889,-49.737034,-48.973656,-46.666943,-28.466309,-28.466309,-58.08036,-75.484764,-69.660736,-75.807686,-81.04726,-67.4505,-75.484764,-69.660736,-75.807686,-81.04726,130.5571,115.03512,126.97404,130.5571,115.03512,120.260796,119.37985,125.29734,106.69787,106.69787,-138.15048,-99.241165,-92.41134,-104.164825,-95.042015,-108.73462,-138.15048,-99.241165,-92.41134,-95.042015,41.9747,41.9747,36.3012,30.50765,39.91343,35.845623,27.404966,25.176725,41.971752,30.405882,31.458755,31.458755,40.95648,30.847326,37.714497,35.872566,31.458755,40.95648,30.847326,37.714497,19.70111,0.6565888,7.1664476,6.7996764,0.82588303,2.996338,8.314208,19.70111,0.6565888,7.1664476,56.35623,66.75545,57.480335,62.509186,57.265842,57.59833,56.35623,66.75545,57.480335,62.509186,126.40298,138.9766,140.44617,130.9866,128.796,129.72432,139.38196,138.95544,135.77657,134.9305,-118.34848,-118.34848,-93.5742,-89.43272,-94.23318,-106.860306,-85.26692,-118.34848,-95.72423,-91.26173,79.10886,79.10886,67.29831,60.93282,40.717796,62.367348,79.10886,67.29831,60.93282,40.717796,84.41849,84.41849,94.805916,98.31888,99.17424,106.87315,101.60928,105.78373,109.92856,108.39367,53.67227,40.963013,40.963013,48.64539,47.57106,41.75636,51.201855,41.635185,46.436245,53.67227,-13.816917,-5.429353,-0.34631637,5.4441066,2.7956157,6.2008066,2.408285,12.025192,4.7105355,11.938685,-70.58797,-65.05922,-70.338646,-56.781425,-61.63926,-68.09129,-62.290497,-68.14037,-74.02208,-73.00217,68.2989,71.57289,73.95505,78.171364,78.84539,80.133736,76.5421,68.48345,68.48345,74.69846,-20.538406,-20.538406,-34.147846,-28.00275,-37.57424,-40.650425,-30.18014,-44.230965,-37.21851,-32.210274,-32.335636,-32.335636,-22.453712,-13.597818,-15.080472,-9.700711,-4.6014705,-8.713374,-5.40863,-7.656493,-59.6658,-80.54105,-65.66132,-60.693817,-68.79782,-56.331768,-59.6658,-58.896732,-80.54105,-80.54105,-52.4423,-75.117805,-63.86145,-65.17875,-75.46598,-71.51011,-66.82441,-80.906624,-73.56642,-80.60167,-13.876974,-6.0261774,-6.0261774,-3.3049905,-1.3692907,-8.375637,-12.673135,-6.455759,-8.178407,-3.393972,-40.569492,-40.569492,-40.094486,-48.063454,-45.91043,-53.480267,-55.090565,-58.02226,-51.107346,-40.569492,15.132044,15.132044,5.696211,10.31906,2.2099912,-1.4955287,18.904573,1.6784873,14.421014,10.501287,-76.59282,-76.59282,-96.6831,-93.079575,-95.303986,-83.88133,-100.241104,-92.056404,-102.054054,-91.55771,112.8798,132.37733,132.37733,112.325356,107.35111,125.66009,107.73907,120.21322,116.73547,113.354675,98.33047,98.33047,98.33047,87.12582,75.56312,75.006714,83.317986,78.533195,98.33047,98.33047,19.974405,11.978829,25.624706,31.693275,29.29278,26.289076,11.978829,25.624706,31.693275,29.29278,-27.812933,-27.812933,-16.264732,-19.199879,-20.975548,-16.472214,-9.438867,-5.172944,-4.2076917,-5.172944,79.24744,79.24744,57.28727,57.28727,54.45458,57.177784,52.228172,60.77019,60.716644,53.796623,26.850916,26.850916,25.40669,26.069262,21.81296,28.715574,19.460499,23.721722,29.677383,24.726423,65.306175,50.125748,50.125748,49.626713,58.18255,53.852398,47.182003,55.98393,52.31374,63.196583,-132.91754,-132.91754,-110.18207,-113.097336,-110.69534,-106.515015,-113.72791,-116.018906,-132.91754,-132.91754,-61.530643,-61.530643,-47.867733,-46.849945,-43.93567,-43.617832,-61.530643,-41.77778,-61.530643,-61.530643,60.064423,60.064423,66.66995,64.38548,63.18546,56.667686,49.429962,63.851933,60.064423,56.667686,-4.648753,-4.648753,6.6611676,14.730738,2.112344,5.73529,-4.648753,5.73529,2.112344,14.730738,-130.13304,-130.13304,-112.777054,-115.77979,-102.064575,-102.01829,-130.13304,-102.064575,-112.777054,-102.064575,-115.611855,-115.611855,-102.2294,-99.19556,-100.37677,-94.022644,-92.22183,-96.88775,-115.611855,-115.611855,102.23857,102.23857,100.29887,102.21704,102.21704,107.82753,93.23935,95.951546,102.23857,100.92081,6.469208,4.6694937,7.0381107,9.040776,12.955709,4.6694937,5.069543,9.040776,12.955709,6.469208,-20.223204,-31.987595,-34.03911,-30.374594,-28.039278,-31.987595,-34.03911,-30.374594,-28.039278,-20.223204,-55.766865,-52.348755,-66.17169,-52.857094,-56.872654,-61.425114,-62.456345,-52.348755,-66.17169,-52.857094,-28.466309,-40.587524,-40.561577,-45.71258,-39.21889,-49.737034,-48.973656,-46.666943,-28.466309,-28.466309,-58.08036,-75.484764,-69.28359,-75.807686,-81.04726,-67.4505,-75.484764,-69.660736,-75.807686,-81.04726,130.5571,115.03512,126.97404,130.5571,115.03512,120.260796,119.37985,124.52108,106.69787,106.69787,-138.15048,-99.241165,-92.41134,-104.164825,-95.042015,-108.73462,-138.15048,-99.241165,-92.41134,-95.042015,41.9747,41.9747,36.3012,30.50765,39.91343,35.845623,27.404966,25.176725,41.971752,30.405882,31.458755,31.458755,40.95648,30.847326,37.714497,35.872566,31.458755,40.95648,30.847326,37.714497,19.70111,0.6565888,7.1664476,6.7996764,0.82588303,2.996338,8.314208,19.70111,0.6565888,7.1664476,56.35623,66.75545,57.480335,62.509186,57.265842,57.59833,56.35623,66.75545,57.480335,62.509186,126.40298,138.9766,140.44617,130.9866,128.796,129.72432,139.38196,138.95544,135.37996,134.9305,-118.34848,-118.34848,-93.5742,-89.43272,-94.23318,-106.860306,-85.26692,-118.34848,-91.27409,-89.43272,79.10886,79.10886,67.29831,60.93282,40.717796,62.367348,79.10886,67.29831,60.93282,40.717796,84.41849,84.41849,94.233894,98.31888,99.17424,106.87315,101.60928,105.78373,109.92856,108.39367,53.67227,40.963013,40.963013,48.64539,47.57106,41.75636,51.201855,41.635185,46.436245,53.67227,-13.816917,-5.429353,-0.66485566,5.4441066,2.7956157,6.2008066,2.408285,12.025192,7.497063,11.938685,-70.58797,-65.05922,-70.338646,-56.781425,-62.881145,-68.09129,-62.290497,-68.14037,-74.02208,-71.34651,68.2989,71.57289,73.95505,78.171364,78.84539,80.133736,76.5421,68.48345,68.48345,74.69846,-20.538406,-20.538406,-34.147846,-28.00275,-37.828953,-40.650425,-30.18014,-44.230965,-37.21851,-32.210274,-32.335636,-32.335636,-22.453712,-13.597818,-15.080472,-9.700711,-4.6014705,-8.713374,-5.40863,-7.25585,-58.142567,-80.54105,-65.66132,-60.693817,-68.79782,-56.331768,-59.6658,-58.896732,-80.54105,-80.54105,-52.4423,-75.117805,-63.86145,-65.17875,-75.46598,-71.51011,-66.82441,-80.906624,-71.2144,-80.60167,-13.876974,-6.0261774,-6.0261774,-3.3049905,-1.3692907,-8.375637,-12.673135,-7.746855,-8.178407,-3.393972,-40.569492,-40.569492,-40.094486,-48.063454,-45.91043,-53.480267,-55.090565,-58.02226,-51.107346,-40.569492,15.132044,15.132044,5.696211,10.31906,2.2099912,-1.4955287,18.904573,1.6784873,14.421014,10.501287,-76.59282,-76.59282,-96.6831,-93.079575,-95.303986,-83.88133,-100.241104,-93.44944,-102.054054,-91.55771,112.8798,132.37733,132.37733,112.325356,107.35111,125.66009,107.73907,120.21322,116.73547,111.64625,98.33047,98.33047,98.33047,87.12582,75.56312,75.006714,83.317986,78.533195,98.33047,98.33047,19.974405,19.840904,24.446749,31.693275,29.29278,26.289076,19.974405,24.446749,31.693275,29.29278,-27.812933,-27.812933,-14.900579,-19.199879,-20.975548,-16.472214,-9.438867,-5.172944,-4.2076917,-5.172944,79.24744,79.24744,57.28727,57.28727,54.45458,57.177784,52.228172,60.77019,60.716644,53.796623,26.850916,26.850916,23.735388,26.069262,21.81296,28.715574,19.460499,23.721722,29.677383,24.726423,65.306175,50.125748,50.125748,49.626713,58.18255,53.852398,47.182003,55.98393,52.31374,63.196583,-132.91754,-132.91754,-110.18207,-113.097336,-110.69534,-106.515015,-113.72791,-116.018906,-132.91754,-132.91754,-61.530643,-61.530643,-47.867733,-46.849945,-43.93567,-43.617832,-61.530643,-43.47945,-61.530643,-61.530643,60.064423,60.064423,66.66995,64.38548,63.18546,56.667686,49.429962,63.851933,60.064423,56.667686,-4.648753,-4.648753,6.6611676,14.730738,2.112344,5.73529,-4.648753,5.73529,2.112344,14.730738,-130.13304,-130.13304,-112.777054,-115.77979,-102.064575,-102.01829,-130.13304,-102.064575,-112.777054,-102.064575,-115.611855,-115.611855,-102.2294,-99.19556,-100.37677,-94.022644,-92.22183,-96.88775,-115.611855,-115.611855,102.23857,102.23857,100.29887,100.92081,100.92081,107.82753,93.23935,95.951546,102.23857,102.21704,6.469208,4.6694937,5.069543,9.040776,12.955709,4.6694937,7.0381107,9.040776,12.955709,6.469208,-20.223204,-31.987595,-34.03911,-30.374594,-28.039278,-31.987595,-34.03911,-30.374594,-28.039278,-20.223204,-55.766865,-52.348755,-66.17169,-52.857094,-56.872654,-61.425114,-62.456345,-52.348755,-66.17169,-52.857094,-28.466309,-40.587524,-40.561577,-45.71258,-39.21889,-49.737034,-48.973656,-46.666943,-28.466309,-28.466309,-58.08036,-75.484764,-69.660736,-75.807686,-81.04726,-67.4505,-75.484764,-69.28359,-75.807686,-81.04726,130.5571,115.03512,126.97404,130.5571,115.03512,120.260796,119.37985,124.52108,106.69787,106.69787,-138.15048,-99.241165,-92.41134,-104.164825,-95.042015,-138.15048,-108.73462,-99.241165,-92.41134,-95.042015,41.9747,41.9747,36.3012,30.50765,39.91343,35.845623,27.404966,25.176725,41.971752,30.405882,31.458755,31.458755,40.95648,30.847326,37.714497,35.872566,31.458755,40.95648,30.847326,37.714497,19.70111,0.6565888,7.1664476,6.7996764,0.82588303,2.996338,8.314208,19.70111,0.6565888,7.1664476,56.35623,66.75545,57.480335,62.509186,57.265842,57.59833,56.35623,66.75545,57.480335,62.509186,126.40298,138.9766,140.44617,131.8612,128.796,129.72432,139.38196,138.95544,135.37996,134.9305,-118.34848,-118.34848,-93.5742,-91.26173,-94.23318,-106.860306,-85.26692,-118.34848,-91.27409,-89.43272,79.10886,79.10886,67.29831,60.93282,40.717796,62.367348,79.10886,67.29831,60.93282,40.717796,84.41849,84.41849,94.233894,98.31888,99.17424,106.87315,101.60928,105.78373,109.92856,108.39367,53.67227,40.963013,40.963013,48.64539,47.57106,41.75636,51.201855,41.635185,46.436245,53.67227,-13.816917,-5.429353,-0.34631637,5.4441066,2.7956157,6.2008066,2.408285,12.025192,5.117042,11.938685,-70.58797,-65.05922,-70.338646,-56.781425,-62.881145,-68.09129,-62.290497,-68.14037,-74.02208,-71.34651,68.2989,71.57289,73.95505,78.171364,78.84539,80.133736,76.5421,68.48345,68.48345,74.69846,-20.538406,-20.538406,-34.147846,-28.00275,-36.623672,-40.650425,-30.18014,-44.230965,-37.21851,-32.210274,-32.335636,-32.335636,-22.453712,-13.597818,-15.080472,-9.700711,-4.6014705,-8.713374,-5.40863,-7.656493,-59.6658,-80.54105,-65.66132,-60.693817,-68.79782,-56.331768,-59.6658,-58.896732,-80.54105,-80.54105,-52.4423,-75.117805,-63.86145,-65.17875,-75.46598,-71.51011,-66.82441,-80.906624,-72.302795,-80.60167,-13.876974,-6.0261774,-6.0261774,-3.3049905,-1.3692907,-8.375637,-12.673135,-7.746855,-8.178407,-3.393972,-40.569492,-40.569492,-40.094486,-48.063454,-47.43021,-53.480267,-55.090565,-58.02226,-51.107346,-40.569492,15.132044,15.132044,5.696211,10.31906,2.2099912,-1.4955287,18.904573,1.6784873,14.421014,10.501287,-76.59282,-76.59282,-96.6831,-93.079575,-95.303986,-83.88133,-100.241104,-92.056404,-102.054054,-91.55771,112.8798,132.37733,132.37733,112.325356,107.35111,125.66009,107.73907,120.21322,116.73547,111.64625,98.33047,98.33047,98.33047,87.12582,75.56312,75.006714,83.317986,78.533195,98.33047,98.33047,19.974405,19.974405,25.624706,31.693275,29.29278,26.289076,19.974405,24.446749,31.693275,29.29278,-27.812933,-27.812933,-15.26885,-19.199879,-20.975548,-16.472214,-9.438867,-5.172944,-4.2076917,-5.172944,79.24744,79.24744,57.28727,57.28727,54.45458,57.177784,52.228172,60.77019,60.716644,53.796623,26.850916,26.850916,25.40669,26.069262,21.81296,28.715574,19.460499,23.721722,29.677383,24.726423,65.306175,50.125748,50.125748,49.626713,58.18255,53.852398,47.182003,55.98393,52.31374,63.196583,-132.91754,-132.91754,-110.18207,-113.097336,-110.69534,-106.515015,-113.72791,-116.018906,-132.91754,-132.91754,-61.530643,-61.530643,-47.867733,-46.849945,-43.93567,-43.617832,-61.530643,-43.47945,-61.530643,-61.530643,60.064423,60.064423,66.66995,64.38548,63.18546,56.667686,49.429962,63.851933,60.064423,56.667686,-4.648753,-4.648753,6.6611676,14.730738,2.112344,5.73529,-4.648753,5.73529,2.112344,14.730738,-130.13304,-130.13304,-112.777054,-115.77979,-102.064575,-102.01829,-130.13304,-102.064575,-112.777054,-102.064575,-115.611855,-115.611855,-102.2294,-99.19556,-100.37677,-94.022644,-92.22183,-96.88775,-115.611855,-115.611855,102.23857,102.23857,100.29887,102.21704,102.21704,107.82753,93.23935,95.951546,102.23857,102.21704,6.469208,-20.223204,-55.766865,-28.466309,-58.08036,106.69787,-108.73462,41.9747,31.458755,19.70111,56.35623,126.40298,-118.34848,79.10886,84.41849,40.963013,-13.816917,-56.781425,68.48345,-20.538406,-32.335636,-80.54105,-52.4423,-6.0261774,-40.569492,15.132044,-76.59282,132.37733,98.33047,28.69272,-27.812933,79.24744,26.850916,50.125748,-132.91754,-61.530643,60.064423,-4.648753,-130.13304,-115.611855,102.23857,6.469208,-20.223204,-55.766865,-28.466309,-58.08036,106.69787,-108.73462,41.9747,31.458755,19.70111,56.35623,126.40298,-118.34848,79.10886,84.41849,40.963013,-13.816917,-56.781425,68.48345,-20.538406,-32.335636,-80.54105,-52.4423,-6.0261774,-40.569492,15.132044,-76.59282,132.37733,98.33047,28.69272,-27.812933,79.24744,26.850916,50.125748,-132.91754,-61.530643,60.064423,-4.648753,-130.13304,-115.611855,102.23857,6.469208,-20.223204,-55.766865,-28.466309,-58.08036,140.06735,-108.73462,41.9747,31.458755,-11.78061,56.35623,126.40298,-118.34848,79.10886,84.41849,40.963013,-13.816917,-56.781425,68.48345,-20.538406,-32.335636,-80.54105,-52.4423,-6.0261774,-40.569492,15.132044,-76.59282,132.37733,98.33047,37.915657,-27.812933,79.24744,26.850916,50.125748,-132.91754,-61.530643,60.064423,-4.648753,-130.13304,-115.611855,102.23857,6.469208,-20.223204,-55.766865,-28.466309,-58.08036,140.06735,-108.73462,41.9747,31.458755,-11.78061,56.35623,126.40298,-118.34848,79.10886,84.41849,40.963013,-13.816917,-56.781425,68.48345,-20.538406,-32.335636,-80.54105,-52.4423,-6.0261774,-40.569492,15.132044,-76.59282,132.37733,98.33047,37.915657,-27.812933,79.24744,26.850916,50.125748,-132.91754,-61.530643,60.064423,-4.648753,-130.13304,-115.611855,102.23857,6.469208,-20.223204,-55.766865,-28.466309,-58.08036,140.06735,-108.73462,41.9747,31.458755,-11.78061,56.35623,126.40298,-118.34848,79.10886,84.41849,40.963013,-13.816917,-56.781425,68.48345,-20.538406,-32.335636,-80.54105,-52.4423,-6.0261774,-40.569492,15.132044,-76.59282,132.37733,98.33047,37.915657,-27.812933,79.24744,26.850916,50.125748,-132.91754,-61.530643,60.064423,-4.648753,-130.13304,-115.611855,102.23857,6.469208,-20.223204,-55.766865,-28.466309,-58.08036,140.06735,-108.73462,41.9747,31.458755,-11.78061,56.35623,126.40298,-118.34848,79.10886,84.41849,40.963013,-13.816917,-56.781425,68.48345,-20.538406,-32.335636,-80.54105,-52.4423,-6.0261774,-40.569492,15.132044,-76.59282,132.37733,98.33047,37.915657,-27.812933,79.24744,26.850916,50.125748,-132.91754,-61.530643,60.064423,-4.648753,-130.13304,-115.611855,102.23857,6.469208,-20.223204,-55.766865,-28.466309,-58.08036,140.06735,-108.73462,41.9747,31.458755,-11.78061,56.35623,126.40298,-118.34848,79.10886,84.41849,40.963013,-13.816917,-56.781425,68.48345,-20.538406,-32.335636,-80.54105,-52.4423,-6.0261774,-40.569492,15.132044,-76.59282,132.37733,98.33047,37.915657,-27.812933,79.24744,26.850916,50.125748,-132.91754,-61.530643,60.064423,-4.648753,-130.13304,-115.611855,102.23857,6.469208,-20.223204,-55.766865,-28.466309,-58.08036,140.06735,-108.73462,41.9747,31.458755,-11.78061,56.35623,126.40298,-118.34848,79.10886,84.41849,40.963013,-13.816917,-56.781425,68.48345,-20.538406,-32.335636,-80.54105,-52.4423,-6.0261774,-40.569492,15.132044,-76.59282,132.37733,98.33047,37.915657,-27.812933,79.24744,26.850916,50.125748,-132.91754,-61.530643,60.064423,-4.648753,-130.13304,-115.611855,102.23857,6.469208,-20.223204,-55.766865,-28.466309,-58.08036,140.06735,-108.73462,41.9747,31.458755,-11.78061,53.0786,126.40298,-118.34848,79.10886,84.41849,40.963013,-13.816917,-56.781425,68.48345,-20.538406,-32.335636,-80.54105,-52.4423,-6.0261774,-40.569492,15.132044,-76.59282,132.37733,98.33047,37.915657,-27.812933,79.24744,26.850916,50.125748,-132.91754,-61.530643,72.45297,-4.648753,-130.13304,-115.611855,102.23857,6.469208,-20.223204,-55.766865,-28.466309,-58.08036,140.06735,-108.73462,41.9747,31.458755,-11.78061,53.0786,126.40298,-118.34848,79.10886,84.41849,40.963013,-13.816917,-56.781425,68.48345,-20.538406,-32.335636,-80.54105,-52.4423,-6.0261774,-40.569492,15.132044,-76.59282,132.37733,98.33047,37.915657,-27.812933,79.24744,26.850916,50.125748,-132.91754,-61.530643,72.45297,-4.648753,-130.13304,-115.611855,102.23857,6.469208,-20.223204,-55.766865,-28.466309,-58.08036,140.06735,-108.73462,41.9747,31.458755,-11.78061,53.0786,126.40298,-118.34848,79.10886,84.41849,40.963013,-13.816917,-56.781425,68.48345,-20.538406,-32.335636,-80.54105,-52.4423,-6.0261774,-40.569492,15.132044,-76.59282,132.37733,98.33047,37.915657,-27.812933,79.24744,26.850916,50.125748,-132.91754,-61.530643,72.45297,-4.648753,-130.13304,-115.611855,102.23857,6.469208,-20.223204,-55.766865,-28.466309,-58.08036,140.06735,-108.73462,41.9747,31.458755,-11.78061,53.0786,126.40298,-118.34848,79.10886,84.41849,40.963013,-13.816917,-56.781425,68.48345,-20.538406,-32.335636,-80.54105,-52.4423,-6.0261774,-40.569492,15.132044,-76.59282,132.37733,98.33047,37.915657,-27.812933,79.24744,26.850916,50.125748,-132.91754,-61.530643,72.45297,-4.648753,-130.13304,-115.611855,102.23857,6.469208,-20.223204,-55.766865,-28.466309,-58.08036,140.06735,-108.73462,41.9747,31.458755,-11.78061,53.0786,126.40298,-118.34848,79.10886,84.41849,40.963013,-13.816917,-56.781425,68.48345,-20.538406,-32.335636,-80.54105,-52.4423,-6.0261774,-40.569492,15.132044,-76.59282,132.37733,98.33047,37.915657,-27.812933,79.24744,26.850916,50.125748,-132.91754,-61.530643,72.45297,-4.648753,-130.13304,-115.611855,102.23857,6.469208,-20.223204,-55.766865,-28.466309,-58.08036,140.06735,-108.73462,41.9747,31.458755,-11.78061,53.0786,126.40298,-118.34848,79.10886,84.41849,40.963013,-13.816917,-56.781425,68.48345,-20.538406,-32.335636,-80.54105,-52.4423,-6.0261774,-40.569492,15.132044,-76.59282,132.37733,98.33047,37.915657,-27.812933,79.24744,26.850916,50.125748,-132.91754,-61.530643,72.45297,-4.648753,-130.13304,-115.611855,102.23857,6.469208,-20.223204,-55.766865,-28.466309,-58.08036,140.06735,-108.73462,41.9747,36.644955,-11.78061,53.0786,126.40298,-118.34848,79.10886,84.41849,40.963013,-13.816917,-56.781425,68.48345,-20.538406,-32.335636,-80.54105,-52.4423,-6.0261774,-40.569492,15.132044,-76.59282,132.37733,98.33047,37.915657,-27.812933,79.24744,26.850916,50.125748,-132.91754,-61.530643,78.714485,-4.648753,-130.13304,-115.611855,102.23857,6.469208,-20.223204,-55.766865,-28.466309,-58.08036,140.06735,-108.73462,41.9747,36.644955,-11.78061,53.0786,126.40298,-118.34848,79.10886,84.41849,40.963013,-13.816917,-56.781425,68.48345,-20.538406,-32.335636,-80.54105,-52.4423,-6.0261774,-40.569492,15.132044,-76.59282,132.37733,98.33047,37.915657,-27.812933,79.24744,26.850916,50.125748,-132.91754,-61.530643,78.714485,-4.648753,-130.13304,-115.611855,102.23857,6.469208,-20.223204,-55.766865,-28.466309,-58.08036,140.06735,-108.73462,41.9747,36.644955,-11.78061,53.0786,126.40298,-118.34848,79.10886,84.41849,40.963013,-13.816917,-56.781425,68.48345,-20.538406,-32.335636,-80.54105,-52.4423,-6.0261774,-40.569492,15.132044,-76.59282,132.37733,98.33047,37.915657,-27.812933,79.24744,26.850916,50.125748,-132.91754,-61.530643,78.714485,-4.648753,-130.13304,-115.611855,102.23857,6.469208,-20.223204,-55.766865,-28.466309,-58.08036,140.06735,-108.73462,41.9747,36.644955,-11.78061,53.0786,126.40298,-118.34848,79.10886,84.41849,40.963013,-13.816917,-56.781425,68.48345,-20.538406,-32.335636,-80.54105,-52.4423,-6.0261774,-40.569492,15.132044,-76.59282,132.37733,98.33047,37.915657,-27.812933,79.24744,26.850916,50.125748,-132.91754,-61.530643,78.714485,-4.648753,-130.13304,-115.611855,102.23857,6.469208,-20.223204,-55.766865,-28.466309,-58.08036,140.06735,-108.73462,41.9747,36.644955,-11.78061,53.0786,126.40298,-118.34848,79.10886,84.41849,40.963013,-13.816917,-56.781425,68.48345,-20.538406,-32.335636,-80.54105,-52.4423,-6.0261774,-40.569492,15.132044,-76.59282,132.37733,98.33047,37.915657,-27.812933,79.24744,26.850916,50.125748,-132.91754,-61.530643,78.714485,-4.648753,-130.13304,-115.611855,102.23857,6.469208,-20.223204,-55.766865,-28.466309,-58.08036,140.06735,-108.73462,41.9747,36.644955,-11.78061,53.0786,126.40298,-118.34848,79.10886,84.41849,40.963013,-13.816917,-56.781425,68.48345,-20.538406,-32.335636,-80.54105,-52.4423,-6.0261774,-40.569492,15.132044,-76.59282,132.37733,98.33047,37.915657,-27.812933,79.24744,26.850916,50.125748,-132.91754,-61.530643,78.714485,-4.648753,-130.13304,-115.611855,102.23857,1.363488,-20.223204,-55.766865,-29.903776,-58.08036,120.802376,-84.4231,41.9747,36.644955,-11.78061,53.0786,126.40298,-118.34848,79.10886,84.41849,40.963013,-13.816917,-56.781425,68.48345,-20.538406,-32.335636,-80.54105,-52.4423,-6.0261774,-40.569492,15.132044,-76.59282,132.37733,98.33047,37.915657,-27.812933,79.24744,26.850916,50.125748,-132.91754,-61.530643,78.714485,-4.648753,-130.13304,-115.611855,102.23857,1.363488,-20.223204,-55.766865,-29.903776,-58.08036,120.802376,-84.4231,41.9747,36.644955,-11.78061,53.0786,126.40298,-118.34848,79.10886,84.41849,40.963013,-13.816917,-56.781425,68.48345,-20.538406,-32.335636,-80.54105,-52.4423,-6.0261774,-40.569492,15.132044,-76.59282,132.37733,98.33047,37.915657,-27.812933,79.24744,26.850916,50.125748,-132.91754,-61.530643,78.714485,-4.648753,-130.13304,-115.611855,102.23857,1.363488,-20.223204,-55.766865,-29.903776,-58.08036,120.802376,-84.4231,41.9747,36.644955,-11.78061,53.0786,126.40298,-118.34848,79.10886,84.41849,40.963013,-13.816917,-56.781425,68.48345,-20.538406,-32.335636,-80.54105,-52.4423,-6.0261774,-40.569492,15.132044,-76.59282,132.37733,98.33047,37.915657,-27.812933,79.24744,26.850916,50.125748,-132.91754,-61.530643,78.714485,-4.648753,-130.13304,-115.611855,102.23857,1.363488,-20.223204,-55.766865,-29.903776,-58.08036,120.802376,-84.4231,41.9747,36.644955,-11.78061,53.0786,126.40298,-118.34848,79.10886,84.41849,40.963013,-13.816917,-56.781425,68.48345,-20.538406,-32.335636,-80.54105,-52.4423,-6.0261774,-40.569492,15.132044,-76.59282,132.37733,98.33047,37.915657,-27.812933,79.24744,26.850916,50.125748,-132.91754,-61.530643,78.714485,-4.648753,-130.13304,-115.611855,102.23857,1.363488,-20.223204,-55.766865,-29.903776,-58.08036,120.802376,-84.4231,41.9747,36.644955,-11.78061,53.0786,126.40298,-118.34848,79.10886,84.41849,40.963013,-13.816917,-56.781425,68.48345,-20.538406,-32.335636,-80.54105,-52.4423,-6.0261774,-40.569492,15.132044,-76.59282,132.37733,98.33047,37.915657,-27.812933,79.24744,26.850916,50.125748,-132.91754,-61.530643,78.714485,-4.648753,-130.13304,-115.611855,102.23857,1.363488,-20.223204,-55.766865,-29.903776,-58.08036,120.802376,-84.4231,41.9747,36.644955,-11.78061,53.0786,126.40298,-118.34848,79.10886,84.41849,40.963013,-13.816917,-56.781425,68.48345,-20.538406,-32.335636,-80.54105,-52.4423,-6.0261774,-40.569492,15.132044,-76.59282,132.37733,98.33047,37.915657,-27.812933,79.24744,26.850916,50.125748,-132.91754,-61.530643,78.714485,-4.648753,-130.13304,-115.611855,102.23857,1.363488,-20.223204,-55.766865,-24.718723,-53.293053,120.802376,-84.4231,41.9747,36.644955,-11.78061,50.668648,148.33618,-118.34848,79.10886,84.41849,40.963013,-13.816917,-56.781425,68.48345,-20.538406,-32.335636,-71.516594,-52.4423,-6.0261774,-40.569492,15.132044,-76.59282,132.37733,98.33047,37.915657,-27.812933,79.24744,26.850916,50.125748,-132.91754,-61.530643,78.714485,-4.648753,-130.13304,-115.611855,102.23857,1.363488,-20.223204,-55.766865,-24.718723,-53.293053,120.802376,-84.4231,41.9747,36.644955,-11.78061,50.668648,148.33618,-118.34848,79.10886,84.41849,40.963013,-13.816917,-56.781425,68.48345,-20.538406,-32.335636,-71.516594,-52.4423,-6.0261774,-40.569492,15.132044,-76.59282,132.37733,98.33047,37.915657,-27.812933,79.24744,26.850916,50.125748,-132.91754,-61.530643,78.714485,-4.648753,-130.13304,-115.611855,102.23857,1.363488,-20.223204,-55.766865,-24.718723,-53.293053,120.802376,-84.4231,41.9747,36.644955,-11.78061,50.668648,148.33618,-118.34848,79.10886,84.41849,40.963013,-13.816917,-56.781425,68.48345,-20.538406,-32.335636,-71.516594,-52.4423,-6.0261774,-40.569492,15.132044,-76.59282,132.37733,98.33047,37.915657,-27.812933,79.24744,26.850916,50.125748,-132.91754,-61.530643,78.714485,-4.648753,-130.13304,-115.611855,102.23857,1.363488,-20.223204,-55.766865,-24.718723,-53.293053,120.802376,-84.4231,41.9747,36.644955,-11.78061,50.668648,148.33618,-118.34848,79.10886,84.41849,40.963013,-13.816917,-56.781425,68.48345,-20.538406,-32.335636,-71.516594,-52.4423,-6.0261774,-40.569492,15.132044,-76.59282,132.37733,98.33047,37.915657,-27.812933,79.24744,26.850916,50.125748,-132.91754,-61.530643,78.714485,-4.648753,-130.13304,-115.611855,102.23857,1.363488,-20.223204,-55.766865,-24.718723,-53.293053,120.802376,-84.4231,41.9747,36.644955,-11.78061,50.668648,148.33618,-118.34848,79.10886,84.41849,40.963013,-13.816917,-56.781425,68.48345,-20.538406,-32.335636,-71.516594,-52.4423,-6.0261774,-40.569492,15.132044,-76.59282,132.37733,98.33047,37.915657,-27.812933,79.24744,26.850916,50.125748,-132.91754,-61.530643,78.714485,-4.648753,-130.13304,-115.611855,102.23857,1.363488,-20.223204,-55.766865,-24.718723,-53.293053,120.802376,-84.4231,41.9747,36.644955,-11.78061,50.668648,148.33618,-118.34848,79.10886,84.41849,40.963013,-13.816917,-56.781425,68.48345,-20.538406,-32.335636,-71.516594,-52.4423,-6.0261774,-40.569492,15.132044,-76.59282,132.37733,98.33047,37.915657,-27.812933,79.24744,26.850916,50.125748,-132.91754,-61.530643,78.714485,-4.648753,-130.13304,-115.611855,102.23857,2.830417,-24.952524,-37.193195,-24.718723,-61.12854,135.27005,-127.77871,51.71976,35.285545,2.1685493,50.668648,139.23041,-109.4983,79.10886,94.13093,66.54189,-23.530663,-77.30867,89.44873,-25.252321,-9.028159,-85.60509,-36.985348,-1.0808638,-36.28849,10.633438,-72.93469,118.59666,99.44369,37.915657,-29.13977,35.955746,21.775179,55.051365,-160.40523,-91.87439,79.36838,-9.721655,-147.53137,-104.44622,119.53283,2.830417,-24.952524,-37.193195,-24.718723,-61.12854,135.27005,-127.77871,51.71976,35.285545,2.1685493,50.668648,139.23041,-109.4983,79.10886,94.13093,66.54189,-23.530663,-77.30867,89.44873,-25.252321,-9.028159,-85.60509,-36.985348,-1.0808638,-36.28849,10.633438,-72.93469,118.59666,99.44369,37.915657,-29.13977,35.955746,21.775179,55.051365,-160.40523,-91.87439,79.36838,-9.721655,-147.53137,-104.44622,119.53283,2.830417,-24.952524,-37.193195,-24.718723,-61.12854,135.27005,-127.77871,51.71976,35.285545,2.1685493,50.668648,139.23041,-109.4983,79.10886,94.13093,66.54189,-23.530663,-77.30867,89.44873,-25.252321,-9.028159,-85.60509,-36.985348,-1.0808638,-36.28849,10.633438,-72.93469,118.59666,99.44369,37.915657,-29.13977,35.955746,21.775179,55.051365,-160.40523,-91.87439,79.36838,-9.721655,-147.53137,-104.44622,119.53283,2.830417,-24.952524,-37.193195,-24.718723,-61.12854,135.27005,-127.77871,51.71976,35.285545,2.1685493,50.668648,139.23041,-109.4983,79.10886,94.13093,66.54189,-23.530663,-77.30867,89.44873,-25.252321,-9.028159,-85.60509,-36.985348,-1.0808638,-36.28849,10.633438,-72.93469,118.59666,99.44369,37.915657,-29.13977,35.955746,21.775179,55.051365,-160.40523,-91.87439,79.36838,-9.721655,-147.53137,-104.44622,119.53283,2.830417,-24.952524,-37.193195,-24.718723,-61.12854,135.27005,-127.77871,51.71976,35.285545,2.1685493,50.668648,139.23041,-109.4983,79.10886,94.13093,66.54189,-23.530663,-77.30867,89.44873,-25.252321,-9.028159,-85.60509,-36.985348,-1.0808638,-36.28849,10.633438,-72.93469,118.59666,99.44369,37.915657,-29.13977,35.955746,21.775179,55.051365,-160.40523,-91.87439,79.36838,-9.721655,-147.53137,-104.44622,119.53283,2.830417,-24.952524,-37.193195,-24.718723,-61.12854,135.27005,-127.77871,51.71976,35.285545,2.1685493,50.668648,139.23041,-109.4983,79.10886,94.13093,66.54189,-23.530663,-77.30867,89.44873,-25.252321,-9.028159,-85.60509,-36.985348,-1.0808638,-36.28849,10.633438,-72.93469,118.59666,99.44369,37.915657,-29.13977,35.955746,21.775179,55.051365,-160.40523,-91.87439,79.36838,-9.721655,-147.53137,-104.44622,119.53283,2.830417,-24.952524,-37.193195,-24.718723,-56.37506,135.27005,-127.77871,33.64223,35.285545,2.1685493,50.668648,155.27016,-109.4983,79.10886,94.13093,90.86502,-9.673563,-90.94094,90.463165,-25.252321,-9.028159,-73.238716,-60.178432,-1.943721,-35.432156,10.633438,-72.93469,125.185905,99.44369,73.60671,-29.13977,102.940765,21.775179,55.051365,-157.11873,-91.87439,79.36838,-9.721655,-147.53137,-141.9147,129.112,2.830417,-24.952524,-37.193195,-24.718723,-56.37506,135.27005,-127.77871,33.64223,35.285545,2.1685493,50.668648,155.27016,-109.4983,79.10886,94.13093,90.86502,-9.673563,-90.94094,90.463165,-25.252321,-9.028159,-73.238716,-60.178432,-1.943721,-35.432156,10.633438,-72.93469,125.185905,99.44369,73.60671,-29.13977,102.940765,21.775179,55.051365,-157.11873,-91.87439,79.36838,-9.721655,-147.53137,-141.9147,129.112,2.830417,-24.952524,-37.193195,-24.718723,-56.37506,135.27005,-127.77871,33.64223,35.285545,2.1685493,50.668648,155.27016,-109.4983,79.10886,94.13093,90.86502,-9.673563,-90.94094,90.463165,-25.252321,-9.028159,-73.238716,-60.178432,-1.943721,-35.432156,10.633438,-72.93469,125.185905,99.44369,73.60671,-29.13977,102.940765,21.775179,55.051365,-157.11873,-91.87439,79.36838,-9.721655,-147.53137,-141.9147,129.112,2.830417,-24.952524,-37.193195,-24.718723,-56.37506,135.27005,-127.77871,33.64223,35.285545,2.1685493,50.668648,155.27016,-109.4983,79.10886,94.13093,90.86502,-9.673563,-90.94094,90.463165,-25.252321,-9.028159,-73.238716,-60.178432,-1.943721,-35.432156,10.633438,-72.93469,125.185905,99.44369,73.60671,-29.13977,102.940765,21.775179,55.051365,-157.11873,-91.87439,79.36838,-9.721655,-147.53137,-141.9147,129.112,2.830417,-24.952524,-37.193195,-24.718723,-56.37506,135.27005,-127.77871,33.64223,35.285545,2.1685493,50.668648,155.27016,-109.4983,79.10886,94.13093,90.86502,-9.673563,-90.94094,90.463165,-25.252321,-9.028159,-73.238716,-60.178432,-1.943721,-35.432156,10.633438,-72.93469,125.185905,99.44369,73.60671,-29.13977,102.940765,21.775179,55.051365,-157.11873,-91.87439,79.36838,-9.721655,-147.53137,-141.9147,129.112,2.830417,-24.952524,-37.193195,-24.718723,-56.37506,135.27005,-127.77871,33.64223,35.285545,2.1685493,50.668648,155.27016,-109.4983,79.10886,94.13093,90.86502,-9.673563,-90.94094,90.463165,-25.252321,-9.028159,-73.238716,-60.178432,-1.943721,-35.432156,10.633438,-72.93469,125.185905,99.44369,73.60671,-29.13977,102.940765,21.775179,55.051365,-157.11873,-91.87439,79.36838,-9.721655,-147.53137,-141.9147,129.112,2.830417,-20.973835,-37.193195,-24.718723,-56.37506,150.02905,-127.77871,33.64223,30.54646,2.1685493,54.080795,155.27016,-109.4983,82.70388,94.13093,90.86502,14.366544,-90.94094,90.463165,-25.252321,-9.028159,-73.238716,-60.178432,-1.943721,-35.432156,19.931448,-76.61241,105.39681,84.61691,23.44366,-29.13977,60.373924,21.775179,47.14856,-157.11873,-91.87439,79.36838,-9.721655,-147.53137,-123.92846,129.112,2.830417,-20.973835,-37.193195,-24.718723,-56.37506,150.02905,-127.77871,33.64223,30.54646,2.1685493,54.080795,155.27016,-109.4983,82.70388,94.13093,90.86502,14.366544,-90.94094,90.463165,-25.252321,-9.028159,-73.238716,-60.178432,-1.943721,-35.432156,19.931448,-76.61241,105.39681,84.61691,23.44366,-29.13977,60.373924,21.775179,47.14856,-157.11873,-91.87439,79.36838,-9.721655,-147.53137,-123.92846,129.112,2.830417,-20.973835,-37.193195,-24.718723,-56.37506,150.02905,-127.77871,33.64223,30.54646,2.1685493,54.080795,155.27016,-109.4983,82.70388,94.13093,90.86502,14.366544,-90.94094,90.463165,-25.252321,-9.028159,-73.238716,-60.178432,-1.943721,-35.432156,19.931448,-76.61241,105.39681,84.61691,23.44366,-29.13977,60.373924,21.775179,47.14856,-157.11873,-91.87439,79.36838,-9.721655,-147.53137,-123.92846,129.112,2.830417,-20.973835,-37.193195,-24.718723,-56.37506,150.02905,-127.77871,33.64223,30.54646,2.1685493,54.080795,155.27016,-109.4983,82.70388,94.13093,90.86502,14.366544,-90.94094,90.463165,-25.252321,-9.028159,-73.238716,-60.178432,-1.943721,-35.432156,19.931448,-76.61241,105.39681,84.61691,23.44366,-29.13977,60.373924,21.775179,47.14856,-157.11873,-91.87439,79.36838,-9.721655,-147.53137,-123.92846,129.112,2.830417,-20.973835,-37.193195,-24.718723,-56.37506,150.02905,-127.77871,33.64223,30.54646,2.1685493,54.080795,155.27016,-109.4983,82.70388,94.13093,90.86502,14.366544,-90.94094,90.463165,-25.252321,-9.028159,-73.238716,-60.178432,-1.943721,-35.432156,19.931448,-76.61241,105.39681,84.61691,23.44366,-29.13977,60.373924,21.775179,47.14856,-157.11873,-91.87439,79.36838,-9.721655,-147.53137,-123.92846,129.112,2.830417,-20.973835,-37.193195,-24.718723,-56.37506,150.02905,-127.77871,33.64223,30.54646,2.1685493,54.080795,155.27016,-109.4983,82.70388,94.13093,90.86502,14.366544,-90.94094,90.463165,-25.252321,-9.028159,-73.238716,-60.178432,-1.943721,-35.432156,19.931448,-76.61241,105.39681,84.61691,23.44366,-29.13977,60.373924,21.775179,47.14856,-157.11873,-91.87439,79.36838,-9.721655,-147.53137,-123.92846,129.112,2.830417,-20.973835,-37.193195,-24.718723,-56.37506,150.02905,-127.77871,33.64223,30.54646,2.1685493,54.080795,155.72794,-109.4983,84.49101,94.13093,90.86502,14.366544,-90.94094,37.049995,-25.252321,-35.695675,-97.04438,-76.041016,-1.943721,-35.432156,17.169094,-72.58761,145.27357,18.074427,23.44366,-29.13977,60.373924,27.705673,51.68127,-157.11873,-91.87439,110.85134,-8.930203,-147.53137,-123.92846,129.112,2.830417,-20.973835,-37.193195,-24.718723,-56.37506,150.02905,-127.77871,33.64223,30.54646,2.1685493,54.080795,155.72794,-109.4983,84.49101,94.13093,90.86502,14.366544,-90.94094,37.049995,-25.252321,-35.695675,-97.04438,-76.041016,-1.943721,-35.432156,17.169094,-72.58761,145.27357,18.074427,23.44366,-29.13977,60.373924,27.705673,51.68127,-157.11873,-91.87439,110.85134,-8.930203,-147.53137,-123.92846,129.112,2.830417,-20.973835,-37.193195,-24.718723,-56.37506,150.02905,-127.77871,33.64223,30.54646,2.1685493,54.080795,155.72794,-109.4983,84.49101,94.13093,90.86502,14.366544,-90.94094,37.049995,-25.252321,-35.695675,-97.04438,-76.041016,-1.943721,-35.432156,17.169094,-72.58761,145.27357,18.074427,23.44366,-29.13977,60.373924,27.705673,51.68127,-157.11873,-91.87439,110.85134,-8.930203,-147.53137,-123.92846,129.112,2.830417,-20.973835,-37.193195,-24.718723,-56.37506,150.02905,-127.77871,33.64223,30.54646,2.1685493,54.080795,155.72794,-109.4983,84.49101,94.13093,90.86502,14.366544,-90.94094,37.049995,-25.252321,-35.695675,-97.04438,-76.041016,-1.943721,-35.432156,17.169094,-72.58761,145.27357,18.074427,23.44366,-29.13977,60.373924,27.705673,51.68127,-157.11873,-91.87439,110.85134,-8.930203,-147.53137,-123.92846,129.112,2.830417,-20.973835,-37.193195,-24.718723,-56.37506,150.02905,-127.77871,33.64223,30.54646,2.1685493,54.080795,155.72794,-109.4983,84.49101,94.13093,90.86502,14.366544,-90.94094,37.049995,-25.252321,-35.695675,-97.04438,-76.041016,-1.943721,-35.432156,17.169094,-72.58761,145.27357,18.074427,23.44366,-29.13977,60.373924,27.705673,51.68127,-157.11873,-91.87439,110.85134,-8.930203,-147.53137,-123.92846,129.112,2.830417,-20.973835,-37.193195,-24.718723,-56.37506,150.02905,-127.77871,33.64223,30.54646,2.1685493,54.080795,155.72794,-109.4983,84.49101,94.13093,90.86502,14.366544,-90.94094,37.049995,-25.252321,-35.695675,-97.04438,-76.041016,-1.943721,-35.432156,17.169094,-72.58761,145.27357,18.074427,23.44366,-29.13977,60.373924,27.705673,51.68127,-157.11873,-91.87439,110.85134,-8.930203,-147.53137,-123.92846,129.112,2.830417,-16.56414,-31.384396,-23.198668,-56.37506,150.02905,-157.31775,92.98612,30.54646,-16.665985,49.8381,158.62572,-109.4983,84.49101,71.87171,90.86502,14.366544,-89.38763,37.049995,-25.252321,-35.695675,-97.04438,-76.041016,-6.633401,-35.432156,13.575784,-70.89276,145.27357,18.074427,23.44366,-42.551456,118.03444,23.916998,51.68127,-157.11873,-91.87439,63.311985,-8.930203,-150.64859,-123.92846,129.112,2.830417,-16.56414,-31.384396,-23.198668,-56.37506,150.02905,-157.31775,92.98612,30.54646,-16.665985,49.8381,158.62572,-109.4983,84.49101,71.87171,90.86502,14.366544,-89.38763,37.049995,-25.252321,-35.695675,-97.04438,-76.041016,-6.633401,-35.432156,13.575784,-70.89276,145.27357,18.074427,23.44366,-42.551456,118.03444,23.916998,51.68127,-157.11873,-91.87439,63.311985,-8.930203,-150.64859,-123.92846,129.112,2.830417,-16.56414,-31.384396,-23.198668,-56.37506,150.02905,-157.31775,92.98612,30.54646,-16.665985,49.8381,158.62572,-109.4983,84.49101,71.87171,90.86502,14.366544,-89.38763,37.049995,-25.252321,-35.695675,-97.04438,-76.041016,-6.633401,-35.432156,13.575784,-70.89276,145.27357,18.074427,23.44366,-42.551456,118.03444,23.916998,51.68127,-157.11873,-91.87439,63.311985,-8.930203,-150.64859,-123.92846,129.112,2.830417,-16.56414,-31.384396,-23.198668,-56.37506,150.02905,-157.31775,92.98612,30.54646,-16.665985,49.8381,158.62572,-109.4983,84.49101,71.87171,90.86502,14.366544,-89.38763,37.049995,-25.252321,-35.695675,-97.04438,-76.041016,-6.633401,-35.432156,13.575784,-70.89276,145.27357,18.074427,23.44366,-42.551456,118.03444,23.916998,51.68127,-157.11873,-91.87439,63.311985,-8.930203,-150.64859,-123.92846,129.112],\"yaxis\":\"y\",\"type\":\"scattergl\"}],                        {\"template\":{\"data\":{\"histogram2dcontour\":[{\"type\":\"histogram2dcontour\",\"colorbar\":{\"outlinewidth\":0,\"ticks\":\"\"},\"colorscale\":[[0.0,\"#0d0887\"],[0.1111111111111111,\"#46039f\"],[0.2222222222222222,\"#7201a8\"],[0.3333333333333333,\"#9c179e\"],[0.4444444444444444,\"#bd3786\"],[0.5555555555555556,\"#d8576b\"],[0.6666666666666666,\"#ed7953\"],[0.7777777777777778,\"#fb9f3a\"],[0.8888888888888888,\"#fdca26\"],[1.0,\"#f0f921\"]]}],\"choropleth\":[{\"type\":\"choropleth\",\"colorbar\":{\"outlinewidth\":0,\"ticks\":\"\"}}],\"histogram2d\":[{\"type\":\"histogram2d\",\"colorbar\":{\"outlinewidth\":0,\"ticks\":\"\"},\"colorscale\":[[0.0,\"#0d0887\"],[0.1111111111111111,\"#46039f\"],[0.2222222222222222,\"#7201a8\"],[0.3333333333333333,\"#9c179e\"],[0.4444444444444444,\"#bd3786\"],[0.5555555555555556,\"#d8576b\"],[0.6666666666666666,\"#ed7953\"],[0.7777777777777778,\"#fb9f3a\"],[0.8888888888888888,\"#fdca26\"],[1.0,\"#f0f921\"]]}],\"heatmap\":[{\"type\":\"heatmap\",\"colorbar\":{\"outlinewidth\":0,\"ticks\":\"\"},\"colorscale\":[[0.0,\"#0d0887\"],[0.1111111111111111,\"#46039f\"],[0.2222222222222222,\"#7201a8\"],[0.3333333333333333,\"#9c179e\"],[0.4444444444444444,\"#bd3786\"],[0.5555555555555556,\"#d8576b\"],[0.6666666666666666,\"#ed7953\"],[0.7777777777777778,\"#fb9f3a\"],[0.8888888888888888,\"#fdca26\"],[1.0,\"#f0f921\"]]}],\"heatmapgl\":[{\"type\":\"heatmapgl\",\"colorbar\":{\"outlinewidth\":0,\"ticks\":\"\"},\"colorscale\":[[0.0,\"#0d0887\"],[0.1111111111111111,\"#46039f\"],[0.2222222222222222,\"#7201a8\"],[0.3333333333333333,\"#9c179e\"],[0.4444444444444444,\"#bd3786\"],[0.5555555555555556,\"#d8576b\"],[0.6666666666666666,\"#ed7953\"],[0.7777777777777778,\"#fb9f3a\"],[0.8888888888888888,\"#fdca26\"],[1.0,\"#f0f921\"]]}],\"contourcarpet\":[{\"type\":\"contourcarpet\",\"colorbar\":{\"outlinewidth\":0,\"ticks\":\"\"}}],\"contour\":[{\"type\":\"contour\",\"colorbar\":{\"outlinewidth\":0,\"ticks\":\"\"},\"colorscale\":[[0.0,\"#0d0887\"],[0.1111111111111111,\"#46039f\"],[0.2222222222222222,\"#7201a8\"],[0.3333333333333333,\"#9c179e\"],[0.4444444444444444,\"#bd3786\"],[0.5555555555555556,\"#d8576b\"],[0.6666666666666666,\"#ed7953\"],[0.7777777777777778,\"#fb9f3a\"],[0.8888888888888888,\"#fdca26\"],[1.0,\"#f0f921\"]]}],\"surface\":[{\"type\":\"surface\",\"colorbar\":{\"outlinewidth\":0,\"ticks\":\"\"},\"colorscale\":[[0.0,\"#0d0887\"],[0.1111111111111111,\"#46039f\"],[0.2222222222222222,\"#7201a8\"],[0.3333333333333333,\"#9c179e\"],[0.4444444444444444,\"#bd3786\"],[0.5555555555555556,\"#d8576b\"],[0.6666666666666666,\"#ed7953\"],[0.7777777777777778,\"#fb9f3a\"],[0.8888888888888888,\"#fdca26\"],[1.0,\"#f0f921\"]]}],\"mesh3d\":[{\"type\":\"mesh3d\",\"colorbar\":{\"outlinewidth\":0,\"ticks\":\"\"}}],\"scatter\":[{\"fillpattern\":{\"fillmode\":\"overlay\",\"size\":10,\"solidity\":0.2},\"type\":\"scatter\"}],\"parcoords\":[{\"type\":\"parcoords\",\"line\":{\"colorbar\":{\"outlinewidth\":0,\"ticks\":\"\"}}}],\"scatterpolargl\":[{\"type\":\"scatterpolargl\",\"marker\":{\"colorbar\":{\"outlinewidth\":0,\"ticks\":\"\"}}}],\"bar\":[{\"error_x\":{\"color\":\"#2a3f5f\"},\"error_y\":{\"color\":\"#2a3f5f\"},\"marker\":{\"line\":{\"color\":\"#E5ECF6\",\"width\":0.5},\"pattern\":{\"fillmode\":\"overlay\",\"size\":10,\"solidity\":0.2}},\"type\":\"bar\"}],\"scattergeo\":[{\"type\":\"scattergeo\",\"marker\":{\"colorbar\":{\"outlinewidth\":0,\"ticks\":\"\"}}}],\"scatterpolar\":[{\"type\":\"scatterpolar\",\"marker\":{\"colorbar\":{\"outlinewidth\":0,\"ticks\":\"\"}}}],\"histogram\":[{\"marker\":{\"pattern\":{\"fillmode\":\"overlay\",\"size\":10,\"solidity\":0.2}},\"type\":\"histogram\"}],\"scattergl\":[{\"type\":\"scattergl\",\"marker\":{\"colorbar\":{\"outlinewidth\":0,\"ticks\":\"\"}}}],\"scatter3d\":[{\"type\":\"scatter3d\",\"line\":{\"colorbar\":{\"outlinewidth\":0,\"ticks\":\"\"}},\"marker\":{\"colorbar\":{\"outlinewidth\":0,\"ticks\":\"\"}}}],\"scattermapbox\":[{\"type\":\"scattermapbox\",\"marker\":{\"colorbar\":{\"outlinewidth\":0,\"ticks\":\"\"}}}],\"scatterternary\":[{\"type\":\"scatterternary\",\"marker\":{\"colorbar\":{\"outlinewidth\":0,\"ticks\":\"\"}}}],\"scattercarpet\":[{\"type\":\"scattercarpet\",\"marker\":{\"colorbar\":{\"outlinewidth\":0,\"ticks\":\"\"}}}],\"carpet\":[{\"aaxis\":{\"endlinecolor\":\"#2a3f5f\",\"gridcolor\":\"white\",\"linecolor\":\"white\",\"minorgridcolor\":\"white\",\"startlinecolor\":\"#2a3f5f\"},\"baxis\":{\"endlinecolor\":\"#2a3f5f\",\"gridcolor\":\"white\",\"linecolor\":\"white\",\"minorgridcolor\":\"white\",\"startlinecolor\":\"#2a3f5f\"},\"type\":\"carpet\"}],\"table\":[{\"cells\":{\"fill\":{\"color\":\"#EBF0F8\"},\"line\":{\"color\":\"white\"}},\"header\":{\"fill\":{\"color\":\"#C8D4E3\"},\"line\":{\"color\":\"white\"}},\"type\":\"table\"}],\"barpolar\":[{\"marker\":{\"line\":{\"color\":\"#E5ECF6\",\"width\":0.5},\"pattern\":{\"fillmode\":\"overlay\",\"size\":10,\"solidity\":0.2}},\"type\":\"barpolar\"}],\"pie\":[{\"automargin\":true,\"type\":\"pie\"}]},\"layout\":{\"autotypenumbers\":\"strict\",\"colorway\":[\"#636efa\",\"#EF553B\",\"#00cc96\",\"#ab63fa\",\"#FFA15A\",\"#19d3f3\",\"#FF6692\",\"#B6E880\",\"#FF97FF\",\"#FECB52\"],\"font\":{\"color\":\"#2a3f5f\"},\"hovermode\":\"closest\",\"hoverlabel\":{\"align\":\"left\"},\"paper_bgcolor\":\"white\",\"plot_bgcolor\":\"#E5ECF6\",\"polar\":{\"bgcolor\":\"#E5ECF6\",\"angularaxis\":{\"gridcolor\":\"white\",\"linecolor\":\"white\",\"ticks\":\"\"},\"radialaxis\":{\"gridcolor\":\"white\",\"linecolor\":\"white\",\"ticks\":\"\"}},\"ternary\":{\"bgcolor\":\"#E5ECF6\",\"aaxis\":{\"gridcolor\":\"white\",\"linecolor\":\"white\",\"ticks\":\"\"},\"baxis\":{\"gridcolor\":\"white\",\"linecolor\":\"white\",\"ticks\":\"\"},\"caxis\":{\"gridcolor\":\"white\",\"linecolor\":\"white\",\"ticks\":\"\"}},\"coloraxis\":{\"colorbar\":{\"outlinewidth\":0,\"ticks\":\"\"}},\"colorscale\":{\"sequential\":[[0.0,\"#0d0887\"],[0.1111111111111111,\"#46039f\"],[0.2222222222222222,\"#7201a8\"],[0.3333333333333333,\"#9c179e\"],[0.4444444444444444,\"#bd3786\"],[0.5555555555555556,\"#d8576b\"],[0.6666666666666666,\"#ed7953\"],[0.7777777777777778,\"#fb9f3a\"],[0.8888888888888888,\"#fdca26\"],[1.0,\"#f0f921\"]],\"sequentialminus\":[[0.0,\"#0d0887\"],[0.1111111111111111,\"#46039f\"],[0.2222222222222222,\"#7201a8\"],[0.3333333333333333,\"#9c179e\"],[0.4444444444444444,\"#bd3786\"],[0.5555555555555556,\"#d8576b\"],[0.6666666666666666,\"#ed7953\"],[0.7777777777777778,\"#fb9f3a\"],[0.8888888888888888,\"#fdca26\"],[1.0,\"#f0f921\"]],\"diverging\":[[0,\"#8e0152\"],[0.1,\"#c51b7d\"],[0.2,\"#de77ae\"],[0.3,\"#f1b6da\"],[0.4,\"#fde0ef\"],[0.5,\"#f7f7f7\"],[0.6,\"#e6f5d0\"],[0.7,\"#b8e186\"],[0.8,\"#7fbc41\"],[0.9,\"#4d9221\"],[1,\"#276419\"]]},\"xaxis\":{\"gridcolor\":\"white\",\"linecolor\":\"white\",\"ticks\":\"\",\"title\":{\"standoff\":15},\"zerolinecolor\":\"white\",\"automargin\":true,\"zerolinewidth\":2},\"yaxis\":{\"gridcolor\":\"white\",\"linecolor\":\"white\",\"ticks\":\"\",\"title\":{\"standoff\":15},\"zerolinecolor\":\"white\",\"automargin\":true,\"zerolinewidth\":2},\"scene\":{\"xaxis\":{\"backgroundcolor\":\"#E5ECF6\",\"gridcolor\":\"white\",\"linecolor\":\"white\",\"showbackground\":true,\"ticks\":\"\",\"zerolinecolor\":\"white\",\"gridwidth\":2},\"yaxis\":{\"backgroundcolor\":\"#E5ECF6\",\"gridcolor\":\"white\",\"linecolor\":\"white\",\"showbackground\":true,\"ticks\":\"\",\"zerolinecolor\":\"white\",\"gridwidth\":2},\"zaxis\":{\"backgroundcolor\":\"#E5ECF6\",\"gridcolor\":\"white\",\"linecolor\":\"white\",\"showbackground\":true,\"ticks\":\"\",\"zerolinecolor\":\"white\",\"gridwidth\":2}},\"shapedefaults\":{\"line\":{\"color\":\"#2a3f5f\"}},\"annotationdefaults\":{\"arrowcolor\":\"#2a3f5f\",\"arrowhead\":0,\"arrowwidth\":1},\"geo\":{\"bgcolor\":\"white\",\"landcolor\":\"#E5ECF6\",\"subunitcolor\":\"white\",\"showland\":true,\"showlakes\":true,\"lakecolor\":\"white\"},\"title\":{\"x\":0.05},\"mapbox\":{\"style\":\"light\"}}},\"xaxis\":{\"anchor\":\"y\",\"domain\":[0.0,1.0],\"title\":{\"text\":\"TSNE Component 1\"}},\"yaxis\":{\"anchor\":\"x\",\"domain\":[0.0,1.0],\"title\":{\"text\":\"TSNE Component 2\"}},\"coloraxis\":{\"colorbar\":{\"title\":{\"text\":\"Cluster\"}},\"colorscale\":[[0.0,\"rgb(229, 134, 6)\"],[0.1,\"rgb(93, 105, 177)\"],[0.2,\"rgb(82, 188, 163)\"],[0.3,\"rgb(153, 201, 69)\"],[0.4,\"rgb(204, 97, 176)\"],[0.5,\"rgb(36, 121, 108)\"],[0.6,\"rgb(218, 165, 27)\"],[0.7,\"rgb(47, 138, 196)\"],[0.8,\"rgb(118, 78, 159)\"],[0.9,\"rgb(237, 100, 90)\"],[1.0,\"rgb(165, 170, 153)\"]]},\"legend\":{\"tracegroupgap\":0},\"title\":{\"text\":\"t-SNE Visualization of Symptom Clusters\"}},                        {\"responsive\": true}                    ).then(function(){\n",
       "                            \n",
       "var gd = document.getElementById('a63ce675-2c47-4679-a85f-d0ca42b490f2');\n",
       "var x = new MutationObserver(function (mutations, observer) {{\n",
       "        var display = window.getComputedStyle(gd).display;\n",
       "        if (!display || display === 'none') {{\n",
       "            console.log([gd, 'removed!']);\n",
       "            Plotly.purge(gd);\n",
       "            observer.disconnect();\n",
       "        }}\n",
       "}});\n",
       "\n",
       "// Listen for the removal of the full notebook cells\n",
       "var notebookContainer = gd.closest('#notebook-container');\n",
       "if (notebookContainer) {{\n",
       "    x.observe(notebookContainer, {childList: true});\n",
       "}}\n",
       "\n",
       "// Listen for the clearing of the current output cell\n",
       "var outputEl = gd.closest('.output');\n",
       "if (outputEl) {{\n",
       "    x.observe(outputEl, {childList: true});\n",
       "}}\n",
       "\n",
       "                        })                };                });            </script>        </div>"
      ]
     },
     "metadata": {},
     "output_type": "display_data"
    }
   ],
   "source": [
    "# Reduce dimensionality for visualization\n",
    "tsne = TSNE(n_components=2, random_state=42)\n",
    "X_tsne = tsne.fit_transform(X_avg)\n",
    "\n",
    "tsne_df = pd.DataFrame(X_tsne, columns=['TSNE Component 1', 'TSNE Component 2'])\n",
    "tsne_df['Cluster'] = data['cluster_embed']\n",
    "tsne_df['Disease'] = data['Disease']\n",
    "\n",
    "# Creating the plot using Plotly Express\n",
    "fig = px.scatter(\n",
    "    tsne_df, \n",
    "    x='TSNE Component 1', \n",
    "    y='TSNE Component 2', \n",
    "    color='Cluster', \n",
    "    hover_data=['Disease'],\n",
    "    title='t-SNE Visualization of Symptom Clusters',\n",
    "    color_continuous_scale=px.colors.qualitative.Vivid\n",
    ")\n",
    "\n",
    "fig.show()"
   ]
  },
  {
   "cell_type": "markdown",
   "id": "0c7c111a",
   "metadata": {
    "papermill": {
     "duration": 0.033817,
     "end_time": "2024-06-20T03:28:11.415947",
     "exception": false,
     "start_time": "2024-06-20T03:28:11.382130",
     "status": "completed"
    },
    "tags": []
   },
   "source": [
    "### Looks great, but we can do better."
   ]
  },
  {
   "cell_type": "markdown",
   "id": "efc20a05",
   "metadata": {
    "papermill": {
     "duration": 0.032935,
     "end_time": "2024-06-20T03:28:11.482603",
     "exception": false,
     "start_time": "2024-06-20T03:28:11.449668",
     "status": "completed"
    },
    "tags": []
   },
   "source": [
    "## TF-IDF\n",
    "##### Term Frequency (TF): The frequency of a word in a document.\n",
    "##### Inverse Document Frequency (IDF): The rarity of the word across all documents."
   ]
  },
  {
   "cell_type": "code",
   "execution_count": 30,
   "id": "db00c52d",
   "metadata": {
    "execution": {
     "iopub.execute_input": "2024-06-20T03:28:11.551532Z",
     "iopub.status.busy": "2024-06-20T03:28:11.550724Z",
     "iopub.status.idle": "2024-06-20T03:28:11.650585Z",
     "shell.execute_reply": "2024-06-20T03:28:11.649781Z"
    },
    "papermill": {
     "duration": 0.136895,
     "end_time": "2024-06-20T03:28:11.652585",
     "exception": false,
     "start_time": "2024-06-20T03:28:11.515690",
     "status": "completed"
    },
    "tags": []
   },
   "outputs": [],
   "source": [
    "vectorizer = TfidfVectorizer()\n",
    "X = vectorizer.fit_transform(data['Basic Tokens'])"
   ]
  },
  {
   "cell_type": "markdown",
   "id": "910027e5",
   "metadata": {
    "papermill": {
     "duration": 0.033157,
     "end_time": "2024-06-20T03:28:11.719828",
     "exception": false,
     "start_time": "2024-06-20T03:28:11.686671",
     "status": "completed"
    },
    "tags": []
   },
   "source": [
    "### Label_encode the disease column."
   ]
  },
  {
   "cell_type": "code",
   "execution_count": 31,
   "id": "c394ed39",
   "metadata": {
    "execution": {
     "iopub.execute_input": "2024-06-20T03:28:11.787090Z",
     "iopub.status.busy": "2024-06-20T03:28:11.786790Z",
     "iopub.status.idle": "2024-06-20T03:28:11.792695Z",
     "shell.execute_reply": "2024-06-20T03:28:11.791803Z"
    },
    "papermill": {
     "duration": 0.04155,
     "end_time": "2024-06-20T03:28:11.794518",
     "exception": false,
     "start_time": "2024-06-20T03:28:11.752968",
     "status": "completed"
    },
    "tags": []
   },
   "outputs": [],
   "source": [
    "le = LabelEncoder()\n",
    "y = le.fit_transform(data['Disease'])"
   ]
  },
  {
   "cell_type": "markdown",
   "id": "0263272d",
   "metadata": {
    "papermill": {
     "duration": 0.03291,
     "end_time": "2024-06-20T03:28:11.860470",
     "exception": false,
     "start_time": "2024-06-20T03:28:11.827560",
     "status": "completed"
    },
    "tags": []
   },
   "source": [
    "### And now we train the model"
   ]
  },
  {
   "cell_type": "code",
   "execution_count": 32,
   "id": "28520b77",
   "metadata": {
    "execution": {
     "iopub.execute_input": "2024-06-20T03:28:11.927578Z",
     "iopub.status.busy": "2024-06-20T03:28:11.927272Z",
     "iopub.status.idle": "2024-06-20T03:28:12.869184Z",
     "shell.execute_reply": "2024-06-20T03:28:12.868195Z"
    },
    "papermill": {
     "duration": 0.977989,
     "end_time": "2024-06-20T03:28:12.871485",
     "exception": false,
     "start_time": "2024-06-20T03:28:11.893496",
     "status": "completed"
    },
    "tags": []
   },
   "outputs": [],
   "source": [
    "n_clusters = 41  # The number of diseases the dataset\n",
    "kmeans_2 = KMeans(n_clusters=n_clusters, random_state=42)\n",
    "data['cluster'] = kmeans_2.fit_predict(X)"
   ]
  },
  {
   "cell_type": "code",
   "execution_count": 33,
   "id": "22cf4e19",
   "metadata": {
    "execution": {
     "iopub.execute_input": "2024-06-20T03:28:12.946870Z",
     "iopub.status.busy": "2024-06-20T03:28:12.946151Z",
     "iopub.status.idle": "2024-06-20T03:28:12.956523Z",
     "shell.execute_reply": "2024-06-20T03:28:12.955582Z"
    },
    "papermill": {
     "duration": 0.047447,
     "end_time": "2024-06-20T03:28:12.958536",
     "exception": false,
     "start_time": "2024-06-20T03:28:12.911089",
     "status": "completed"
    },
    "tags": []
   },
   "outputs": [
    {
     "data": {
      "text/html": [
       "<div>\n",
       "<style scoped>\n",
       "    .dataframe tbody tr th:only-of-type {\n",
       "        vertical-align: middle;\n",
       "    }\n",
       "\n",
       "    .dataframe tbody tr th {\n",
       "        vertical-align: top;\n",
       "    }\n",
       "\n",
       "    .dataframe thead th {\n",
       "        text-align: right;\n",
       "    }\n",
       "</style>\n",
       "<table border=\"1\" class=\"dataframe\">\n",
       "  <thead>\n",
       "    <tr style=\"text-align: right;\">\n",
       "      <th></th>\n",
       "      <th>Disease</th>\n",
       "      <th>Basic Tokens</th>\n",
       "      <th>cluster_embed</th>\n",
       "      <th>cluster</th>\n",
       "    </tr>\n",
       "  </thead>\n",
       "  <tbody>\n",
       "    <tr>\n",
       "      <th>0</th>\n",
       "      <td>Fungal infection</td>\n",
       "      <td>dischromic patches, nodal skin eruptions, skin...</td>\n",
       "      <td>29</td>\n",
       "      <td>21</td>\n",
       "    </tr>\n",
       "    <tr>\n",
       "      <th>1</th>\n",
       "      <td>Fungal infection</td>\n",
       "      <td>dischromic patches, nodal skin eruptions, skin...</td>\n",
       "      <td>29</td>\n",
       "      <td>21</td>\n",
       "    </tr>\n",
       "    <tr>\n",
       "      <th>2</th>\n",
       "      <td>Fungal infection</td>\n",
       "      <td>dischromic patches, nodal skin eruptions, itching</td>\n",
       "      <td>29</td>\n",
       "      <td>21</td>\n",
       "    </tr>\n",
       "    <tr>\n",
       "      <th>3</th>\n",
       "      <td>Fungal infection</td>\n",
       "      <td>dischromic patches, skin rash, itching</td>\n",
       "      <td>29</td>\n",
       "      <td>21</td>\n",
       "    </tr>\n",
       "    <tr>\n",
       "      <th>4</th>\n",
       "      <td>Fungal infection</td>\n",
       "      <td>nodal skin eruptions, skin rash, itching</td>\n",
       "      <td>29</td>\n",
       "      <td>21</td>\n",
       "    </tr>\n",
       "  </tbody>\n",
       "</table>\n",
       "</div>"
      ],
      "text/plain": [
       "            Disease                                       Basic Tokens  \\\n",
       "0  Fungal infection  dischromic patches, nodal skin eruptions, skin...   \n",
       "1  Fungal infection  dischromic patches, nodal skin eruptions, skin...   \n",
       "2  Fungal infection  dischromic patches, nodal skin eruptions, itching   \n",
       "3  Fungal infection             dischromic patches, skin rash, itching   \n",
       "4  Fungal infection           nodal skin eruptions, skin rash, itching   \n",
       "\n",
       "   cluster_embed  cluster  \n",
       "0             29       21  \n",
       "1             29       21  \n",
       "2             29       21  \n",
       "3             29       21  \n",
       "4             29       21  "
      ]
     },
     "execution_count": 33,
     "metadata": {},
     "output_type": "execute_result"
    }
   ],
   "source": [
    "data.head()"
   ]
  },
  {
   "cell_type": "markdown",
   "id": "eff54a7b",
   "metadata": {
    "papermill": {
     "duration": 0.033428,
     "end_time": "2024-06-20T03:28:13.025348",
     "exception": false,
     "start_time": "2024-06-20T03:28:12.991920",
     "status": "completed"
    },
    "tags": []
   },
   "source": [
    "### Evaluating Clustering Performance."
   ]
  },
  {
   "cell_type": "code",
   "execution_count": 34,
   "id": "ce2f4e24",
   "metadata": {
    "execution": {
     "iopub.execute_input": "2024-06-20T03:28:13.093306Z",
     "iopub.status.busy": "2024-06-20T03:28:13.093046Z",
     "iopub.status.idle": "2024-06-20T03:28:13.104349Z",
     "shell.execute_reply": "2024-06-20T03:28:13.103205Z"
    },
    "papermill": {
     "duration": 0.047547,
     "end_time": "2024-06-20T03:28:13.106473",
     "exception": false,
     "start_time": "2024-06-20T03:28:13.058926",
     "status": "completed"
    },
    "tags": []
   },
   "outputs": [
    {
     "name": "stdout",
     "output_type": "stream",
     "text": [
      "Adjusted Rand Index (ARI): 0.9975\n",
      "Normalized Mutual Information (NMI): 0.9987\n"
     ]
    }
   ],
   "source": [
    "# Compute Adjusted Rand Index\n",
    "ari = adjusted_rand_score(y, data['cluster'])\n",
    "print(f'Adjusted Rand Index (ARI): {ari:.4f}')\n",
    "\n",
    "# Compute Normalized Mutual Information\n",
    "nmi = normalized_mutual_info_score(y, data['cluster'])\n",
    "print(f'Normalized Mutual Information (NMI): {nmi:.4f}')"
   ]
  },
  {
   "cell_type": "markdown",
   "id": "e4be14b9",
   "metadata": {
    "papermill": {
     "duration": 0.033633,
     "end_time": "2024-06-20T03:28:13.176311",
     "exception": false,
     "start_time": "2024-06-20T03:28:13.142678",
     "status": "completed"
    },
    "tags": []
   },
   "source": [
    "##### Slight Enhancements in Performance"
   ]
  },
  {
   "cell_type": "markdown",
   "id": "6e6bcea3",
   "metadata": {
    "papermill": {
     "duration": 0.032918,
     "end_time": "2024-06-20T03:28:13.243276",
     "exception": false,
     "start_time": "2024-06-20T03:28:13.210358",
     "status": "completed"
    },
    "tags": []
   },
   "source": [
    "### Visualizing the Clustering:"
   ]
  },
  {
   "cell_type": "code",
   "execution_count": 35,
   "id": "761a9cef",
   "metadata": {
    "execution": {
     "iopub.execute_input": "2024-06-20T03:28:13.314864Z",
     "iopub.status.busy": "2024-06-20T03:28:13.314257Z",
     "iopub.status.idle": "2024-06-20T03:28:27.957840Z",
     "shell.execute_reply": "2024-06-20T03:28:27.956927Z"
    },
    "papermill": {
     "duration": 14.684619,
     "end_time": "2024-06-20T03:28:27.962664",
     "exception": false,
     "start_time": "2024-06-20T03:28:13.278045",
     "status": "completed"
    },
    "tags": []
   },
   "outputs": [
    {
     "data": {
      "text/html": [
       "<div>                            <div id=\"060f7cd1-03d5-442d-8348-18e6f6d6d1e0\" class=\"plotly-graph-div\" style=\"height:525px; width:100%;\"></div>            <script type=\"text/javascript\">                require([\"plotly\"], function(Plotly) {                    window.PLOTLYENV=window.PLOTLYENV || {};                                    if (document.getElementById(\"060f7cd1-03d5-442d-8348-18e6f6d6d1e0\")) {                    Plotly.newPlot(                        \"060f7cd1-03d5-442d-8348-18e6f6d6d1e0\",                        [{\"customdata\":[[\"Fungal infection\"],[\"Fungal infection\"],[\"Fungal infection\"],[\"Fungal infection\"],[\"Fungal infection\"],[\"Fungal infection\"],[\"Fungal infection\"],[\"Fungal infection\"],[\"Fungal infection\"],[\"Fungal infection\"],[\"Allergy\"],[\"Allergy\"],[\"Allergy\"],[\"Allergy\"],[\"Allergy\"],[\"Allergy\"],[\"Allergy\"],[\"Allergy\"],[\"Allergy\"],[\"Allergy\"],[\"GERD\"],[\"GERD\"],[\"GERD\"],[\"GERD\"],[\"GERD\"],[\"GERD\"],[\"GERD\"],[\"GERD\"],[\"GERD\"],[\"GERD\"],[\"Chronic cholestasis\"],[\"Chronic cholestasis\"],[\"Chronic cholestasis\"],[\"Chronic cholestasis\"],[\"Chronic cholestasis\"],[\"Chronic cholestasis\"],[\"Chronic cholestasis\"],[\"Chronic cholestasis\"],[\"Chronic cholestasis\"],[\"Chronic cholestasis\"],[\"Drug Reaction\"],[\"Drug Reaction\"],[\"Drug Reaction\"],[\"Drug Reaction\"],[\"Drug Reaction\"],[\"Drug Reaction\"],[\"Drug Reaction\"],[\"Drug Reaction\"],[\"Drug Reaction\"],[\"Drug Reaction\"],[\"Peptic ulcer diseae\"],[\"Peptic ulcer diseae\"],[\"Peptic ulcer diseae\"],[\"Peptic ulcer diseae\"],[\"Peptic ulcer diseae\"],[\"Peptic ulcer diseae\"],[\"Peptic ulcer diseae\"],[\"Peptic ulcer diseae\"],[\"Peptic ulcer diseae\"],[\"Peptic ulcer diseae\"],[\"AIDS\"],[\"AIDS\"],[\"AIDS\"],[\"AIDS\"],[\"AIDS\"],[\"AIDS\"],[\"AIDS\"],[\"AIDS\"],[\"AIDS\"],[\"AIDS\"],[\"Diabetes \"],[\"Diabetes \"],[\"Diabetes \"],[\"Diabetes \"],[\"Diabetes \"],[\"Diabetes \"],[\"Diabetes \"],[\"Diabetes \"],[\"Diabetes \"],[\"Diabetes \"],[\"Gastroenteritis\"],[\"Gastroenteritis\"],[\"Gastroenteritis\"],[\"Gastroenteritis\"],[\"Gastroenteritis\"],[\"Gastroenteritis\"],[\"Gastroenteritis\"],[\"Gastroenteritis\"],[\"Gastroenteritis\"],[\"Gastroenteritis\"],[\"Bronchial Asthma\"],[\"Bronchial Asthma\"],[\"Bronchial Asthma\"],[\"Bronchial Asthma\"],[\"Bronchial Asthma\"],[\"Bronchial Asthma\"],[\"Bronchial Asthma\"],[\"Bronchial Asthma\"],[\"Bronchial Asthma\"],[\"Bronchial Asthma\"],[\"Hypertension \"],[\"Hypertension \"],[\"Hypertension \"],[\"Hypertension \"],[\"Hypertension \"],[\"Hypertension \"],[\"Hypertension \"],[\"Hypertension \"],[\"Hypertension \"],[\"Hypertension \"],[\"Migraine\"],[\"Migraine\"],[\"Migraine\"],[\"Migraine\"],[\"Migraine\"],[\"Migraine\"],[\"Migraine\"],[\"Migraine\"],[\"Migraine\"],[\"Migraine\"],[\"Cervical spondylosis\"],[\"Cervical spondylosis\"],[\"Cervical spondylosis\"],[\"Cervical spondylosis\"],[\"Cervical spondylosis\"],[\"Cervical spondylosis\"],[\"Cervical spondylosis\"],[\"Cervical spondylosis\"],[\"Cervical spondylosis\"],[\"Cervical spondylosis\"],[\"Paralysis (brain hemorrhage)\"],[\"Paralysis (brain hemorrhage)\"],[\"Paralysis (brain hemorrhage)\"],[\"Paralysis (brain hemorrhage)\"],[\"Paralysis (brain hemorrhage)\"],[\"Paralysis (brain hemorrhage)\"],[\"Paralysis (brain hemorrhage)\"],[\"Paralysis (brain hemorrhage)\"],[\"Paralysis (brain hemorrhage)\"],[\"Paralysis (brain hemorrhage)\"],[\"Jaundice\"],[\"Jaundice\"],[\"Jaundice\"],[\"Jaundice\"],[\"Jaundice\"],[\"Jaundice\"],[\"Jaundice\"],[\"Jaundice\"],[\"Jaundice\"],[\"Jaundice\"],[\"Malaria\"],[\"Malaria\"],[\"Malaria\"],[\"Malaria\"],[\"Malaria\"],[\"Malaria\"],[\"Malaria\"],[\"Malaria\"],[\"Malaria\"],[\"Malaria\"],[\"Chicken pox\"],[\"Chicken pox\"],[\"Chicken pox\"],[\"Chicken pox\"],[\"Chicken pox\"],[\"Chicken pox\"],[\"Chicken pox\"],[\"Chicken pox\"],[\"Chicken pox\"],[\"Chicken pox\"],[\"Dengue\"],[\"Dengue\"],[\"Dengue\"],[\"Dengue\"],[\"Dengue\"],[\"Dengue\"],[\"Dengue\"],[\"Dengue\"],[\"Dengue\"],[\"Dengue\"],[\"Typhoid\"],[\"Typhoid\"],[\"Typhoid\"],[\"Typhoid\"],[\"Typhoid\"],[\"Typhoid\"],[\"Typhoid\"],[\"Typhoid\"],[\"Typhoid\"],[\"Typhoid\"],[\"hepatitis A\"],[\"hepatitis A\"],[\"hepatitis A\"],[\"hepatitis A\"],[\"hepatitis A\"],[\"hepatitis A\"],[\"hepatitis A\"],[\"hepatitis A\"],[\"hepatitis A\"],[\"hepatitis A\"],[\"Hepatitis B\"],[\"Hepatitis B\"],[\"Hepatitis B\"],[\"Hepatitis B\"],[\"Hepatitis B\"],[\"Hepatitis B\"],[\"Hepatitis B\"],[\"Hepatitis B\"],[\"Hepatitis B\"],[\"Hepatitis B\"],[\"Hepatitis C\"],[\"Hepatitis C\"],[\"Hepatitis C\"],[\"Hepatitis C\"],[\"Hepatitis C\"],[\"Hepatitis C\"],[\"Hepatitis C\"],[\"Hepatitis C\"],[\"Hepatitis C\"],[\"Hepatitis C\"],[\"Hepatitis D\"],[\"Hepatitis D\"],[\"Hepatitis D\"],[\"Hepatitis D\"],[\"Hepatitis D\"],[\"Hepatitis D\"],[\"Hepatitis D\"],[\"Hepatitis D\"],[\"Hepatitis D\"],[\"Hepatitis D\"],[\"Hepatitis E\"],[\"Hepatitis E\"],[\"Hepatitis E\"],[\"Hepatitis E\"],[\"Hepatitis E\"],[\"Hepatitis E\"],[\"Hepatitis E\"],[\"Hepatitis E\"],[\"Hepatitis E\"],[\"Hepatitis E\"],[\"Alcoholic hepatitis\"],[\"Alcoholic hepatitis\"],[\"Alcoholic hepatitis\"],[\"Alcoholic hepatitis\"],[\"Alcoholic hepatitis\"],[\"Alcoholic hepatitis\"],[\"Alcoholic hepatitis\"],[\"Alcoholic hepatitis\"],[\"Alcoholic hepatitis\"],[\"Alcoholic hepatitis\"],[\"Tuberculosis\"],[\"Tuberculosis\"],[\"Tuberculosis\"],[\"Tuberculosis\"],[\"Tuberculosis\"],[\"Tuberculosis\"],[\"Tuberculosis\"],[\"Tuberculosis\"],[\"Tuberculosis\"],[\"Tuberculosis\"],[\"Common Cold\"],[\"Common Cold\"],[\"Common Cold\"],[\"Common Cold\"],[\"Common Cold\"],[\"Common Cold\"],[\"Common Cold\"],[\"Common Cold\"],[\"Common Cold\"],[\"Common Cold\"],[\"Pneumonia\"],[\"Pneumonia\"],[\"Pneumonia\"],[\"Pneumonia\"],[\"Pneumonia\"],[\"Pneumonia\"],[\"Pneumonia\"],[\"Pneumonia\"],[\"Pneumonia\"],[\"Pneumonia\"],[\"Dimorphic hemmorhoids(piles)\"],[\"Dimorphic hemmorhoids(piles)\"],[\"Dimorphic hemmorhoids(piles)\"],[\"Dimorphic hemmorhoids(piles)\"],[\"Dimorphic hemmorhoids(piles)\"],[\"Dimorphic hemmorhoids(piles)\"],[\"Dimorphic hemmorhoids(piles)\"],[\"Dimorphic hemmorhoids(piles)\"],[\"Dimorphic hemmorhoids(piles)\"],[\"Dimorphic hemmorhoids(piles)\"],[\"Heart attack\"],[\"Heart attack\"],[\"Heart attack\"],[\"Heart attack\"],[\"Heart attack\"],[\"Heart attack\"],[\"Heart attack\"],[\"Heart attack\"],[\"Heart attack\"],[\"Heart attack\"],[\"Varicose veins\"],[\"Varicose veins\"],[\"Varicose veins\"],[\"Varicose veins\"],[\"Varicose veins\"],[\"Varicose veins\"],[\"Varicose veins\"],[\"Varicose veins\"],[\"Varicose veins\"],[\"Varicose veins\"],[\"Hypothyroidism\"],[\"Hypothyroidism\"],[\"Hypothyroidism\"],[\"Hypothyroidism\"],[\"Hypothyroidism\"],[\"Hypothyroidism\"],[\"Hypothyroidism\"],[\"Hypothyroidism\"],[\"Hypothyroidism\"],[\"Hypothyroidism\"],[\"Hyperthyroidism\"],[\"Hyperthyroidism\"],[\"Hyperthyroidism\"],[\"Hyperthyroidism\"],[\"Hyperthyroidism\"],[\"Hyperthyroidism\"],[\"Hyperthyroidism\"],[\"Hyperthyroidism\"],[\"Hyperthyroidism\"],[\"Hyperthyroidism\"],[\"Hypoglycemia\"],[\"Hypoglycemia\"],[\"Hypoglycemia\"],[\"Hypoglycemia\"],[\"Hypoglycemia\"],[\"Hypoglycemia\"],[\"Hypoglycemia\"],[\"Hypoglycemia\"],[\"Hypoglycemia\"],[\"Hypoglycemia\"],[\"Osteoarthristis\"],[\"Osteoarthristis\"],[\"Osteoarthristis\"],[\"Osteoarthristis\"],[\"Osteoarthristis\"],[\"Osteoarthristis\"],[\"Osteoarthristis\"],[\"Osteoarthristis\"],[\"Osteoarthristis\"],[\"Osteoarthristis\"],[\"Arthritis\"],[\"Arthritis\"],[\"Arthritis\"],[\"Arthritis\"],[\"Arthritis\"],[\"Arthritis\"],[\"Arthritis\"],[\"Arthritis\"],[\"Arthritis\"],[\"Arthritis\"],[\"(vertigo) Paroymsal  Positional Vertigo\"],[\"(vertigo) Paroymsal  Positional Vertigo\"],[\"(vertigo) Paroymsal  Positional Vertigo\"],[\"(vertigo) Paroymsal  Positional Vertigo\"],[\"(vertigo) Paroymsal  Positional Vertigo\"],[\"(vertigo) Paroymsal  Positional Vertigo\"],[\"(vertigo) Paroymsal  Positional Vertigo\"],[\"(vertigo) Paroymsal  Positional Vertigo\"],[\"(vertigo) Paroymsal  Positional Vertigo\"],[\"(vertigo) Paroymsal  Positional Vertigo\"],[\"Acne\"],[\"Acne\"],[\"Acne\"],[\"Acne\"],[\"Acne\"],[\"Acne\"],[\"Acne\"],[\"Acne\"],[\"Acne\"],[\"Acne\"],[\"Urinary tract infection\"],[\"Urinary tract infection\"],[\"Urinary tract infection\"],[\"Urinary tract infection\"],[\"Urinary tract infection\"],[\"Urinary tract infection\"],[\"Urinary tract infection\"],[\"Urinary tract infection\"],[\"Urinary tract infection\"],[\"Urinary tract infection\"],[\"Psoriasis\"],[\"Psoriasis\"],[\"Psoriasis\"],[\"Psoriasis\"],[\"Psoriasis\"],[\"Psoriasis\"],[\"Psoriasis\"],[\"Psoriasis\"],[\"Psoriasis\"],[\"Psoriasis\"],[\"Impetigo\"],[\"Impetigo\"],[\"Impetigo\"],[\"Impetigo\"],[\"Impetigo\"],[\"Impetigo\"],[\"Impetigo\"],[\"Impetigo\"],[\"Impetigo\"],[\"Impetigo\"],[\"Fungal infection\"],[\"Fungal infection\"],[\"Fungal infection\"],[\"Fungal infection\"],[\"Fungal infection\"],[\"Fungal infection\"],[\"Fungal infection\"],[\"Fungal infection\"],[\"Fungal infection\"],[\"Fungal infection\"],[\"Allergy\"],[\"Allergy\"],[\"Allergy\"],[\"Allergy\"],[\"Allergy\"],[\"Allergy\"],[\"Allergy\"],[\"Allergy\"],[\"Allergy\"],[\"Allergy\"],[\"GERD\"],[\"GERD\"],[\"GERD\"],[\"GERD\"],[\"GERD\"],[\"GERD\"],[\"GERD\"],[\"GERD\"],[\"GERD\"],[\"GERD\"],[\"Chronic cholestasis\"],[\"Chronic cholestasis\"],[\"Chronic cholestasis\"],[\"Chronic cholestasis\"],[\"Chronic cholestasis\"],[\"Chronic cholestasis\"],[\"Chronic cholestasis\"],[\"Chronic cholestasis\"],[\"Chronic cholestasis\"],[\"Chronic cholestasis\"],[\"Drug Reaction\"],[\"Drug Reaction\"],[\"Drug Reaction\"],[\"Drug Reaction\"],[\"Drug Reaction\"],[\"Drug Reaction\"],[\"Drug Reaction\"],[\"Drug Reaction\"],[\"Drug Reaction\"],[\"Drug Reaction\"],[\"Peptic ulcer diseae\"],[\"Peptic ulcer diseae\"],[\"Peptic ulcer diseae\"],[\"Peptic ulcer diseae\"],[\"Peptic ulcer diseae\"],[\"Peptic ulcer diseae\"],[\"Peptic ulcer diseae\"],[\"Peptic ulcer diseae\"],[\"Peptic ulcer diseae\"],[\"Peptic ulcer diseae\"],[\"AIDS\"],[\"AIDS\"],[\"AIDS\"],[\"AIDS\"],[\"AIDS\"],[\"AIDS\"],[\"AIDS\"],[\"AIDS\"],[\"AIDS\"],[\"AIDS\"],[\"Diabetes \"],[\"Diabetes \"],[\"Diabetes \"],[\"Diabetes \"],[\"Diabetes \"],[\"Diabetes \"],[\"Diabetes \"],[\"Diabetes \"],[\"Diabetes \"],[\"Diabetes \"],[\"Gastroenteritis\"],[\"Gastroenteritis\"],[\"Gastroenteritis\"],[\"Gastroenteritis\"],[\"Gastroenteritis\"],[\"Gastroenteritis\"],[\"Gastroenteritis\"],[\"Gastroenteritis\"],[\"Gastroenteritis\"],[\"Gastroenteritis\"],[\"Bronchial Asthma\"],[\"Bronchial Asthma\"],[\"Bronchial Asthma\"],[\"Bronchial Asthma\"],[\"Bronchial Asthma\"],[\"Bronchial Asthma\"],[\"Bronchial Asthma\"],[\"Bronchial Asthma\"],[\"Bronchial Asthma\"],[\"Bronchial Asthma\"],[\"Hypertension \"],[\"Hypertension \"],[\"Hypertension \"],[\"Hypertension \"],[\"Hypertension \"],[\"Hypertension \"],[\"Hypertension \"],[\"Hypertension \"],[\"Hypertension \"],[\"Hypertension \"],[\"Migraine\"],[\"Migraine\"],[\"Migraine\"],[\"Migraine\"],[\"Migraine\"],[\"Migraine\"],[\"Migraine\"],[\"Migraine\"],[\"Migraine\"],[\"Migraine\"],[\"Cervical spondylosis\"],[\"Cervical spondylosis\"],[\"Cervical spondylosis\"],[\"Cervical spondylosis\"],[\"Cervical spondylosis\"],[\"Cervical spondylosis\"],[\"Cervical spondylosis\"],[\"Cervical spondylosis\"],[\"Cervical spondylosis\"],[\"Cervical spondylosis\"],[\"Paralysis (brain hemorrhage)\"],[\"Paralysis (brain hemorrhage)\"],[\"Paralysis (brain hemorrhage)\"],[\"Paralysis (brain hemorrhage)\"],[\"Paralysis (brain hemorrhage)\"],[\"Paralysis (brain hemorrhage)\"],[\"Paralysis (brain hemorrhage)\"],[\"Paralysis (brain hemorrhage)\"],[\"Paralysis (brain hemorrhage)\"],[\"Paralysis (brain hemorrhage)\"],[\"Jaundice\"],[\"Jaundice\"],[\"Jaundice\"],[\"Jaundice\"],[\"Jaundice\"],[\"Jaundice\"],[\"Jaundice\"],[\"Jaundice\"],[\"Jaundice\"],[\"Jaundice\"],[\"Malaria\"],[\"Malaria\"],[\"Malaria\"],[\"Malaria\"],[\"Malaria\"],[\"Malaria\"],[\"Malaria\"],[\"Malaria\"],[\"Malaria\"],[\"Malaria\"],[\"Chicken pox\"],[\"Chicken pox\"],[\"Chicken pox\"],[\"Chicken pox\"],[\"Chicken pox\"],[\"Chicken pox\"],[\"Chicken pox\"],[\"Chicken pox\"],[\"Chicken pox\"],[\"Chicken pox\"],[\"Dengue\"],[\"Dengue\"],[\"Dengue\"],[\"Dengue\"],[\"Dengue\"],[\"Dengue\"],[\"Dengue\"],[\"Dengue\"],[\"Dengue\"],[\"Dengue\"],[\"Typhoid\"],[\"Typhoid\"],[\"Typhoid\"],[\"Typhoid\"],[\"Typhoid\"],[\"Typhoid\"],[\"Typhoid\"],[\"Typhoid\"],[\"Typhoid\"],[\"Typhoid\"],[\"hepatitis A\"],[\"hepatitis A\"],[\"hepatitis A\"],[\"hepatitis A\"],[\"hepatitis A\"],[\"hepatitis A\"],[\"hepatitis A\"],[\"hepatitis A\"],[\"hepatitis A\"],[\"hepatitis A\"],[\"Hepatitis B\"],[\"Hepatitis B\"],[\"Hepatitis B\"],[\"Hepatitis B\"],[\"Hepatitis B\"],[\"Hepatitis B\"],[\"Hepatitis B\"],[\"Hepatitis B\"],[\"Hepatitis B\"],[\"Hepatitis B\"],[\"Hepatitis C\"],[\"Hepatitis C\"],[\"Hepatitis C\"],[\"Hepatitis C\"],[\"Hepatitis C\"],[\"Hepatitis C\"],[\"Hepatitis C\"],[\"Hepatitis C\"],[\"Hepatitis C\"],[\"Hepatitis C\"],[\"Hepatitis D\"],[\"Hepatitis D\"],[\"Hepatitis D\"],[\"Hepatitis D\"],[\"Hepatitis D\"],[\"Hepatitis D\"],[\"Hepatitis D\"],[\"Hepatitis D\"],[\"Hepatitis D\"],[\"Hepatitis D\"],[\"Hepatitis E\"],[\"Hepatitis E\"],[\"Hepatitis E\"],[\"Hepatitis E\"],[\"Hepatitis E\"],[\"Hepatitis E\"],[\"Hepatitis E\"],[\"Hepatitis E\"],[\"Hepatitis E\"],[\"Hepatitis E\"],[\"Alcoholic hepatitis\"],[\"Alcoholic hepatitis\"],[\"Alcoholic hepatitis\"],[\"Alcoholic hepatitis\"],[\"Alcoholic hepatitis\"],[\"Alcoholic hepatitis\"],[\"Alcoholic hepatitis\"],[\"Alcoholic hepatitis\"],[\"Alcoholic hepatitis\"],[\"Alcoholic hepatitis\"],[\"Tuberculosis\"],[\"Tuberculosis\"],[\"Tuberculosis\"],[\"Tuberculosis\"],[\"Tuberculosis\"],[\"Tuberculosis\"],[\"Tuberculosis\"],[\"Tuberculosis\"],[\"Tuberculosis\"],[\"Tuberculosis\"],[\"Common Cold\"],[\"Common Cold\"],[\"Common Cold\"],[\"Common Cold\"],[\"Common Cold\"],[\"Common Cold\"],[\"Common Cold\"],[\"Common Cold\"],[\"Common Cold\"],[\"Common Cold\"],[\"Pneumonia\"],[\"Pneumonia\"],[\"Pneumonia\"],[\"Pneumonia\"],[\"Pneumonia\"],[\"Pneumonia\"],[\"Pneumonia\"],[\"Pneumonia\"],[\"Pneumonia\"],[\"Pneumonia\"],[\"Dimorphic hemmorhoids(piles)\"],[\"Dimorphic hemmorhoids(piles)\"],[\"Dimorphic hemmorhoids(piles)\"],[\"Dimorphic hemmorhoids(piles)\"],[\"Dimorphic hemmorhoids(piles)\"],[\"Dimorphic hemmorhoids(piles)\"],[\"Dimorphic hemmorhoids(piles)\"],[\"Dimorphic hemmorhoids(piles)\"],[\"Dimorphic hemmorhoids(piles)\"],[\"Dimorphic hemmorhoids(piles)\"],[\"Heart attack\"],[\"Heart attack\"],[\"Heart attack\"],[\"Heart attack\"],[\"Heart attack\"],[\"Heart attack\"],[\"Heart attack\"],[\"Heart attack\"],[\"Heart attack\"],[\"Heart attack\"],[\"Varicose veins\"],[\"Varicose veins\"],[\"Varicose veins\"],[\"Varicose veins\"],[\"Varicose veins\"],[\"Varicose veins\"],[\"Varicose veins\"],[\"Varicose veins\"],[\"Varicose veins\"],[\"Varicose veins\"],[\"Hypothyroidism\"],[\"Hypothyroidism\"],[\"Hypothyroidism\"],[\"Hypothyroidism\"],[\"Hypothyroidism\"],[\"Hypothyroidism\"],[\"Hypothyroidism\"],[\"Hypothyroidism\"],[\"Hypothyroidism\"],[\"Hypothyroidism\"],[\"Hyperthyroidism\"],[\"Hyperthyroidism\"],[\"Hyperthyroidism\"],[\"Hyperthyroidism\"],[\"Hyperthyroidism\"],[\"Hyperthyroidism\"],[\"Hyperthyroidism\"],[\"Hyperthyroidism\"],[\"Hyperthyroidism\"],[\"Hyperthyroidism\"],[\"Hypoglycemia\"],[\"Hypoglycemia\"],[\"Hypoglycemia\"],[\"Hypoglycemia\"],[\"Hypoglycemia\"],[\"Hypoglycemia\"],[\"Hypoglycemia\"],[\"Hypoglycemia\"],[\"Hypoglycemia\"],[\"Hypoglycemia\"],[\"Osteoarthristis\"],[\"Osteoarthristis\"],[\"Osteoarthristis\"],[\"Osteoarthristis\"],[\"Osteoarthristis\"],[\"Osteoarthristis\"],[\"Osteoarthristis\"],[\"Osteoarthristis\"],[\"Osteoarthristis\"],[\"Osteoarthristis\"],[\"Arthritis\"],[\"Arthritis\"],[\"Arthritis\"],[\"Arthritis\"],[\"Arthritis\"],[\"Arthritis\"],[\"Arthritis\"],[\"Arthritis\"],[\"Arthritis\"],[\"Arthritis\"],[\"(vertigo) Paroymsal  Positional Vertigo\"],[\"(vertigo) Paroymsal  Positional Vertigo\"],[\"(vertigo) Paroymsal  Positional Vertigo\"],[\"(vertigo) Paroymsal  Positional Vertigo\"],[\"(vertigo) Paroymsal  Positional Vertigo\"],[\"(vertigo) Paroymsal  Positional Vertigo\"],[\"(vertigo) Paroymsal  Positional Vertigo\"],[\"(vertigo) Paroymsal  Positional Vertigo\"],[\"(vertigo) Paroymsal  Positional Vertigo\"],[\"(vertigo) Paroymsal  Positional Vertigo\"],[\"Acne\"],[\"Acne\"],[\"Acne\"],[\"Acne\"],[\"Acne\"],[\"Acne\"],[\"Acne\"],[\"Acne\"],[\"Acne\"],[\"Acne\"],[\"Urinary tract infection\"],[\"Urinary tract infection\"],[\"Urinary tract infection\"],[\"Urinary tract infection\"],[\"Urinary tract infection\"],[\"Urinary tract infection\"],[\"Urinary tract infection\"],[\"Urinary tract infection\"],[\"Urinary tract infection\"],[\"Urinary tract infection\"],[\"Psoriasis\"],[\"Psoriasis\"],[\"Psoriasis\"],[\"Psoriasis\"],[\"Psoriasis\"],[\"Psoriasis\"],[\"Psoriasis\"],[\"Psoriasis\"],[\"Psoriasis\"],[\"Psoriasis\"],[\"Impetigo\"],[\"Impetigo\"],[\"Impetigo\"],[\"Impetigo\"],[\"Impetigo\"],[\"Impetigo\"],[\"Impetigo\"],[\"Impetigo\"],[\"Impetigo\"],[\"Impetigo\"],[\"Fungal infection\"],[\"Fungal infection\"],[\"Fungal infection\"],[\"Fungal infection\"],[\"Fungal infection\"],[\"Fungal infection\"],[\"Fungal infection\"],[\"Fungal infection\"],[\"Fungal infection\"],[\"Fungal infection\"],[\"Allergy\"],[\"Allergy\"],[\"Allergy\"],[\"Allergy\"],[\"Allergy\"],[\"Allergy\"],[\"Allergy\"],[\"Allergy\"],[\"Allergy\"],[\"Allergy\"],[\"GERD\"],[\"GERD\"],[\"GERD\"],[\"GERD\"],[\"GERD\"],[\"GERD\"],[\"GERD\"],[\"GERD\"],[\"GERD\"],[\"GERD\"],[\"Chronic cholestasis\"],[\"Chronic cholestasis\"],[\"Chronic cholestasis\"],[\"Chronic cholestasis\"],[\"Chronic cholestasis\"],[\"Chronic cholestasis\"],[\"Chronic cholestasis\"],[\"Chronic cholestasis\"],[\"Chronic cholestasis\"],[\"Chronic cholestasis\"],[\"Drug Reaction\"],[\"Drug Reaction\"],[\"Drug Reaction\"],[\"Drug Reaction\"],[\"Drug Reaction\"],[\"Drug Reaction\"],[\"Drug Reaction\"],[\"Drug Reaction\"],[\"Drug Reaction\"],[\"Drug Reaction\"],[\"Peptic ulcer diseae\"],[\"Peptic ulcer diseae\"],[\"Peptic ulcer diseae\"],[\"Peptic ulcer diseae\"],[\"Peptic ulcer diseae\"],[\"Peptic ulcer diseae\"],[\"Peptic ulcer diseae\"],[\"Peptic ulcer diseae\"],[\"Peptic ulcer diseae\"],[\"Peptic ulcer diseae\"],[\"AIDS\"],[\"AIDS\"],[\"AIDS\"],[\"AIDS\"],[\"AIDS\"],[\"AIDS\"],[\"AIDS\"],[\"AIDS\"],[\"AIDS\"],[\"AIDS\"],[\"Diabetes \"],[\"Diabetes \"],[\"Diabetes \"],[\"Diabetes \"],[\"Diabetes \"],[\"Diabetes \"],[\"Diabetes \"],[\"Diabetes \"],[\"Diabetes \"],[\"Diabetes \"],[\"Gastroenteritis\"],[\"Gastroenteritis\"],[\"Gastroenteritis\"],[\"Gastroenteritis\"],[\"Gastroenteritis\"],[\"Gastroenteritis\"],[\"Gastroenteritis\"],[\"Gastroenteritis\"],[\"Gastroenteritis\"],[\"Gastroenteritis\"],[\"Bronchial Asthma\"],[\"Bronchial Asthma\"],[\"Bronchial Asthma\"],[\"Bronchial Asthma\"],[\"Bronchial Asthma\"],[\"Bronchial Asthma\"],[\"Bronchial Asthma\"],[\"Bronchial Asthma\"],[\"Bronchial Asthma\"],[\"Bronchial Asthma\"],[\"Hypertension \"],[\"Hypertension \"],[\"Hypertension \"],[\"Hypertension \"],[\"Hypertension \"],[\"Hypertension \"],[\"Hypertension \"],[\"Hypertension \"],[\"Hypertension \"],[\"Hypertension \"],[\"Migraine\"],[\"Migraine\"],[\"Migraine\"],[\"Migraine\"],[\"Migraine\"],[\"Migraine\"],[\"Migraine\"],[\"Migraine\"],[\"Migraine\"],[\"Migraine\"],[\"Cervical spondylosis\"],[\"Cervical spondylosis\"],[\"Cervical spondylosis\"],[\"Cervical spondylosis\"],[\"Cervical spondylosis\"],[\"Cervical spondylosis\"],[\"Cervical spondylosis\"],[\"Cervical spondylosis\"],[\"Cervical spondylosis\"],[\"Cervical spondylosis\"],[\"Paralysis (brain hemorrhage)\"],[\"Paralysis (brain hemorrhage)\"],[\"Paralysis (brain hemorrhage)\"],[\"Paralysis (brain hemorrhage)\"],[\"Paralysis (brain hemorrhage)\"],[\"Paralysis (brain hemorrhage)\"],[\"Paralysis (brain hemorrhage)\"],[\"Paralysis (brain hemorrhage)\"],[\"Paralysis (brain hemorrhage)\"],[\"Paralysis (brain hemorrhage)\"],[\"Jaundice\"],[\"Jaundice\"],[\"Jaundice\"],[\"Jaundice\"],[\"Jaundice\"],[\"Jaundice\"],[\"Jaundice\"],[\"Jaundice\"],[\"Jaundice\"],[\"Jaundice\"],[\"Malaria\"],[\"Malaria\"],[\"Malaria\"],[\"Malaria\"],[\"Malaria\"],[\"Malaria\"],[\"Malaria\"],[\"Malaria\"],[\"Malaria\"],[\"Malaria\"],[\"Chicken pox\"],[\"Chicken pox\"],[\"Chicken pox\"],[\"Chicken pox\"],[\"Chicken pox\"],[\"Chicken pox\"],[\"Chicken pox\"],[\"Chicken pox\"],[\"Chicken pox\"],[\"Chicken pox\"],[\"Dengue\"],[\"Dengue\"],[\"Dengue\"],[\"Dengue\"],[\"Dengue\"],[\"Dengue\"],[\"Dengue\"],[\"Dengue\"],[\"Dengue\"],[\"Dengue\"],[\"Typhoid\"],[\"Typhoid\"],[\"Typhoid\"],[\"Typhoid\"],[\"Typhoid\"],[\"Typhoid\"],[\"Typhoid\"],[\"Typhoid\"],[\"Typhoid\"],[\"Typhoid\"],[\"hepatitis A\"],[\"hepatitis A\"],[\"hepatitis A\"],[\"hepatitis A\"],[\"hepatitis A\"],[\"hepatitis A\"],[\"hepatitis A\"],[\"hepatitis A\"],[\"hepatitis A\"],[\"hepatitis A\"],[\"Hepatitis B\"],[\"Hepatitis B\"],[\"Hepatitis B\"],[\"Hepatitis B\"],[\"Hepatitis B\"],[\"Hepatitis B\"],[\"Hepatitis B\"],[\"Hepatitis B\"],[\"Hepatitis B\"],[\"Hepatitis B\"],[\"Hepatitis C\"],[\"Hepatitis C\"],[\"Hepatitis C\"],[\"Hepatitis C\"],[\"Hepatitis C\"],[\"Hepatitis C\"],[\"Hepatitis C\"],[\"Hepatitis C\"],[\"Hepatitis C\"],[\"Hepatitis C\"],[\"Hepatitis D\"],[\"Hepatitis D\"],[\"Hepatitis D\"],[\"Hepatitis D\"],[\"Hepatitis D\"],[\"Hepatitis D\"],[\"Hepatitis D\"],[\"Hepatitis D\"],[\"Hepatitis D\"],[\"Hepatitis D\"],[\"Hepatitis E\"],[\"Hepatitis E\"],[\"Hepatitis E\"],[\"Hepatitis E\"],[\"Hepatitis E\"],[\"Hepatitis E\"],[\"Hepatitis E\"],[\"Hepatitis E\"],[\"Hepatitis E\"],[\"Hepatitis E\"],[\"Alcoholic hepatitis\"],[\"Alcoholic hepatitis\"],[\"Alcoholic hepatitis\"],[\"Alcoholic hepatitis\"],[\"Alcoholic hepatitis\"],[\"Alcoholic hepatitis\"],[\"Alcoholic hepatitis\"],[\"Alcoholic hepatitis\"],[\"Alcoholic hepatitis\"],[\"Alcoholic hepatitis\"],[\"Tuberculosis\"],[\"Tuberculosis\"],[\"Tuberculosis\"],[\"Tuberculosis\"],[\"Tuberculosis\"],[\"Tuberculosis\"],[\"Tuberculosis\"],[\"Tuberculosis\"],[\"Tuberculosis\"],[\"Tuberculosis\"],[\"Common Cold\"],[\"Common Cold\"],[\"Common Cold\"],[\"Common Cold\"],[\"Common Cold\"],[\"Common Cold\"],[\"Common Cold\"],[\"Common Cold\"],[\"Common Cold\"],[\"Common Cold\"],[\"Pneumonia\"],[\"Pneumonia\"],[\"Pneumonia\"],[\"Pneumonia\"],[\"Pneumonia\"],[\"Pneumonia\"],[\"Pneumonia\"],[\"Pneumonia\"],[\"Pneumonia\"],[\"Pneumonia\"],[\"Dimorphic hemmorhoids(piles)\"],[\"Dimorphic hemmorhoids(piles)\"],[\"Dimorphic hemmorhoids(piles)\"],[\"Dimorphic hemmorhoids(piles)\"],[\"Dimorphic hemmorhoids(piles)\"],[\"Dimorphic hemmorhoids(piles)\"],[\"Dimorphic hemmorhoids(piles)\"],[\"Dimorphic hemmorhoids(piles)\"],[\"Dimorphic hemmorhoids(piles)\"],[\"Dimorphic hemmorhoids(piles)\"],[\"Heart attack\"],[\"Heart attack\"],[\"Heart attack\"],[\"Heart attack\"],[\"Heart attack\"],[\"Heart attack\"],[\"Heart attack\"],[\"Heart attack\"],[\"Heart attack\"],[\"Heart attack\"],[\"Varicose veins\"],[\"Varicose veins\"],[\"Varicose veins\"],[\"Varicose veins\"],[\"Varicose veins\"],[\"Varicose veins\"],[\"Varicose veins\"],[\"Varicose veins\"],[\"Varicose veins\"],[\"Varicose veins\"],[\"Hypothyroidism\"],[\"Hypothyroidism\"],[\"Hypothyroidism\"],[\"Hypothyroidism\"],[\"Hypothyroidism\"],[\"Hypothyroidism\"],[\"Hypothyroidism\"],[\"Hypothyroidism\"],[\"Hypothyroidism\"],[\"Hypothyroidism\"],[\"Hyperthyroidism\"],[\"Hyperthyroidism\"],[\"Hyperthyroidism\"],[\"Hyperthyroidism\"],[\"Hyperthyroidism\"],[\"Hyperthyroidism\"],[\"Hyperthyroidism\"],[\"Hyperthyroidism\"],[\"Hyperthyroidism\"],[\"Hyperthyroidism\"],[\"Hypoglycemia\"],[\"Hypoglycemia\"],[\"Hypoglycemia\"],[\"Hypoglycemia\"],[\"Hypoglycemia\"],[\"Hypoglycemia\"],[\"Hypoglycemia\"],[\"Hypoglycemia\"],[\"Hypoglycemia\"],[\"Hypoglycemia\"],[\"Osteoarthristis\"],[\"Osteoarthristis\"],[\"Osteoarthristis\"],[\"Osteoarthristis\"],[\"Osteoarthristis\"],[\"Osteoarthristis\"],[\"Osteoarthristis\"],[\"Osteoarthristis\"],[\"Osteoarthristis\"],[\"Osteoarthristis\"],[\"Arthritis\"],[\"Arthritis\"],[\"Arthritis\"],[\"Arthritis\"],[\"Arthritis\"],[\"Arthritis\"],[\"Arthritis\"],[\"Arthritis\"],[\"Arthritis\"],[\"Arthritis\"],[\"(vertigo) Paroymsal  Positional Vertigo\"],[\"(vertigo) Paroymsal  Positional Vertigo\"],[\"(vertigo) Paroymsal  Positional Vertigo\"],[\"(vertigo) Paroymsal  Positional Vertigo\"],[\"(vertigo) Paroymsal  Positional Vertigo\"],[\"(vertigo) Paroymsal  Positional Vertigo\"],[\"(vertigo) Paroymsal  Positional Vertigo\"],[\"(vertigo) Paroymsal  Positional Vertigo\"],[\"(vertigo) Paroymsal  Positional Vertigo\"],[\"(vertigo) Paroymsal  Positional Vertigo\"],[\"Acne\"],[\"Acne\"],[\"Acne\"],[\"Acne\"],[\"Acne\"],[\"Acne\"],[\"Acne\"],[\"Acne\"],[\"Acne\"],[\"Acne\"],[\"Urinary tract infection\"],[\"Urinary tract infection\"],[\"Urinary tract infection\"],[\"Urinary tract infection\"],[\"Urinary tract infection\"],[\"Urinary tract infection\"],[\"Urinary tract infection\"],[\"Urinary tract infection\"],[\"Urinary tract infection\"],[\"Urinary tract infection\"],[\"Psoriasis\"],[\"Psoriasis\"],[\"Psoriasis\"],[\"Psoriasis\"],[\"Psoriasis\"],[\"Psoriasis\"],[\"Psoriasis\"],[\"Psoriasis\"],[\"Psoriasis\"],[\"Psoriasis\"],[\"Impetigo\"],[\"Impetigo\"],[\"Impetigo\"],[\"Impetigo\"],[\"Impetigo\"],[\"Impetigo\"],[\"Impetigo\"],[\"Impetigo\"],[\"Impetigo\"],[\"Impetigo\"],[\"Fungal infection\"],[\"Fungal infection\"],[\"Fungal infection\"],[\"Fungal infection\"],[\"Fungal infection\"],[\"Fungal infection\"],[\"Fungal infection\"],[\"Fungal infection\"],[\"Fungal infection\"],[\"Fungal infection\"],[\"Allergy\"],[\"Allergy\"],[\"Allergy\"],[\"Allergy\"],[\"Allergy\"],[\"Allergy\"],[\"Allergy\"],[\"Allergy\"],[\"Allergy\"],[\"Allergy\"],[\"GERD\"],[\"GERD\"],[\"GERD\"],[\"GERD\"],[\"GERD\"],[\"GERD\"],[\"GERD\"],[\"GERD\"],[\"GERD\"],[\"GERD\"],[\"Chronic cholestasis\"],[\"Chronic cholestasis\"],[\"Chronic cholestasis\"],[\"Chronic cholestasis\"],[\"Chronic cholestasis\"],[\"Chronic cholestasis\"],[\"Chronic cholestasis\"],[\"Chronic cholestasis\"],[\"Chronic cholestasis\"],[\"Chronic cholestasis\"],[\"Drug Reaction\"],[\"Drug Reaction\"],[\"Drug Reaction\"],[\"Drug Reaction\"],[\"Drug Reaction\"],[\"Drug Reaction\"],[\"Drug Reaction\"],[\"Drug Reaction\"],[\"Drug Reaction\"],[\"Drug Reaction\"],[\"Peptic ulcer diseae\"],[\"Peptic ulcer diseae\"],[\"Peptic ulcer diseae\"],[\"Peptic ulcer diseae\"],[\"Peptic ulcer diseae\"],[\"Peptic ulcer diseae\"],[\"Peptic ulcer diseae\"],[\"Peptic ulcer diseae\"],[\"Peptic ulcer diseae\"],[\"Peptic ulcer diseae\"],[\"AIDS\"],[\"AIDS\"],[\"AIDS\"],[\"AIDS\"],[\"AIDS\"],[\"AIDS\"],[\"AIDS\"],[\"AIDS\"],[\"AIDS\"],[\"AIDS\"],[\"Diabetes \"],[\"Diabetes \"],[\"Diabetes \"],[\"Diabetes \"],[\"Diabetes \"],[\"Diabetes \"],[\"Diabetes \"],[\"Diabetes \"],[\"Diabetes \"],[\"Diabetes \"],[\"Gastroenteritis\"],[\"Gastroenteritis\"],[\"Gastroenteritis\"],[\"Gastroenteritis\"],[\"Gastroenteritis\"],[\"Gastroenteritis\"],[\"Gastroenteritis\"],[\"Gastroenteritis\"],[\"Gastroenteritis\"],[\"Gastroenteritis\"],[\"Bronchial Asthma\"],[\"Bronchial Asthma\"],[\"Bronchial Asthma\"],[\"Bronchial Asthma\"],[\"Bronchial Asthma\"],[\"Bronchial Asthma\"],[\"Bronchial Asthma\"],[\"Bronchial Asthma\"],[\"Bronchial Asthma\"],[\"Bronchial Asthma\"],[\"Hypertension \"],[\"Hypertension \"],[\"Hypertension \"],[\"Hypertension \"],[\"Hypertension \"],[\"Hypertension \"],[\"Hypertension \"],[\"Hypertension \"],[\"Hypertension \"],[\"Hypertension \"],[\"Migraine\"],[\"Migraine\"],[\"Migraine\"],[\"Migraine\"],[\"Migraine\"],[\"Migraine\"],[\"Migraine\"],[\"Migraine\"],[\"Migraine\"],[\"Migraine\"],[\"Cervical spondylosis\"],[\"Cervical spondylosis\"],[\"Cervical spondylosis\"],[\"Cervical spondylosis\"],[\"Cervical spondylosis\"],[\"Cervical spondylosis\"],[\"Cervical spondylosis\"],[\"Cervical spondylosis\"],[\"Cervical spondylosis\"],[\"Cervical spondylosis\"],[\"Paralysis (brain hemorrhage)\"],[\"Paralysis (brain hemorrhage)\"],[\"Paralysis (brain hemorrhage)\"],[\"Paralysis (brain hemorrhage)\"],[\"Paralysis (brain hemorrhage)\"],[\"Paralysis (brain hemorrhage)\"],[\"Paralysis (brain hemorrhage)\"],[\"Paralysis (brain hemorrhage)\"],[\"Paralysis (brain hemorrhage)\"],[\"Paralysis (brain hemorrhage)\"],[\"Jaundice\"],[\"Jaundice\"],[\"Jaundice\"],[\"Jaundice\"],[\"Jaundice\"],[\"Jaundice\"],[\"Jaundice\"],[\"Jaundice\"],[\"Jaundice\"],[\"Jaundice\"],[\"Malaria\"],[\"Malaria\"],[\"Malaria\"],[\"Malaria\"],[\"Malaria\"],[\"Malaria\"],[\"Malaria\"],[\"Malaria\"],[\"Malaria\"],[\"Malaria\"],[\"Chicken pox\"],[\"Chicken pox\"],[\"Chicken pox\"],[\"Chicken pox\"],[\"Chicken pox\"],[\"Chicken pox\"],[\"Chicken pox\"],[\"Chicken pox\"],[\"Chicken pox\"],[\"Chicken pox\"],[\"Dengue\"],[\"Dengue\"],[\"Dengue\"],[\"Dengue\"],[\"Dengue\"],[\"Dengue\"],[\"Dengue\"],[\"Dengue\"],[\"Dengue\"],[\"Dengue\"],[\"Typhoid\"],[\"Typhoid\"],[\"Typhoid\"],[\"Typhoid\"],[\"Typhoid\"],[\"Typhoid\"],[\"Typhoid\"],[\"Typhoid\"],[\"Typhoid\"],[\"Typhoid\"],[\"hepatitis A\"],[\"hepatitis A\"],[\"hepatitis A\"],[\"hepatitis A\"],[\"hepatitis A\"],[\"hepatitis A\"],[\"hepatitis A\"],[\"hepatitis A\"],[\"hepatitis A\"],[\"hepatitis A\"],[\"Hepatitis B\"],[\"Hepatitis B\"],[\"Hepatitis B\"],[\"Hepatitis B\"],[\"Hepatitis B\"],[\"Hepatitis B\"],[\"Hepatitis B\"],[\"Hepatitis B\"],[\"Hepatitis B\"],[\"Hepatitis B\"],[\"Hepatitis C\"],[\"Hepatitis C\"],[\"Hepatitis C\"],[\"Hepatitis C\"],[\"Hepatitis C\"],[\"Hepatitis C\"],[\"Hepatitis C\"],[\"Hepatitis C\"],[\"Hepatitis C\"],[\"Hepatitis C\"],[\"Hepatitis D\"],[\"Hepatitis D\"],[\"Hepatitis D\"],[\"Hepatitis D\"],[\"Hepatitis D\"],[\"Hepatitis D\"],[\"Hepatitis D\"],[\"Hepatitis D\"],[\"Hepatitis D\"],[\"Hepatitis D\"],[\"Hepatitis E\"],[\"Hepatitis E\"],[\"Hepatitis E\"],[\"Hepatitis E\"],[\"Hepatitis E\"],[\"Hepatitis E\"],[\"Hepatitis E\"],[\"Hepatitis E\"],[\"Hepatitis E\"],[\"Hepatitis E\"],[\"Alcoholic hepatitis\"],[\"Alcoholic hepatitis\"],[\"Alcoholic hepatitis\"],[\"Alcoholic hepatitis\"],[\"Alcoholic hepatitis\"],[\"Alcoholic hepatitis\"],[\"Alcoholic hepatitis\"],[\"Alcoholic hepatitis\"],[\"Alcoholic hepatitis\"],[\"Alcoholic hepatitis\"],[\"Tuberculosis\"],[\"Tuberculosis\"],[\"Tuberculosis\"],[\"Tuberculosis\"],[\"Tuberculosis\"],[\"Tuberculosis\"],[\"Tuberculosis\"],[\"Tuberculosis\"],[\"Tuberculosis\"],[\"Tuberculosis\"],[\"Common Cold\"],[\"Common Cold\"],[\"Common Cold\"],[\"Common Cold\"],[\"Common Cold\"],[\"Common Cold\"],[\"Common Cold\"],[\"Common Cold\"],[\"Common Cold\"],[\"Common Cold\"],[\"Pneumonia\"],[\"Pneumonia\"],[\"Pneumonia\"],[\"Pneumonia\"],[\"Pneumonia\"],[\"Pneumonia\"],[\"Pneumonia\"],[\"Pneumonia\"],[\"Pneumonia\"],[\"Pneumonia\"],[\"Dimorphic hemmorhoids(piles)\"],[\"Dimorphic hemmorhoids(piles)\"],[\"Dimorphic hemmorhoids(piles)\"],[\"Dimorphic hemmorhoids(piles)\"],[\"Dimorphic hemmorhoids(piles)\"],[\"Dimorphic hemmorhoids(piles)\"],[\"Dimorphic hemmorhoids(piles)\"],[\"Dimorphic hemmorhoids(piles)\"],[\"Dimorphic hemmorhoids(piles)\"],[\"Dimorphic hemmorhoids(piles)\"],[\"Heart attack\"],[\"Heart attack\"],[\"Heart attack\"],[\"Heart attack\"],[\"Heart attack\"],[\"Heart attack\"],[\"Heart attack\"],[\"Heart attack\"],[\"Heart attack\"],[\"Heart attack\"],[\"Varicose veins\"],[\"Varicose veins\"],[\"Varicose veins\"],[\"Varicose veins\"],[\"Varicose veins\"],[\"Varicose veins\"],[\"Varicose veins\"],[\"Varicose veins\"],[\"Varicose veins\"],[\"Varicose veins\"],[\"Hypothyroidism\"],[\"Hypothyroidism\"],[\"Hypothyroidism\"],[\"Hypothyroidism\"],[\"Hypothyroidism\"],[\"Hypothyroidism\"],[\"Hypothyroidism\"],[\"Hypothyroidism\"],[\"Hypothyroidism\"],[\"Hypothyroidism\"],[\"Hyperthyroidism\"],[\"Hyperthyroidism\"],[\"Hyperthyroidism\"],[\"Hyperthyroidism\"],[\"Hyperthyroidism\"],[\"Hyperthyroidism\"],[\"Hyperthyroidism\"],[\"Hyperthyroidism\"],[\"Hyperthyroidism\"],[\"Hyperthyroidism\"],[\"Hypoglycemia\"],[\"Hypoglycemia\"],[\"Hypoglycemia\"],[\"Hypoglycemia\"],[\"Hypoglycemia\"],[\"Hypoglycemia\"],[\"Hypoglycemia\"],[\"Hypoglycemia\"],[\"Hypoglycemia\"],[\"Hypoglycemia\"],[\"Osteoarthristis\"],[\"Osteoarthristis\"],[\"Osteoarthristis\"],[\"Osteoarthristis\"],[\"Osteoarthristis\"],[\"Osteoarthristis\"],[\"Osteoarthristis\"],[\"Osteoarthristis\"],[\"Osteoarthristis\"],[\"Osteoarthristis\"],[\"Arthritis\"],[\"Arthritis\"],[\"Arthritis\"],[\"Arthritis\"],[\"Arthritis\"],[\"Arthritis\"],[\"Arthritis\"],[\"Arthritis\"],[\"Arthritis\"],[\"Arthritis\"],[\"(vertigo) Paroymsal  Positional Vertigo\"],[\"(vertigo) Paroymsal  Positional Vertigo\"],[\"(vertigo) Paroymsal  Positional Vertigo\"],[\"(vertigo) Paroymsal  Positional Vertigo\"],[\"(vertigo) Paroymsal  Positional Vertigo\"],[\"(vertigo) Paroymsal  Positional Vertigo\"],[\"(vertigo) Paroymsal  Positional Vertigo\"],[\"(vertigo) Paroymsal  Positional Vertigo\"],[\"(vertigo) Paroymsal  Positional Vertigo\"],[\"(vertigo) Paroymsal  Positional Vertigo\"],[\"Acne\"],[\"Acne\"],[\"Acne\"],[\"Acne\"],[\"Acne\"],[\"Acne\"],[\"Acne\"],[\"Acne\"],[\"Acne\"],[\"Acne\"],[\"Urinary tract infection\"],[\"Urinary tract infection\"],[\"Urinary tract infection\"],[\"Urinary tract infection\"],[\"Urinary tract infection\"],[\"Urinary tract infection\"],[\"Urinary tract infection\"],[\"Urinary tract infection\"],[\"Urinary tract infection\"],[\"Urinary tract infection\"],[\"Psoriasis\"],[\"Psoriasis\"],[\"Psoriasis\"],[\"Psoriasis\"],[\"Psoriasis\"],[\"Psoriasis\"],[\"Psoriasis\"],[\"Psoriasis\"],[\"Psoriasis\"],[\"Psoriasis\"],[\"Impetigo\"],[\"Impetigo\"],[\"Impetigo\"],[\"Impetigo\"],[\"Impetigo\"],[\"Impetigo\"],[\"Impetigo\"],[\"Impetigo\"],[\"Impetigo\"],[\"Impetigo\"],[\"Fungal infection\"],[\"Fungal infection\"],[\"Fungal infection\"],[\"Fungal infection\"],[\"Fungal infection\"],[\"Fungal infection\"],[\"Fungal infection\"],[\"Fungal infection\"],[\"Fungal infection\"],[\"Fungal infection\"],[\"Allergy\"],[\"Allergy\"],[\"Allergy\"],[\"Allergy\"],[\"Allergy\"],[\"Allergy\"],[\"Allergy\"],[\"Allergy\"],[\"Allergy\"],[\"Allergy\"],[\"GERD\"],[\"GERD\"],[\"GERD\"],[\"GERD\"],[\"GERD\"],[\"GERD\"],[\"GERD\"],[\"GERD\"],[\"GERD\"],[\"GERD\"],[\"Chronic cholestasis\"],[\"Chronic cholestasis\"],[\"Chronic cholestasis\"],[\"Chronic cholestasis\"],[\"Chronic cholestasis\"],[\"Chronic cholestasis\"],[\"Chronic cholestasis\"],[\"Chronic cholestasis\"],[\"Chronic cholestasis\"],[\"Chronic cholestasis\"],[\"Drug Reaction\"],[\"Drug Reaction\"],[\"Drug Reaction\"],[\"Drug Reaction\"],[\"Drug Reaction\"],[\"Drug Reaction\"],[\"Drug Reaction\"],[\"Drug Reaction\"],[\"Drug Reaction\"],[\"Drug Reaction\"],[\"Peptic ulcer diseae\"],[\"Peptic ulcer diseae\"],[\"Peptic ulcer diseae\"],[\"Peptic ulcer diseae\"],[\"Peptic ulcer diseae\"],[\"Peptic ulcer diseae\"],[\"Peptic ulcer diseae\"],[\"Peptic ulcer diseae\"],[\"Peptic ulcer diseae\"],[\"Peptic ulcer diseae\"],[\"AIDS\"],[\"AIDS\"],[\"AIDS\"],[\"AIDS\"],[\"AIDS\"],[\"AIDS\"],[\"AIDS\"],[\"AIDS\"],[\"AIDS\"],[\"AIDS\"],[\"Diabetes \"],[\"Diabetes \"],[\"Diabetes \"],[\"Diabetes \"],[\"Diabetes \"],[\"Diabetes \"],[\"Diabetes \"],[\"Diabetes \"],[\"Diabetes \"],[\"Diabetes \"],[\"Gastroenteritis\"],[\"Gastroenteritis\"],[\"Gastroenteritis\"],[\"Gastroenteritis\"],[\"Gastroenteritis\"],[\"Gastroenteritis\"],[\"Gastroenteritis\"],[\"Gastroenteritis\"],[\"Gastroenteritis\"],[\"Gastroenteritis\"],[\"Bronchial Asthma\"],[\"Bronchial Asthma\"],[\"Bronchial Asthma\"],[\"Bronchial Asthma\"],[\"Bronchial Asthma\"],[\"Bronchial Asthma\"],[\"Bronchial Asthma\"],[\"Bronchial Asthma\"],[\"Bronchial Asthma\"],[\"Bronchial Asthma\"],[\"Hypertension \"],[\"Hypertension \"],[\"Hypertension \"],[\"Hypertension \"],[\"Hypertension \"],[\"Hypertension \"],[\"Hypertension \"],[\"Hypertension \"],[\"Hypertension \"],[\"Hypertension \"],[\"Migraine\"],[\"Migraine\"],[\"Migraine\"],[\"Migraine\"],[\"Migraine\"],[\"Migraine\"],[\"Migraine\"],[\"Migraine\"],[\"Migraine\"],[\"Migraine\"],[\"Cervical spondylosis\"],[\"Cervical spondylosis\"],[\"Cervical spondylosis\"],[\"Cervical spondylosis\"],[\"Cervical spondylosis\"],[\"Cervical spondylosis\"],[\"Cervical spondylosis\"],[\"Cervical spondylosis\"],[\"Cervical spondylosis\"],[\"Cervical spondylosis\"],[\"Paralysis (brain hemorrhage)\"],[\"Paralysis (brain hemorrhage)\"],[\"Paralysis (brain hemorrhage)\"],[\"Paralysis (brain hemorrhage)\"],[\"Paralysis (brain hemorrhage)\"],[\"Paralysis (brain hemorrhage)\"],[\"Paralysis (brain hemorrhage)\"],[\"Paralysis (brain hemorrhage)\"],[\"Paralysis (brain hemorrhage)\"],[\"Paralysis (brain hemorrhage)\"],[\"Jaundice\"],[\"Jaundice\"],[\"Jaundice\"],[\"Jaundice\"],[\"Jaundice\"],[\"Jaundice\"],[\"Jaundice\"],[\"Jaundice\"],[\"Jaundice\"],[\"Jaundice\"],[\"Malaria\"],[\"Malaria\"],[\"Malaria\"],[\"Malaria\"],[\"Malaria\"],[\"Malaria\"],[\"Malaria\"],[\"Malaria\"],[\"Malaria\"],[\"Malaria\"],[\"Chicken pox\"],[\"Chicken pox\"],[\"Chicken pox\"],[\"Chicken pox\"],[\"Chicken pox\"],[\"Chicken pox\"],[\"Chicken pox\"],[\"Chicken pox\"],[\"Chicken pox\"],[\"Chicken pox\"],[\"Dengue\"],[\"Dengue\"],[\"Dengue\"],[\"Dengue\"],[\"Dengue\"],[\"Dengue\"],[\"Dengue\"],[\"Dengue\"],[\"Dengue\"],[\"Dengue\"],[\"Typhoid\"],[\"Typhoid\"],[\"Typhoid\"],[\"Typhoid\"],[\"Typhoid\"],[\"Typhoid\"],[\"Typhoid\"],[\"Typhoid\"],[\"Typhoid\"],[\"Typhoid\"],[\"hepatitis A\"],[\"hepatitis A\"],[\"hepatitis A\"],[\"hepatitis A\"],[\"hepatitis A\"],[\"hepatitis A\"],[\"hepatitis A\"],[\"hepatitis A\"],[\"hepatitis A\"],[\"hepatitis A\"],[\"Hepatitis B\"],[\"Hepatitis B\"],[\"Hepatitis B\"],[\"Hepatitis B\"],[\"Hepatitis B\"],[\"Hepatitis B\"],[\"Hepatitis B\"],[\"Hepatitis B\"],[\"Hepatitis B\"],[\"Hepatitis B\"],[\"Hepatitis C\"],[\"Hepatitis C\"],[\"Hepatitis C\"],[\"Hepatitis C\"],[\"Hepatitis C\"],[\"Hepatitis C\"],[\"Hepatitis C\"],[\"Hepatitis C\"],[\"Hepatitis C\"],[\"Hepatitis C\"],[\"Hepatitis D\"],[\"Hepatitis D\"],[\"Hepatitis D\"],[\"Hepatitis D\"],[\"Hepatitis D\"],[\"Hepatitis D\"],[\"Hepatitis D\"],[\"Hepatitis D\"],[\"Hepatitis D\"],[\"Hepatitis D\"],[\"Hepatitis E\"],[\"Hepatitis E\"],[\"Hepatitis E\"],[\"Hepatitis E\"],[\"Hepatitis E\"],[\"Hepatitis E\"],[\"Hepatitis E\"],[\"Hepatitis E\"],[\"Hepatitis E\"],[\"Hepatitis E\"],[\"Alcoholic hepatitis\"],[\"Alcoholic hepatitis\"],[\"Alcoholic hepatitis\"],[\"Alcoholic hepatitis\"],[\"Alcoholic hepatitis\"],[\"Alcoholic hepatitis\"],[\"Alcoholic hepatitis\"],[\"Alcoholic hepatitis\"],[\"Alcoholic hepatitis\"],[\"Alcoholic hepatitis\"],[\"Tuberculosis\"],[\"Tuberculosis\"],[\"Tuberculosis\"],[\"Tuberculosis\"],[\"Tuberculosis\"],[\"Tuberculosis\"],[\"Tuberculosis\"],[\"Tuberculosis\"],[\"Tuberculosis\"],[\"Tuberculosis\"],[\"Common Cold\"],[\"Common Cold\"],[\"Common Cold\"],[\"Common Cold\"],[\"Common Cold\"],[\"Common Cold\"],[\"Common Cold\"],[\"Common Cold\"],[\"Common Cold\"],[\"Common Cold\"],[\"Pneumonia\"],[\"Pneumonia\"],[\"Pneumonia\"],[\"Pneumonia\"],[\"Pneumonia\"],[\"Pneumonia\"],[\"Pneumonia\"],[\"Pneumonia\"],[\"Pneumonia\"],[\"Pneumonia\"],[\"Dimorphic hemmorhoids(piles)\"],[\"Dimorphic hemmorhoids(piles)\"],[\"Dimorphic hemmorhoids(piles)\"],[\"Dimorphic hemmorhoids(piles)\"],[\"Dimorphic hemmorhoids(piles)\"],[\"Dimorphic hemmorhoids(piles)\"],[\"Dimorphic hemmorhoids(piles)\"],[\"Dimorphic hemmorhoids(piles)\"],[\"Dimorphic hemmorhoids(piles)\"],[\"Dimorphic hemmorhoids(piles)\"],[\"Heart attack\"],[\"Heart attack\"],[\"Heart attack\"],[\"Heart attack\"],[\"Heart attack\"],[\"Heart attack\"],[\"Heart attack\"],[\"Heart attack\"],[\"Heart attack\"],[\"Heart attack\"],[\"Varicose veins\"],[\"Varicose veins\"],[\"Varicose veins\"],[\"Varicose veins\"],[\"Varicose veins\"],[\"Varicose veins\"],[\"Varicose veins\"],[\"Varicose veins\"],[\"Varicose veins\"],[\"Varicose veins\"],[\"Hypothyroidism\"],[\"Hypothyroidism\"],[\"Hypothyroidism\"],[\"Hypothyroidism\"],[\"Hypothyroidism\"],[\"Hypothyroidism\"],[\"Hypothyroidism\"],[\"Hypothyroidism\"],[\"Hypothyroidism\"],[\"Hypothyroidism\"],[\"Hyperthyroidism\"],[\"Hyperthyroidism\"],[\"Hyperthyroidism\"],[\"Hyperthyroidism\"],[\"Hyperthyroidism\"],[\"Hyperthyroidism\"],[\"Hyperthyroidism\"],[\"Hyperthyroidism\"],[\"Hyperthyroidism\"],[\"Hyperthyroidism\"],[\"Hypoglycemia\"],[\"Hypoglycemia\"],[\"Hypoglycemia\"],[\"Hypoglycemia\"],[\"Hypoglycemia\"],[\"Hypoglycemia\"],[\"Hypoglycemia\"],[\"Hypoglycemia\"],[\"Hypoglycemia\"],[\"Hypoglycemia\"],[\"Osteoarthristis\"],[\"Osteoarthristis\"],[\"Osteoarthristis\"],[\"Osteoarthristis\"],[\"Osteoarthristis\"],[\"Osteoarthristis\"],[\"Osteoarthristis\"],[\"Osteoarthristis\"],[\"Osteoarthristis\"],[\"Osteoarthristis\"],[\"Arthritis\"],[\"Arthritis\"],[\"Arthritis\"],[\"Arthritis\"],[\"Arthritis\"],[\"Arthritis\"],[\"Arthritis\"],[\"Arthritis\"],[\"Arthritis\"],[\"Arthritis\"],[\"(vertigo) Paroymsal  Positional Vertigo\"],[\"(vertigo) Paroymsal  Positional Vertigo\"],[\"(vertigo) Paroymsal  Positional Vertigo\"],[\"(vertigo) Paroymsal  Positional Vertigo\"],[\"(vertigo) Paroymsal  Positional Vertigo\"],[\"(vertigo) Paroymsal  Positional Vertigo\"],[\"(vertigo) Paroymsal  Positional Vertigo\"],[\"(vertigo) Paroymsal  Positional Vertigo\"],[\"(vertigo) Paroymsal  Positional Vertigo\"],[\"(vertigo) Paroymsal  Positional Vertigo\"],[\"Acne\"],[\"Acne\"],[\"Acne\"],[\"Acne\"],[\"Acne\"],[\"Acne\"],[\"Acne\"],[\"Acne\"],[\"Acne\"],[\"Acne\"],[\"Urinary tract infection\"],[\"Urinary tract infection\"],[\"Urinary tract infection\"],[\"Urinary tract infection\"],[\"Urinary tract infection\"],[\"Urinary tract infection\"],[\"Urinary tract infection\"],[\"Urinary tract infection\"],[\"Urinary tract infection\"],[\"Urinary tract infection\"],[\"Psoriasis\"],[\"Psoriasis\"],[\"Psoriasis\"],[\"Psoriasis\"],[\"Psoriasis\"],[\"Psoriasis\"],[\"Psoriasis\"],[\"Psoriasis\"],[\"Psoriasis\"],[\"Psoriasis\"],[\"Impetigo\"],[\"Impetigo\"],[\"Impetigo\"],[\"Impetigo\"],[\"Impetigo\"],[\"Impetigo\"],[\"Impetigo\"],[\"Impetigo\"],[\"Impetigo\"],[\"Impetigo\"],[\"Fungal infection\"],[\"Fungal infection\"],[\"Fungal infection\"],[\"Fungal infection\"],[\"Fungal infection\"],[\"Fungal infection\"],[\"Fungal infection\"],[\"Fungal infection\"],[\"Fungal infection\"],[\"Fungal infection\"],[\"Allergy\"],[\"Allergy\"],[\"Allergy\"],[\"Allergy\"],[\"Allergy\"],[\"Allergy\"],[\"Allergy\"],[\"Allergy\"],[\"Allergy\"],[\"Allergy\"],[\"GERD\"],[\"GERD\"],[\"GERD\"],[\"GERD\"],[\"GERD\"],[\"GERD\"],[\"GERD\"],[\"GERD\"],[\"GERD\"],[\"GERD\"],[\"Chronic cholestasis\"],[\"Chronic cholestasis\"],[\"Chronic cholestasis\"],[\"Chronic cholestasis\"],[\"Chronic cholestasis\"],[\"Chronic cholestasis\"],[\"Chronic cholestasis\"],[\"Chronic cholestasis\"],[\"Chronic cholestasis\"],[\"Chronic cholestasis\"],[\"Drug Reaction\"],[\"Drug Reaction\"],[\"Drug Reaction\"],[\"Drug Reaction\"],[\"Drug Reaction\"],[\"Drug Reaction\"],[\"Drug Reaction\"],[\"Drug Reaction\"],[\"Drug Reaction\"],[\"Drug Reaction\"],[\"Peptic ulcer diseae\"],[\"Peptic ulcer diseae\"],[\"Peptic ulcer diseae\"],[\"Peptic ulcer diseae\"],[\"Peptic ulcer diseae\"],[\"Peptic ulcer diseae\"],[\"Peptic ulcer diseae\"],[\"Peptic ulcer diseae\"],[\"Peptic ulcer diseae\"],[\"Peptic ulcer diseae\"],[\"AIDS\"],[\"AIDS\"],[\"AIDS\"],[\"AIDS\"],[\"AIDS\"],[\"AIDS\"],[\"AIDS\"],[\"AIDS\"],[\"AIDS\"],[\"AIDS\"],[\"Diabetes \"],[\"Diabetes \"],[\"Diabetes \"],[\"Diabetes \"],[\"Diabetes \"],[\"Diabetes \"],[\"Diabetes \"],[\"Diabetes \"],[\"Diabetes \"],[\"Diabetes \"],[\"Gastroenteritis\"],[\"Gastroenteritis\"],[\"Gastroenteritis\"],[\"Gastroenteritis\"],[\"Gastroenteritis\"],[\"Gastroenteritis\"],[\"Gastroenteritis\"],[\"Gastroenteritis\"],[\"Gastroenteritis\"],[\"Gastroenteritis\"],[\"Bronchial Asthma\"],[\"Bronchial Asthma\"],[\"Bronchial Asthma\"],[\"Bronchial Asthma\"],[\"Bronchial Asthma\"],[\"Bronchial Asthma\"],[\"Bronchial Asthma\"],[\"Bronchial Asthma\"],[\"Bronchial Asthma\"],[\"Bronchial Asthma\"],[\"Hypertension \"],[\"Hypertension \"],[\"Hypertension \"],[\"Hypertension \"],[\"Hypertension \"],[\"Hypertension \"],[\"Hypertension \"],[\"Hypertension \"],[\"Hypertension \"],[\"Hypertension \"],[\"Migraine\"],[\"Migraine\"],[\"Migraine\"],[\"Migraine\"],[\"Migraine\"],[\"Migraine\"],[\"Migraine\"],[\"Migraine\"],[\"Migraine\"],[\"Migraine\"],[\"Cervical spondylosis\"],[\"Cervical spondylosis\"],[\"Cervical spondylosis\"],[\"Cervical spondylosis\"],[\"Cervical spondylosis\"],[\"Cervical spondylosis\"],[\"Cervical spondylosis\"],[\"Cervical spondylosis\"],[\"Cervical spondylosis\"],[\"Cervical spondylosis\"],[\"Paralysis (brain hemorrhage)\"],[\"Paralysis (brain hemorrhage)\"],[\"Paralysis (brain hemorrhage)\"],[\"Paralysis (brain hemorrhage)\"],[\"Paralysis (brain hemorrhage)\"],[\"Paralysis (brain hemorrhage)\"],[\"Paralysis (brain hemorrhage)\"],[\"Paralysis (brain hemorrhage)\"],[\"Paralysis (brain hemorrhage)\"],[\"Paralysis (brain hemorrhage)\"],[\"Jaundice\"],[\"Jaundice\"],[\"Jaundice\"],[\"Jaundice\"],[\"Jaundice\"],[\"Jaundice\"],[\"Jaundice\"],[\"Jaundice\"],[\"Jaundice\"],[\"Jaundice\"],[\"Malaria\"],[\"Malaria\"],[\"Malaria\"],[\"Malaria\"],[\"Malaria\"],[\"Malaria\"],[\"Malaria\"],[\"Malaria\"],[\"Malaria\"],[\"Malaria\"],[\"Chicken pox\"],[\"Chicken pox\"],[\"Chicken pox\"],[\"Chicken pox\"],[\"Chicken pox\"],[\"Chicken pox\"],[\"Chicken pox\"],[\"Chicken pox\"],[\"Chicken pox\"],[\"Chicken pox\"],[\"Dengue\"],[\"Dengue\"],[\"Dengue\"],[\"Dengue\"],[\"Dengue\"],[\"Dengue\"],[\"Dengue\"],[\"Dengue\"],[\"Dengue\"],[\"Dengue\"],[\"Typhoid\"],[\"Typhoid\"],[\"Typhoid\"],[\"Typhoid\"],[\"Typhoid\"],[\"Typhoid\"],[\"Typhoid\"],[\"Typhoid\"],[\"Typhoid\"],[\"Typhoid\"],[\"hepatitis A\"],[\"hepatitis A\"],[\"hepatitis A\"],[\"hepatitis A\"],[\"hepatitis A\"],[\"hepatitis A\"],[\"hepatitis A\"],[\"hepatitis A\"],[\"hepatitis A\"],[\"hepatitis A\"],[\"Hepatitis B\"],[\"Hepatitis B\"],[\"Hepatitis B\"],[\"Hepatitis B\"],[\"Hepatitis B\"],[\"Hepatitis B\"],[\"Hepatitis B\"],[\"Hepatitis B\"],[\"Hepatitis B\"],[\"Hepatitis B\"],[\"Hepatitis C\"],[\"Hepatitis C\"],[\"Hepatitis C\"],[\"Hepatitis C\"],[\"Hepatitis C\"],[\"Hepatitis C\"],[\"Hepatitis C\"],[\"Hepatitis C\"],[\"Hepatitis C\"],[\"Hepatitis C\"],[\"Hepatitis D\"],[\"Hepatitis D\"],[\"Hepatitis D\"],[\"Hepatitis D\"],[\"Hepatitis D\"],[\"Hepatitis D\"],[\"Hepatitis D\"],[\"Hepatitis D\"],[\"Hepatitis D\"],[\"Hepatitis D\"],[\"Hepatitis E\"],[\"Hepatitis E\"],[\"Hepatitis E\"],[\"Hepatitis E\"],[\"Hepatitis E\"],[\"Hepatitis E\"],[\"Hepatitis E\"],[\"Hepatitis E\"],[\"Hepatitis E\"],[\"Hepatitis E\"],[\"Alcoholic hepatitis\"],[\"Alcoholic hepatitis\"],[\"Alcoholic hepatitis\"],[\"Alcoholic hepatitis\"],[\"Alcoholic hepatitis\"],[\"Alcoholic hepatitis\"],[\"Alcoholic hepatitis\"],[\"Alcoholic hepatitis\"],[\"Alcoholic hepatitis\"],[\"Alcoholic hepatitis\"],[\"Tuberculosis\"],[\"Tuberculosis\"],[\"Tuberculosis\"],[\"Tuberculosis\"],[\"Tuberculosis\"],[\"Tuberculosis\"],[\"Tuberculosis\"],[\"Tuberculosis\"],[\"Tuberculosis\"],[\"Tuberculosis\"],[\"Common Cold\"],[\"Common Cold\"],[\"Common Cold\"],[\"Common Cold\"],[\"Common Cold\"],[\"Common Cold\"],[\"Common Cold\"],[\"Common Cold\"],[\"Common Cold\"],[\"Common Cold\"],[\"Pneumonia\"],[\"Pneumonia\"],[\"Pneumonia\"],[\"Pneumonia\"],[\"Pneumonia\"],[\"Pneumonia\"],[\"Pneumonia\"],[\"Pneumonia\"],[\"Pneumonia\"],[\"Pneumonia\"],[\"Dimorphic hemmorhoids(piles)\"],[\"Dimorphic hemmorhoids(piles)\"],[\"Dimorphic hemmorhoids(piles)\"],[\"Dimorphic hemmorhoids(piles)\"],[\"Dimorphic hemmorhoids(piles)\"],[\"Dimorphic hemmorhoids(piles)\"],[\"Dimorphic hemmorhoids(piles)\"],[\"Dimorphic hemmorhoids(piles)\"],[\"Dimorphic hemmorhoids(piles)\"],[\"Dimorphic hemmorhoids(piles)\"],[\"Heart attack\"],[\"Heart attack\"],[\"Heart attack\"],[\"Heart attack\"],[\"Heart attack\"],[\"Heart attack\"],[\"Heart attack\"],[\"Heart attack\"],[\"Heart attack\"],[\"Heart attack\"],[\"Varicose veins\"],[\"Varicose veins\"],[\"Varicose veins\"],[\"Varicose veins\"],[\"Varicose veins\"],[\"Varicose veins\"],[\"Varicose veins\"],[\"Varicose veins\"],[\"Varicose veins\"],[\"Varicose veins\"],[\"Hypothyroidism\"],[\"Hypothyroidism\"],[\"Hypothyroidism\"],[\"Hypothyroidism\"],[\"Hypothyroidism\"],[\"Hypothyroidism\"],[\"Hypothyroidism\"],[\"Hypothyroidism\"],[\"Hypothyroidism\"],[\"Hypothyroidism\"],[\"Hyperthyroidism\"],[\"Hyperthyroidism\"],[\"Hyperthyroidism\"],[\"Hyperthyroidism\"],[\"Hyperthyroidism\"],[\"Hyperthyroidism\"],[\"Hyperthyroidism\"],[\"Hyperthyroidism\"],[\"Hyperthyroidism\"],[\"Hyperthyroidism\"],[\"Hypoglycemia\"],[\"Hypoglycemia\"],[\"Hypoglycemia\"],[\"Hypoglycemia\"],[\"Hypoglycemia\"],[\"Hypoglycemia\"],[\"Hypoglycemia\"],[\"Hypoglycemia\"],[\"Hypoglycemia\"],[\"Hypoglycemia\"],[\"Osteoarthristis\"],[\"Osteoarthristis\"],[\"Osteoarthristis\"],[\"Osteoarthristis\"],[\"Osteoarthristis\"],[\"Osteoarthristis\"],[\"Osteoarthristis\"],[\"Osteoarthristis\"],[\"Osteoarthristis\"],[\"Osteoarthristis\"],[\"Arthritis\"],[\"Arthritis\"],[\"Arthritis\"],[\"Arthritis\"],[\"Arthritis\"],[\"Arthritis\"],[\"Arthritis\"],[\"Arthritis\"],[\"Arthritis\"],[\"Arthritis\"],[\"(vertigo) Paroymsal  Positional Vertigo\"],[\"(vertigo) Paroymsal  Positional Vertigo\"],[\"(vertigo) Paroymsal  Positional Vertigo\"],[\"(vertigo) Paroymsal  Positional Vertigo\"],[\"(vertigo) Paroymsal  Positional Vertigo\"],[\"(vertigo) Paroymsal  Positional Vertigo\"],[\"(vertigo) Paroymsal  Positional Vertigo\"],[\"(vertigo) Paroymsal  Positional Vertigo\"],[\"(vertigo) Paroymsal  Positional Vertigo\"],[\"(vertigo) Paroymsal  Positional Vertigo\"],[\"Acne\"],[\"Acne\"],[\"Acne\"],[\"Acne\"],[\"Acne\"],[\"Acne\"],[\"Acne\"],[\"Acne\"],[\"Acne\"],[\"Acne\"],[\"Urinary tract infection\"],[\"Urinary tract infection\"],[\"Urinary tract infection\"],[\"Urinary tract infection\"],[\"Urinary tract infection\"],[\"Urinary tract infection\"],[\"Urinary tract infection\"],[\"Urinary tract infection\"],[\"Urinary tract infection\"],[\"Urinary tract infection\"],[\"Psoriasis\"],[\"Psoriasis\"],[\"Psoriasis\"],[\"Psoriasis\"],[\"Psoriasis\"],[\"Psoriasis\"],[\"Psoriasis\"],[\"Psoriasis\"],[\"Psoriasis\"],[\"Psoriasis\"],[\"Impetigo\"],[\"Impetigo\"],[\"Impetigo\"],[\"Impetigo\"],[\"Impetigo\"],[\"Impetigo\"],[\"Impetigo\"],[\"Impetigo\"],[\"Impetigo\"],[\"Impetigo\"],[\"Fungal infection\"],[\"Allergy\"],[\"GERD\"],[\"Chronic cholestasis\"],[\"Drug Reaction\"],[\"Peptic ulcer diseae\"],[\"AIDS\"],[\"Diabetes \"],[\"Gastroenteritis\"],[\"Bronchial Asthma\"],[\"Hypertension \"],[\"Migraine\"],[\"Cervical spondylosis\"],[\"Paralysis (brain hemorrhage)\"],[\"Jaundice\"],[\"Malaria\"],[\"Chicken pox\"],[\"Dengue\"],[\"Typhoid\"],[\"hepatitis A\"],[\"Hepatitis B\"],[\"Hepatitis C\"],[\"Hepatitis D\"],[\"Hepatitis E\"],[\"Alcoholic hepatitis\"],[\"Tuberculosis\"],[\"Common Cold\"],[\"Pneumonia\"],[\"Dimorphic hemmorhoids(piles)\"],[\"Heart attack\"],[\"Varicose veins\"],[\"Hypothyroidism\"],[\"Hyperthyroidism\"],[\"Hypoglycemia\"],[\"Osteoarthristis\"],[\"Arthritis\"],[\"(vertigo) Paroymsal  Positional Vertigo\"],[\"Acne\"],[\"Urinary tract infection\"],[\"Psoriasis\"],[\"Impetigo\"],[\"Fungal infection\"],[\"Allergy\"],[\"GERD\"],[\"Chronic cholestasis\"],[\"Drug Reaction\"],[\"Peptic ulcer diseae\"],[\"AIDS\"],[\"Diabetes \"],[\"Gastroenteritis\"],[\"Bronchial Asthma\"],[\"Hypertension \"],[\"Migraine\"],[\"Cervical spondylosis\"],[\"Paralysis (brain hemorrhage)\"],[\"Jaundice\"],[\"Malaria\"],[\"Chicken pox\"],[\"Dengue\"],[\"Typhoid\"],[\"hepatitis A\"],[\"Hepatitis B\"],[\"Hepatitis C\"],[\"Hepatitis D\"],[\"Hepatitis E\"],[\"Alcoholic hepatitis\"],[\"Tuberculosis\"],[\"Common Cold\"],[\"Pneumonia\"],[\"Dimorphic hemmorhoids(piles)\"],[\"Heart attack\"],[\"Varicose veins\"],[\"Hypothyroidism\"],[\"Hyperthyroidism\"],[\"Hypoglycemia\"],[\"Osteoarthristis\"],[\"Arthritis\"],[\"(vertigo) Paroymsal  Positional Vertigo\"],[\"Acne\"],[\"Urinary tract infection\"],[\"Psoriasis\"],[\"Impetigo\"],[\"Fungal infection\"],[\"Allergy\"],[\"GERD\"],[\"Chronic cholestasis\"],[\"Drug Reaction\"],[\"Peptic ulcer diseae\"],[\"AIDS\"],[\"Diabetes \"],[\"Gastroenteritis\"],[\"Bronchial Asthma\"],[\"Hypertension \"],[\"Migraine\"],[\"Cervical spondylosis\"],[\"Paralysis (brain hemorrhage)\"],[\"Jaundice\"],[\"Malaria\"],[\"Chicken pox\"],[\"Dengue\"],[\"Typhoid\"],[\"hepatitis A\"],[\"Hepatitis B\"],[\"Hepatitis C\"],[\"Hepatitis D\"],[\"Hepatitis E\"],[\"Alcoholic hepatitis\"],[\"Tuberculosis\"],[\"Common Cold\"],[\"Pneumonia\"],[\"Dimorphic hemmorhoids(piles)\"],[\"Heart attack\"],[\"Varicose veins\"],[\"Hypothyroidism\"],[\"Hyperthyroidism\"],[\"Hypoglycemia\"],[\"Osteoarthristis\"],[\"Arthritis\"],[\"(vertigo) Paroymsal  Positional Vertigo\"],[\"Acne\"],[\"Urinary tract infection\"],[\"Psoriasis\"],[\"Impetigo\"],[\"Fungal infection\"],[\"Allergy\"],[\"GERD\"],[\"Chronic cholestasis\"],[\"Drug Reaction\"],[\"Peptic ulcer diseae\"],[\"AIDS\"],[\"Diabetes \"],[\"Gastroenteritis\"],[\"Bronchial Asthma\"],[\"Hypertension \"],[\"Migraine\"],[\"Cervical spondylosis\"],[\"Paralysis (brain hemorrhage)\"],[\"Jaundice\"],[\"Malaria\"],[\"Chicken pox\"],[\"Dengue\"],[\"Typhoid\"],[\"hepatitis A\"],[\"Hepatitis B\"],[\"Hepatitis C\"],[\"Hepatitis D\"],[\"Hepatitis E\"],[\"Alcoholic hepatitis\"],[\"Tuberculosis\"],[\"Common Cold\"],[\"Pneumonia\"],[\"Dimorphic hemmorhoids(piles)\"],[\"Heart attack\"],[\"Varicose veins\"],[\"Hypothyroidism\"],[\"Hyperthyroidism\"],[\"Hypoglycemia\"],[\"Osteoarthristis\"],[\"Arthritis\"],[\"(vertigo) Paroymsal  Positional Vertigo\"],[\"Acne\"],[\"Urinary tract infection\"],[\"Psoriasis\"],[\"Impetigo\"],[\"Fungal infection\"],[\"Allergy\"],[\"GERD\"],[\"Chronic cholestasis\"],[\"Drug Reaction\"],[\"Peptic ulcer diseae\"],[\"AIDS\"],[\"Diabetes \"],[\"Gastroenteritis\"],[\"Bronchial Asthma\"],[\"Hypertension \"],[\"Migraine\"],[\"Cervical spondylosis\"],[\"Paralysis (brain hemorrhage)\"],[\"Jaundice\"],[\"Malaria\"],[\"Chicken pox\"],[\"Dengue\"],[\"Typhoid\"],[\"hepatitis A\"],[\"Hepatitis B\"],[\"Hepatitis C\"],[\"Hepatitis D\"],[\"Hepatitis E\"],[\"Alcoholic hepatitis\"],[\"Tuberculosis\"],[\"Common Cold\"],[\"Pneumonia\"],[\"Dimorphic hemmorhoids(piles)\"],[\"Heart attack\"],[\"Varicose veins\"],[\"Hypothyroidism\"],[\"Hyperthyroidism\"],[\"Hypoglycemia\"],[\"Osteoarthristis\"],[\"Arthritis\"],[\"(vertigo) Paroymsal  Positional Vertigo\"],[\"Acne\"],[\"Urinary tract infection\"],[\"Psoriasis\"],[\"Impetigo\"],[\"Fungal infection\"],[\"Allergy\"],[\"GERD\"],[\"Chronic cholestasis\"],[\"Drug Reaction\"],[\"Peptic ulcer diseae\"],[\"AIDS\"],[\"Diabetes \"],[\"Gastroenteritis\"],[\"Bronchial Asthma\"],[\"Hypertension \"],[\"Migraine\"],[\"Cervical spondylosis\"],[\"Paralysis (brain hemorrhage)\"],[\"Jaundice\"],[\"Malaria\"],[\"Chicken pox\"],[\"Dengue\"],[\"Typhoid\"],[\"hepatitis A\"],[\"Hepatitis B\"],[\"Hepatitis C\"],[\"Hepatitis D\"],[\"Hepatitis E\"],[\"Alcoholic hepatitis\"],[\"Tuberculosis\"],[\"Common Cold\"],[\"Pneumonia\"],[\"Dimorphic hemmorhoids(piles)\"],[\"Heart attack\"],[\"Varicose veins\"],[\"Hypothyroidism\"],[\"Hyperthyroidism\"],[\"Hypoglycemia\"],[\"Osteoarthristis\"],[\"Arthritis\"],[\"(vertigo) Paroymsal  Positional Vertigo\"],[\"Acne\"],[\"Urinary tract infection\"],[\"Psoriasis\"],[\"Impetigo\"],[\"Fungal infection\"],[\"Allergy\"],[\"GERD\"],[\"Chronic cholestasis\"],[\"Drug Reaction\"],[\"Peptic ulcer diseae\"],[\"AIDS\"],[\"Diabetes \"],[\"Gastroenteritis\"],[\"Bronchial Asthma\"],[\"Hypertension \"],[\"Migraine\"],[\"Cervical spondylosis\"],[\"Paralysis (brain hemorrhage)\"],[\"Jaundice\"],[\"Malaria\"],[\"Chicken pox\"],[\"Dengue\"],[\"Typhoid\"],[\"hepatitis A\"],[\"Hepatitis B\"],[\"Hepatitis C\"],[\"Hepatitis D\"],[\"Hepatitis E\"],[\"Alcoholic hepatitis\"],[\"Tuberculosis\"],[\"Common Cold\"],[\"Pneumonia\"],[\"Dimorphic hemmorhoids(piles)\"],[\"Heart attack\"],[\"Varicose veins\"],[\"Hypothyroidism\"],[\"Hyperthyroidism\"],[\"Hypoglycemia\"],[\"Osteoarthristis\"],[\"Arthritis\"],[\"(vertigo) Paroymsal  Positional Vertigo\"],[\"Acne\"],[\"Urinary tract infection\"],[\"Psoriasis\"],[\"Impetigo\"],[\"Fungal infection\"],[\"Allergy\"],[\"GERD\"],[\"Chronic cholestasis\"],[\"Drug Reaction\"],[\"Peptic ulcer diseae\"],[\"AIDS\"],[\"Diabetes \"],[\"Gastroenteritis\"],[\"Bronchial Asthma\"],[\"Hypertension \"],[\"Migraine\"],[\"Cervical spondylosis\"],[\"Paralysis (brain hemorrhage)\"],[\"Jaundice\"],[\"Malaria\"],[\"Chicken pox\"],[\"Dengue\"],[\"Typhoid\"],[\"hepatitis A\"],[\"Hepatitis B\"],[\"Hepatitis C\"],[\"Hepatitis D\"],[\"Hepatitis E\"],[\"Alcoholic hepatitis\"],[\"Tuberculosis\"],[\"Common Cold\"],[\"Pneumonia\"],[\"Dimorphic hemmorhoids(piles)\"],[\"Heart attack\"],[\"Varicose veins\"],[\"Hypothyroidism\"],[\"Hyperthyroidism\"],[\"Hypoglycemia\"],[\"Osteoarthristis\"],[\"Arthritis\"],[\"(vertigo) Paroymsal  Positional Vertigo\"],[\"Acne\"],[\"Urinary tract infection\"],[\"Psoriasis\"],[\"Impetigo\"],[\"Fungal infection\"],[\"Allergy\"],[\"GERD\"],[\"Chronic cholestasis\"],[\"Drug Reaction\"],[\"Peptic ulcer diseae\"],[\"AIDS\"],[\"Diabetes \"],[\"Gastroenteritis\"],[\"Bronchial Asthma\"],[\"Hypertension \"],[\"Migraine\"],[\"Cervical spondylosis\"],[\"Paralysis (brain hemorrhage)\"],[\"Jaundice\"],[\"Malaria\"],[\"Chicken pox\"],[\"Dengue\"],[\"Typhoid\"],[\"hepatitis A\"],[\"Hepatitis B\"],[\"Hepatitis C\"],[\"Hepatitis D\"],[\"Hepatitis E\"],[\"Alcoholic hepatitis\"],[\"Tuberculosis\"],[\"Common Cold\"],[\"Pneumonia\"],[\"Dimorphic hemmorhoids(piles)\"],[\"Heart attack\"],[\"Varicose veins\"],[\"Hypothyroidism\"],[\"Hyperthyroidism\"],[\"Hypoglycemia\"],[\"Osteoarthristis\"],[\"Arthritis\"],[\"(vertigo) Paroymsal  Positional Vertigo\"],[\"Acne\"],[\"Urinary tract infection\"],[\"Psoriasis\"],[\"Impetigo\"],[\"Fungal infection\"],[\"Allergy\"],[\"GERD\"],[\"Chronic cholestasis\"],[\"Drug Reaction\"],[\"Peptic ulcer diseae\"],[\"AIDS\"],[\"Diabetes \"],[\"Gastroenteritis\"],[\"Bronchial Asthma\"],[\"Hypertension \"],[\"Migraine\"],[\"Cervical spondylosis\"],[\"Paralysis (brain hemorrhage)\"],[\"Jaundice\"],[\"Malaria\"],[\"Chicken pox\"],[\"Dengue\"],[\"Typhoid\"],[\"hepatitis A\"],[\"Hepatitis B\"],[\"Hepatitis C\"],[\"Hepatitis D\"],[\"Hepatitis E\"],[\"Alcoholic hepatitis\"],[\"Tuberculosis\"],[\"Common Cold\"],[\"Pneumonia\"],[\"Dimorphic hemmorhoids(piles)\"],[\"Heart attack\"],[\"Varicose veins\"],[\"Hypothyroidism\"],[\"Hyperthyroidism\"],[\"Hypoglycemia\"],[\"Osteoarthristis\"],[\"Arthritis\"],[\"(vertigo) Paroymsal  Positional Vertigo\"],[\"Acne\"],[\"Urinary tract infection\"],[\"Psoriasis\"],[\"Impetigo\"],[\"Fungal infection\"],[\"Allergy\"],[\"GERD\"],[\"Chronic cholestasis\"],[\"Drug Reaction\"],[\"Peptic ulcer diseae\"],[\"AIDS\"],[\"Diabetes \"],[\"Gastroenteritis\"],[\"Bronchial Asthma\"],[\"Hypertension \"],[\"Migraine\"],[\"Cervical spondylosis\"],[\"Paralysis (brain hemorrhage)\"],[\"Jaundice\"],[\"Malaria\"],[\"Chicken pox\"],[\"Dengue\"],[\"Typhoid\"],[\"hepatitis A\"],[\"Hepatitis B\"],[\"Hepatitis C\"],[\"Hepatitis D\"],[\"Hepatitis E\"],[\"Alcoholic hepatitis\"],[\"Tuberculosis\"],[\"Common Cold\"],[\"Pneumonia\"],[\"Dimorphic hemmorhoids(piles)\"],[\"Heart attack\"],[\"Varicose veins\"],[\"Hypothyroidism\"],[\"Hyperthyroidism\"],[\"Hypoglycemia\"],[\"Osteoarthristis\"],[\"Arthritis\"],[\"(vertigo) Paroymsal  Positional Vertigo\"],[\"Acne\"],[\"Urinary tract infection\"],[\"Psoriasis\"],[\"Impetigo\"],[\"Fungal infection\"],[\"Allergy\"],[\"GERD\"],[\"Chronic cholestasis\"],[\"Drug Reaction\"],[\"Peptic ulcer diseae\"],[\"AIDS\"],[\"Diabetes \"],[\"Gastroenteritis\"],[\"Bronchial Asthma\"],[\"Hypertension \"],[\"Migraine\"],[\"Cervical spondylosis\"],[\"Paralysis (brain hemorrhage)\"],[\"Jaundice\"],[\"Malaria\"],[\"Chicken pox\"],[\"Dengue\"],[\"Typhoid\"],[\"hepatitis A\"],[\"Hepatitis B\"],[\"Hepatitis C\"],[\"Hepatitis D\"],[\"Hepatitis E\"],[\"Alcoholic hepatitis\"],[\"Tuberculosis\"],[\"Common Cold\"],[\"Pneumonia\"],[\"Dimorphic hemmorhoids(piles)\"],[\"Heart attack\"],[\"Varicose veins\"],[\"Hypothyroidism\"],[\"Hyperthyroidism\"],[\"Hypoglycemia\"],[\"Osteoarthristis\"],[\"Arthritis\"],[\"(vertigo) Paroymsal  Positional Vertigo\"],[\"Acne\"],[\"Urinary tract infection\"],[\"Psoriasis\"],[\"Impetigo\"],[\"Fungal infection\"],[\"Allergy\"],[\"GERD\"],[\"Chronic cholestasis\"],[\"Drug Reaction\"],[\"Peptic ulcer diseae\"],[\"AIDS\"],[\"Diabetes \"],[\"Gastroenteritis\"],[\"Bronchial Asthma\"],[\"Hypertension \"],[\"Migraine\"],[\"Cervical spondylosis\"],[\"Paralysis (brain hemorrhage)\"],[\"Jaundice\"],[\"Malaria\"],[\"Chicken pox\"],[\"Dengue\"],[\"Typhoid\"],[\"hepatitis A\"],[\"Hepatitis B\"],[\"Hepatitis C\"],[\"Hepatitis D\"],[\"Hepatitis E\"],[\"Alcoholic hepatitis\"],[\"Tuberculosis\"],[\"Common Cold\"],[\"Pneumonia\"],[\"Dimorphic hemmorhoids(piles)\"],[\"Heart attack\"],[\"Varicose veins\"],[\"Hypothyroidism\"],[\"Hyperthyroidism\"],[\"Hypoglycemia\"],[\"Osteoarthristis\"],[\"Arthritis\"],[\"(vertigo) Paroymsal  Positional Vertigo\"],[\"Acne\"],[\"Urinary tract infection\"],[\"Psoriasis\"],[\"Impetigo\"],[\"Fungal infection\"],[\"Allergy\"],[\"GERD\"],[\"Chronic cholestasis\"],[\"Drug Reaction\"],[\"Peptic ulcer diseae\"],[\"AIDS\"],[\"Diabetes \"],[\"Gastroenteritis\"],[\"Bronchial Asthma\"],[\"Hypertension \"],[\"Migraine\"],[\"Cervical spondylosis\"],[\"Paralysis (brain hemorrhage)\"],[\"Jaundice\"],[\"Malaria\"],[\"Chicken pox\"],[\"Dengue\"],[\"Typhoid\"],[\"hepatitis A\"],[\"Hepatitis B\"],[\"Hepatitis C\"],[\"Hepatitis D\"],[\"Hepatitis E\"],[\"Alcoholic hepatitis\"],[\"Tuberculosis\"],[\"Common Cold\"],[\"Pneumonia\"],[\"Dimorphic hemmorhoids(piles)\"],[\"Heart attack\"],[\"Varicose veins\"],[\"Hypothyroidism\"],[\"Hyperthyroidism\"],[\"Hypoglycemia\"],[\"Osteoarthristis\"],[\"Arthritis\"],[\"(vertigo) Paroymsal  Positional Vertigo\"],[\"Acne\"],[\"Urinary tract infection\"],[\"Psoriasis\"],[\"Impetigo\"],[\"Fungal infection\"],[\"Allergy\"],[\"GERD\"],[\"Chronic cholestasis\"],[\"Drug Reaction\"],[\"Peptic ulcer diseae\"],[\"AIDS\"],[\"Diabetes \"],[\"Gastroenteritis\"],[\"Bronchial Asthma\"],[\"Hypertension \"],[\"Migraine\"],[\"Cervical spondylosis\"],[\"Paralysis (brain hemorrhage)\"],[\"Jaundice\"],[\"Malaria\"],[\"Chicken pox\"],[\"Dengue\"],[\"Typhoid\"],[\"hepatitis A\"],[\"Hepatitis B\"],[\"Hepatitis C\"],[\"Hepatitis D\"],[\"Hepatitis E\"],[\"Alcoholic hepatitis\"],[\"Tuberculosis\"],[\"Common Cold\"],[\"Pneumonia\"],[\"Dimorphic hemmorhoids(piles)\"],[\"Heart attack\"],[\"Varicose veins\"],[\"Hypothyroidism\"],[\"Hyperthyroidism\"],[\"Hypoglycemia\"],[\"Osteoarthristis\"],[\"Arthritis\"],[\"(vertigo) Paroymsal  Positional Vertigo\"],[\"Acne\"],[\"Urinary tract infection\"],[\"Psoriasis\"],[\"Impetigo\"],[\"Fungal infection\"],[\"Allergy\"],[\"GERD\"],[\"Chronic cholestasis\"],[\"Drug Reaction\"],[\"Peptic ulcer diseae\"],[\"AIDS\"],[\"Diabetes \"],[\"Gastroenteritis\"],[\"Bronchial Asthma\"],[\"Hypertension \"],[\"Migraine\"],[\"Cervical spondylosis\"],[\"Paralysis (brain hemorrhage)\"],[\"Jaundice\"],[\"Malaria\"],[\"Chicken pox\"],[\"Dengue\"],[\"Typhoid\"],[\"hepatitis A\"],[\"Hepatitis B\"],[\"Hepatitis C\"],[\"Hepatitis D\"],[\"Hepatitis E\"],[\"Alcoholic hepatitis\"],[\"Tuberculosis\"],[\"Common Cold\"],[\"Pneumonia\"],[\"Dimorphic hemmorhoids(piles)\"],[\"Heart attack\"],[\"Varicose veins\"],[\"Hypothyroidism\"],[\"Hyperthyroidism\"],[\"Hypoglycemia\"],[\"Osteoarthristis\"],[\"Arthritis\"],[\"(vertigo) Paroymsal  Positional Vertigo\"],[\"Acne\"],[\"Urinary tract infection\"],[\"Psoriasis\"],[\"Impetigo\"],[\"Fungal infection\"],[\"Allergy\"],[\"GERD\"],[\"Chronic cholestasis\"],[\"Drug Reaction\"],[\"Peptic ulcer diseae\"],[\"AIDS\"],[\"Diabetes \"],[\"Gastroenteritis\"],[\"Bronchial Asthma\"],[\"Hypertension \"],[\"Migraine\"],[\"Cervical spondylosis\"],[\"Paralysis (brain hemorrhage)\"],[\"Jaundice\"],[\"Malaria\"],[\"Chicken pox\"],[\"Dengue\"],[\"Typhoid\"],[\"hepatitis A\"],[\"Hepatitis B\"],[\"Hepatitis C\"],[\"Hepatitis D\"],[\"Hepatitis E\"],[\"Alcoholic hepatitis\"],[\"Tuberculosis\"],[\"Common Cold\"],[\"Pneumonia\"],[\"Dimorphic hemmorhoids(piles)\"],[\"Heart attack\"],[\"Varicose veins\"],[\"Hypothyroidism\"],[\"Hyperthyroidism\"],[\"Hypoglycemia\"],[\"Osteoarthristis\"],[\"Arthritis\"],[\"(vertigo) Paroymsal  Positional Vertigo\"],[\"Acne\"],[\"Urinary tract infection\"],[\"Psoriasis\"],[\"Impetigo\"],[\"Fungal infection\"],[\"Allergy\"],[\"GERD\"],[\"Chronic cholestasis\"],[\"Drug Reaction\"],[\"Peptic ulcer diseae\"],[\"AIDS\"],[\"Diabetes \"],[\"Gastroenteritis\"],[\"Bronchial Asthma\"],[\"Hypertension \"],[\"Migraine\"],[\"Cervical spondylosis\"],[\"Paralysis (brain hemorrhage)\"],[\"Jaundice\"],[\"Malaria\"],[\"Chicken pox\"],[\"Dengue\"],[\"Typhoid\"],[\"hepatitis A\"],[\"Hepatitis B\"],[\"Hepatitis C\"],[\"Hepatitis D\"],[\"Hepatitis E\"],[\"Alcoholic hepatitis\"],[\"Tuberculosis\"],[\"Common Cold\"],[\"Pneumonia\"],[\"Dimorphic hemmorhoids(piles)\"],[\"Heart attack\"],[\"Varicose veins\"],[\"Hypothyroidism\"],[\"Hyperthyroidism\"],[\"Hypoglycemia\"],[\"Osteoarthristis\"],[\"Arthritis\"],[\"(vertigo) Paroymsal  Positional Vertigo\"],[\"Acne\"],[\"Urinary tract infection\"],[\"Psoriasis\"],[\"Impetigo\"],[\"Fungal infection\"],[\"Allergy\"],[\"GERD\"],[\"Chronic cholestasis\"],[\"Drug Reaction\"],[\"Peptic ulcer diseae\"],[\"AIDS\"],[\"Diabetes \"],[\"Gastroenteritis\"],[\"Bronchial Asthma\"],[\"Hypertension \"],[\"Migraine\"],[\"Cervical spondylosis\"],[\"Paralysis (brain hemorrhage)\"],[\"Jaundice\"],[\"Malaria\"],[\"Chicken pox\"],[\"Dengue\"],[\"Typhoid\"],[\"hepatitis A\"],[\"Hepatitis B\"],[\"Hepatitis C\"],[\"Hepatitis D\"],[\"Hepatitis E\"],[\"Alcoholic hepatitis\"],[\"Tuberculosis\"],[\"Common Cold\"],[\"Pneumonia\"],[\"Dimorphic hemmorhoids(piles)\"],[\"Heart attack\"],[\"Varicose veins\"],[\"Hypothyroidism\"],[\"Hyperthyroidism\"],[\"Hypoglycemia\"],[\"Osteoarthristis\"],[\"Arthritis\"],[\"(vertigo) Paroymsal  Positional Vertigo\"],[\"Acne\"],[\"Urinary tract infection\"],[\"Psoriasis\"],[\"Impetigo\"],[\"Fungal infection\"],[\"Allergy\"],[\"GERD\"],[\"Chronic cholestasis\"],[\"Drug Reaction\"],[\"Peptic ulcer diseae\"],[\"AIDS\"],[\"Diabetes \"],[\"Gastroenteritis\"],[\"Bronchial Asthma\"],[\"Hypertension \"],[\"Migraine\"],[\"Cervical spondylosis\"],[\"Paralysis (brain hemorrhage)\"],[\"Jaundice\"],[\"Malaria\"],[\"Chicken pox\"],[\"Dengue\"],[\"Typhoid\"],[\"hepatitis A\"],[\"Hepatitis B\"],[\"Hepatitis C\"],[\"Hepatitis D\"],[\"Hepatitis E\"],[\"Alcoholic hepatitis\"],[\"Tuberculosis\"],[\"Common Cold\"],[\"Pneumonia\"],[\"Dimorphic hemmorhoids(piles)\"],[\"Heart attack\"],[\"Varicose veins\"],[\"Hypothyroidism\"],[\"Hyperthyroidism\"],[\"Hypoglycemia\"],[\"Osteoarthristis\"],[\"Arthritis\"],[\"(vertigo) Paroymsal  Positional Vertigo\"],[\"Acne\"],[\"Urinary tract infection\"],[\"Psoriasis\"],[\"Impetigo\"],[\"Fungal infection\"],[\"Allergy\"],[\"GERD\"],[\"Chronic cholestasis\"],[\"Drug Reaction\"],[\"Peptic ulcer diseae\"],[\"AIDS\"],[\"Diabetes \"],[\"Gastroenteritis\"],[\"Bronchial Asthma\"],[\"Hypertension \"],[\"Migraine\"],[\"Cervical spondylosis\"],[\"Paralysis (brain hemorrhage)\"],[\"Jaundice\"],[\"Malaria\"],[\"Chicken pox\"],[\"Dengue\"],[\"Typhoid\"],[\"hepatitis A\"],[\"Hepatitis B\"],[\"Hepatitis C\"],[\"Hepatitis D\"],[\"Hepatitis E\"],[\"Alcoholic hepatitis\"],[\"Tuberculosis\"],[\"Common Cold\"],[\"Pneumonia\"],[\"Dimorphic hemmorhoids(piles)\"],[\"Heart attack\"],[\"Varicose veins\"],[\"Hypothyroidism\"],[\"Hyperthyroidism\"],[\"Hypoglycemia\"],[\"Osteoarthristis\"],[\"Arthritis\"],[\"(vertigo) Paroymsal  Positional Vertigo\"],[\"Acne\"],[\"Urinary tract infection\"],[\"Psoriasis\"],[\"Impetigo\"],[\"Fungal infection\"],[\"Allergy\"],[\"GERD\"],[\"Chronic cholestasis\"],[\"Drug Reaction\"],[\"Peptic ulcer diseae\"],[\"AIDS\"],[\"Diabetes \"],[\"Gastroenteritis\"],[\"Bronchial Asthma\"],[\"Hypertension \"],[\"Migraine\"],[\"Cervical spondylosis\"],[\"Paralysis (brain hemorrhage)\"],[\"Jaundice\"],[\"Malaria\"],[\"Chicken pox\"],[\"Dengue\"],[\"Typhoid\"],[\"hepatitis A\"],[\"Hepatitis B\"],[\"Hepatitis C\"],[\"Hepatitis D\"],[\"Hepatitis E\"],[\"Alcoholic hepatitis\"],[\"Tuberculosis\"],[\"Common Cold\"],[\"Pneumonia\"],[\"Dimorphic hemmorhoids(piles)\"],[\"Heart attack\"],[\"Varicose veins\"],[\"Hypothyroidism\"],[\"Hyperthyroidism\"],[\"Hypoglycemia\"],[\"Osteoarthristis\"],[\"Arthritis\"],[\"(vertigo) Paroymsal  Positional Vertigo\"],[\"Acne\"],[\"Urinary tract infection\"],[\"Psoriasis\"],[\"Impetigo\"],[\"Fungal infection\"],[\"Allergy\"],[\"GERD\"],[\"Chronic cholestasis\"],[\"Drug Reaction\"],[\"Peptic ulcer diseae\"],[\"AIDS\"],[\"Diabetes \"],[\"Gastroenteritis\"],[\"Bronchial Asthma\"],[\"Hypertension \"],[\"Migraine\"],[\"Cervical spondylosis\"],[\"Paralysis (brain hemorrhage)\"],[\"Jaundice\"],[\"Malaria\"],[\"Chicken pox\"],[\"Dengue\"],[\"Typhoid\"],[\"hepatitis A\"],[\"Hepatitis B\"],[\"Hepatitis C\"],[\"Hepatitis D\"],[\"Hepatitis E\"],[\"Alcoholic hepatitis\"],[\"Tuberculosis\"],[\"Common Cold\"],[\"Pneumonia\"],[\"Dimorphic hemmorhoids(piles)\"],[\"Heart attack\"],[\"Varicose veins\"],[\"Hypothyroidism\"],[\"Hyperthyroidism\"],[\"Hypoglycemia\"],[\"Osteoarthristis\"],[\"Arthritis\"],[\"(vertigo) Paroymsal  Positional Vertigo\"],[\"Acne\"],[\"Urinary tract infection\"],[\"Psoriasis\"],[\"Impetigo\"],[\"Fungal infection\"],[\"Allergy\"],[\"GERD\"],[\"Chronic cholestasis\"],[\"Drug Reaction\"],[\"Peptic ulcer diseae\"],[\"AIDS\"],[\"Diabetes \"],[\"Gastroenteritis\"],[\"Bronchial Asthma\"],[\"Hypertension \"],[\"Migraine\"],[\"Cervical spondylosis\"],[\"Paralysis (brain hemorrhage)\"],[\"Jaundice\"],[\"Malaria\"],[\"Chicken pox\"],[\"Dengue\"],[\"Typhoid\"],[\"hepatitis A\"],[\"Hepatitis B\"],[\"Hepatitis C\"],[\"Hepatitis D\"],[\"Hepatitis E\"],[\"Alcoholic hepatitis\"],[\"Tuberculosis\"],[\"Common Cold\"],[\"Pneumonia\"],[\"Dimorphic hemmorhoids(piles)\"],[\"Heart attack\"],[\"Varicose veins\"],[\"Hypothyroidism\"],[\"Hyperthyroidism\"],[\"Hypoglycemia\"],[\"Osteoarthristis\"],[\"Arthritis\"],[\"(vertigo) Paroymsal  Positional Vertigo\"],[\"Acne\"],[\"Urinary tract infection\"],[\"Psoriasis\"],[\"Impetigo\"],[\"Fungal infection\"],[\"Allergy\"],[\"GERD\"],[\"Chronic cholestasis\"],[\"Drug Reaction\"],[\"Peptic ulcer diseae\"],[\"AIDS\"],[\"Diabetes \"],[\"Gastroenteritis\"],[\"Bronchial Asthma\"],[\"Hypertension \"],[\"Migraine\"],[\"Cervical spondylosis\"],[\"Paralysis (brain hemorrhage)\"],[\"Jaundice\"],[\"Malaria\"],[\"Chicken pox\"],[\"Dengue\"],[\"Typhoid\"],[\"hepatitis A\"],[\"Hepatitis B\"],[\"Hepatitis C\"],[\"Hepatitis D\"],[\"Hepatitis E\"],[\"Alcoholic hepatitis\"],[\"Tuberculosis\"],[\"Common Cold\"],[\"Pneumonia\"],[\"Dimorphic hemmorhoids(piles)\"],[\"Heart attack\"],[\"Varicose veins\"],[\"Hypothyroidism\"],[\"Hyperthyroidism\"],[\"Hypoglycemia\"],[\"Osteoarthristis\"],[\"Arthritis\"],[\"(vertigo) Paroymsal  Positional Vertigo\"],[\"Acne\"],[\"Urinary tract infection\"],[\"Psoriasis\"],[\"Impetigo\"],[\"Fungal infection\"],[\"Allergy\"],[\"GERD\"],[\"Chronic cholestasis\"],[\"Drug Reaction\"],[\"Peptic ulcer diseae\"],[\"AIDS\"],[\"Diabetes \"],[\"Gastroenteritis\"],[\"Bronchial Asthma\"],[\"Hypertension \"],[\"Migraine\"],[\"Cervical spondylosis\"],[\"Paralysis (brain hemorrhage)\"],[\"Jaundice\"],[\"Malaria\"],[\"Chicken pox\"],[\"Dengue\"],[\"Typhoid\"],[\"hepatitis A\"],[\"Hepatitis B\"],[\"Hepatitis C\"],[\"Hepatitis D\"],[\"Hepatitis E\"],[\"Alcoholic hepatitis\"],[\"Tuberculosis\"],[\"Common Cold\"],[\"Pneumonia\"],[\"Dimorphic hemmorhoids(piles)\"],[\"Heart attack\"],[\"Varicose veins\"],[\"Hypothyroidism\"],[\"Hyperthyroidism\"],[\"Hypoglycemia\"],[\"Osteoarthristis\"],[\"Arthritis\"],[\"(vertigo) Paroymsal  Positional Vertigo\"],[\"Acne\"],[\"Urinary tract infection\"],[\"Psoriasis\"],[\"Impetigo\"],[\"Fungal infection\"],[\"Allergy\"],[\"GERD\"],[\"Chronic cholestasis\"],[\"Drug Reaction\"],[\"Peptic ulcer diseae\"],[\"AIDS\"],[\"Diabetes \"],[\"Gastroenteritis\"],[\"Bronchial Asthma\"],[\"Hypertension \"],[\"Migraine\"],[\"Cervical spondylosis\"],[\"Paralysis (brain hemorrhage)\"],[\"Jaundice\"],[\"Malaria\"],[\"Chicken pox\"],[\"Dengue\"],[\"Typhoid\"],[\"hepatitis A\"],[\"Hepatitis B\"],[\"Hepatitis C\"],[\"Hepatitis D\"],[\"Hepatitis E\"],[\"Alcoholic hepatitis\"],[\"Tuberculosis\"],[\"Common Cold\"],[\"Pneumonia\"],[\"Dimorphic hemmorhoids(piles)\"],[\"Heart attack\"],[\"Varicose veins\"],[\"Hypothyroidism\"],[\"Hyperthyroidism\"],[\"Hypoglycemia\"],[\"Osteoarthristis\"],[\"Arthritis\"],[\"(vertigo) Paroymsal  Positional Vertigo\"],[\"Acne\"],[\"Urinary tract infection\"],[\"Psoriasis\"],[\"Impetigo\"],[\"Fungal infection\"],[\"Allergy\"],[\"GERD\"],[\"Chronic cholestasis\"],[\"Drug Reaction\"],[\"Peptic ulcer diseae\"],[\"AIDS\"],[\"Diabetes \"],[\"Gastroenteritis\"],[\"Bronchial Asthma\"],[\"Hypertension \"],[\"Migraine\"],[\"Cervical spondylosis\"],[\"Paralysis (brain hemorrhage)\"],[\"Jaundice\"],[\"Malaria\"],[\"Chicken pox\"],[\"Dengue\"],[\"Typhoid\"],[\"hepatitis A\"],[\"Hepatitis B\"],[\"Hepatitis C\"],[\"Hepatitis D\"],[\"Hepatitis E\"],[\"Alcoholic hepatitis\"],[\"Tuberculosis\"],[\"Common Cold\"],[\"Pneumonia\"],[\"Dimorphic hemmorhoids(piles)\"],[\"Heart attack\"],[\"Varicose veins\"],[\"Hypothyroidism\"],[\"Hyperthyroidism\"],[\"Hypoglycemia\"],[\"Osteoarthristis\"],[\"Arthritis\"],[\"(vertigo) Paroymsal  Positional Vertigo\"],[\"Acne\"],[\"Urinary tract infection\"],[\"Psoriasis\"],[\"Impetigo\"],[\"Fungal infection\"],[\"Allergy\"],[\"GERD\"],[\"Chronic cholestasis\"],[\"Drug Reaction\"],[\"Peptic ulcer diseae\"],[\"AIDS\"],[\"Diabetes \"],[\"Gastroenteritis\"],[\"Bronchial Asthma\"],[\"Hypertension \"],[\"Migraine\"],[\"Cervical spondylosis\"],[\"Paralysis (brain hemorrhage)\"],[\"Jaundice\"],[\"Malaria\"],[\"Chicken pox\"],[\"Dengue\"],[\"Typhoid\"],[\"hepatitis A\"],[\"Hepatitis B\"],[\"Hepatitis C\"],[\"Hepatitis D\"],[\"Hepatitis E\"],[\"Alcoholic hepatitis\"],[\"Tuberculosis\"],[\"Common Cold\"],[\"Pneumonia\"],[\"Dimorphic hemmorhoids(piles)\"],[\"Heart attack\"],[\"Varicose veins\"],[\"Hypothyroidism\"],[\"Hyperthyroidism\"],[\"Hypoglycemia\"],[\"Osteoarthristis\"],[\"Arthritis\"],[\"(vertigo) Paroymsal  Positional Vertigo\"],[\"Acne\"],[\"Urinary tract infection\"],[\"Psoriasis\"],[\"Impetigo\"],[\"Fungal infection\"],[\"Allergy\"],[\"GERD\"],[\"Chronic cholestasis\"],[\"Drug Reaction\"],[\"Peptic ulcer diseae\"],[\"AIDS\"],[\"Diabetes \"],[\"Gastroenteritis\"],[\"Bronchial Asthma\"],[\"Hypertension \"],[\"Migraine\"],[\"Cervical spondylosis\"],[\"Paralysis (brain hemorrhage)\"],[\"Jaundice\"],[\"Malaria\"],[\"Chicken pox\"],[\"Dengue\"],[\"Typhoid\"],[\"hepatitis A\"],[\"Hepatitis B\"],[\"Hepatitis C\"],[\"Hepatitis D\"],[\"Hepatitis E\"],[\"Alcoholic hepatitis\"],[\"Tuberculosis\"],[\"Common Cold\"],[\"Pneumonia\"],[\"Dimorphic hemmorhoids(piles)\"],[\"Heart attack\"],[\"Varicose veins\"],[\"Hypothyroidism\"],[\"Hyperthyroidism\"],[\"Hypoglycemia\"],[\"Osteoarthristis\"],[\"Arthritis\"],[\"(vertigo) Paroymsal  Positional Vertigo\"],[\"Acne\"],[\"Urinary tract infection\"],[\"Psoriasis\"],[\"Impetigo\"],[\"Fungal infection\"],[\"Allergy\"],[\"GERD\"],[\"Chronic cholestasis\"],[\"Drug Reaction\"],[\"Peptic ulcer diseae\"],[\"AIDS\"],[\"Diabetes \"],[\"Gastroenteritis\"],[\"Bronchial Asthma\"],[\"Hypertension \"],[\"Migraine\"],[\"Cervical spondylosis\"],[\"Paralysis (brain hemorrhage)\"],[\"Jaundice\"],[\"Malaria\"],[\"Chicken pox\"],[\"Dengue\"],[\"Typhoid\"],[\"hepatitis A\"],[\"Hepatitis B\"],[\"Hepatitis C\"],[\"Hepatitis D\"],[\"Hepatitis E\"],[\"Alcoholic hepatitis\"],[\"Tuberculosis\"],[\"Common Cold\"],[\"Pneumonia\"],[\"Dimorphic hemmorhoids(piles)\"],[\"Heart attack\"],[\"Varicose veins\"],[\"Hypothyroidism\"],[\"Hyperthyroidism\"],[\"Hypoglycemia\"],[\"Osteoarthristis\"],[\"Arthritis\"],[\"(vertigo) Paroymsal  Positional Vertigo\"],[\"Acne\"],[\"Urinary tract infection\"],[\"Psoriasis\"],[\"Impetigo\"],[\"Fungal infection\"],[\"Allergy\"],[\"GERD\"],[\"Chronic cholestasis\"],[\"Drug Reaction\"],[\"Peptic ulcer diseae\"],[\"AIDS\"],[\"Diabetes \"],[\"Gastroenteritis\"],[\"Bronchial Asthma\"],[\"Hypertension \"],[\"Migraine\"],[\"Cervical spondylosis\"],[\"Paralysis (brain hemorrhage)\"],[\"Jaundice\"],[\"Malaria\"],[\"Chicken pox\"],[\"Dengue\"],[\"Typhoid\"],[\"hepatitis A\"],[\"Hepatitis B\"],[\"Hepatitis C\"],[\"Hepatitis D\"],[\"Hepatitis E\"],[\"Alcoholic hepatitis\"],[\"Tuberculosis\"],[\"Common Cold\"],[\"Pneumonia\"],[\"Dimorphic hemmorhoids(piles)\"],[\"Heart attack\"],[\"Varicose veins\"],[\"Hypothyroidism\"],[\"Hyperthyroidism\"],[\"Hypoglycemia\"],[\"Osteoarthristis\"],[\"Arthritis\"],[\"(vertigo) Paroymsal  Positional Vertigo\"],[\"Acne\"],[\"Urinary tract infection\"],[\"Psoriasis\"],[\"Impetigo\"],[\"Fungal infection\"],[\"Allergy\"],[\"GERD\"],[\"Chronic cholestasis\"],[\"Drug Reaction\"],[\"Peptic ulcer diseae\"],[\"AIDS\"],[\"Diabetes \"],[\"Gastroenteritis\"],[\"Bronchial Asthma\"],[\"Hypertension \"],[\"Migraine\"],[\"Cervical spondylosis\"],[\"Paralysis (brain hemorrhage)\"],[\"Jaundice\"],[\"Malaria\"],[\"Chicken pox\"],[\"Dengue\"],[\"Typhoid\"],[\"hepatitis A\"],[\"Hepatitis B\"],[\"Hepatitis C\"],[\"Hepatitis D\"],[\"Hepatitis E\"],[\"Alcoholic hepatitis\"],[\"Tuberculosis\"],[\"Common Cold\"],[\"Pneumonia\"],[\"Dimorphic hemmorhoids(piles)\"],[\"Heart attack\"],[\"Varicose veins\"],[\"Hypothyroidism\"],[\"Hyperthyroidism\"],[\"Hypoglycemia\"],[\"Osteoarthristis\"],[\"Arthritis\"],[\"(vertigo) Paroymsal  Positional Vertigo\"],[\"Acne\"],[\"Urinary tract infection\"],[\"Psoriasis\"],[\"Impetigo\"],[\"Fungal infection\"],[\"Allergy\"],[\"GERD\"],[\"Chronic cholestasis\"],[\"Drug Reaction\"],[\"Peptic ulcer diseae\"],[\"AIDS\"],[\"Diabetes \"],[\"Gastroenteritis\"],[\"Bronchial Asthma\"],[\"Hypertension \"],[\"Migraine\"],[\"Cervical spondylosis\"],[\"Paralysis (brain hemorrhage)\"],[\"Jaundice\"],[\"Malaria\"],[\"Chicken pox\"],[\"Dengue\"],[\"Typhoid\"],[\"hepatitis A\"],[\"Hepatitis B\"],[\"Hepatitis C\"],[\"Hepatitis D\"],[\"Hepatitis E\"],[\"Alcoholic hepatitis\"],[\"Tuberculosis\"],[\"Common Cold\"],[\"Pneumonia\"],[\"Dimorphic hemmorhoids(piles)\"],[\"Heart attack\"],[\"Varicose veins\"],[\"Hypothyroidism\"],[\"Hyperthyroidism\"],[\"Hypoglycemia\"],[\"Osteoarthristis\"],[\"Arthritis\"],[\"(vertigo) Paroymsal  Positional Vertigo\"],[\"Acne\"],[\"Urinary tract infection\"],[\"Psoriasis\"],[\"Impetigo\"],[\"Fungal infection\"],[\"Allergy\"],[\"GERD\"],[\"Chronic cholestasis\"],[\"Drug Reaction\"],[\"Peptic ulcer diseae\"],[\"AIDS\"],[\"Diabetes \"],[\"Gastroenteritis\"],[\"Bronchial Asthma\"],[\"Hypertension \"],[\"Migraine\"],[\"Cervical spondylosis\"],[\"Paralysis (brain hemorrhage)\"],[\"Jaundice\"],[\"Malaria\"],[\"Chicken pox\"],[\"Dengue\"],[\"Typhoid\"],[\"hepatitis A\"],[\"Hepatitis B\"],[\"Hepatitis C\"],[\"Hepatitis D\"],[\"Hepatitis E\"],[\"Alcoholic hepatitis\"],[\"Tuberculosis\"],[\"Common Cold\"],[\"Pneumonia\"],[\"Dimorphic hemmorhoids(piles)\"],[\"Heart attack\"],[\"Varicose veins\"],[\"Hypothyroidism\"],[\"Hyperthyroidism\"],[\"Hypoglycemia\"],[\"Osteoarthristis\"],[\"Arthritis\"],[\"(vertigo) Paroymsal  Positional Vertigo\"],[\"Acne\"],[\"Urinary tract infection\"],[\"Psoriasis\"],[\"Impetigo\"],[\"Fungal infection\"],[\"Allergy\"],[\"GERD\"],[\"Chronic cholestasis\"],[\"Drug Reaction\"],[\"Peptic ulcer diseae\"],[\"AIDS\"],[\"Diabetes \"],[\"Gastroenteritis\"],[\"Bronchial Asthma\"],[\"Hypertension \"],[\"Migraine\"],[\"Cervical spondylosis\"],[\"Paralysis (brain hemorrhage)\"],[\"Jaundice\"],[\"Malaria\"],[\"Chicken pox\"],[\"Dengue\"],[\"Typhoid\"],[\"hepatitis A\"],[\"Hepatitis B\"],[\"Hepatitis C\"],[\"Hepatitis D\"],[\"Hepatitis E\"],[\"Alcoholic hepatitis\"],[\"Tuberculosis\"],[\"Common Cold\"],[\"Pneumonia\"],[\"Dimorphic hemmorhoids(piles)\"],[\"Heart attack\"],[\"Varicose veins\"],[\"Hypothyroidism\"],[\"Hyperthyroidism\"],[\"Hypoglycemia\"],[\"Osteoarthristis\"],[\"Arthritis\"],[\"(vertigo) Paroymsal  Positional Vertigo\"],[\"Acne\"],[\"Urinary tract infection\"],[\"Psoriasis\"],[\"Impetigo\"],[\"Fungal infection\"],[\"Allergy\"],[\"GERD\"],[\"Chronic cholestasis\"],[\"Drug Reaction\"],[\"Peptic ulcer diseae\"],[\"AIDS\"],[\"Diabetes \"],[\"Gastroenteritis\"],[\"Bronchial Asthma\"],[\"Hypertension \"],[\"Migraine\"],[\"Cervical spondylosis\"],[\"Paralysis (brain hemorrhage)\"],[\"Jaundice\"],[\"Malaria\"],[\"Chicken pox\"],[\"Dengue\"],[\"Typhoid\"],[\"hepatitis A\"],[\"Hepatitis B\"],[\"Hepatitis C\"],[\"Hepatitis D\"],[\"Hepatitis E\"],[\"Alcoholic hepatitis\"],[\"Tuberculosis\"],[\"Common Cold\"],[\"Pneumonia\"],[\"Dimorphic hemmorhoids(piles)\"],[\"Heart attack\"],[\"Varicose veins\"],[\"Hypothyroidism\"],[\"Hyperthyroidism\"],[\"Hypoglycemia\"],[\"Osteoarthristis\"],[\"Arthritis\"],[\"(vertigo) Paroymsal  Positional Vertigo\"],[\"Acne\"],[\"Urinary tract infection\"],[\"Psoriasis\"],[\"Impetigo\"],[\"Fungal infection\"],[\"Allergy\"],[\"GERD\"],[\"Chronic cholestasis\"],[\"Drug Reaction\"],[\"Peptic ulcer diseae\"],[\"AIDS\"],[\"Diabetes \"],[\"Gastroenteritis\"],[\"Bronchial Asthma\"],[\"Hypertension \"],[\"Migraine\"],[\"Cervical spondylosis\"],[\"Paralysis (brain hemorrhage)\"],[\"Jaundice\"],[\"Malaria\"],[\"Chicken pox\"],[\"Dengue\"],[\"Typhoid\"],[\"hepatitis A\"],[\"Hepatitis B\"],[\"Hepatitis C\"],[\"Hepatitis D\"],[\"Hepatitis E\"],[\"Alcoholic hepatitis\"],[\"Tuberculosis\"],[\"Common Cold\"],[\"Pneumonia\"],[\"Dimorphic hemmorhoids(piles)\"],[\"Heart attack\"],[\"Varicose veins\"],[\"Hypothyroidism\"],[\"Hyperthyroidism\"],[\"Hypoglycemia\"],[\"Osteoarthristis\"],[\"Arthritis\"],[\"(vertigo) Paroymsal  Positional Vertigo\"],[\"Acne\"],[\"Urinary tract infection\"],[\"Psoriasis\"],[\"Impetigo\"],[\"Fungal infection\"],[\"Allergy\"],[\"GERD\"],[\"Chronic cholestasis\"],[\"Drug Reaction\"],[\"Peptic ulcer diseae\"],[\"AIDS\"],[\"Diabetes \"],[\"Gastroenteritis\"],[\"Bronchial Asthma\"],[\"Hypertension \"],[\"Migraine\"],[\"Cervical spondylosis\"],[\"Paralysis (brain hemorrhage)\"],[\"Jaundice\"],[\"Malaria\"],[\"Chicken pox\"],[\"Dengue\"],[\"Typhoid\"],[\"hepatitis A\"],[\"Hepatitis B\"],[\"Hepatitis C\"],[\"Hepatitis D\"],[\"Hepatitis E\"],[\"Alcoholic hepatitis\"],[\"Tuberculosis\"],[\"Common Cold\"],[\"Pneumonia\"],[\"Dimorphic hemmorhoids(piles)\"],[\"Heart attack\"],[\"Varicose veins\"],[\"Hypothyroidism\"],[\"Hyperthyroidism\"],[\"Hypoglycemia\"],[\"Osteoarthristis\"],[\"Arthritis\"],[\"(vertigo) Paroymsal  Positional Vertigo\"],[\"Acne\"],[\"Urinary tract infection\"],[\"Psoriasis\"],[\"Impetigo\"],[\"Fungal infection\"],[\"Allergy\"],[\"GERD\"],[\"Chronic cholestasis\"],[\"Drug Reaction\"],[\"Peptic ulcer diseae\"],[\"AIDS\"],[\"Diabetes \"],[\"Gastroenteritis\"],[\"Bronchial Asthma\"],[\"Hypertension \"],[\"Migraine\"],[\"Cervical spondylosis\"],[\"Paralysis (brain hemorrhage)\"],[\"Jaundice\"],[\"Malaria\"],[\"Chicken pox\"],[\"Dengue\"],[\"Typhoid\"],[\"hepatitis A\"],[\"Hepatitis B\"],[\"Hepatitis C\"],[\"Hepatitis D\"],[\"Hepatitis E\"],[\"Alcoholic hepatitis\"],[\"Tuberculosis\"],[\"Common Cold\"],[\"Pneumonia\"],[\"Dimorphic hemmorhoids(piles)\"],[\"Heart attack\"],[\"Varicose veins\"],[\"Hypothyroidism\"],[\"Hyperthyroidism\"],[\"Hypoglycemia\"],[\"Osteoarthristis\"],[\"Arthritis\"],[\"(vertigo) Paroymsal  Positional Vertigo\"],[\"Acne\"],[\"Urinary tract infection\"],[\"Psoriasis\"],[\"Impetigo\"],[\"Fungal infection\"],[\"Allergy\"],[\"GERD\"],[\"Chronic cholestasis\"],[\"Drug Reaction\"],[\"Peptic ulcer diseae\"],[\"AIDS\"],[\"Diabetes \"],[\"Gastroenteritis\"],[\"Bronchial Asthma\"],[\"Hypertension \"],[\"Migraine\"],[\"Cervical spondylosis\"],[\"Paralysis (brain hemorrhage)\"],[\"Jaundice\"],[\"Malaria\"],[\"Chicken pox\"],[\"Dengue\"],[\"Typhoid\"],[\"hepatitis A\"],[\"Hepatitis B\"],[\"Hepatitis C\"],[\"Hepatitis D\"],[\"Hepatitis E\"],[\"Alcoholic hepatitis\"],[\"Tuberculosis\"],[\"Common Cold\"],[\"Pneumonia\"],[\"Dimorphic hemmorhoids(piles)\"],[\"Heart attack\"],[\"Varicose veins\"],[\"Hypothyroidism\"],[\"Hyperthyroidism\"],[\"Hypoglycemia\"],[\"Osteoarthristis\"],[\"Arthritis\"],[\"(vertigo) Paroymsal  Positional Vertigo\"],[\"Acne\"],[\"Urinary tract infection\"],[\"Psoriasis\"],[\"Impetigo\"],[\"Fungal infection\"],[\"Allergy\"],[\"GERD\"],[\"Chronic cholestasis\"],[\"Drug Reaction\"],[\"Peptic ulcer diseae\"],[\"AIDS\"],[\"Diabetes \"],[\"Gastroenteritis\"],[\"Bronchial Asthma\"],[\"Hypertension \"],[\"Migraine\"],[\"Cervical spondylosis\"],[\"Paralysis (brain hemorrhage)\"],[\"Jaundice\"],[\"Malaria\"],[\"Chicken pox\"],[\"Dengue\"],[\"Typhoid\"],[\"hepatitis A\"],[\"Hepatitis B\"],[\"Hepatitis C\"],[\"Hepatitis D\"],[\"Hepatitis E\"],[\"Alcoholic hepatitis\"],[\"Tuberculosis\"],[\"Common Cold\"],[\"Pneumonia\"],[\"Dimorphic hemmorhoids(piles)\"],[\"Heart attack\"],[\"Varicose veins\"],[\"Hypothyroidism\"],[\"Hyperthyroidism\"],[\"Hypoglycemia\"],[\"Osteoarthristis\"],[\"Arthritis\"],[\"(vertigo) Paroymsal  Positional Vertigo\"],[\"Acne\"],[\"Urinary tract infection\"],[\"Psoriasis\"],[\"Impetigo\"],[\"Fungal infection\"],[\"Allergy\"],[\"GERD\"],[\"Chronic cholestasis\"],[\"Drug Reaction\"],[\"Peptic ulcer diseae\"],[\"AIDS\"],[\"Diabetes \"],[\"Gastroenteritis\"],[\"Bronchial Asthma\"],[\"Hypertension \"],[\"Migraine\"],[\"Cervical spondylosis\"],[\"Paralysis (brain hemorrhage)\"],[\"Jaundice\"],[\"Malaria\"],[\"Chicken pox\"],[\"Dengue\"],[\"Typhoid\"],[\"hepatitis A\"],[\"Hepatitis B\"],[\"Hepatitis C\"],[\"Hepatitis D\"],[\"Hepatitis E\"],[\"Alcoholic hepatitis\"],[\"Tuberculosis\"],[\"Common Cold\"],[\"Pneumonia\"],[\"Dimorphic hemmorhoids(piles)\"],[\"Heart attack\"],[\"Varicose veins\"],[\"Hypothyroidism\"],[\"Hyperthyroidism\"],[\"Hypoglycemia\"],[\"Osteoarthristis\"],[\"Arthritis\"],[\"(vertigo) Paroymsal  Positional Vertigo\"],[\"Acne\"],[\"Urinary tract infection\"],[\"Psoriasis\"],[\"Impetigo\"],[\"Fungal infection\"],[\"Allergy\"],[\"GERD\"],[\"Chronic cholestasis\"],[\"Drug Reaction\"],[\"Peptic ulcer diseae\"],[\"AIDS\"],[\"Diabetes \"],[\"Gastroenteritis\"],[\"Bronchial Asthma\"],[\"Hypertension \"],[\"Migraine\"],[\"Cervical spondylosis\"],[\"Paralysis (brain hemorrhage)\"],[\"Jaundice\"],[\"Malaria\"],[\"Chicken pox\"],[\"Dengue\"],[\"Typhoid\"],[\"hepatitis A\"],[\"Hepatitis B\"],[\"Hepatitis C\"],[\"Hepatitis D\"],[\"Hepatitis E\"],[\"Alcoholic hepatitis\"],[\"Tuberculosis\"],[\"Common Cold\"],[\"Pneumonia\"],[\"Dimorphic hemmorhoids(piles)\"],[\"Heart attack\"],[\"Varicose veins\"],[\"Hypothyroidism\"],[\"Hyperthyroidism\"],[\"Hypoglycemia\"],[\"Osteoarthristis\"],[\"Arthritis\"],[\"(vertigo) Paroymsal  Positional Vertigo\"],[\"Acne\"],[\"Urinary tract infection\"],[\"Psoriasis\"],[\"Impetigo\"],[\"Fungal infection\"],[\"Allergy\"],[\"GERD\"],[\"Chronic cholestasis\"],[\"Drug Reaction\"],[\"Peptic ulcer diseae\"],[\"AIDS\"],[\"Diabetes \"],[\"Gastroenteritis\"],[\"Bronchial Asthma\"],[\"Hypertension \"],[\"Migraine\"],[\"Cervical spondylosis\"],[\"Paralysis (brain hemorrhage)\"],[\"Jaundice\"],[\"Malaria\"],[\"Chicken pox\"],[\"Dengue\"],[\"Typhoid\"],[\"hepatitis A\"],[\"Hepatitis B\"],[\"Hepatitis C\"],[\"Hepatitis D\"],[\"Hepatitis E\"],[\"Alcoholic hepatitis\"],[\"Tuberculosis\"],[\"Common Cold\"],[\"Pneumonia\"],[\"Dimorphic hemmorhoids(piles)\"],[\"Heart attack\"],[\"Varicose veins\"],[\"Hypothyroidism\"],[\"Hyperthyroidism\"],[\"Hypoglycemia\"],[\"Osteoarthristis\"],[\"Arthritis\"],[\"(vertigo) Paroymsal  Positional Vertigo\"],[\"Acne\"],[\"Urinary tract infection\"],[\"Psoriasis\"],[\"Impetigo\"],[\"Fungal infection\"],[\"Allergy\"],[\"GERD\"],[\"Chronic cholestasis\"],[\"Drug Reaction\"],[\"Peptic ulcer diseae\"],[\"AIDS\"],[\"Diabetes \"],[\"Gastroenteritis\"],[\"Bronchial Asthma\"],[\"Hypertension \"],[\"Migraine\"],[\"Cervical spondylosis\"],[\"Paralysis (brain hemorrhage)\"],[\"Jaundice\"],[\"Malaria\"],[\"Chicken pox\"],[\"Dengue\"],[\"Typhoid\"],[\"hepatitis A\"],[\"Hepatitis B\"],[\"Hepatitis C\"],[\"Hepatitis D\"],[\"Hepatitis E\"],[\"Alcoholic hepatitis\"],[\"Tuberculosis\"],[\"Common Cold\"],[\"Pneumonia\"],[\"Dimorphic hemmorhoids(piles)\"],[\"Heart attack\"],[\"Varicose veins\"],[\"Hypothyroidism\"],[\"Hyperthyroidism\"],[\"Hypoglycemia\"],[\"Osteoarthristis\"],[\"Arthritis\"],[\"(vertigo) Paroymsal  Positional Vertigo\"],[\"Acne\"],[\"Urinary tract infection\"],[\"Psoriasis\"],[\"Impetigo\"],[\"Fungal infection\"],[\"Allergy\"],[\"GERD\"],[\"Chronic cholestasis\"],[\"Drug Reaction\"],[\"Peptic ulcer diseae\"],[\"AIDS\"],[\"Diabetes \"],[\"Gastroenteritis\"],[\"Bronchial Asthma\"],[\"Hypertension \"],[\"Migraine\"],[\"Cervical spondylosis\"],[\"Paralysis (brain hemorrhage)\"],[\"Jaundice\"],[\"Malaria\"],[\"Chicken pox\"],[\"Dengue\"],[\"Typhoid\"],[\"hepatitis A\"],[\"Hepatitis B\"],[\"Hepatitis C\"],[\"Hepatitis D\"],[\"Hepatitis E\"],[\"Alcoholic hepatitis\"],[\"Tuberculosis\"],[\"Common Cold\"],[\"Pneumonia\"],[\"Dimorphic hemmorhoids(piles)\"],[\"Heart attack\"],[\"Varicose veins\"],[\"Hypothyroidism\"],[\"Hyperthyroidism\"],[\"Hypoglycemia\"],[\"Osteoarthristis\"],[\"Arthritis\"],[\"(vertigo) Paroymsal  Positional Vertigo\"],[\"Acne\"],[\"Urinary tract infection\"],[\"Psoriasis\"],[\"Impetigo\"],[\"Fungal infection\"],[\"Allergy\"],[\"GERD\"],[\"Chronic cholestasis\"],[\"Drug Reaction\"],[\"Peptic ulcer diseae\"],[\"AIDS\"],[\"Diabetes \"],[\"Gastroenteritis\"],[\"Bronchial Asthma\"],[\"Hypertension \"],[\"Migraine\"],[\"Cervical spondylosis\"],[\"Paralysis (brain hemorrhage)\"],[\"Jaundice\"],[\"Malaria\"],[\"Chicken pox\"],[\"Dengue\"],[\"Typhoid\"],[\"hepatitis A\"],[\"Hepatitis B\"],[\"Hepatitis C\"],[\"Hepatitis D\"],[\"Hepatitis E\"],[\"Alcoholic hepatitis\"],[\"Tuberculosis\"],[\"Common Cold\"],[\"Pneumonia\"],[\"Dimorphic hemmorhoids(piles)\"],[\"Heart attack\"],[\"Varicose veins\"],[\"Hypothyroidism\"],[\"Hyperthyroidism\"],[\"Hypoglycemia\"],[\"Osteoarthristis\"],[\"Arthritis\"],[\"(vertigo) Paroymsal  Positional Vertigo\"],[\"Acne\"],[\"Urinary tract infection\"],[\"Psoriasis\"],[\"Impetigo\"],[\"Fungal infection\"],[\"Allergy\"],[\"GERD\"],[\"Chronic cholestasis\"],[\"Drug Reaction\"],[\"Peptic ulcer diseae\"],[\"AIDS\"],[\"Diabetes \"],[\"Gastroenteritis\"],[\"Bronchial Asthma\"],[\"Hypertension \"],[\"Migraine\"],[\"Cervical spondylosis\"],[\"Paralysis (brain hemorrhage)\"],[\"Jaundice\"],[\"Malaria\"],[\"Chicken pox\"],[\"Dengue\"],[\"Typhoid\"],[\"hepatitis A\"],[\"Hepatitis B\"],[\"Hepatitis C\"],[\"Hepatitis D\"],[\"Hepatitis E\"],[\"Alcoholic hepatitis\"],[\"Tuberculosis\"],[\"Common Cold\"],[\"Pneumonia\"],[\"Dimorphic hemmorhoids(piles)\"],[\"Heart attack\"],[\"Varicose veins\"],[\"Hypothyroidism\"],[\"Hyperthyroidism\"],[\"Hypoglycemia\"],[\"Osteoarthristis\"],[\"Arthritis\"],[\"(vertigo) Paroymsal  Positional Vertigo\"],[\"Acne\"],[\"Urinary tract infection\"],[\"Psoriasis\"],[\"Impetigo\"],[\"Fungal infection\"],[\"Allergy\"],[\"GERD\"],[\"Chronic cholestasis\"],[\"Drug Reaction\"],[\"Peptic ulcer diseae\"],[\"AIDS\"],[\"Diabetes \"],[\"Gastroenteritis\"],[\"Bronchial Asthma\"],[\"Hypertension \"],[\"Migraine\"],[\"Cervical spondylosis\"],[\"Paralysis (brain hemorrhage)\"],[\"Jaundice\"],[\"Malaria\"],[\"Chicken pox\"],[\"Dengue\"],[\"Typhoid\"],[\"hepatitis A\"],[\"Hepatitis B\"],[\"Hepatitis C\"],[\"Hepatitis D\"],[\"Hepatitis E\"],[\"Alcoholic hepatitis\"],[\"Tuberculosis\"],[\"Common Cold\"],[\"Pneumonia\"],[\"Dimorphic hemmorhoids(piles)\"],[\"Heart attack\"],[\"Varicose veins\"],[\"Hypothyroidism\"],[\"Hyperthyroidism\"],[\"Hypoglycemia\"],[\"Osteoarthristis\"],[\"Arthritis\"],[\"(vertigo) Paroymsal  Positional Vertigo\"],[\"Acne\"],[\"Urinary tract infection\"],[\"Psoriasis\"],[\"Impetigo\"],[\"Fungal infection\"],[\"Allergy\"],[\"GERD\"],[\"Chronic cholestasis\"],[\"Drug Reaction\"],[\"Peptic ulcer diseae\"],[\"AIDS\"],[\"Diabetes \"],[\"Gastroenteritis\"],[\"Bronchial Asthma\"],[\"Hypertension \"],[\"Migraine\"],[\"Cervical spondylosis\"],[\"Paralysis (brain hemorrhage)\"],[\"Jaundice\"],[\"Malaria\"],[\"Chicken pox\"],[\"Dengue\"],[\"Typhoid\"],[\"hepatitis A\"],[\"Hepatitis B\"],[\"Hepatitis C\"],[\"Hepatitis D\"],[\"Hepatitis E\"],[\"Alcoholic hepatitis\"],[\"Tuberculosis\"],[\"Common Cold\"],[\"Pneumonia\"],[\"Dimorphic hemmorhoids(piles)\"],[\"Heart attack\"],[\"Varicose veins\"],[\"Hypothyroidism\"],[\"Hyperthyroidism\"],[\"Hypoglycemia\"],[\"Osteoarthristis\"],[\"Arthritis\"],[\"(vertigo) Paroymsal  Positional Vertigo\"],[\"Acne\"],[\"Urinary tract infection\"],[\"Psoriasis\"],[\"Impetigo\"],[\"Fungal infection\"],[\"Allergy\"],[\"GERD\"],[\"Chronic cholestasis\"],[\"Drug Reaction\"],[\"Peptic ulcer diseae\"],[\"AIDS\"],[\"Diabetes \"],[\"Gastroenteritis\"],[\"Bronchial Asthma\"],[\"Hypertension \"],[\"Migraine\"],[\"Cervical spondylosis\"],[\"Paralysis (brain hemorrhage)\"],[\"Jaundice\"],[\"Malaria\"],[\"Chicken pox\"],[\"Dengue\"],[\"Typhoid\"],[\"hepatitis A\"],[\"Hepatitis B\"],[\"Hepatitis C\"],[\"Hepatitis D\"],[\"Hepatitis E\"],[\"Alcoholic hepatitis\"],[\"Tuberculosis\"],[\"Common Cold\"],[\"Pneumonia\"],[\"Dimorphic hemmorhoids(piles)\"],[\"Heart attack\"],[\"Varicose veins\"],[\"Hypothyroidism\"],[\"Hyperthyroidism\"],[\"Hypoglycemia\"],[\"Osteoarthristis\"],[\"Arthritis\"],[\"(vertigo) Paroymsal  Positional Vertigo\"],[\"Acne\"],[\"Urinary tract infection\"],[\"Psoriasis\"],[\"Impetigo\"],[\"Fungal infection\"],[\"Allergy\"],[\"GERD\"],[\"Chronic cholestasis\"],[\"Drug Reaction\"],[\"Peptic ulcer diseae\"],[\"AIDS\"],[\"Diabetes \"],[\"Gastroenteritis\"],[\"Bronchial Asthma\"],[\"Hypertension \"],[\"Migraine\"],[\"Cervical spondylosis\"],[\"Paralysis (brain hemorrhage)\"],[\"Jaundice\"],[\"Malaria\"],[\"Chicken pox\"],[\"Dengue\"],[\"Typhoid\"],[\"hepatitis A\"],[\"Hepatitis B\"],[\"Hepatitis C\"],[\"Hepatitis D\"],[\"Hepatitis E\"],[\"Alcoholic hepatitis\"],[\"Tuberculosis\"],[\"Common Cold\"],[\"Pneumonia\"],[\"Dimorphic hemmorhoids(piles)\"],[\"Heart attack\"],[\"Varicose veins\"],[\"Hypothyroidism\"],[\"Hyperthyroidism\"],[\"Hypoglycemia\"],[\"Osteoarthristis\"],[\"Arthritis\"],[\"(vertigo) Paroymsal  Positional Vertigo\"],[\"Acne\"],[\"Urinary tract infection\"],[\"Psoriasis\"],[\"Impetigo\"],[\"Fungal infection\"],[\"Allergy\"],[\"GERD\"],[\"Chronic cholestasis\"],[\"Drug Reaction\"],[\"Peptic ulcer diseae\"],[\"AIDS\"],[\"Diabetes \"],[\"Gastroenteritis\"],[\"Bronchial Asthma\"],[\"Hypertension \"],[\"Migraine\"],[\"Cervical spondylosis\"],[\"Paralysis (brain hemorrhage)\"],[\"Jaundice\"],[\"Malaria\"],[\"Chicken pox\"],[\"Dengue\"],[\"Typhoid\"],[\"hepatitis A\"],[\"Hepatitis B\"],[\"Hepatitis C\"],[\"Hepatitis D\"],[\"Hepatitis E\"],[\"Alcoholic hepatitis\"],[\"Tuberculosis\"],[\"Common Cold\"],[\"Pneumonia\"],[\"Dimorphic hemmorhoids(piles)\"],[\"Heart attack\"],[\"Varicose veins\"],[\"Hypothyroidism\"],[\"Hyperthyroidism\"],[\"Hypoglycemia\"],[\"Osteoarthristis\"],[\"Arthritis\"],[\"(vertigo) Paroymsal  Positional Vertigo\"],[\"Acne\"],[\"Urinary tract infection\"],[\"Psoriasis\"],[\"Impetigo\"],[\"Fungal infection\"],[\"Allergy\"],[\"GERD\"],[\"Chronic cholestasis\"],[\"Drug Reaction\"],[\"Peptic ulcer diseae\"],[\"AIDS\"],[\"Diabetes \"],[\"Gastroenteritis\"],[\"Bronchial Asthma\"],[\"Hypertension \"],[\"Migraine\"],[\"Cervical spondylosis\"],[\"Paralysis (brain hemorrhage)\"],[\"Jaundice\"],[\"Malaria\"],[\"Chicken pox\"],[\"Dengue\"],[\"Typhoid\"],[\"hepatitis A\"],[\"Hepatitis B\"],[\"Hepatitis C\"],[\"Hepatitis D\"],[\"Hepatitis E\"],[\"Alcoholic hepatitis\"],[\"Tuberculosis\"],[\"Common Cold\"],[\"Pneumonia\"],[\"Dimorphic hemmorhoids(piles)\"],[\"Heart attack\"],[\"Varicose veins\"],[\"Hypothyroidism\"],[\"Hyperthyroidism\"],[\"Hypoglycemia\"],[\"Osteoarthristis\"],[\"Arthritis\"],[\"(vertigo) Paroymsal  Positional Vertigo\"],[\"Acne\"],[\"Urinary tract infection\"],[\"Psoriasis\"],[\"Impetigo\"],[\"Fungal infection\"],[\"Allergy\"],[\"GERD\"],[\"Chronic cholestasis\"],[\"Drug Reaction\"],[\"Peptic ulcer diseae\"],[\"AIDS\"],[\"Diabetes \"],[\"Gastroenteritis\"],[\"Bronchial Asthma\"],[\"Hypertension \"],[\"Migraine\"],[\"Cervical spondylosis\"],[\"Paralysis (brain hemorrhage)\"],[\"Jaundice\"],[\"Malaria\"],[\"Chicken pox\"],[\"Dengue\"],[\"Typhoid\"],[\"hepatitis A\"],[\"Hepatitis B\"],[\"Hepatitis C\"],[\"Hepatitis D\"],[\"Hepatitis E\"],[\"Alcoholic hepatitis\"],[\"Tuberculosis\"],[\"Common Cold\"],[\"Pneumonia\"],[\"Dimorphic hemmorhoids(piles)\"],[\"Heart attack\"],[\"Varicose veins\"],[\"Hypothyroidism\"],[\"Hyperthyroidism\"],[\"Hypoglycemia\"],[\"Osteoarthristis\"],[\"Arthritis\"],[\"(vertigo) Paroymsal  Positional Vertigo\"],[\"Acne\"],[\"Urinary tract infection\"],[\"Psoriasis\"],[\"Impetigo\"],[\"Fungal infection\"],[\"Allergy\"],[\"GERD\"],[\"Chronic cholestasis\"],[\"Drug Reaction\"],[\"Peptic ulcer diseae\"],[\"AIDS\"],[\"Diabetes \"],[\"Gastroenteritis\"],[\"Bronchial Asthma\"],[\"Hypertension \"],[\"Migraine\"],[\"Cervical spondylosis\"],[\"Paralysis (brain hemorrhage)\"],[\"Jaundice\"],[\"Malaria\"],[\"Chicken pox\"],[\"Dengue\"],[\"Typhoid\"],[\"hepatitis A\"],[\"Hepatitis B\"],[\"Hepatitis C\"],[\"Hepatitis D\"],[\"Hepatitis E\"],[\"Alcoholic hepatitis\"],[\"Tuberculosis\"],[\"Common Cold\"],[\"Pneumonia\"],[\"Dimorphic hemmorhoids(piles)\"],[\"Heart attack\"],[\"Varicose veins\"],[\"Hypothyroidism\"],[\"Hyperthyroidism\"],[\"Hypoglycemia\"],[\"Osteoarthristis\"],[\"Arthritis\"],[\"(vertigo) Paroymsal  Positional Vertigo\"],[\"Acne\"],[\"Urinary tract infection\"],[\"Psoriasis\"],[\"Impetigo\"],[\"Fungal infection\"],[\"Allergy\"],[\"GERD\"],[\"Chronic cholestasis\"],[\"Drug Reaction\"],[\"Peptic ulcer diseae\"],[\"AIDS\"],[\"Diabetes \"],[\"Gastroenteritis\"],[\"Bronchial Asthma\"],[\"Hypertension \"],[\"Migraine\"],[\"Cervical spondylosis\"],[\"Paralysis (brain hemorrhage)\"],[\"Jaundice\"],[\"Malaria\"],[\"Chicken pox\"],[\"Dengue\"],[\"Typhoid\"],[\"hepatitis A\"],[\"Hepatitis B\"],[\"Hepatitis C\"],[\"Hepatitis D\"],[\"Hepatitis E\"],[\"Alcoholic hepatitis\"],[\"Tuberculosis\"],[\"Common Cold\"],[\"Pneumonia\"],[\"Dimorphic hemmorhoids(piles)\"],[\"Heart attack\"],[\"Varicose veins\"],[\"Hypothyroidism\"],[\"Hyperthyroidism\"],[\"Hypoglycemia\"],[\"Osteoarthristis\"],[\"Arthritis\"],[\"(vertigo) Paroymsal  Positional Vertigo\"],[\"Acne\"],[\"Urinary tract infection\"],[\"Psoriasis\"],[\"Impetigo\"],[\"Fungal infection\"],[\"Allergy\"],[\"GERD\"],[\"Chronic cholestasis\"],[\"Drug Reaction\"],[\"Peptic ulcer diseae\"],[\"AIDS\"],[\"Diabetes \"],[\"Gastroenteritis\"],[\"Bronchial Asthma\"],[\"Hypertension \"],[\"Migraine\"],[\"Cervical spondylosis\"],[\"Paralysis (brain hemorrhage)\"],[\"Jaundice\"],[\"Malaria\"],[\"Chicken pox\"],[\"Dengue\"],[\"Typhoid\"],[\"hepatitis A\"],[\"Hepatitis B\"],[\"Hepatitis C\"],[\"Hepatitis D\"],[\"Hepatitis E\"],[\"Alcoholic hepatitis\"],[\"Tuberculosis\"],[\"Common Cold\"],[\"Pneumonia\"],[\"Dimorphic hemmorhoids(piles)\"],[\"Heart attack\"],[\"Varicose veins\"],[\"Hypothyroidism\"],[\"Hyperthyroidism\"],[\"Hypoglycemia\"],[\"Osteoarthristis\"],[\"Arthritis\"],[\"(vertigo) Paroymsal  Positional Vertigo\"],[\"Acne\"],[\"Urinary tract infection\"],[\"Psoriasis\"],[\"Impetigo\"],[\"Fungal infection\"],[\"Allergy\"],[\"GERD\"],[\"Chronic cholestasis\"],[\"Drug Reaction\"],[\"Peptic ulcer diseae\"],[\"AIDS\"],[\"Diabetes \"],[\"Gastroenteritis\"],[\"Bronchial Asthma\"],[\"Hypertension \"],[\"Migraine\"],[\"Cervical spondylosis\"],[\"Paralysis (brain hemorrhage)\"],[\"Jaundice\"],[\"Malaria\"],[\"Chicken pox\"],[\"Dengue\"],[\"Typhoid\"],[\"hepatitis A\"],[\"Hepatitis B\"],[\"Hepatitis C\"],[\"Hepatitis D\"],[\"Hepatitis E\"],[\"Alcoholic hepatitis\"],[\"Tuberculosis\"],[\"Common Cold\"],[\"Pneumonia\"],[\"Dimorphic hemmorhoids(piles)\"],[\"Heart attack\"],[\"Varicose veins\"],[\"Hypothyroidism\"],[\"Hyperthyroidism\"],[\"Hypoglycemia\"],[\"Osteoarthristis\"],[\"Arthritis\"],[\"(vertigo) Paroymsal  Positional Vertigo\"],[\"Acne\"],[\"Urinary tract infection\"],[\"Psoriasis\"],[\"Impetigo\"]],\"hovertemplate\":\"TSNE Component 1=%{x}\\u003cbr\\u003eTSNE Component 2=%{y}\\u003cbr\\u003eDisease=%{customdata[0]}\\u003cbr\\u003eCluster=%{marker.color}\\u003cextra\\u003e\\u003c\\u002fextra\\u003e\",\"legendgroup\":\"\",\"marker\":{\"color\":[21,21,21,21,21,21,21,21,21,21,17,17,17,17,17,17,17,17,17,17,23,23,23,23,23,23,23,23,23,23,4,4,4,4,4,4,4,4,4,4,0,0,0,0,0,0,0,0,0,0,34,34,34,34,34,34,34,34,34,34,14,14,14,14,14,14,14,14,14,14,35,35,35,35,35,35,35,35,35,35,22,22,22,22,22,22,22,22,22,22,27,27,27,27,27,27,27,27,27,27,30,30,30,30,30,30,30,30,30,30,33,33,33,33,33,33,33,33,33,33,7,7,7,7,7,7,7,7,7,7,18,18,18,18,18,18,18,18,18,18,1,1,1,1,1,1,1,1,1,1,3,3,3,3,3,3,3,3,3,3,8,8,8,8,8,8,8,8,8,8,36,36,36,36,36,36,36,36,36,36,37,37,37,37,37,37,37,37,37,37,40,40,40,40,40,40,40,40,40,40,32,32,32,32,32,32,32,32,32,32,39,39,39,39,39,39,39,4,39,39,24,24,24,24,24,24,24,24,24,24,38,38,38,38,38,38,38,38,38,38,20,20,20,20,20,20,20,20,20,20,25,25,25,25,25,25,25,25,25,25,29,29,29,29,29,29,29,29,29,29,9,9,9,9,9,9,9,9,9,9,13,13,13,13,13,13,13,13,13,13,2,2,2,2,2,2,2,2,2,2,16,16,16,16,16,16,16,16,16,16,10,10,10,10,10,10,10,10,10,10,19,19,19,19,19,19,19,19,19,19,5,5,5,5,5,5,5,5,5,5,31,31,31,31,31,31,31,31,31,31,11,11,11,11,11,11,11,11,11,11,26,26,26,26,26,26,26,26,26,26,12,12,12,12,12,12,12,12,12,12,15,15,15,15,15,15,15,15,15,15,6,6,6,6,6,6,6,6,6,6,28,28,28,28,28,28,28,28,28,28,21,21,21,21,21,21,21,21,21,21,17,17,17,17,17,17,17,17,17,17,23,23,23,23,23,23,23,23,23,23,4,4,4,4,4,4,4,4,4,4,0,0,0,0,0,0,0,0,0,0,34,34,34,34,34,34,34,34,34,34,14,14,14,14,14,14,14,14,14,14,35,35,35,35,35,35,35,35,35,35,22,22,22,22,22,22,22,22,22,22,27,27,27,27,27,27,27,27,27,27,30,30,30,30,30,30,30,30,30,30,33,33,33,33,33,33,33,33,33,33,7,7,7,7,7,7,7,7,7,7,18,18,18,18,18,18,18,18,18,18,1,1,1,1,1,1,1,1,1,1,3,3,3,3,3,3,3,3,3,3,8,8,8,8,8,8,8,8,8,8,36,36,36,36,36,36,36,36,36,36,37,37,37,37,37,37,37,37,37,37,40,40,40,40,40,40,40,40,40,40,32,32,32,32,32,32,32,32,32,32,39,39,39,39,39,39,39,4,39,39,24,24,24,24,24,24,24,24,24,24,38,38,38,38,38,38,38,38,38,38,20,20,20,20,20,20,20,20,20,20,25,25,25,25,25,25,25,25,25,25,29,29,29,29,29,29,29,29,29,29,9,9,9,9,9,9,9,9,9,9,13,13,13,13,13,13,13,13,13,13,2,2,2,2,2,2,2,2,2,2,16,16,16,16,16,16,16,16,16,16,10,10,10,10,10,10,10,10,10,10,19,19,19,19,19,19,19,19,19,19,5,5,5,5,5,5,5,5,5,5,31,31,31,31,31,31,31,31,31,31,11,11,11,11,11,11,11,11,11,11,26,26,26,26,26,26,26,26,26,26,12,12,12,12,12,12,12,12,12,12,15,15,15,15,15,15,15,15,15,15,6,6,6,6,6,6,6,6,6,6,28,28,28,28,28,28,28,28,28,28,21,21,21,21,21,21,21,21,21,21,17,17,17,17,17,17,17,17,17,17,23,23,23,23,23,23,23,23,23,23,4,4,4,4,4,4,4,4,4,4,0,0,0,0,0,0,0,0,0,0,34,34,34,34,34,34,34,34,34,34,14,14,14,14,14,14,14,14,14,14,35,35,35,35,35,35,35,35,35,35,22,22,22,22,22,22,22,22,22,22,27,27,27,27,27,27,27,27,27,27,30,30,30,30,30,30,30,30,30,30,33,33,33,33,33,33,33,33,33,33,7,7,7,7,7,7,7,7,7,7,18,18,18,18,18,18,18,18,18,18,1,1,1,1,1,1,1,1,1,1,3,3,3,3,3,3,3,3,3,3,8,8,8,8,8,8,8,8,8,8,36,36,36,36,36,36,36,36,36,36,37,37,37,37,37,37,37,37,37,37,40,40,40,40,40,40,40,40,40,40,32,32,32,32,32,32,32,32,32,32,39,39,39,39,39,39,39,4,39,39,24,24,24,24,24,24,24,24,24,24,38,38,38,38,38,38,38,38,38,38,20,20,20,20,20,20,20,20,20,20,25,25,25,25,25,25,25,25,25,25,29,29,29,29,29,29,29,29,29,29,9,9,9,9,9,9,9,9,9,9,13,13,13,13,13,13,13,13,13,13,2,2,2,2,2,2,2,2,2,2,16,16,16,16,16,16,16,16,16,16,10,10,10,10,10,10,10,10,10,10,19,19,19,19,19,19,19,19,19,19,5,5,5,5,5,5,5,5,5,5,31,31,31,31,31,31,31,31,31,31,11,11,11,11,11,11,11,11,11,11,26,26,26,26,26,26,26,26,26,26,12,12,12,12,12,12,12,12,12,12,15,15,15,15,15,15,15,15,15,15,6,6,6,6,6,6,6,6,6,6,28,28,28,28,28,28,28,28,28,28,21,21,21,21,21,21,21,21,21,21,17,17,17,17,17,17,17,17,17,17,23,23,23,23,23,23,23,23,23,23,4,4,4,4,4,4,4,4,4,4,0,0,0,0,0,0,0,0,0,0,34,34,34,34,34,34,34,34,34,34,14,14,14,14,14,14,14,14,14,14,35,35,35,35,35,35,35,35,35,35,22,22,22,22,22,22,22,22,22,22,27,27,27,27,27,27,27,27,27,27,30,30,30,30,30,30,30,30,30,30,33,33,33,33,33,33,33,33,33,33,7,7,7,7,7,7,7,7,7,7,18,18,18,18,18,18,18,18,18,18,1,1,1,1,1,1,1,1,1,1,3,3,3,3,3,3,3,3,3,3,8,8,8,8,8,8,8,8,8,8,36,36,36,36,36,36,36,36,36,36,37,37,37,37,37,37,37,37,37,37,40,40,40,40,40,40,40,40,40,40,32,32,32,32,32,32,32,32,32,32,39,39,39,39,39,39,39,4,39,39,24,24,24,24,24,24,24,24,24,24,38,38,38,38,38,38,38,38,38,38,20,20,20,20,20,20,20,20,20,20,25,25,25,25,25,25,25,25,25,25,29,29,29,29,29,29,29,29,29,29,9,9,9,9,9,9,9,9,9,9,13,13,13,13,13,13,13,13,13,13,2,2,2,2,2,2,2,2,2,2,16,16,16,16,16,16,16,16,16,16,10,10,10,10,10,10,10,10,10,10,19,19,19,19,19,19,19,19,19,19,5,5,5,5,5,5,5,5,5,5,31,31,31,31,31,31,31,31,31,31,11,11,11,11,11,11,11,11,11,11,26,26,26,26,26,26,26,26,26,26,12,12,12,12,12,12,12,12,12,12,15,15,15,15,15,15,15,15,15,15,6,6,6,6,6,6,6,6,6,6,28,28,28,28,28,28,28,28,28,28,21,21,21,21,21,21,21,21,21,21,17,17,17,17,17,17,17,17,17,17,23,23,23,23,23,23,23,23,23,23,4,4,4,4,4,4,4,4,4,4,0,0,0,0,0,0,0,0,0,0,34,34,34,34,34,34,34,34,34,34,14,14,14,14,14,14,14,14,14,14,35,35,35,35,35,35,35,35,35,35,22,22,22,22,22,22,22,22,22,22,27,27,27,27,27,27,27,27,27,27,30,30,30,30,30,30,30,30,30,30,33,33,33,33,33,33,33,33,33,33,7,7,7,7,7,7,7,7,7,7,18,18,18,18,18,18,18,18,18,18,1,1,1,1,1,1,1,1,1,1,3,3,3,3,3,3,3,3,3,3,8,8,8,8,8,8,8,8,8,8,36,36,36,36,36,36,36,36,36,36,37,37,37,37,37,37,37,37,37,37,40,40,40,40,40,40,40,40,40,40,32,32,32,32,32,32,32,32,32,32,39,39,39,39,39,39,39,4,39,39,24,24,24,24,24,24,24,24,24,24,38,38,38,38,38,38,38,38,38,38,20,20,20,20,20,20,20,20,20,20,25,25,25,25,25,25,25,25,25,25,29,29,29,29,29,29,29,29,29,29,9,9,9,9,9,9,9,9,9,9,13,13,13,13,13,13,13,13,13,13,2,2,2,2,2,2,2,2,2,2,16,16,16,16,16,16,16,16,16,16,10,10,10,10,10,10,10,10,10,10,19,19,19,19,19,19,19,19,19,19,5,5,5,5,5,5,5,5,5,5,31,31,31,31,31,31,31,31,31,31,11,11,11,11,11,11,11,11,11,11,26,26,26,26,26,26,26,26,26,26,12,12,12,12,12,12,12,12,12,12,15,15,15,15,15,15,15,15,15,15,6,6,6,6,6,6,6,6,6,6,28,28,28,28,28,28,28,28,28,28,21,21,21,21,21,21,21,21,21,21,17,17,17,17,17,17,17,17,17,17,23,23,23,23,23,23,23,23,23,23,4,4,4,4,4,4,4,4,4,4,0,0,0,0,0,0,0,0,0,0,34,34,34,34,34,34,34,34,34,34,14,14,14,14,14,14,14,14,14,14,35,35,35,35,35,35,35,35,35,35,22,22,22,22,22,22,22,22,22,22,27,27,27,27,27,27,27,27,27,27,30,30,30,30,30,30,30,30,30,30,33,33,33,33,33,33,33,33,33,33,7,7,7,7,7,7,7,7,7,7,18,18,18,18,18,18,18,18,18,18,1,1,1,1,1,1,1,1,1,1,3,3,3,3,3,3,3,3,3,3,8,8,8,8,8,8,8,8,8,8,36,36,36,36,36,36,36,36,36,36,37,37,37,37,37,37,37,37,37,37,40,40,40,40,40,40,40,40,40,40,32,32,32,32,32,32,32,32,32,32,39,39,39,39,39,39,39,4,39,39,24,24,24,24,24,24,24,24,24,24,38,38,38,38,38,38,38,38,38,38,20,20,20,20,20,20,20,20,20,20,25,25,25,25,25,25,25,25,25,25,29,29,29,29,29,29,29,29,29,29,9,9,9,9,9,9,9,9,9,9,13,13,13,13,13,13,13,13,13,13,2,2,2,2,2,2,2,2,2,2,16,16,16,16,16,16,16,16,16,16,10,10,10,10,10,10,10,10,10,10,19,19,19,19,19,19,19,19,19,19,5,5,5,5,5,5,5,5,5,5,31,31,31,31,31,31,31,31,31,31,11,11,11,11,11,11,11,11,11,11,26,26,26,26,26,26,26,26,26,26,12,12,12,12,12,12,12,12,12,12,15,15,15,15,15,15,15,15,15,15,6,6,6,6,6,6,6,6,6,6,28,28,28,28,28,28,28,28,28,28,21,17,23,4,0,34,14,35,22,27,30,33,7,18,1,3,8,36,37,40,32,39,24,38,20,25,29,9,13,2,16,10,19,5,31,11,26,12,15,6,28,21,17,23,4,0,34,14,35,22,27,30,33,7,18,1,3,8,36,37,40,32,39,24,38,20,25,29,9,13,2,16,10,19,5,31,11,26,12,15,6,28,21,17,23,4,0,34,14,35,22,27,30,33,7,18,1,3,8,36,37,40,32,39,24,38,20,25,29,9,13,2,16,10,19,5,31,11,26,12,15,6,28,21,17,23,4,0,34,14,35,22,27,30,33,7,18,1,3,8,36,37,40,32,39,24,38,20,25,29,9,13,2,16,10,19,5,31,11,26,12,15,6,28,21,17,23,4,0,34,14,35,22,27,30,33,7,18,1,3,8,36,37,40,32,39,24,38,20,25,29,9,13,2,16,10,19,5,31,11,26,12,15,6,28,21,17,23,4,0,34,14,35,22,27,30,33,7,18,1,3,8,36,37,40,32,39,24,38,20,25,29,9,13,2,16,10,19,5,31,11,26,12,15,6,28,21,17,23,4,0,34,14,35,22,27,30,33,7,18,1,3,8,36,37,40,32,39,24,38,20,25,29,9,13,2,16,10,19,5,31,11,26,12,15,6,28,21,17,23,4,0,34,14,35,22,27,30,33,7,18,1,3,8,36,37,40,32,39,24,38,20,25,29,9,13,2,16,10,19,5,31,11,26,12,15,6,28,21,17,23,4,0,34,14,35,22,27,30,33,7,18,1,3,8,36,37,40,32,39,24,38,20,25,29,9,13,2,16,10,19,5,31,11,26,12,15,6,28,21,17,23,4,0,34,14,35,22,27,30,33,7,18,1,3,8,36,37,40,32,39,24,38,20,25,29,9,13,2,16,10,19,5,31,11,26,12,15,6,28,21,17,23,4,0,34,14,35,22,27,30,33,7,18,1,3,8,36,37,40,32,39,24,38,20,25,29,9,13,2,16,10,19,5,31,11,26,12,15,6,28,21,17,23,4,0,34,14,35,22,27,30,33,7,18,1,3,8,36,37,40,32,39,24,38,20,25,29,9,13,2,16,10,19,5,31,11,26,12,15,6,28,21,17,23,4,0,34,14,35,22,27,30,33,7,18,1,3,8,36,37,40,32,39,24,38,20,25,29,9,13,2,16,10,19,5,31,11,26,12,15,6,28,21,17,23,4,0,34,14,35,22,27,30,33,7,18,1,3,8,36,37,40,32,39,24,38,20,25,29,9,13,2,16,10,19,5,31,11,26,12,15,6,28,21,17,23,4,0,34,14,35,22,27,30,33,7,18,1,3,8,36,37,40,32,39,24,38,20,25,29,9,13,2,16,10,19,5,31,11,26,12,15,6,28,21,17,23,4,0,34,14,35,22,27,30,33,7,18,1,3,8,36,37,40,32,39,24,38,20,25,29,9,13,2,16,10,19,5,31,11,26,12,15,6,28,21,17,23,4,0,34,14,35,22,27,30,33,7,18,1,3,8,36,37,40,32,39,24,38,20,25,29,9,13,2,16,10,19,5,31,11,26,12,15,6,28,21,17,23,4,0,34,14,35,22,27,30,33,7,18,1,3,8,36,37,40,32,39,24,38,20,25,29,9,13,2,16,10,19,5,31,11,26,12,15,6,28,21,17,23,4,0,34,14,35,22,27,30,33,7,18,1,3,8,36,37,40,32,39,24,38,20,25,29,9,13,2,16,10,19,5,31,11,26,12,15,6,28,21,17,23,4,0,34,14,35,22,27,30,33,7,18,1,3,8,36,37,40,32,39,24,38,20,25,29,9,13,2,16,10,19,5,31,11,26,12,15,6,28,21,17,23,4,0,34,14,35,22,27,30,33,7,18,1,3,8,36,37,40,32,39,24,38,20,25,29,9,13,2,16,10,19,5,31,11,26,12,15,6,28,21,17,23,4,0,34,14,35,22,27,30,33,7,18,1,3,8,36,37,40,32,39,24,38,20,25,29,9,13,2,16,10,19,5,31,11,26,12,15,6,28,21,17,23,4,0,34,14,35,22,27,30,33,7,18,1,3,8,36,37,40,32,39,24,38,20,25,29,9,13,2,16,10,19,5,31,11,26,12,15,6,28,21,17,23,4,0,34,14,35,22,27,30,33,7,18,1,3,8,36,37,40,32,39,24,38,20,25,29,9,13,2,16,10,19,5,31,11,26,12,15,6,28,21,17,23,4,0,34,14,35,22,27,30,33,7,18,1,3,8,36,37,40,32,39,24,38,20,25,29,9,13,2,16,10,19,5,31,11,26,12,15,6,28,21,17,23,4,0,34,14,35,22,27,30,33,7,18,1,3,8,36,37,40,32,39,24,38,20,25,29,9,13,2,16,10,19,5,31,11,26,12,15,6,28,21,17,23,4,0,34,14,35,22,27,30,33,7,18,1,3,8,36,37,40,32,39,24,38,20,25,29,9,13,2,16,10,19,5,31,11,26,12,15,6,28,21,17,23,4,0,34,14,35,22,27,30,33,7,18,1,3,8,36,37,40,32,39,24,38,20,25,29,9,13,2,16,10,19,5,31,11,26,12,15,6,28,21,17,23,4,0,34,14,35,22,27,30,33,7,18,1,3,8,36,37,40,32,39,24,38,20,25,29,9,13,2,16,10,19,5,31,11,26,12,15,6,28,21,17,23,4,0,34,14,35,22,27,30,33,7,18,1,3,8,36,37,40,32,39,24,38,20,25,29,9,13,2,16,10,19,5,31,11,26,12,15,6,28,21,17,23,4,0,34,14,35,22,27,30,33,7,18,1,3,8,36,37,40,32,39,24,38,20,25,29,9,13,2,16,10,19,5,31,11,26,12,15,6,28,21,17,23,4,0,34,14,35,22,27,30,33,7,18,1,3,8,36,37,40,32,39,24,38,20,25,29,9,13,2,16,10,19,5,31,11,26,12,15,6,28,21,17,23,4,0,34,14,35,22,27,30,33,7,18,1,3,8,36,37,40,32,39,24,38,20,25,29,9,13,2,16,10,19,5,31,11,26,12,15,6,28,21,17,23,4,0,34,14,35,22,27,30,33,7,18,1,3,8,36,37,40,32,39,24,38,20,25,29,9,13,2,16,10,19,5,31,11,26,12,15,6,28,21,17,23,4,0,34,14,35,22,27,30,33,7,18,1,3,8,36,37,40,32,39,24,38,20,25,29,9,13,2,16,10,19,5,31,11,26,12,15,6,28,21,17,23,4,0,34,14,35,22,27,30,33,7,18,1,3,8,36,37,40,32,39,24,38,20,25,29,9,13,2,16,10,19,5,31,11,26,12,15,6,28,21,17,23,4,0,34,14,35,22,27,30,33,7,18,1,3,8,36,37,40,32,39,24,38,20,25,29,9,13,2,16,10,19,5,31,11,26,12,15,6,28,21,17,23,4,0,34,14,35,22,27,30,33,7,18,1,3,8,36,37,40,32,39,24,38,20,25,29,9,13,2,16,10,19,5,31,11,26,12,15,6,28,21,17,23,4,0,34,14,35,22,27,30,33,7,18,1,3,8,36,37,40,32,39,24,38,20,25,29,9,13,2,16,10,19,5,31,11,26,12,15,6,28,21,17,23,4,0,34,14,35,22,27,30,33,7,18,1,3,8,36,37,40,32,39,24,38,20,25,29,9,13,2,16,10,19,5,31,11,26,12,15,6,28,21,17,23,4,0,34,14,35,22,27,30,33,7,18,1,3,8,36,37,40,32,39,24,38,20,25,29,9,13,2,16,10,19,5,31,11,26,12,15,6,28,21,17,23,4,0,34,14,35,22,27,30,33,7,18,1,3,8,36,37,40,32,39,24,38,20,25,29,9,13,2,16,10,19,5,31,11,26,12,15,6,28,21,17,23,4,0,34,14,35,22,27,30,33,7,18,1,3,8,36,37,40,32,39,24,38,20,25,29,9,13,2,16,10,19,5,31,11,26,12,15,6,28,21,17,23,4,0,34,14,35,22,27,30,33,7,18,1,3,8,36,37,40,32,39,24,38,20,25,29,9,13,2,16,10,19,5,31,11,26,12,15,6,28,21,17,23,4,0,34,14,35,22,27,30,33,7,18,1,3,8,36,37,40,32,39,24,38,20,25,29,9,13,2,16,10,19,5,31,11,26,12,15,6,28,21,17,23,4,0,34,14,35,22,27,30,33,7,18,1,3,8,36,37,40,32,39,24,38,20,25,29,9,13,2,16,10,19,5,31,11,26,12,15,6,28,21,17,23,4,0,34,14,35,22,27,30,33,7,18,1,3,8,36,37,40,32,39,24,38,20,25,29,9,13,2,16,10,19,5,31,11,26,12,15,6,28,21,17,23,4,0,34,14,35,22,27,30,33,7,18,1,3,8,36,37,40,32,39,24,38,20,25,29,9,13,2,16,10,19,5,31,11,26,12,15,6,28,21,17,23,4,0,34,14,35,22,27,30,33,7,18,1,3,8,36,37,40,32,39,24,38,20,25,29,9,13,2,16,10,19,5,31,11,26,12,15,6,28,21,17,23,4,0,34,14,35,22,27,30,33,7,18,1,3,8,36,37,40,32,39,24,38,20,25,29,9,13,2,16,10,19,5,31,11,26,12,15,6,28,21,17,23,4,0,34,14,35,22,27,30,33,7,18,1,3,8,36,37,40,32,39,24,38,20,25,29,9,13,2,16,10,19,5,31,11,26,12,15,6,28,21,17,23,4,0,34,14,35,22,27,30,33,7,18,1,3,8,36,37,40,32,39,24,38,20,25,29,9,13,2,16,10,19,5,31,11,26,12,15,6,28,21,17,23,4,0,34,14,35,22,27,30,33,7,18,1,3,8,36,37,40,32,39,24,38,20,25,29,9,13,2,16,10,19,5,31,11,26,12,15,6,28,21,17,23,4,0,34,14,35,22,27,30,33,7,18,1,3,8,36,37,40,32,39,24,38,20,25,29,9,13,2,16,10,19,5,31,11,26,12,15,6,28,21,17,23,4,0,34,14,35,22,27,30,33,7,18,1,3,8,36,37,40,32,39,24,38,20,25,29,9,13,2,16,10,19,5,31,11,26,12,15,6,28,21,17,23,4,0,34,14,35,22,27,30,33,7,18,1,3,8,36,37,40,32,39,24,38,20,25,29,9,13,2,16,10,19,5,31,11,26,12,15,6,28,21,17,23,4,0,34,14,35,22,27,30,33,7,18,1,3,8,36,37,40,32,39,24,38,20,25,29,9,13,2,16,10,19,5,31,11,26,12,15,6,28,21,17,23,4,0,34,14,35,22,27,30,33,7,18,1,3,8,36,37,40,32,39,24,38,20,25,29,9,13,2,16,10,19,5,31,11,26,12,15,6,28,21,17,23,4,0,34,14,35,22,27,30,33,7,18,1,3,8,36,37,40,32,39,24,38,20,25,29,9,13,2,16,10,19,5,31,11,26,12,15,6,28,21,17,23,4,0,34,14,35,22,27,30,33,7,18,1,3,8,36,37,40,32,39,24,38,20,25,29,9,13,2,16,10,19,5,31,11,26,12,15,6,28],\"coloraxis\":\"coloraxis\",\"symbol\":\"circle\"},\"mode\":\"markers\",\"name\":\"\",\"showlegend\":false,\"x\":[-26.142931,-39.675354,-6.755924,-13.061503,-48.354233,-39.675354,-6.755924,-13.061503,-48.354233,-26.142931,-82.69525,-101.91627,-79.95321,-57.7458,-95.50771,-101.91627,-79.95321,-60.59633,-95.50771,-82.69525,-36.506264,-37.443405,-53.231197,-57.39585,-27.5593,-44.1732,-18.6735,-37.443405,-53.231197,-57.39585,138.61638,125.26164,157.64189,155.93756,119.817535,167.56822,145.12173,141.9936,138.61638,138.61638,26.421282,36.978497,15.679009,16.921442,42.875446,44.942062,39.12635,15.679009,16.921442,42.875446,83.14003,55.99635,88.03696,83.14003,55.99635,72.28821,99.15259,98.8753,80.08221,80.08221,-131.97694,-116.39733,-158.42538,-112.81264,-131.78818,-131.97694,-131.97694,-116.39733,-158.42538,-131.78818,-81.03444,-81.03444,-99.33447,-74.32124,-93.37902,-102.48459,-61.55134,-73.526024,-61.40368,-90.16418,0.14485854,0.14485854,11.4301605,21.900583,4.622572,-17.241879,0.14485854,11.4301605,21.900583,4.622572,-74.70833,-95.09839,-71.78277,-85.29551,-94.967766,-62.313446,-54.513775,-74.70833,-95.09839,-75.64374,49.93708,26.661926,32.3689,58.956272,41.68221,67.077324,49.93708,26.982136,30.357813,58.956272,-135.86426,-125.101974,-112.611465,-118.51729,-123.796135,-157.95457,-155.0847,-141.32301,-138.24248,-152.38019,14.513901,14.513901,4.4652286,37.16407,22.547272,21.27238,3.4552414,14.513901,4.4652286,37.16407,-31.425674,-31.425674,-16.421585,-32.46904,-27.1485,-13.553612,-31.425674,-16.421585,-32.46904,-27.1485,93.60952,93.60952,77.81959,100.57187,85.30783,86.15316,112.26497,112.63521,103.7315,77.369,30.785748,15.154531,15.154531,-1.1078871,-6.1735,4.6467085,38.11534,32.544624,14.6237,30.785748,42.151485,28.909006,60.197678,50.779125,22.328447,27.720274,42.384552,62.431404,39.108852,54.53029,75.04551,88.93387,109.793015,88.60975,107.707436,69.90953,102.00537,97.31467,74.75857,84.06777,2.9108226,13.753569,-11.401744,13.2672615,-22.318789,-8.369298,-20.113338,-3.2644615,-3.2644615,2.6393511,141.12271,141.12271,155.8199,162.7428,159.79608,128.6231,139.83835,145.05278,126.751144,119.633095,124.74033,124.74033,108.34496,110.4387,126.3032,143.48276,139.66383,124.15417,104.245224,148.81264,105.38476,105.09942,92.71608,86.947624,122.35823,84.39187,105.38476,133.59358,105.09942,105.09942,167.51022,142.7826,183.9094,183.22812,153.50865,177.97937,166.22292,170.42836,150.28822,192.02731,152.90642,145.11491,145.11491,165.79971,160.31766,143.53209,129.33556,171.56581,132.56238,124.287605,82.432205,82.432205,62.810486,87.29603,66.42895,104.295746,85.380646,69.32658,101.04427,82.432205,87.853294,87.853294,81.423035,108.3693,96.70636,109.54259,80.90865,67.62126,98.31438,70.03492,39.511616,39.511616,54.49631,31.655087,22.708485,42.49515,17.8092,28.171227,60.323883,50.95542,-101.88373,-78.59849,-78.59849,-57.62568,-62.222042,-96.15196,-80.05368,-92.97909,-62.30727,-73.16955,-171.40312,-171.40312,-171.40312,-171.40312,-171.40312,-171.40312,-171.40312,-171.40312,-171.40312,-171.40312,-29.751123,-29.751123,-6.549203,-34.173046,-39.192913,-17.974112,-29.751123,-3.0181785,-34.173046,-35.070362,-108.01041,-108.01041,-112.2022,-89.32363,-94.14003,-97.46788,-116.79422,-132.83861,-125.22434,-132.83861,-102.98403,-102.98403,-107.47682,-107.47682,-91.65827,-121.172966,-122.708305,-97.78977,-84.598885,-113.44799,-134.94606,-134.94606,-117.00883,-143.92023,-123.464386,-155.67331,-128.22182,-116.68928,-140.59235,-157.54663,-173.1593,-154.13687,-154.13687,-160.43512,-174.76018,-157.52444,-141.64983,-146.3111,-134.53989,-175.13547,0.45108157,0.45108157,10.129547,20.52527,-16.135035,-0.9851931,-19.145311,15.468257,0.45108157,0.45108157,-64.37997,-64.37997,-58.1068,-55.1611,-70.087814,-75.00414,-64.37997,-44.50139,-64.37997,-64.37997,51.686134,51.686134,32.4173,38.16393,42.89602,73.9383,67.876396,54.18281,51.686134,73.9383,-69.00797,-69.00797,-55.682125,-92.0087,-47.591892,-65.65935,-69.00797,-65.65935,-47.591892,-92.0087,39.251717,39.251717,46.490658,22.097036,66.90282,56.25036,39.251717,66.90282,40.62735,66.90282,-16.931065,-16.931065,-1.6623601,1.3745321,-37.243587,-10.668915,-35.983635,-21.315979,-16.931065,-16.931065,-42.700035,-42.700035,-59.095688,-20.999683,-18.327316,-34.523186,-34.75955,-62.84752,-42.700035,-17.232456,-26.142931,-38.517178,-9.336644,-13.061503,-48.354233,-36.15975,-9.336644,-13.061503,-48.354233,-26.142931,-82.69525,-101.91627,-76.157135,-62.626595,-95.50771,-101.91627,-76.157135,-63.5456,-95.50771,-82.69525,-36.506264,-37.443405,-53.231197,-57.39585,-25.513952,-44.1732,-17.044216,-37.443405,-53.231197,-57.39585,138.61638,123.31263,157.64189,155.93756,118.755104,167.56822,145.12173,141.9936,138.61638,138.61638,26.421282,39.12635,14.580183,16.921442,42.875446,44.942062,39.12635,15.679009,16.921442,42.875446,83.14003,56.622433,88.03696,83.14003,59.877785,73.23559,99.15259,98.8753,80.08221,80.08221,-131.97694,-116.39733,-158.42538,-115.12574,-131.78818,-131.97694,-131.97694,-113.48187,-158.42538,-131.78818,-81.03444,-81.03444,-99.33447,-76.87277,-95.34118,-102.48459,-61.55134,-73.526024,-60.921894,-90.16418,0.14485854,0.14485854,12.627794,21.900583,4.622572,-18.205597,0.14485854,12.627794,21.900583,4.622572,-74.70833,-92.63477,-77.6892,-85.29551,-94.967766,-62.313446,-54.513775,-74.70833,-92.63477,-75.64374,49.93708,30.47059,30.357813,58.956272,41.68221,67.077324,49.93708,30.484407,30.357813,58.956272,-135.86426,-123.43997,-114.75347,-118.51729,-123.796135,-157.95457,-155.0847,-141.32301,-138.24248,-152.38019,14.513901,14.513901,8.667792,37.16407,25.392822,18.4121,3.4552414,14.513901,4.4652286,37.16407,-31.425674,-31.425674,-12.013534,-32.46904,-27.1485,-13.553612,-31.425674,-12.013534,-32.46904,-27.1485,93.60952,93.60952,73.56033,100.57187,85.30783,86.15316,112.26497,112.63521,103.7315,74.55819,30.785748,15.154531,15.154531,-0.75014704,-6.1735,4.6467085,38.11534,29.759321,11.363763,30.785748,42.151485,30.454351,60.197678,50.779125,24.720259,27.720274,42.384552,62.431404,36.005684,54.53029,72.28497,88.93387,109.793015,88.60975,107.707436,69.121475,102.00537,97.31467,74.75857,86.61989,8.267423,15.15513,-11.401744,16.542755,-22.318789,-8.369298,-20.113338,-3.2644615,-3.2644615,2.6393511,141.12271,141.12271,159.03723,162.7428,159.79608,128.6231,143.0682,145.05278,126.751144,119.70386,124.74033,124.74033,110.31092,110.4387,121.00548,143.48276,139.66383,124.15417,101.688,148.81264,105.38476,105.09942,90.6475,90.08066,122.16066,84.39187,105.38476,133.59358,105.09942,105.09942,167.51022,145.94211,183.9094,183.22812,153.50865,181.16487,163.58777,173.28023,150.28822,192.02731,152.90642,145.11491,145.11491,165.79971,160.31766,143.53209,131.72969,171.56581,132.56238,126.39178,82.432205,82.432205,62.810486,86.17524,64.791306,104.295746,85.380646,69.32658,101.04427,82.432205,87.853294,87.853294,77.01545,108.3693,96.70636,109.54259,80.90865,67.62126,98.31438,66.74048,39.511616,39.511616,54.49631,34.371136,22.708485,42.49515,17.8092,28.171227,60.323883,48.673393,-101.88373,-78.59849,-78.59849,-57.62568,-62.222042,-96.15196,-80.05368,-92.97909,-64.60573,-76.04996,-171.40312,-171.40312,-171.40312,-171.40312,-171.40312,-171.40312,-171.40312,-171.40312,-171.40312,-171.40312,-29.751123,-29.751123,-3.0181785,-34.173046,-39.192913,-17.974112,-29.751123,-3.0181785,-34.173046,-39.192913,-108.01041,-108.01041,-112.2022,-89.32363,-94.14003,-94.94473,-116.79422,-132.83861,-125.22434,-132.83861,-102.98403,-102.98403,-107.47682,-107.47682,-91.65827,-121.172966,-122.708305,-97.59866,-81.620384,-113.44799,-134.94606,-134.94606,-117.00883,-143.92023,-126.00437,-155.67331,-128.22182,-114.676186,-140.59235,-157.54663,-173.1593,-154.13687,-154.13687,-160.43512,-174.76018,-157.52444,-141.64983,-143.56334,-133.81737,-175.13547,0.45108157,0.45108157,11.231065,21.31149,-16.135035,-0.9851931,-19.145311,15.468257,0.45108157,0.45108157,-64.37997,-64.37997,-58.1068,-55.1611,-70.087814,-75.00414,-64.37997,-44.50139,-64.37997,-64.37997,51.686134,51.686134,33.11602,35.000816,45.597446,73.9383,67.876396,54.18281,51.686134,73.9383,-69.00797,-69.00797,-59.83018,-92.0087,-47.591892,-65.65935,-69.00797,-65.65935,-47.591892,-92.0087,39.251717,39.251717,44.753696,20.49124,66.90282,56.25036,39.251717,66.90282,46.490658,66.90282,-16.931065,-16.931065,1.5184748,3.5434206,-37.243587,-10.668915,-35.983635,-21.315979,-16.931065,-16.931065,-42.700035,-42.700035,-59.095688,-14.19511,-23.647755,-34.523186,-34.75955,-62.84752,-42.700035,-14.82849,-26.142931,-38.517178,-9.336644,-13.061503,-48.354233,-38.517178,-9.336644,-13.061503,-48.354233,-26.142931,-82.69525,-101.91627,-76.157135,-63.627834,-95.50771,-101.91627,-76.157135,-63.627834,-95.50771,-82.69525,-36.506264,-37.443405,-53.231197,-57.39585,-27.954348,-44.1732,-19.847866,-37.443405,-53.231197,-57.39585,138.61638,125.26164,157.64189,155.93756,118.49748,167.56822,145.12173,141.9936,138.61638,138.61638,26.421282,39.12635,12.103553,16.921442,42.875446,44.942062,39.93137,15.679009,16.921442,42.875446,83.14003,57.294666,88.03696,83.14003,57.294666,73.23559,99.15259,98.8753,80.08221,80.08221,-131.97694,-116.39733,-158.42538,-115.506386,-131.78818,-131.97694,-131.97694,-116.39733,-158.42538,-131.78818,-81.03444,-81.03444,-99.33447,-77.91919,-90.54203,-102.48459,-61.55134,-73.526024,-60.921894,-90.16418,0.14485854,0.14485854,8.434011,21.900583,4.622572,-18.205597,0.14485854,12.627794,21.900583,4.622572,-74.70833,-92.63477,-75.64374,-85.29551,-94.967766,-62.313446,-54.513775,-74.70833,-92.63477,-71.78277,49.93708,30.484407,34.91055,58.956272,41.68221,67.077324,49.93708,26.661926,30.357813,58.956272,-135.86426,-126.06371,-112.03314,-118.51729,-123.796135,-157.95457,-155.0847,-141.32301,-138.24248,-152.38019,14.513901,14.513901,4.4652286,37.16407,23.98934,21.27238,3.4552414,14.513901,2.8358905,35.98594,-31.425674,-31.425674,-14.511706,-32.46904,-27.1485,-13.553612,-31.425674,-12.013534,-32.46904,-27.1485,93.60952,93.60952,76.51137,100.57187,85.30783,86.15316,112.26497,112.63521,103.7315,75.73959,30.785748,15.154531,15.154531,-3.8212059,-6.1735,4.6467085,38.11534,29.787876,14.6237,30.785748,42.151485,30.454351,60.197678,50.779125,22.204203,25.989243,42.384552,62.431404,39.108852,54.53029,77.78506,88.93387,109.793015,88.60975,107.707436,69.90953,102.00537,97.31467,74.75857,84.75662,5.7801027,13.753569,-11.401744,12.314701,-22.318789,-8.369298,-20.113338,-3.2644615,-3.2644615,2.6393511,141.12271,141.12271,159.03723,162.7428,159.79608,128.6231,143.0682,145.05278,125.37327,122.53685,124.74033,124.74033,110.31092,110.4387,125.567116,143.48276,139.66383,124.15417,104.245224,148.81264,105.38476,105.09942,90.6475,90.08066,122.16066,84.39187,105.38476,133.59358,105.09942,105.09942,167.51022,142.7826,183.9094,183.22812,153.6942,181.16487,163.34206,170.42836,147.62268,192.02731,152.90642,145.11491,145.11491,165.79971,160.31766,143.53209,128.74583,171.56581,132.56238,124.287605,82.432205,82.432205,62.810486,84.1037,64.519066,104.295746,85.380646,69.32658,101.04427,82.432205,87.853294,87.853294,76.55094,108.3693,96.70636,109.54259,80.90865,67.62126,98.31438,69.02372,39.511616,39.511616,54.49631,33.252506,22.708485,42.49515,17.8092,28.171227,60.323883,50.873566,-101.88373,-78.59849,-78.59849,-57.62568,-62.222042,-96.15196,-80.05368,-92.97909,-64.60573,-76.04996,-171.40312,-171.40312,-171.40312,-171.40312,-171.40312,-171.40312,-171.40312,-171.40312,-171.40312,-171.40312,-29.751123,-29.751123,-4.2360115,-34.173046,-35.070362,-17.974112,-29.751123,-3.0181785,-34.173046,-39.192913,-108.01041,-108.01041,-112.2022,-86.84734,-95.00547,-94.94473,-116.79422,-132.83861,-125.22434,-132.83861,-102.98403,-102.98403,-107.47682,-107.47682,-91.65827,-121.172966,-122.708305,-95.60122,-84.598885,-113.44799,-134.94606,-134.94606,-117.00883,-143.92023,-123.464386,-155.67331,-128.22182,-117.9801,-140.59235,-157.54663,-173.1593,-154.13687,-154.13687,-160.43512,-174.76018,-157.52444,-141.64983,-142.0874,-136.28699,-175.13547,0.45108157,0.45108157,12.598871,21.31149,-16.135035,-0.9851931,-19.145311,15.468257,0.45108157,0.45108157,-64.37997,-64.37997,-58.1068,-55.1611,-70.087814,-75.00414,-64.37997,-44.50139,-64.37997,-64.37997,51.686134,51.686134,33.11602,35.61415,45.597446,73.9383,67.876396,54.18281,51.686134,73.9383,-69.00797,-69.00797,-56.70492,-92.0087,-47.591892,-65.65935,-69.00797,-65.65935,-47.591892,-92.0087,39.251717,39.251717,42.592743,22.097036,66.90282,56.25036,39.251717,66.90282,42.592743,66.90282,-16.931065,-16.931065,1.5184748,4.4296255,-37.243587,-10.668915,-35.983635,-21.315979,-16.931065,-16.931065,-42.700035,-42.700035,-59.095688,-20.554745,-17.232456,-34.523186,-34.75955,-62.84752,-42.700035,-18.15124,-26.142931,-38.517178,-9.336644,-13.061503,-48.354233,-36.15975,-9.336644,-13.061503,-48.354233,-26.142931,-82.69525,-101.91627,-76.157135,-63.627834,-95.50771,-101.91627,-76.157135,-62.626595,-95.50771,-82.69525,-36.506264,-37.443405,-53.231197,-57.39585,-30.36139,-44.1732,-18.6735,-37.443405,-53.231197,-57.39585,138.61638,125.26164,157.64189,155.93756,120.97537,167.56822,145.12173,141.9936,138.61638,138.61638,26.421282,35.04394,15.679009,16.921442,42.875446,44.942062,36.978497,14.580183,16.921442,42.875446,83.14003,56.622433,88.03696,83.14003,60.19017,70.01682,99.15259,98.8753,80.08221,80.08221,-131.97694,-113.48187,-158.42538,-113.155304,-131.78818,-131.97694,-131.97694,-113.48187,-158.42538,-131.78818,-81.03444,-81.03444,-99.33447,-72.46262,-93.37902,-102.48459,-61.55134,-73.526024,-61.40368,-90.16418,0.14485854,0.14485854,8.434011,21.900583,4.622572,-18.205597,0.14485854,8.434011,21.900583,4.622572,-74.70833,-92.63477,-71.78277,-85.29551,-94.967766,-62.313446,-54.513775,-74.70833,-92.63477,-74.36439,49.93708,30.484407,30.357813,58.956272,41.68221,67.077324,49.93708,30.484407,30.357813,58.956272,-135.86426,-128.09016,-116.93008,-118.51729,-123.796135,-157.95457,-155.0847,-141.32301,-138.24248,-152.38019,14.513901,14.513901,4.4652286,37.16407,23.98934,18.4121,3.4552414,14.513901,4.4652286,37.16407,-31.425674,-31.425674,-11.762549,-32.46904,-27.1485,-13.553612,-31.425674,-14.511706,-30.111177,-27.1485,93.60952,93.60952,73.01576,100.57187,85.30783,86.15316,112.26497,112.63521,103.7315,74.55819,30.785748,15.154531,15.154531,-3.127016,-6.1735,4.6467085,38.11534,34.43247,11.363763,30.785748,42.151485,30.454351,60.197678,50.779125,23.935928,27.720274,42.384552,62.431404,36.005684,54.53029,73.74227,88.93387,109.793015,88.60975,107.707436,69.121475,102.00537,97.31467,74.75857,84.06777,6.283448,15.15513,-11.401744,15.466984,-22.318789,-8.369298,-20.113338,-3.2644615,-3.2644615,2.6393511,141.12271,141.12271,159.03723,162.7428,159.79608,128.6231,139.83835,145.05278,126.751144,122.487076,124.74033,124.74033,110.31092,110.4387,123.42405,143.48276,139.66383,124.15417,101.26336,148.81264,105.38476,105.09942,92.71608,89.196625,122.16066,84.39187,105.38476,133.59358,105.09942,105.09942,167.51022,145.94211,183.9094,183.22812,156.00732,177.97937,166.36043,170.42836,147.62268,192.02731,152.90642,145.11491,145.11491,165.79971,160.31766,143.53209,131.88414,171.56581,132.56238,123.65496,82.432205,82.432205,62.810486,84.1037,63.852345,104.295746,85.380646,69.32658,101.04427,82.432205,87.853294,87.853294,80.04871,108.3693,96.70636,109.54259,80.90865,67.62126,98.31438,68.545654,39.511616,39.511616,54.49631,35.841724,22.708485,42.49515,17.8092,28.171227,60.323883,50.95542,-101.88373,-78.59849,-78.59849,-57.62568,-62.222042,-96.15196,-80.05368,-92.97909,-61.50035,-74.08752,-171.40312,-171.40312,-171.40312,-171.40312,-171.40312,-171.40312,-171.40312,-171.40312,-171.40312,-171.40312,-29.751123,-29.751123,-3.0181785,-34.173046,-39.192913,-17.974112,-29.751123,-7.886684,-34.173046,-39.192913,-108.01041,-108.01041,-112.2022,-87.64939,-97.85911,-94.94473,-116.79422,-132.83861,-125.22434,-132.83861,-102.98403,-102.98403,-107.47682,-107.47682,-91.65827,-121.172966,-122.708305,-93.01463,-84.598885,-113.44799,-134.94606,-134.94606,-117.00883,-143.92023,-126.46413,-155.67331,-128.22182,-116.73328,-140.59235,-157.54663,-173.1593,-154.13687,-154.13687,-160.43512,-174.76018,-157.52444,-141.64983,-145.41594,-136.64331,-175.13547,0.45108157,0.45108157,14.970182,21.31149,-16.135035,-0.9851931,-19.145311,15.468257,0.45108157,0.45108157,-64.37997,-64.37997,-58.1068,-55.1611,-70.087814,-75.00414,-64.37997,-44.50139,-64.37997,-64.37997,51.686134,51.686134,32.4173,38.16393,42.89602,73.9383,67.876396,54.18281,51.686134,73.9383,-69.00797,-69.00797,-56.70492,-92.0087,-47.591892,-65.65935,-69.00797,-61.351833,-47.591892,-92.0087,39.251717,39.251717,40.62735,20.49124,66.90282,56.25036,39.251717,66.90282,44.753696,66.90282,-16.931065,-16.931065,0.2123535,4.4296255,-37.243587,-10.668915,-35.983635,-21.315979,-16.931065,-16.931065,-42.700035,-42.700035,-59.095688,-14.19511,-21.51031,-34.523186,-34.75955,-62.84752,-42.700035,-16.894405,-26.142931,-42.433125,-6.755924,-13.061503,-48.354233,-42.048473,-6.755924,-13.061503,-48.354233,-26.142931,-82.69525,-101.91627,-76.157135,-58.99711,-95.50771,-101.91627,-79.95321,-59.850784,-95.50771,-82.69525,-36.506264,-37.443405,-53.231197,-57.39585,-27.5593,-44.1732,-18.6735,-37.443405,-53.231197,-57.39585,138.61638,123.31263,157.64189,155.93756,116.818756,167.56822,145.12173,141.9936,138.61638,138.61638,26.421282,36.978497,11.465948,16.921442,42.875446,44.942062,41.905647,15.679009,16.921442,42.875446,83.14003,55.99635,88.03696,83.14003,59.877785,70.56396,99.15259,98.8753,80.08221,80.08221,-131.97694,-116.39733,-158.42538,-111.763336,-131.78818,-131.97694,-131.97694,-113.48187,-158.42538,-131.78818,-81.03444,-81.03444,-99.33447,-75.04551,-93.37902,-102.48459,-61.55134,-73.526024,-60.921894,-90.16418,0.14485854,0.14485854,8.434011,21.900583,4.622572,-17.241879,0.14485854,12.627794,21.900583,4.622572,-74.70833,-95.09839,-75.234085,-85.29551,-94.967766,-62.313446,-54.513775,-74.70833,-92.63477,-71.78129,49.93708,30.484407,32.3689,58.956272,41.68221,67.077324,49.93708,30.47059,30.357813,58.956272,-135.86426,-125.101974,-115.625626,-118.51729,-123.796135,-157.95457,-155.0847,-141.32301,-138.24248,-152.38019,14.513901,14.513901,4.4652286,37.16407,23.98934,18.4121,3.4552414,14.513901,4.4652286,37.16407,-31.425674,-31.425674,-14.900085,-32.46904,-27.1485,-13.553612,-31.425674,-12.013534,-32.46904,-27.1485,93.60952,93.60952,75.656906,100.57187,85.30783,86.15316,112.26497,112.63521,103.7315,77.78309,30.785748,15.154531,15.154531,-3.8212059,-6.1735,4.6467085,38.11534,31.914173,11.363763,30.785748,42.151485,28.909006,60.197678,50.779125,20.923588,24.622675,42.384552,62.431404,39.108852,54.53029,76.32611,88.93387,109.793015,88.60975,107.707436,69.90953,102.00537,97.31467,74.75857,82.22928,3.7723212,15.15513,-11.401744,15.042871,-22.318789,-8.369298,-20.113338,-3.2644615,-3.2644615,2.6393511,141.12271,141.12271,159.03723,162.7428,159.79608,128.6231,139.83835,145.05278,126.751144,117.8853,124.74033,124.74033,110.31092,110.4387,123.08778,143.48276,139.66383,124.15417,101.688,148.81264,105.38476,105.09942,90.6475,89.196625,124.707954,84.39187,105.38476,133.59358,105.09942,105.09942,167.51022,142.7826,183.9094,183.22812,156.34093,181.16487,163.34206,170.42836,150.28822,192.02731,152.90642,145.11491,145.11491,165.79971,160.31766,143.53209,128.74583,171.56581,132.56238,127.578896,82.432205,82.432205,62.810486,86.17524,61.682533,104.295746,85.380646,69.32658,101.04427,82.432205,87.853294,87.853294,78.87005,108.3693,96.70636,109.54259,80.90865,67.62126,98.31438,66.30802,39.511616,39.511616,54.49631,34.371136,22.708485,42.49515,17.8092,28.171227,60.323883,53.286182,-101.88373,-78.59849,-78.59849,-57.62568,-62.222042,-96.15196,-80.05368,-92.97909,-64.60573,-78.566185,-171.40312,-171.40312,-171.40312,-171.40312,-171.40312,-171.40312,-171.40312,-171.40312,-171.40312,-171.40312,-29.751123,-29.751123,-4.2360115,-34.173046,-39.192913,-17.974112,-29.751123,-4.2360115,-34.173046,-39.192913,-108.01041,-108.01041,-112.2022,-85.484856,-97.04655,-97.46788,-116.79422,-132.83861,-125.22434,-132.83861,-102.98403,-102.98403,-107.47682,-107.47682,-91.65827,-121.172966,-122.708305,-94.936165,-84.02306,-113.44799,-134.94606,-134.94606,-117.00883,-143.92023,-126.00437,-155.67331,-128.22182,-113.95169,-140.59235,-157.54663,-173.1593,-154.13687,-154.13687,-160.43512,-174.76018,-157.52444,-141.64983,-145.41594,-133.39366,-175.13547,0.45108157,0.45108157,12.447535,21.31149,-16.135035,-0.9851931,-19.145311,15.468257,0.45108157,0.45108157,-64.37997,-64.37997,-58.1068,-55.1611,-70.087814,-75.00414,-64.37997,-44.50139,-64.37997,-64.37997,51.686134,51.686134,32.4173,37.22139,42.675083,73.9383,67.876396,54.18281,51.686134,73.9383,-69.00797,-69.00797,-56.70492,-92.0087,-46.444622,-65.65935,-69.00797,-61.351833,-46.444622,-92.0087,39.251717,39.251717,44.753696,20.49124,66.90282,56.25036,39.251717,66.90282,44.753696,66.90282,-16.931065,-16.931065,-1.6623601,3.7440114,-37.243587,-10.668915,-35.983635,-21.315979,-16.931065,-16.931065,-42.700035,-42.700035,-59.095688,-14.82849,-14.19511,-34.523186,-34.75955,-62.84752,-42.700035,-18.15124,-26.142931,-42.433125,-9.336644,-13.061503,-48.354233,-42.048473,-9.336644,-13.061503,-48.354233,-26.142931,-82.69525,-101.91627,-79.95321,-63.627834,-95.50771,-101.91627,-76.157135,-59.850784,-95.50771,-82.69525,-36.506264,-37.443405,-53.231197,-57.39585,-30.227907,-44.1732,-15.63317,-37.443405,-53.231197,-57.39585,138.61638,125.26164,157.64189,155.93756,116.16214,167.56822,145.12173,141.9936,138.61638,138.61638,26.421282,39.12635,12.103553,16.921442,42.875446,44.942062,41.905647,11.465948,16.921442,42.875446,83.14003,60.19017,88.03696,83.14003,55.99635,73.23559,99.15259,98.8753,80.08221,80.08221,-131.97694,-116.39733,-158.42538,-115.12574,-131.78818,-131.97694,-131.97694,-116.39733,-158.42538,-131.78818,-81.03444,-81.03444,-99.33447,-75.04551,-92.59811,-102.48459,-61.55134,-73.526024,-60.921894,-90.16418,0.14485854,0.14485854,8.434011,21.900583,4.622572,-18.205597,0.14485854,8.434011,21.900583,4.622572,-74.70833,-95.09839,-75.64374,-85.29551,-94.967766,-62.313446,-54.513775,-74.70833,-92.63477,-77.6892,49.93708,26.661926,32.3689,58.956272,41.68221,67.077324,49.93708,30.47059,33.835243,58.956272,-135.86426,-127.75055,-114.36382,-118.51729,-123.796135,-157.95457,-155.0847,-141.32301,-138.24248,-152.38019,14.513901,14.513901,4.4652286,37.16407,20.964563,18.4121,3.4552414,14.513901,6.631116,35.98594,-31.425674,-31.425674,-14.511706,-32.46904,-27.1485,-13.553612,-31.425674,-12.013534,-30.111177,-27.1485,93.60952,93.60952,75.31295,100.57187,85.30783,86.15316,112.26497,112.63521,103.7315,74.87672,30.785748,15.154531,15.154531,-3.8212059,-6.1735,4.6467085,38.11534,32.544624,11.363763,30.785748,42.151485,30.454351,60.197678,50.779125,19.858814,28.876179,42.384552,62.431404,39.108852,54.53029,75.04551,88.93387,109.793015,88.60975,107.707436,69.90953,102.00537,97.31467,74.75857,81.192535,5.7801027,15.15513,-11.401744,13.2672615,-22.318789,-8.369298,-20.113338,-3.2644615,-3.2644615,2.6393511,141.12271,141.12271,155.8199,162.7428,159.79608,128.6231,139.83835,145.05278,125.37327,120.43772,124.74033,124.74033,108.34496,110.4387,123.42405,143.48276,139.66383,124.15417,101.26336,148.81264,105.38476,105.09942,90.6475,86.947624,119.8438,84.39187,105.38476,133.59358,105.09942,105.09942,167.51022,142.7826,183.9094,183.22812,151.36748,181.16487,163.34206,173.28023,150.28822,192.02731,152.90642,145.11491,145.11491,165.79971,160.31766,143.53209,129.67827,171.56581,132.56238,126.27306,82.432205,82.432205,62.810486,87.29603,61.863956,104.295746,85.380646,69.32658,101.04427,82.432205,87.853294,87.853294,79.241806,108.3693,96.70636,109.54259,80.90865,67.62126,98.31438,66.74048,39.511616,39.511616,54.49631,37.18831,22.708485,42.49515,17.8092,28.171227,60.323883,53.80808,-101.88373,-78.59849,-78.59849,-57.62568,-62.222042,-96.15196,-80.05368,-92.97909,-65.148,-76.614426,-171.40312,-171.40312,-171.40312,-171.40312,-171.40312,-171.40312,-171.40312,-171.40312,-171.40312,-171.40312,-29.751123,-29.751123,-6.549203,-34.173046,-39.192913,-17.974112,-29.751123,-7.3128424,-34.173046,-39.192913,-108.01041,-108.01041,-112.2022,-86.84734,-95.00547,-94.94473,-116.79422,-132.83861,-125.22434,-132.83861,-102.98403,-102.98403,-107.47682,-107.47682,-91.65827,-121.172966,-122.708305,-94.648735,-81.85322,-113.44799,-134.94606,-134.94606,-117.00883,-143.92023,-126.46413,-155.67331,-128.22182,-114.676186,-140.59235,-157.54663,-173.1593,-154.13687,-154.13687,-160.43512,-174.76018,-157.52444,-141.64983,-143.19298,-133.39366,-175.13547,0.45108157,0.45108157,14.233457,20.52527,-16.135035,-0.9851931,-19.145311,15.468257,0.45108157,0.45108157,-64.37997,-64.37997,-58.1068,-55.1611,-70.087814,-75.00414,-64.37997,-44.50139,-64.37997,-64.37997,51.686134,51.686134,32.4173,38.16393,42.675083,73.9383,67.876396,54.18281,51.686134,73.9383,-69.00797,-69.00797,-58.587357,-92.0087,-46.444622,-61.351833,-69.00797,-61.351833,-46.444622,-92.0087,39.251717,39.251717,44.753696,20.49124,66.90282,56.25036,39.251717,66.90282,44.753696,66.90282,-16.931065,-16.931065,0.2123535,1.340168,-37.243587,-10.668915,-35.983635,-21.315979,-16.931065,-16.931065,-42.700035,-42.700035,-59.095688,-20.99189,-21.51031,-34.523186,-34.75955,-62.84752,-42.700035,-18.15124,-26.142931,-82.69525,-36.506264,138.61638,26.421282,80.08221,-131.97694,-81.03444,0.14485854,-74.70833,49.93708,-135.86426,14.513901,-31.425674,93.60952,15.154531,42.151485,88.60975,-3.2644615,141.12271,124.74033,105.09942,167.51022,145.11491,82.432205,87.853294,39.511616,-78.59849,-171.40312,-29.751123,-108.01041,-102.98403,-134.94606,-154.13687,0.45108157,-64.37997,51.686134,-69.00797,39.251717,-16.931065,-42.700035,-26.142931,-82.69525,-36.506264,138.61638,26.421282,80.08221,-131.97694,-81.03444,0.14485854,-74.70833,49.93708,-135.86426,14.513901,-31.425674,93.60952,15.154531,42.151485,88.60975,-3.2644615,141.12271,124.74033,105.09942,167.51022,145.11491,82.432205,87.853294,39.511616,-78.59849,-171.40312,-29.751123,-108.01041,-102.98403,-134.94606,-154.13687,0.45108157,-64.37997,51.686134,-69.00797,39.251717,-16.931065,-42.700035,-26.142931,-82.69525,-36.506264,138.61638,26.421282,80.08221,-131.97694,-81.03444,0.14485854,-74.70833,49.93708,-135.86426,14.513901,-31.425674,93.60952,15.154531,42.151485,88.60975,-3.2644615,141.12271,124.74033,105.09942,167.51022,145.11491,82.432205,87.853294,39.511616,-78.59849,-171.40312,-29.751123,-108.01041,-102.98403,-134.94606,-154.13687,0.45108157,-64.37997,51.686134,-69.00797,39.251717,-16.931065,-42.700035,-26.142931,-82.69525,-36.506264,138.61638,26.421282,80.08221,-131.97694,-81.03444,0.14485854,-74.70833,49.93708,-135.86426,14.513901,-31.425674,93.60952,15.154531,42.151485,88.60975,-3.2644615,141.12271,124.74033,105.09942,167.51022,145.11491,82.432205,87.853294,39.511616,-78.59849,-171.40312,-29.751123,-108.01041,-102.98403,-134.94606,-154.13687,0.45108157,-64.37997,51.686134,-69.00797,39.251717,-16.931065,-42.700035,-26.142931,-82.69525,-36.506264,138.61638,26.421282,80.08221,-131.97694,-81.03444,0.14485854,-74.70833,49.93708,-135.86426,14.513901,-31.425674,93.60952,15.154531,42.151485,88.60975,-3.2644615,141.12271,124.74033,105.09942,167.51022,145.11491,82.432205,87.853294,39.511616,-78.59849,-171.40312,-29.751123,-108.01041,-102.98403,-134.94606,-154.13687,0.45108157,-64.37997,51.686134,-69.00797,39.251717,-16.931065,-42.700035,-26.142931,-82.69525,-36.506264,138.61638,26.421282,80.08221,-131.97694,-81.03444,0.14485854,-74.70833,49.93708,-135.86426,14.513901,-31.425674,93.60952,15.154531,42.151485,88.60975,-3.2644615,141.12271,124.74033,105.09942,167.51022,145.11491,82.432205,87.853294,39.511616,-78.59849,-171.40312,-29.751123,-108.01041,-102.98403,-134.94606,-154.13687,0.45108157,-64.37997,51.686134,-69.00797,39.251717,-16.931065,-42.700035,-26.142931,-82.69525,-36.506264,138.61638,26.421282,80.08221,-131.97694,-81.03444,0.14485854,-74.70833,49.93708,-135.86426,14.513901,-31.425674,93.60952,15.154531,42.151485,88.60975,-3.2644615,141.12271,124.74033,105.09942,167.51022,145.11491,82.432205,87.853294,39.511616,-78.59849,-171.40312,-29.751123,-108.01041,-102.98403,-134.94606,-154.13687,0.45108157,-64.37997,51.686134,-69.00797,39.251717,-16.931065,-42.700035,-26.142931,-82.69525,-36.506264,138.61638,26.421282,80.08221,-131.97694,-81.03444,0.14485854,-74.70833,49.93708,-135.86426,14.513901,-31.425674,93.60952,15.154531,42.151485,88.60975,-3.2644615,141.12271,124.74033,105.09942,167.51022,145.11491,82.432205,87.853294,39.511616,-78.59849,-171.40312,-29.751123,-108.01041,-102.98403,-134.94606,-154.13687,0.45108157,-64.37997,51.686134,-69.00797,39.251717,-16.931065,-42.700035,-26.142931,-82.69525,-36.506264,138.61638,26.421282,80.08221,-131.97694,-81.03444,0.14485854,-74.70833,49.93708,-135.86426,14.513901,-31.425674,93.60952,15.154531,42.151485,88.60975,-3.2644615,141.12271,124.74033,105.09942,167.51022,145.11491,82.432205,87.853294,39.511616,-78.59849,-171.40312,-29.751123,-108.01041,-102.98403,-134.94606,-154.13687,0.45108157,-64.37997,51.686134,-69.00797,39.251717,-16.931065,-42.700035,-26.142931,-82.69525,-36.506264,138.61638,26.421282,80.08221,-131.97694,-81.03444,0.14485854,-74.70833,49.93708,-135.86426,14.513901,-31.425674,93.60952,15.154531,42.151485,88.60975,-3.2644615,141.12271,124.74033,105.09942,167.51022,145.11491,82.432205,87.853294,39.511616,-78.59849,-171.40312,-29.751123,-108.01041,-102.98403,-134.94606,-154.13687,0.45108157,-64.37997,51.686134,-69.00797,39.251717,-16.931065,-42.700035,-26.142931,-82.69525,-36.506264,138.61638,26.421282,80.08221,-131.97694,-81.03444,0.14485854,-74.70833,49.93708,-135.86426,14.513901,-31.425674,93.60952,15.154531,42.151485,88.60975,-3.2644615,141.12271,124.74033,105.09942,167.51022,145.11491,82.432205,87.853294,39.511616,-78.59849,-171.40312,-29.751123,-108.01041,-102.98403,-134.94606,-154.13687,0.45108157,-64.37997,51.686134,-69.00797,39.251717,-16.931065,-42.700035,-26.142931,-82.69525,-36.506264,138.61638,26.421282,80.08221,-131.97694,-81.03444,0.14485854,-74.70833,49.93708,-135.86426,14.513901,-31.425674,93.60952,15.154531,42.151485,88.60975,-3.2644615,141.12271,124.74033,105.09942,167.51022,145.11491,82.432205,87.853294,39.511616,-78.59849,-171.40312,-29.751123,-108.01041,-102.98403,-134.94606,-154.13687,0.45108157,-64.37997,51.686134,-69.00797,39.251717,-16.931065,-42.700035,-26.142931,-82.69525,-36.506264,138.61638,26.421282,80.08221,-131.97694,-81.03444,0.14485854,-74.70833,49.93708,-135.86426,14.513901,-31.425674,93.60952,15.154531,42.151485,88.60975,-3.2644615,141.12271,124.74033,105.09942,167.51022,145.11491,82.432205,87.853294,39.511616,-78.59849,-171.40312,-29.751123,-108.01041,-102.98403,-134.94606,-154.13687,0.45108157,-64.37997,51.686134,-69.00797,39.251717,-16.931065,-42.700035,-26.142931,-82.69525,-36.506264,138.61638,26.421282,80.08221,-131.97694,-81.03444,0.14485854,-74.70833,49.93708,-135.86426,14.513901,-31.425674,93.60952,15.154531,42.151485,88.60975,-3.2644615,141.12271,124.74033,105.09942,167.51022,145.11491,82.432205,87.853294,39.511616,-78.59849,-171.40312,-29.751123,-108.01041,-102.98403,-134.94606,-154.13687,0.45108157,-64.37997,51.686134,-69.00797,39.251717,-16.931065,-42.700035,-26.142931,-82.69525,-36.506264,138.61638,26.421282,80.08221,-131.97694,-81.03444,0.14485854,-74.70833,49.93708,-135.86426,14.513901,-31.425674,93.60952,15.154531,42.151485,88.60975,-3.2644615,141.12271,124.74033,105.09942,167.51022,145.11491,82.432205,87.853294,39.511616,-78.59849,-171.40312,-29.751123,-108.01041,-102.98403,-134.94606,-154.13687,0.45108157,-64.37997,51.686134,-69.00797,39.251717,-16.931065,-42.700035,-26.142931,-82.69525,-36.506264,138.61638,26.421282,80.08221,-131.97694,-81.03444,0.14485854,-74.70833,49.93708,-135.86426,14.513901,-31.425674,93.60952,15.154531,42.151485,88.60975,-3.2644615,141.12271,124.74033,105.09942,167.51022,145.11491,82.432205,87.853294,39.511616,-78.59849,-171.40312,-29.751123,-108.01041,-102.98403,-134.94606,-154.13687,0.45108157,-64.37997,51.686134,-69.00797,39.251717,-16.931065,-42.700035,-26.142931,-82.69525,-36.506264,138.61638,26.421282,80.08221,-131.97694,-81.03444,0.14485854,-74.70833,49.93708,-135.86426,14.513901,-31.425674,93.60952,15.154531,42.151485,88.60975,-3.2644615,141.12271,124.74033,105.09942,167.51022,145.11491,82.432205,87.853294,39.511616,-78.59849,-171.40312,-29.751123,-108.01041,-102.98403,-134.94606,-154.13687,0.45108157,-64.37997,51.686134,-69.00797,39.251717,-16.931065,-42.700035,-26.142931,-82.69525,-36.506264,138.61638,26.421282,80.08221,-131.97694,-81.03444,0.14485854,-74.70833,49.93708,-135.86426,14.513901,-31.425674,93.60952,15.154531,42.151485,88.60975,-3.2644615,141.12271,124.74033,105.09942,167.51022,145.11491,82.432205,87.853294,39.511616,-78.59849,-171.40312,-29.751123,-108.01041,-102.98403,-134.94606,-154.13687,0.45108157,-64.37997,51.686134,-69.00797,39.251717,-16.931065,-42.700035,-26.142931,-82.69525,-36.506264,138.61638,26.421282,80.08221,-131.97694,-81.03444,0.14485854,-74.70833,49.93708,-135.86426,14.513901,-31.425674,93.60952,15.154531,42.151485,88.60975,-3.2644615,141.12271,124.74033,105.09942,167.51022,145.11491,82.432205,87.853294,39.511616,-78.59849,-171.40312,-29.751123,-108.01041,-102.98403,-134.94606,-154.13687,0.45108157,-64.37997,51.686134,-69.00797,39.251717,-16.931065,-42.700035,-26.142931,-82.69525,-36.506264,138.61638,26.421282,80.08221,-131.97694,-81.03444,0.14485854,-74.70833,49.93708,-135.86426,14.513901,-31.425674,93.60952,15.154531,42.151485,88.60975,-3.2644615,141.12271,124.74033,105.09942,167.51022,145.11491,82.432205,87.853294,39.511616,-78.59849,-171.40312,-29.751123,-108.01041,-102.98403,-134.94606,-154.13687,0.45108157,-64.37997,51.686134,-69.00797,39.251717,-16.931065,-42.700035,-26.142931,-82.69525,-36.506264,138.61638,26.421282,80.08221,-131.97694,-81.03444,0.14485854,-74.70833,49.93708,-135.86426,14.513901,-31.425674,93.60952,15.154531,42.151485,88.60975,-3.2644615,141.12271,124.74033,105.09942,167.51022,145.11491,82.432205,87.853294,39.511616,-78.59849,-171.40312,-29.751123,-108.01041,-102.98403,-134.94606,-154.13687,0.45108157,-64.37997,51.686134,-69.00797,39.251717,-16.931065,-42.700035,-26.142931,-82.69525,-36.506264,138.61638,26.421282,80.08221,-131.97694,-81.03444,0.14485854,-74.70833,49.93708,-135.86426,14.513901,-31.425674,93.60952,15.154531,42.151485,88.60975,-3.2644615,141.12271,124.74033,105.09942,167.51022,145.11491,82.432205,87.853294,39.511616,-78.59849,-171.40312,-29.751123,-108.01041,-102.98403,-134.94606,-154.13687,0.45108157,-64.37997,51.686134,-69.00797,39.251717,-16.931065,-42.700035,-26.142931,-82.69525,-36.506264,138.61638,26.421282,80.08221,-131.97694,-81.03444,0.14485854,-74.70833,49.93708,-135.86426,14.513901,-31.425674,93.60952,15.154531,42.151485,88.60975,-3.2644615,141.12271,124.74033,105.09942,167.51022,145.11491,82.432205,87.853294,39.511616,-78.59849,-171.40312,-29.751123,-108.01041,-102.98403,-134.94606,-154.13687,0.45108157,-64.37997,51.686134,-69.00797,39.251717,-16.931065,-42.700035,-26.142931,-82.69525,-36.506264,138.61638,26.421282,80.08221,-131.97694,-81.03444,0.14485854,-74.70833,49.93708,-135.86426,14.513901,-31.425674,93.60952,15.154531,42.151485,88.60975,-3.2644615,141.12271,124.74033,105.09942,167.51022,145.11491,82.432205,87.853294,39.511616,-78.59849,-171.40312,-29.751123,-108.01041,-102.98403,-134.94606,-154.13687,0.45108157,-64.37997,51.686134,-69.00797,39.251717,-16.931065,-42.700035,-26.142931,-82.69525,-36.506264,138.61638,26.421282,80.08221,-131.97694,-81.03444,0.14485854,-74.70833,49.93708,-135.86426,14.513901,-31.425674,93.60952,15.154531,42.151485,88.60975,-3.2644615,141.12271,124.74033,105.09942,167.51022,145.11491,82.432205,87.853294,39.511616,-78.59849,-171.40312,-29.751123,-108.01041,-102.98403,-134.94606,-154.13687,0.45108157,-64.37997,51.686134,-69.00797,39.251717,-16.931065,-42.700035,-26.142931,-82.69525,-36.506264,138.61638,26.421282,80.08221,-131.97694,-81.03444,0.14485854,-74.70833,49.93708,-135.86426,14.513901,-31.425674,93.60952,15.154531,42.151485,88.60975,-3.2644615,141.12271,124.74033,105.09942,167.51022,145.11491,82.432205,87.853294,39.511616,-78.59849,-171.40312,-29.751123,-108.01041,-102.98403,-134.94606,-154.13687,0.45108157,-64.37997,51.686134,-69.00797,39.251717,-16.931065,-42.700035,-26.142931,-82.69525,-36.506264,138.61638,26.421282,80.08221,-131.97694,-81.03444,0.14485854,-74.70833,49.93708,-135.86426,14.513901,-31.425674,93.60952,15.154531,42.151485,88.60975,-3.2644615,141.12271,124.74033,105.09942,167.51022,145.11491,82.432205,87.853294,39.511616,-78.59849,-171.40312,-29.751123,-108.01041,-102.98403,-134.94606,-154.13687,0.45108157,-64.37997,51.686134,-69.00797,39.251717,-16.931065,-42.700035,-26.142931,-82.69525,-36.506264,138.61638,26.421282,80.08221,-131.97694,-81.03444,0.14485854,-74.70833,49.93708,-135.86426,14.513901,-31.425674,93.60952,15.154531,42.151485,88.60975,-3.2644615,141.12271,124.74033,105.09942,167.51022,145.11491,82.432205,87.853294,39.511616,-78.59849,-171.40312,-29.751123,-108.01041,-102.98403,-134.94606,-154.13687,0.45108157,-64.37997,51.686134,-69.00797,39.251717,-16.931065,-42.700035,-26.142931,-82.69525,-36.506264,138.61638,26.421282,80.08221,-131.97694,-81.03444,0.14485854,-74.70833,49.93708,-135.86426,14.513901,-31.425674,93.60952,15.154531,42.151485,88.60975,-3.2644615,141.12271,124.74033,105.09942,167.51022,145.11491,82.432205,87.853294,39.511616,-78.59849,-171.40312,-29.751123,-108.01041,-102.98403,-134.94606,-154.13687,0.45108157,-64.37997,51.686134,-69.00797,39.251717,-16.931065,-42.700035,-26.142931,-82.69525,-36.506264,138.61638,26.421282,80.08221,-131.97694,-81.03444,0.14485854,-74.70833,49.93708,-135.86426,14.513901,-31.425674,93.60952,15.154531,42.151485,88.60975,-3.2644615,141.12271,124.74033,105.09942,167.51022,145.11491,82.432205,87.853294,39.511616,-78.59849,-171.40312,-29.751123,-108.01041,-102.98403,-134.94606,-154.13687,0.45108157,-64.37997,51.686134,-69.00797,39.251717,-16.931065,-42.700035,-26.142931,-82.69525,-36.506264,138.61638,26.421282,80.08221,-131.97694,-81.03444,0.14485854,-74.70833,49.93708,-135.86426,14.513901,-31.425674,93.60952,15.154531,42.151485,88.60975,-3.2644615,141.12271,124.74033,105.09942,167.51022,145.11491,82.432205,87.853294,39.511616,-78.59849,-171.40312,-29.751123,-108.01041,-102.98403,-134.94606,-154.13687,0.45108157,-64.37997,51.686134,-69.00797,39.251717,-16.931065,-42.700035,-26.142931,-82.69525,-36.506264,138.61638,26.421282,80.08221,-131.97694,-81.03444,0.14485854,-74.70833,49.93708,-135.86426,14.513901,-31.425674,93.60952,15.154531,42.151485,88.60975,-3.2644615,141.12271,124.74033,105.09942,167.51022,145.11491,82.432205,87.853294,39.511616,-78.59849,-171.40312,-29.751123,-108.01041,-102.98403,-134.94606,-154.13687,0.45108157,-64.37997,51.686134,-69.00797,39.251717,-16.931065,-42.700035,-26.142931,-82.69525,-36.506264,138.61638,26.421282,80.08221,-131.97694,-81.03444,0.14485854,-74.70833,49.93708,-135.86426,14.513901,-31.425674,93.60952,15.154531,42.151485,88.60975,-3.2644615,141.12271,124.74033,105.09942,167.51022,145.11491,82.432205,87.853294,39.511616,-78.59849,-171.40312,-29.751123,-108.01041,-102.98403,-134.94606,-154.13687,0.45108157,-64.37997,51.686134,-69.00797,39.251717,-16.931065,-42.700035,-26.142931,-82.69525,-36.506264,138.61638,26.421282,80.08221,-131.97694,-81.03444,0.14485854,-74.70833,49.93708,-135.86426,14.513901,-31.425674,93.60952,15.154531,42.151485,88.60975,-3.2644615,141.12271,124.74033,105.09942,167.51022,145.11491,82.432205,87.853294,39.511616,-78.59849,-171.40312,-29.751123,-108.01041,-102.98403,-134.94606,-154.13687,0.45108157,-64.37997,51.686134,-69.00797,39.251717,-16.931065,-42.700035,-26.142931,-82.69525,-36.506264,138.61638,26.421282,80.08221,-131.97694,-81.03444,0.14485854,-74.70833,49.93708,-135.86426,14.513901,-31.425674,93.60952,15.154531,42.151485,88.60975,-3.2644615,141.12271,124.74033,105.09942,167.51022,145.11491,82.432205,87.853294,39.511616,-78.59849,-171.40312,-29.751123,-108.01041,-102.98403,-134.94606,-154.13687,0.45108157,-64.37997,51.686134,-69.00797,39.251717,-16.931065,-42.700035,-26.142931,-82.69525,-36.506264,138.61638,26.421282,80.08221,-131.97694,-81.03444,0.14485854,-74.70833,49.93708,-135.86426,14.513901,-31.425674,93.60952,15.154531,42.151485,88.60975,-3.2644615,141.12271,124.74033,105.09942,167.51022,145.11491,82.432205,87.853294,39.511616,-78.59849,-171.40312,-29.751123,-108.01041,-102.98403,-134.94606,-154.13687,0.45108157,-64.37997,51.686134,-69.00797,39.251717,-16.931065,-42.700035,-26.142931,-82.69525,-36.506264,138.61638,26.421282,80.08221,-131.97694,-81.03444,0.14485854,-74.70833,49.93708,-135.86426,14.513901,-31.425674,93.60952,15.154531,42.151485,88.60975,-3.2644615,141.12271,124.74033,105.09942,167.51022,145.11491,82.432205,87.853294,39.511616,-78.59849,-171.40312,-29.751123,-108.01041,-102.98403,-134.94606,-154.13687,0.45108157,-64.37997,51.686134,-69.00797,39.251717,-16.931065,-42.700035,-26.142931,-82.69525,-36.506264,138.61638,26.421282,80.08221,-131.97694,-81.03444,0.14485854,-74.70833,49.93708,-135.86426,14.513901,-31.425674,93.60952,15.154531,42.151485,88.60975,-3.2644615,141.12271,124.74033,105.09942,167.51022,145.11491,82.432205,87.853294,39.511616,-78.59849,-171.40312,-29.751123,-108.01041,-102.98403,-134.94606,-154.13687,0.45108157,-64.37997,51.686134,-69.00797,39.251717,-16.931065,-42.700035,-26.142931,-82.69525,-36.506264,138.61638,26.421282,80.08221,-131.97694,-81.03444,0.14485854,-74.70833,49.93708,-135.86426,14.513901,-31.425674,93.60952,15.154531,42.151485,88.60975,-3.2644615,141.12271,124.74033,105.09942,167.51022,145.11491,82.432205,87.853294,39.511616,-78.59849,-171.40312,-29.751123,-108.01041,-102.98403,-134.94606,-154.13687,0.45108157,-64.37997,51.686134,-69.00797,39.251717,-16.931065,-42.700035,-26.142931,-82.69525,-36.506264,138.61638,26.421282,80.08221,-131.97694,-81.03444,0.14485854,-74.70833,49.93708,-135.86426,14.513901,-31.425674,93.60952,15.154531,42.151485,88.60975,-3.2644615,141.12271,124.74033,105.09942,167.51022,145.11491,82.432205,87.853294,39.511616,-78.59849,-171.40312,-29.751123,-108.01041,-102.98403,-134.94606,-154.13687,0.45108157,-64.37997,51.686134,-69.00797,39.251717,-16.931065,-42.700035,-26.142931,-82.69525,-36.506264,138.61638,26.421282,80.08221,-131.97694,-81.03444,0.14485854,-74.70833,49.93708,-135.86426,14.513901,-31.425674,93.60952,15.154531,42.151485,88.60975,-3.2644615,141.12271,124.74033,105.09942,167.51022,145.11491,82.432205,87.853294,39.511616,-78.59849,-171.40312,-29.751123,-108.01041,-102.98403,-134.94606,-154.13687,0.45108157,-64.37997,51.686134,-69.00797,39.251717,-16.931065,-42.700035,-26.142931,-82.69525,-36.506264,138.61638,26.421282,80.08221,-131.97694,-81.03444,0.14485854,-74.70833,49.93708,-135.86426,14.513901,-31.425674,93.60952,15.154531,42.151485,88.60975,-3.2644615,141.12271,124.74033,105.09942,167.51022,145.11491,82.432205,87.853294,39.511616,-78.59849,-171.40312,-29.751123,-108.01041,-102.98403,-134.94606,-154.13687,0.45108157,-64.37997,51.686134,-69.00797,39.251717,-16.931065,-42.700035,-26.142931,-82.69525,-36.506264,138.61638,26.421282,80.08221,-131.97694,-81.03444,0.14485854,-74.70833,49.93708,-135.86426,14.513901,-31.425674,93.60952,15.154531,42.151485,88.60975,-3.2644615,141.12271,124.74033,105.09942,167.51022,145.11491,82.432205,87.853294,39.511616,-78.59849,-171.40312,-29.751123,-108.01041,-102.98403,-134.94606,-154.13687,0.45108157,-64.37997,51.686134,-69.00797,39.251717,-16.931065,-42.700035,-26.142931,-82.69525,-36.506264,138.61638,26.421282,80.08221,-131.97694,-81.03444,0.14485854,-74.70833,49.93708,-135.86426,14.513901,-31.425674,93.60952,15.154531,42.151485,88.60975,-3.2644615,141.12271,124.74033,105.09942,167.51022,145.11491,82.432205,87.853294,39.511616,-78.59849,-171.40312,-29.751123,-108.01041,-102.98403,-134.94606,-154.13687,0.45108157,-64.37997,51.686134,-69.00797,39.251717,-16.931065,-42.700035,-26.142931,-82.69525,-36.506264,138.61638,26.421282,80.08221,-131.97694,-81.03444,0.14485854,-74.70833,49.93708,-135.86426,14.513901,-31.425674,93.60952,15.154531,42.151485,88.60975,-3.2644615,141.12271,124.74033,105.09942,167.51022,145.11491,82.432205,87.853294,39.511616,-78.59849,-171.40312,-29.751123,-108.01041,-102.98403,-134.94606,-154.13687,0.45108157,-64.37997,51.686134,-69.00797,39.251717,-16.931065,-42.700035,-26.142931,-82.69525,-36.506264,138.61638,26.421282,80.08221,-131.97694,-81.03444,0.14485854,-74.70833,49.93708,-135.86426,14.513901,-31.425674,93.60952,15.154531,42.151485,88.60975,-3.2644615,141.12271,124.74033,105.09942,167.51022,145.11491,82.432205,87.853294,39.511616,-78.59849,-171.40312,-29.751123,-108.01041,-102.98403,-134.94606,-154.13687,0.45108157,-64.37997,51.686134,-69.00797,39.251717,-16.931065,-42.700035,-26.142931,-82.69525,-36.506264,138.61638,26.421282,80.08221,-131.97694,-81.03444,0.14485854,-74.70833,49.93708,-135.86426,14.513901,-31.425674,93.60952,15.154531,42.151485,88.60975,-3.2644615,141.12271,124.74033,105.09942,167.51022,145.11491,82.432205,87.853294,39.511616,-78.59849,-171.40312,-29.751123,-108.01041,-102.98403,-134.94606,-154.13687,0.45108157,-64.37997,51.686134,-69.00797,39.251717,-16.931065,-42.700035,-26.142931,-82.69525,-36.506264,138.61638,26.421282,80.08221,-131.97694,-81.03444,0.14485854,-74.70833,49.93708,-135.86426,14.513901,-31.425674,93.60952,15.154531,42.151485,88.60975,-3.2644615,141.12271,124.74033,105.09942,167.51022,145.11491,82.432205,87.853294,39.511616,-78.59849,-171.40312,-29.751123,-108.01041,-102.98403,-134.94606,-154.13687,0.45108157,-64.37997,51.686134,-69.00797,39.251717,-16.931065,-42.700035,-26.142931,-82.69525,-36.506264,138.61638,26.421282,80.08221,-131.97694,-81.03444,0.14485854,-74.70833,49.93708,-135.86426,14.513901,-31.425674,93.60952,15.154531,42.151485,88.60975,-3.2644615,141.12271,124.74033,105.09942,167.51022,145.11491,82.432205,87.853294,39.511616,-78.59849,-171.40312,-29.751123,-108.01041,-102.98403,-134.94606,-154.13687,0.45108157,-64.37997,51.686134,-69.00797,39.251717,-16.931065,-42.700035,-26.142931,-82.69525,-36.506264,138.61638,26.421282,80.08221,-131.97694,-81.03444,0.14485854,-74.70833,49.93708,-135.86426,14.513901,-31.425674,93.60952,15.154531,42.151485,88.60975,-3.2644615,141.12271,124.74033,105.09942,167.51022,145.11491,82.432205,87.853294,39.511616,-78.59849,-171.40312,-29.751123,-108.01041,-102.98403,-134.94606,-154.13687,0.45108157,-64.37997,51.686134,-69.00797,39.251717,-16.931065,-42.700035,-26.142931,-82.69525,-36.506264,172.63501,26.421282,80.08221,-131.97694,-81.03444,0.14485854,-74.70833,49.93708,-135.86426,14.513901,-31.425674,93.60952,15.154531,42.151485,88.60975,-3.2644615,141.12271,124.74033,105.09942,167.51022,145.11491,82.432205,87.853294,39.511616,-78.59849,-171.40312,-29.751123,-108.01041,-102.98403,-134.94606,-154.13687,0.45108157,-64.37997,51.686134,-69.00797,39.251717,-16.931065,-42.700035,-26.142931,-82.69525,-36.506264,172.63501,26.421282,80.08221,-131.97694,-81.03444,0.14485854,-74.70833,49.93708,-135.86426,14.513901,-31.425674,93.60952,15.154531,42.151485,88.60975,-3.2644615,141.12271,124.74033,105.09942,167.51022,145.11491,82.432205,87.853294,39.511616,-78.59849,-171.40312,-29.751123,-108.01041,-102.98403,-134.94606,-154.13687,0.45108157,-64.37997,51.686134,-69.00797,39.251717,-16.931065,-42.700035,-26.142931,-82.69525,-36.506264,172.63501,26.421282,80.08221,-131.97694,-81.03444,0.14485854,-74.70833,49.93708,-135.86426,14.513901,-31.425674,93.60952,15.154531,42.151485,88.60975,-3.2644615,141.12271,124.74033,105.09942,167.51022,145.11491,82.432205,87.853294,39.511616,-78.59849,-171.40312,-29.751123,-108.01041,-102.98403,-134.94606,-154.13687,0.45108157,-64.37997,51.686134,-69.00797,39.251717,-16.931065,-42.700035,-26.142931,-82.69525,-36.506264,172.63501,26.421282,80.08221,-131.97694,-81.03444,0.14485854,-74.70833,49.93708,-135.86426,14.513901,-31.425674,93.60952,15.154531,42.151485,88.60975,-3.2644615,141.12271,124.74033,105.09942,167.51022,145.11491,82.432205,87.853294,39.511616,-78.59849,-171.40312,-29.751123,-108.01041,-102.98403,-134.94606,-154.13687,0.45108157,-64.37997,51.686134,-69.00797,39.251717,-16.931065,-42.700035,-26.142931,-82.69525,-36.506264,172.63501,26.421282,80.08221,-131.97694,-81.03444,0.14485854,-74.70833,49.93708,-135.86426,14.513901,-31.425674,93.60952,15.154531,42.151485,88.60975,-3.2644615,141.12271,124.74033,105.09942,167.51022,145.11491,82.432205,87.853294,39.511616,-78.59849,-171.40312,-29.751123,-108.01041,-102.98403,-134.94606,-154.13687,0.45108157,-64.37997,51.686134,-69.00797,39.251717,-16.931065,-42.700035,-26.142931,-82.69525,-36.506264,172.63501,26.421282,80.08221,-131.97694,-81.03444,0.14485854,-74.70833,49.93708,-135.86426,14.513901,-31.425674,93.60952,15.154531,42.151485,88.60975,-3.2644615,141.12271,124.74033,105.09942,167.51022,145.11491,82.432205,87.853294,39.511616,-78.59849,-171.40312,-29.751123,-108.01041,-102.98403,-134.94606,-154.13687,0.45108157,-64.37997,51.686134,-69.00797,39.251717,-16.931065,-42.700035,-26.142931,-82.69525,-36.506264,172.63501,26.421282,80.08221,-131.97694,-81.03444,0.14485854,-74.70833,49.93708,-135.86426,14.513901,-31.425674,93.60952,15.154531,42.151485,88.60975,-3.2644615,141.12271,124.74033,105.09942,167.51022,145.11491,82.432205,87.853294,39.511616,-78.59849,-200.02153,-29.751123,-108.01041,-102.98403,-134.94606,-154.13687,10.008699,-75.26349,51.686134,-69.00797,30.415833,-16.931065,-45.670208,-26.142931,-82.69525,-36.506264,172.63501,26.421282,80.08221,-131.97694,-81.03444,0.14485854,-74.70833,49.93708,-135.86426,14.513901,-31.425674,93.60952,15.154531,42.151485,88.60975,-3.2644615,141.12271,124.74033,105.09942,167.51022,145.11491,82.432205,87.853294,39.511616,-78.59849,-200.02153,-29.751123,-108.01041,-102.98403,-134.94606,-154.13687,10.008699,-75.26349,51.686134,-69.00797,30.415833,-16.931065,-45.670208,-26.142931,-82.69525,-36.506264,172.63501,26.421282,80.08221,-131.97694,-81.03444,0.14485854,-74.70833,49.93708,-135.86426,14.513901,-31.425674,93.60952,15.154531,42.151485,88.60975,-3.2644615,141.12271,124.74033,105.09942,167.51022,145.11491,82.432205,87.853294,39.511616,-78.59849,-200.02153,-29.751123,-108.01041,-102.98403,-134.94606,-154.13687,10.008699,-75.26349,51.686134,-69.00797,30.415833,-16.931065,-45.670208,-26.142931,-82.69525,-36.506264,172.63501,26.421282,80.08221,-131.97694,-81.03444,0.14485854,-74.70833,49.93708,-135.86426,14.513901,-31.425674,93.60952,15.154531,42.151485,88.60975,-3.2644615,141.12271,124.74033,105.09942,167.51022,145.11491,82.432205,87.853294,39.511616,-78.59849,-200.02153,-29.751123,-108.01041,-102.98403,-134.94606,-154.13687,10.008699,-75.26349,51.686134,-69.00797,30.415833,-16.931065,-45.670208],\"xaxis\":\"x\",\"y\":[-165.83975,-142.5163,-151.89825,-189.10602,-180.23471,-142.5163,-151.89825,-189.10602,-180.23471,-165.83975,43.006382,32.214085,18.809202,35.76105,62.36319,32.214085,18.809202,34.494324,62.36319,43.006382,60.84993,85.13481,76.280876,59.00301,43.35149,43.88059,59.65778,85.13481,76.280876,59.00301,-55.725033,-40.85832,-48.26061,-70.12746,-63.05596,-58.68007,-36.555904,-76.09516,-55.725033,-55.725033,-157.9625,-136.12236,-138.0415,-181.87975,-180.72081,-161.08057,-139.8162,-138.0415,-181.87975,-180.72081,-92.99005,-64.60927,-52.163574,-92.99005,-64.60927,-50.178886,-61.034153,-76.92973,-69.83168,-69.83168,105.41536,85.37073,95.41024,115.37477,133.20172,105.41536,105.41536,85.37073,95.41024,133.20172,-142.38544,-142.38544,-152.72568,-124.951,-125.40512,-137.91553,-150.36858,-164.13326,-129.41454,-164.37729,35.35307,35.35307,19.030704,38.25868,56.67988,28.632454,35.35307,19.030704,38.25868,56.67988,98.9651,87.40479,74.379906,116.231804,103.72698,115.33323,98.22605,98.9651,87.40479,73.07395,13.86898,19.98504,-2.101452,34.166977,31.192093,3.979871,13.86898,16.29625,1.6381754,34.166977,-104.40955,-86.19748,-97.32955,-113.40847,-126.78299,-105.43423,-90.47655,-84.20672,-125.13502,-120.59919,-66.25164,-66.25164,-47.187267,-63.59327,-46.5141,-83.77763,-82.311104,-66.25164,-47.187267,-63.59327,-58.07639,-58.07639,-45.78174,-35.108444,-80.324295,-66.90845,-58.07639,-45.78174,-35.108444,-80.324295,31.425327,31.425327,40.195126,13.896015,13.563113,49.58808,35.6738,19.854988,49.51098,24.739046,193.7469,171.19234,171.19234,159.19981,178.02928,191.00757,173.9728,157.58232,150.7104,193.7469,66.28653,78.54573,68.68219,50.89222,67.64828,56.103123,85.019775,55.65688,46.772373,82.5295,99.936874,105.71903,69.95412,85.218315,85.13969,87.37387,100.78979,68.96116,73.95818,63.493492,72.85213,82.99004,109.91646,98.465355,99.00994,72.07952,83.060165,91.47302,91.47302,110.15128,99.12206,99.12206,82.365814,96.335945,111.92152,118.63625,78.61315,121.836914,83.17416,106.3368,-106.537964,-106.537964,-94.04092,-119.98184,-86.89403,-95.84693,-123.91864,-129.38356,-106.65181,-111.30098,-39.095165,-14.573621,-30.572533,-1.7160392,-0.8100736,-15.429279,-39.095165,-31.55106,-14.573621,-14.573621,-7.84663,-3.7788465,-18.669895,5.7615705,7.940169,-32.55401,-28.375624,12.770466,-17.915882,-6.115099,61.20085,41.65836,41.65836,53.05255,29.723509,21.73597,22.553492,39.209774,59.47601,45.753693,-144.30115,-144.30115,-149.7182,-124.05572,-132.34753,-141.56355,-168.19131,-164.12868,-158.98366,-144.30115,145.13644,145.13644,125.7379,151.6944,126.381134,135.7557,167.56337,158.54333,165.17317,141.84305,119.92843,119.92843,132.94078,100.485016,112.47557,141.83974,125.90038,136.23264,116.121544,104.36554,155.10065,153.84276,153.84276,154.01013,168.95413,139.41531,133.52155,170.6349,136.2955,177.95749,14.166094,14.166094,14.166094,14.166094,14.166094,14.166094,14.166094,14.166094,14.166094,14.166094,134.74147,134.74147,135.53114,163.45108,112.642,151.30925,134.74147,133.58641,163.45108,111.369865,-1.0791516,-1.0791516,-19.249752,-0.33918476,11.976664,-17.62008,16.383734,3.9951003,-13.371221,3.9951003,-54.201813,-54.201813,-76.711266,-76.711266,-71.696045,-66.62159,-50.718647,-36.988148,-57.757065,-36.59558,51.174484,51.174484,60.2345,70.94414,31.97342,47.46202,69.85786,47.354683,30.898733,63.00197,-58.255894,-41.238815,-41.238815,-22.253939,-43.713173,-63.53074,-57.82244,-19.396963,-32.34505,-28.479025,-16.792538,-16.792538,-1.6233904,-12.540735,-26.709045,2.671542,-12.482552,-31.580097,-16.792538,-16.792538,-28.435202,-28.435202,-10.199297,-46.508045,-48.463455,-10.371133,-28.435202,-22.45692,-28.435202,-28.435202,-29.575224,-29.575224,-31.494692,-17.00727,-45.031555,-34.678783,-16.536844,-10.811634,-29.575224,-34.678783,-92.125656,-92.125656,-107.184326,-100.037704,-84.54433,-68.66732,-92.125656,-68.66732,-84.54433,-100.037704,-105.17911,-105.17911,-79.66976,-115.64036,-109.85508,-93.766235,-105.17911,-109.85508,-82.837265,-109.85508,-110.77906,-110.77906,-123.73755,-102.384415,-120.65206,-91.26162,-103.19087,-130.84009,-110.77906,-110.77906,10.09569,10.09569,19.88808,4.111041,5.8725753,27.799498,-7.9446926,5.4374385,10.09569,13.373934,-165.83975,-146.85016,-148.4157,-189.10602,-180.23471,-143.78586,-148.4157,-189.10602,-180.23471,-165.83975,43.006382,32.214085,20.822327,41.047585,62.36319,32.214085,20.822327,33.54142,62.36319,43.006382,60.84993,85.13481,76.280876,59.00301,45.406246,43.88059,56.64037,85.13481,76.280876,59.00301,-55.725033,-43.42334,-48.26061,-70.12746,-58.20045,-58.68007,-36.555904,-76.09516,-55.725033,-55.725033,-157.9625,-139.8162,-134.02165,-181.87975,-180.72081,-161.08057,-139.8162,-138.0415,-181.87975,-180.72081,-92.99005,-68.42188,-52.163574,-92.99005,-66.744995,-53.111137,-61.034153,-76.92973,-69.83168,-69.83168,105.41536,85.37073,95.41024,118.001015,133.20172,105.41536,105.41536,88.54913,95.41024,133.20172,-142.38544,-142.38544,-152.72568,-124.4433,-122.99859,-137.91553,-150.36858,-164.13326,-132.61267,-164.37729,35.35307,35.35307,14.978591,38.25868,56.67988,31.70692,35.35307,14.978591,38.25868,56.67988,98.9651,83.84538,76.46623,116.231804,103.72698,115.33323,98.22605,98.9651,83.84538,73.07395,13.86898,17.406784,1.6381754,34.166977,31.192093,3.979871,13.86898,21.581491,1.6381754,34.166977,-104.40955,-88.571014,-101.805695,-113.40847,-126.78299,-105.43423,-90.47655,-84.20672,-125.13502,-120.59919,-66.25164,-66.25164,-46.47479,-63.59327,-46.859745,-85.31241,-82.311104,-66.25164,-47.187267,-63.59327,-58.07639,-58.07639,-45.639557,-35.108444,-80.324295,-66.90845,-58.07639,-45.639557,-35.108444,-80.324295,31.425327,31.425327,37.84716,13.896015,13.563113,49.58808,35.6738,19.854988,49.51098,22.988642,193.7469,171.19234,171.19234,162.09187,178.02928,191.00757,173.9728,159.43347,150.6834,193.7469,66.28653,81.409164,68.68219,50.89222,66.75559,56.103123,85.019775,55.65688,47.54566,82.5295,100.74905,105.71903,69.95412,85.218315,85.13969,90.52289,100.78979,68.96116,73.95818,64.79109,74.178185,85.90886,109.91646,99.13159,99.00994,72.07952,83.060165,91.47302,91.47302,110.15128,99.12206,99.12206,82.04115,96.335945,111.92152,118.63625,79.04473,121.836914,83.17416,101.357185,-106.537964,-106.537964,-91.46127,-119.98184,-85.26528,-95.84693,-123.91864,-129.38356,-104.67881,-111.30098,-39.095165,-14.573621,-28.090065,-0.9019172,-4.2190566,-15.429279,-39.095165,-31.55106,-14.573621,-14.573621,-7.84663,-4.4712977,-18.669895,5.7615705,7.940169,-33.035828,-29.571705,14.319649,-17.915882,-6.115099,61.20085,41.65836,41.65836,53.05255,29.723509,21.73597,23.852243,39.209774,59.47601,48.417843,-144.30115,-144.30115,-149.7182,-121.05659,-134.90692,-141.56355,-168.19131,-164.12868,-158.98366,-144.30115,145.13644,145.13644,123.53419,151.6944,126.381134,135.7557,167.56337,158.54333,165.17317,141.79198,119.92843,119.92843,132.94078,99.5408,112.47557,141.83974,125.90038,136.23264,116.121544,102.62279,155.10065,153.84276,153.84276,154.01013,168.95413,139.41531,133.52155,170.6349,138.78758,178.1127,14.166094,14.166094,14.166094,14.166094,14.166094,14.166094,14.166094,14.166094,14.166094,14.166094,134.74147,134.74147,133.58641,163.45108,112.642,151.30925,134.74147,133.58641,163.45108,112.642,-1.0791516,-1.0791516,-19.249752,-0.33918476,11.976664,-15.58139,16.383734,3.9951003,-13.371221,3.9951003,-54.201813,-54.201813,-76.711266,-76.711266,-71.696045,-66.62159,-50.718647,-34.009445,-56.26436,-36.59558,51.174484,51.174484,60.2345,70.94414,33.92968,47.46202,69.85786,44.682262,30.898733,63.00197,-58.255894,-41.238815,-41.238815,-22.253939,-43.713173,-63.53074,-57.82244,-19.318151,-37.849667,-28.479025,-16.792538,-16.792538,1.1154343,-15.648674,-26.709045,2.671542,-12.482552,-31.580097,-16.792538,-16.792538,-28.435202,-28.435202,-10.199297,-46.508045,-48.463455,-10.371133,-28.435202,-22.45692,-28.435202,-28.435202,-29.575224,-29.575224,-34.657166,-15.976735,-46.873657,-34.678783,-16.536844,-10.811634,-29.575224,-34.678783,-92.125656,-92.125656,-110.00078,-100.037704,-84.54433,-68.66732,-92.125656,-68.66732,-84.54433,-100.037704,-105.17911,-105.17911,-83.41287,-112.822815,-109.85508,-93.766235,-105.17911,-109.85508,-79.66976,-109.85508,-110.77906,-110.77906,-123.98832,-106.56481,-120.65206,-91.26162,-103.19087,-130.84009,-110.77906,-110.77906,10.09569,10.09569,19.88808,10.635872,8.160141,27.799498,-7.9446926,5.4374385,10.09569,6.5860863,-165.83975,-146.85016,-148.4157,-189.10602,-180.23471,-146.85016,-148.4157,-189.10602,-180.23471,-165.83975,43.006382,32.214085,20.822327,37.266445,62.36319,32.214085,20.822327,37.266445,62.36319,43.006382,60.84993,85.13481,76.280876,59.00301,46.649162,43.88059,56.7583,85.13481,76.280876,59.00301,-55.725033,-40.85832,-48.26061,-70.12746,-60.79841,-58.68007,-36.555904,-76.09516,-55.725033,-55.725033,-157.9625,-139.8162,-140.24953,-181.87975,-180.72081,-161.08057,-134.1249,-138.0415,-181.87975,-180.72081,-92.99005,-60.962997,-52.163574,-92.99005,-60.962997,-53.111137,-61.034153,-76.92973,-69.83168,-69.83168,105.41536,85.37073,95.41024,115.159996,133.20172,105.41536,105.41536,85.37073,95.41024,133.20172,-142.38544,-142.38544,-152.72568,-121.90675,-124.10015,-137.91553,-150.36858,-164.13326,-132.61267,-164.37729,35.35307,35.35307,15.911548,38.25868,56.67988,31.70692,35.35307,14.978591,38.25868,56.67988,98.9651,83.84538,73.07395,116.231804,103.72698,115.33323,98.22605,98.9651,83.84538,74.379906,13.86898,21.581491,0.67997086,34.166977,31.192093,3.979871,13.86898,19.98504,1.6381754,34.166977,-104.40955,-89.42154,-100.386826,-113.40847,-126.78299,-105.43423,-90.47655,-84.20672,-125.13502,-120.59919,-66.25164,-66.25164,-47.187267,-63.59327,-49.604923,-83.77763,-82.311104,-66.25164,-43.29295,-59.455257,-58.07639,-58.07639,-42.379665,-35.108444,-80.324295,-66.90845,-58.07639,-45.639557,-35.108444,-80.324295,31.425327,31.425327,37.440674,13.896015,13.563113,49.58808,35.6738,19.854988,49.51098,20.382765,193.7469,171.19234,171.19234,160.76778,178.02928,191.00757,173.9728,156.67273,150.7104,193.7469,66.28653,81.409164,68.68219,50.89222,65.063255,53.205757,85.019775,55.65688,46.772373,82.5295,100.77123,105.71903,69.95412,85.218315,85.13969,87.37387,100.78979,68.96116,73.95818,66.79668,72.754196,82.99004,109.91646,101.177605,99.00994,72.07952,83.060165,91.47302,91.47302,110.15128,99.12206,99.12206,82.04115,96.335945,111.92152,118.63625,79.04473,121.836914,86.11047,102.36008,-106.537964,-106.537964,-91.46127,-119.98184,-84.25328,-95.84693,-123.91864,-129.38356,-106.65181,-111.30098,-39.095165,-14.573621,-28.090065,-0.9019172,-4.2190566,-15.429279,-39.095165,-31.55106,-14.573621,-14.573621,-7.84663,-3.7788465,-18.669895,5.7615705,4.5719867,-33.035828,-26.439896,12.770466,-16.064203,-6.115099,61.20085,41.65836,41.65836,53.05255,29.723509,21.73597,25.365799,39.209774,59.47601,45.753693,-144.30115,-144.30115,-149.7182,-123.50251,-130.04028,-141.56355,-168.19131,-164.12868,-158.98366,-144.30115,145.13644,145.13644,126.53587,151.6944,126.381134,135.7557,167.56337,158.54333,165.17317,144.23909,119.92843,119.92843,132.94078,102.703316,112.47557,141.83974,125.90038,136.23264,116.121544,101.00713,155.10065,153.84276,153.84276,154.01013,168.95413,139.41531,133.52155,170.6349,138.78758,178.1127,14.166094,14.166094,14.166094,14.166094,14.166094,14.166094,14.166094,14.166094,14.166094,14.166094,134.74147,134.74147,129.71457,163.45108,111.369865,151.30925,134.74147,133.58641,163.45108,112.642,-1.0791516,-1.0791516,-19.249752,1.4637312,14.922742,-15.58139,16.383734,3.9951003,-13.371221,3.9951003,-54.201813,-54.201813,-76.711266,-76.711266,-71.696045,-66.62159,-50.718647,-35.674503,-57.757065,-36.59558,51.174484,51.174484,60.2345,70.94414,31.97342,47.46202,69.85786,45.102577,30.898733,63.00197,-58.255894,-41.238815,-41.238815,-22.253939,-43.713173,-63.53074,-57.82244,-21.448715,-36.682533,-28.479025,-16.792538,-16.792538,-1.0372767,-15.648674,-26.709045,2.671542,-12.482552,-31.580097,-16.792538,-16.792538,-28.435202,-28.435202,-10.199297,-46.508045,-48.463455,-10.371133,-28.435202,-22.45692,-28.435202,-28.435202,-29.575224,-29.575224,-34.657166,-18.784164,-46.873657,-34.678783,-16.536844,-10.811634,-29.575224,-34.678783,-92.125656,-92.125656,-110.13836,-100.037704,-84.54433,-68.66732,-92.125656,-68.66732,-84.54433,-100.037704,-105.17911,-105.17911,-79.510704,-115.64036,-109.85508,-93.766235,-105.17911,-109.85508,-79.510704,-109.85508,-110.77906,-110.77906,-123.98832,-103.84816,-120.65206,-91.26162,-103.19087,-130.84009,-110.77906,-110.77906,10.09569,10.09569,19.88808,14.484522,13.373934,27.799498,-7.9446926,5.4374385,10.09569,9.331413,-165.83975,-146.85016,-148.4157,-189.10602,-180.23471,-143.78586,-148.4157,-189.10602,-180.23471,-165.83975,43.006382,32.214085,20.822327,37.266445,62.36319,32.214085,20.822327,41.047585,62.36319,43.006382,60.84993,85.13481,76.280876,59.00301,42.627155,43.88059,59.65778,85.13481,76.280876,59.00301,-55.725033,-40.85832,-48.26061,-70.12746,-60.262207,-58.68007,-36.555904,-76.09516,-55.725033,-55.725033,-157.9625,-139.43245,-138.0415,-181.87975,-180.72081,-161.08057,-136.12236,-134.02165,-181.87975,-180.72081,-92.99005,-68.42188,-52.163574,-92.99005,-63.249702,-51.97384,-61.034153,-76.92973,-69.83168,-69.83168,105.41536,88.54913,95.41024,120.09165,133.20172,105.41536,105.41536,88.54913,95.41024,133.20172,-142.38544,-142.38544,-152.72568,-122.93918,-125.40512,-137.91553,-150.36858,-164.13326,-129.41454,-164.37729,35.35307,35.35307,15.911548,38.25868,56.67988,31.70692,35.35307,15.911548,38.25868,56.67988,98.9651,83.84538,74.379906,116.231804,103.72698,115.33323,98.22605,98.9651,83.84538,76.64609,13.86898,21.581491,1.6381754,34.166977,31.192093,3.979871,13.86898,21.581491,1.6381754,34.166977,-104.40955,-87.768105,-99.6738,-113.40847,-126.78299,-105.43423,-90.47655,-84.20672,-125.13502,-120.59919,-66.25164,-66.25164,-47.187267,-63.59327,-49.604923,-85.31241,-82.311104,-66.25164,-47.187267,-63.59327,-58.07639,-58.07639,-49.47571,-35.108444,-80.324295,-66.90845,-58.07639,-42.379665,-31.522226,-80.324295,31.425327,31.425327,40.8548,13.896015,13.563113,49.58808,35.6738,19.854988,49.51098,22.988642,193.7469,171.19234,171.19234,163.80826,178.02928,191.00757,173.9728,159.77672,150.6834,193.7469,66.28653,81.409164,68.68219,50.89222,69.67192,56.103123,85.019775,55.65688,47.54566,82.5295,103.07333,105.71903,69.95412,85.218315,85.13969,90.52289,100.78979,68.96116,73.95818,63.493492,76.06513,85.90886,109.91646,96.63107,99.00994,72.07952,83.060165,91.47302,91.47302,110.15128,99.12206,99.12206,82.04115,96.335945,111.92152,118.63625,78.61315,121.836914,83.17416,105.42215,-106.537964,-106.537964,-91.46127,-119.98184,-86.82047,-95.84693,-123.91864,-129.38356,-107.89396,-111.30098,-39.095165,-14.573621,-30.572533,-3.9648347,-4.2190566,-15.429279,-39.095165,-31.55106,-14.573621,-14.573621,-7.84663,-4.4712977,-18.669895,5.7615705,5.7477984,-32.55401,-25.512476,12.770466,-16.064203,-6.115099,61.20085,41.65836,41.65836,53.05255,29.723509,21.73597,26.436882,39.209774,59.47601,48.562454,-144.30115,-144.30115,-149.7182,-123.50251,-132.52942,-141.56355,-168.19131,-164.12868,-158.98366,-144.30115,145.13644,145.13644,123.018776,151.6944,126.381134,135.7557,167.56337,158.54333,165.17317,139.54163,119.92843,119.92843,132.94078,102.52482,112.47557,141.83974,125.90038,136.23264,116.121544,104.36554,155.10065,153.84276,153.84276,154.01013,168.95413,139.41531,133.52155,170.6349,139.0897,175.3551,14.166094,14.166094,14.166094,14.166094,14.166094,14.166094,14.166094,14.166094,14.166094,14.166094,134.74147,134.74147,133.58641,163.45108,112.642,151.30925,134.74147,129.74309,163.45108,112.642,-1.0791516,-1.0791516,-19.249752,-2.7195513,14.31668,-15.58139,16.383734,3.9951003,-13.371221,3.9951003,-54.201813,-54.201813,-76.711266,-76.711266,-71.696045,-66.62159,-50.718647,-35.877415,-57.757065,-36.59558,51.174484,51.174484,60.2345,70.94414,30.746525,47.46202,69.85786,42.663574,30.898733,63.00197,-58.255894,-41.238815,-41.238815,-22.253939,-43.713173,-63.53074,-57.82244,-22.131325,-34.11065,-28.479025,-16.792538,-16.792538,-2.0140407,-15.648674,-26.709045,2.671542,-12.482552,-31.580097,-16.792538,-16.792538,-28.435202,-28.435202,-10.199297,-46.508045,-48.463455,-10.371133,-28.435202,-22.45692,-28.435202,-28.435202,-29.575224,-29.575224,-31.494692,-17.00727,-45.031555,-34.678783,-16.536844,-10.811634,-29.575224,-34.678783,-92.125656,-92.125656,-110.13836,-100.037704,-84.54433,-68.66732,-92.125656,-68.888115,-84.54433,-100.037704,-105.17911,-105.17911,-82.837265,-112.822815,-109.85508,-93.766235,-105.17911,-109.85508,-83.41287,-109.85508,-110.77906,-110.77906,-121.08975,-103.84816,-120.65206,-91.26162,-103.19087,-130.84009,-110.77906,-110.77906,10.09569,10.09569,19.88808,10.635872,11.130665,27.799498,-7.9446926,5.4374385,10.09569,3.3611884,-165.83975,-144.7198,-151.89825,-189.10602,-180.23471,-148.43813,-151.89825,-189.10602,-180.23471,-165.83975,43.006382,32.214085,20.822327,41.14912,62.36319,32.214085,18.809202,38.088257,62.36319,43.006382,60.84993,85.13481,76.280876,59.00301,43.35149,43.88059,59.65778,85.13481,76.280876,59.00301,-55.725033,-43.42334,-48.26061,-70.12746,-62.738506,-58.68007,-36.555904,-76.09516,-55.725033,-55.725033,-157.9625,-136.12236,-136.41469,-181.87975,-180.72081,-161.08057,-136.93736,-138.0415,-181.87975,-180.72081,-92.99005,-64.60927,-52.163574,-92.99005,-66.744995,-54.75764,-61.034153,-76.92973,-69.83168,-69.83168,105.41536,85.37073,95.41024,117.724785,133.20172,105.41536,105.41536,88.54913,95.41024,133.20172,-142.38544,-142.38544,-152.72568,-121.666084,-125.40512,-137.91553,-150.36858,-164.13326,-132.61267,-164.37729,35.35307,35.35307,15.911548,38.25868,56.67988,28.632454,35.35307,14.978591,38.25868,56.67988,98.9651,87.40479,79.23979,116.231804,103.72698,115.33323,98.22605,98.9651,83.84538,78.162735,13.86898,21.581491,-2.101452,34.166977,31.192093,3.979871,13.86898,17.406784,1.6381754,34.166977,-104.40955,-86.19748,-96.92926,-113.40847,-126.78299,-105.43423,-90.47655,-84.20672,-125.13502,-120.59919,-66.25164,-66.25164,-47.187267,-63.59327,-49.604923,-85.31241,-82.311104,-66.25164,-47.187267,-63.59327,-58.07639,-58.07639,-48.76726,-35.108444,-80.324295,-66.90845,-58.07639,-45.639557,-35.108444,-80.324295,31.425327,31.425327,42.30466,13.896015,13.563113,49.58808,35.6738,19.854988,49.51098,22.193718,193.7469,171.19234,171.19234,160.76778,178.02928,191.00757,173.9728,160.91039,150.6834,193.7469,66.28653,78.54573,68.68219,50.89222,69.796906,55.74933,85.019775,55.65688,46.772373,82.5295,103.094055,105.71903,69.95412,85.218315,85.13969,87.37387,100.78979,68.96116,73.95818,66.249084,75.441315,85.90886,109.91646,101.245605,99.00994,72.07952,83.060165,91.47302,91.47302,110.15128,99.12206,99.12206,82.04115,96.335945,111.92152,118.63625,78.61315,121.836914,83.17416,103.8372,-106.537964,-106.537964,-91.46127,-119.98184,-83.48007,-95.84693,-123.91864,-129.38356,-104.67881,-111.30098,-39.095165,-14.573621,-28.090065,-3.9648347,-2.467896,-15.429279,-39.095165,-31.55106,-14.573621,-14.573621,-7.84663,-3.7788465,-18.669895,5.7615705,8.472651,-33.035828,-26.439896,12.770466,-17.915882,-6.115099,61.20085,41.65836,41.65836,53.05255,29.723509,21.73597,25.365799,39.209774,59.47601,46.112457,-144.30115,-144.30115,-149.7182,-121.05659,-131.17844,-141.56355,-168.19131,-164.12868,-158.98366,-144.30115,145.13644,145.13644,125.314644,151.6944,126.381134,135.7557,167.56337,158.54333,165.17317,144.63147,119.92843,119.92843,132.94078,99.5408,112.47557,141.83974,125.90038,136.23264,116.121544,101.94219,155.10065,153.84276,153.84276,154.01013,168.95413,139.41531,133.52155,170.6349,138.78758,176.70541,14.166094,14.166094,14.166094,14.166094,14.166094,14.166094,14.166094,14.166094,14.166094,14.166094,134.74147,134.74147,129.71457,163.45108,112.642,151.30925,134.74147,129.71457,163.45108,112.642,-1.0791516,-1.0791516,-19.249752,-1.1147813,11.754671,-17.62008,16.383734,3.9951003,-13.371221,3.9951003,-54.201813,-54.201813,-76.711266,-76.711266,-71.696045,-66.62159,-50.718647,-38.14565,-54.695988,-36.59558,51.174484,51.174484,60.2345,70.94414,33.92968,47.46202,69.85786,47.467583,30.898733,63.00197,-58.255894,-41.238815,-41.238815,-22.253939,-43.713173,-63.53074,-57.82244,-22.131325,-34.9893,-28.479025,-16.792538,-16.792538,-3.5561438,-15.648674,-26.709045,2.671542,-12.482552,-31.580097,-16.792538,-16.792538,-28.435202,-28.435202,-10.199297,-46.508045,-48.463455,-10.371133,-28.435202,-22.45692,-28.435202,-28.435202,-29.575224,-29.575224,-31.494692,-14.088776,-48.18321,-34.678783,-16.536844,-10.811634,-29.575224,-34.678783,-92.125656,-92.125656,-110.13836,-100.037704,-88.70589,-68.66732,-92.125656,-68.888115,-88.70589,-100.037704,-105.17911,-105.17911,-83.41287,-112.822815,-109.85508,-93.766235,-105.17911,-109.85508,-83.41287,-109.85508,-110.77906,-110.77906,-123.73755,-101.08329,-120.65206,-91.26162,-103.19087,-130.84009,-110.77906,-110.77906,10.09569,10.09569,19.88808,6.5860863,10.635872,27.799498,-7.9446926,5.4374385,10.09569,9.331413,-165.83975,-144.7198,-148.4157,-189.10602,-180.23471,-148.43813,-148.4157,-189.10602,-180.23471,-165.83975,43.006382,32.214085,18.809202,37.266445,62.36319,32.214085,20.822327,38.088257,62.36319,43.006382,60.84993,85.13481,76.280876,59.00301,45.361073,43.88059,59.12093,85.13481,76.280876,59.00301,-55.725033,-40.85832,-48.26061,-70.12746,-59.734665,-58.68007,-36.555904,-76.09516,-55.725033,-55.725033,-157.9625,-139.8162,-140.24953,-181.87975,-180.72081,-161.08057,-136.93736,-136.41469,-181.87975,-180.72081,-92.99005,-63.249702,-52.163574,-92.99005,-64.60927,-53.111137,-61.034153,-76.92973,-69.83168,-69.83168,105.41536,85.37073,95.41024,118.001015,133.20172,105.41536,105.41536,85.37073,95.41024,133.20172,-142.38544,-142.38544,-152.72568,-121.666084,-122.100464,-137.91553,-150.36858,-164.13326,-132.61267,-164.37729,35.35307,35.35307,15.911548,38.25868,56.67988,31.70692,35.35307,15.911548,38.25868,56.67988,98.9651,87.40479,73.07395,116.231804,103.72698,115.33323,98.22605,98.9651,83.84538,76.46623,13.86898,19.98504,-2.101452,34.166977,31.192093,3.979871,13.86898,17.406784,3.7591522,34.166977,-104.40955,-85.02596,-99.23399,-113.40847,-126.78299,-105.43423,-90.47655,-84.20672,-125.13502,-120.59919,-66.25164,-66.25164,-47.187267,-63.59327,-48.855354,-85.31241,-82.311104,-66.25164,-43.40141,-59.455257,-58.07639,-58.07639,-42.379665,-35.108444,-80.324295,-66.90845,-58.07639,-45.639557,-31.522226,-80.324295,31.425327,31.425327,39.73305,13.896015,13.563113,49.58808,35.6738,19.854988,49.51098,25.834906,193.7469,171.19234,171.19234,160.76778,178.02928,191.00757,173.9728,157.58232,150.6834,193.7469,66.28653,81.409164,68.68219,50.89222,66.92974,53.220203,85.019775,55.65688,46.772373,82.5295,99.936874,105.71903,69.95412,85.218315,85.13969,87.37387,100.78979,68.96116,73.95818,63.705585,72.754196,85.90886,109.91646,98.465355,99.00994,72.07952,83.060165,91.47302,91.47302,110.15128,99.12206,99.12206,82.365814,96.335945,111.92152,118.63625,78.61315,121.836914,86.11047,103.85725,-106.537964,-106.537964,-94.04092,-119.98184,-86.82047,-95.84693,-123.91864,-129.38356,-107.89396,-111.30098,-39.095165,-14.573621,-28.090065,-1.7160392,-2.116036,-15.429279,-39.095165,-31.55106,-14.573621,-14.573621,-7.84663,-3.7788465,-18.669895,5.7615705,6.0268292,-33.035828,-26.439896,14.319649,-17.915882,-6.115099,61.20085,41.65836,41.65836,53.05255,29.723509,21.73597,28.074848,39.209774,59.47601,43.66973,-144.30115,-144.30115,-149.7182,-124.05572,-134.19524,-141.56355,-168.19131,-164.12868,-158.98366,-144.30115,145.13644,145.13644,127.86384,151.6944,126.381134,135.7557,167.56337,158.54333,165.17317,141.79198,119.92843,119.92843,132.94078,100.146385,112.47557,141.83974,125.90038,136.23264,116.121544,104.63487,155.10065,153.84276,153.84276,154.01013,168.95413,139.41531,133.52155,170.6349,135.71269,174.76262,14.166094,14.166094,14.166094,14.166094,14.166094,14.166094,14.166094,14.166094,14.166094,14.166094,134.74147,134.74147,135.53114,163.45108,112.642,151.30925,134.74147,132.46396,163.45108,112.642,-1.0791516,-1.0791516,-19.249752,1.4637312,14.922742,-15.58139,16.383734,3.9951003,-13.371221,3.9951003,-54.201813,-54.201813,-76.711266,-76.711266,-71.696045,-66.62159,-50.718647,-33.321438,-59.15657,-36.59558,51.174484,51.174484,60.2345,70.94414,30.746525,47.46202,69.85786,44.682262,30.898733,63.00197,-58.255894,-41.238815,-41.238815,-22.253939,-43.713173,-63.53074,-57.82244,-23.950987,-34.9893,-28.479025,-16.792538,-16.792538,0.88374966,-12.540735,-26.709045,2.671542,-12.482552,-31.580097,-16.792538,-16.792538,-28.435202,-28.435202,-10.199297,-46.508045,-48.463455,-10.371133,-28.435202,-22.45692,-28.435202,-28.435202,-29.575224,-29.575224,-31.494692,-17.00727,-48.18321,-34.678783,-16.536844,-10.811634,-29.575224,-34.678783,-92.125656,-92.125656,-107.37166,-100.037704,-88.70589,-68.888115,-92.125656,-68.888115,-88.70589,-100.037704,-105.17911,-105.17911,-83.41287,-112.822815,-109.85508,-93.766235,-105.17911,-109.85508,-83.41287,-109.85508,-110.77906,-110.77906,-121.08975,-104.95389,-120.65206,-91.26162,-103.19087,-130.84009,-110.77906,-110.77906,10.09569,10.09569,19.88808,7.183793,11.130665,27.799498,-7.9446926,5.4374385,10.09569,9.331413,-165.83975,43.006382,60.84993,-55.725033,-157.9625,-69.83168,105.41536,-142.38544,35.35307,98.9651,13.86898,-104.40955,-66.25164,-58.07639,31.425327,171.19234,66.28653,85.218315,91.47302,99.12206,-106.537964,-14.573621,-7.84663,41.65836,-144.30115,145.13644,119.92843,153.84276,14.166094,134.74147,-1.0791516,-54.201813,51.174484,-41.238815,-16.792538,-28.435202,-29.575224,-92.125656,-105.17911,-110.77906,10.09569,-165.83975,43.006382,60.84993,-55.725033,-157.9625,-69.83168,105.41536,-142.38544,35.35307,98.9651,13.86898,-104.40955,-66.25164,-58.07639,31.425327,171.19234,66.28653,85.218315,91.47302,99.12206,-106.537964,-14.573621,-7.84663,41.65836,-144.30115,145.13644,119.92843,153.84276,14.166094,134.74147,-1.0791516,-54.201813,51.174484,-41.238815,-16.792538,-28.435202,-29.575224,-92.125656,-105.17911,-110.77906,10.09569,-165.83975,43.006382,60.84993,-55.725033,-157.9625,-69.83168,105.41536,-142.38544,35.35307,98.9651,13.86898,-104.40955,-66.25164,-58.07639,31.425327,171.19234,66.28653,85.218315,91.47302,99.12206,-106.537964,-14.573621,-7.84663,41.65836,-144.30115,145.13644,119.92843,153.84276,14.166094,134.74147,-1.0791516,-54.201813,51.174484,-41.238815,-16.792538,-28.435202,-29.575224,-92.125656,-105.17911,-110.77906,10.09569,-165.83975,43.006382,60.84993,-55.725033,-157.9625,-69.83168,105.41536,-142.38544,35.35307,98.9651,13.86898,-104.40955,-66.25164,-58.07639,31.425327,171.19234,66.28653,85.218315,91.47302,99.12206,-106.537964,-14.573621,-7.84663,41.65836,-144.30115,145.13644,119.92843,153.84276,14.166094,134.74147,-1.0791516,-54.201813,51.174484,-41.238815,-16.792538,-28.435202,-29.575224,-92.125656,-105.17911,-110.77906,10.09569,-165.83975,43.006382,60.84993,-55.725033,-157.9625,-69.83168,105.41536,-142.38544,35.35307,98.9651,13.86898,-104.40955,-66.25164,-58.07639,31.425327,171.19234,66.28653,85.218315,91.47302,99.12206,-106.537964,-14.573621,-7.84663,41.65836,-144.30115,145.13644,119.92843,153.84276,14.166094,134.74147,-1.0791516,-54.201813,51.174484,-41.238815,-16.792538,-28.435202,-29.575224,-92.125656,-105.17911,-110.77906,10.09569,-165.83975,43.006382,60.84993,-55.725033,-157.9625,-69.83168,105.41536,-142.38544,35.35307,98.9651,13.86898,-104.40955,-66.25164,-58.07639,31.425327,171.19234,66.28653,85.218315,91.47302,99.12206,-106.537964,-14.573621,-7.84663,41.65836,-144.30115,145.13644,119.92843,153.84276,14.166094,134.74147,-1.0791516,-54.201813,51.174484,-41.238815,-16.792538,-28.435202,-29.575224,-92.125656,-105.17911,-110.77906,10.09569,-165.83975,43.006382,60.84993,-55.725033,-157.9625,-69.83168,105.41536,-142.38544,35.35307,98.9651,13.86898,-104.40955,-66.25164,-58.07639,31.425327,171.19234,66.28653,85.218315,91.47302,99.12206,-106.537964,-14.573621,-7.84663,41.65836,-144.30115,145.13644,119.92843,153.84276,14.166094,134.74147,-1.0791516,-54.201813,51.174484,-41.238815,-16.792538,-28.435202,-29.575224,-92.125656,-105.17911,-110.77906,10.09569,-165.83975,43.006382,60.84993,-55.725033,-157.9625,-69.83168,105.41536,-142.38544,35.35307,98.9651,13.86898,-104.40955,-66.25164,-58.07639,31.425327,171.19234,66.28653,85.218315,91.47302,99.12206,-106.537964,-14.573621,-7.84663,41.65836,-144.30115,145.13644,119.92843,153.84276,14.166094,134.74147,-1.0791516,-54.201813,51.174484,-41.238815,-16.792538,-28.435202,-29.575224,-92.125656,-105.17911,-110.77906,10.09569,-165.83975,43.006382,60.84993,-55.725033,-157.9625,-69.83168,105.41536,-142.38544,35.35307,98.9651,13.86898,-104.40955,-66.25164,-58.07639,31.425327,171.19234,66.28653,85.218315,91.47302,99.12206,-106.537964,-14.573621,-7.84663,41.65836,-144.30115,145.13644,119.92843,153.84276,14.166094,134.74147,-1.0791516,-54.201813,51.174484,-41.238815,-16.792538,-28.435202,-29.575224,-92.125656,-105.17911,-110.77906,10.09569,-165.83975,43.006382,60.84993,-55.725033,-157.9625,-69.83168,105.41536,-142.38544,35.35307,98.9651,13.86898,-104.40955,-66.25164,-58.07639,31.425327,171.19234,66.28653,85.218315,91.47302,99.12206,-106.537964,-14.573621,-7.84663,41.65836,-144.30115,145.13644,119.92843,153.84276,14.166094,134.74147,-1.0791516,-54.201813,51.174484,-41.238815,-16.792538,-28.435202,-29.575224,-92.125656,-105.17911,-110.77906,10.09569,-165.83975,43.006382,60.84993,-55.725033,-157.9625,-69.83168,105.41536,-142.38544,35.35307,98.9651,13.86898,-104.40955,-66.25164,-58.07639,31.425327,171.19234,66.28653,85.218315,91.47302,99.12206,-106.537964,-14.573621,-7.84663,41.65836,-144.30115,145.13644,119.92843,153.84276,14.166094,134.74147,-1.0791516,-54.201813,51.174484,-41.238815,-16.792538,-28.435202,-29.575224,-92.125656,-105.17911,-110.77906,10.09569,-165.83975,43.006382,60.84993,-55.725033,-157.9625,-69.83168,105.41536,-142.38544,35.35307,98.9651,13.86898,-104.40955,-66.25164,-58.07639,31.425327,171.19234,66.28653,85.218315,91.47302,99.12206,-106.537964,-14.573621,-7.84663,41.65836,-144.30115,145.13644,119.92843,153.84276,14.166094,134.74147,-1.0791516,-54.201813,51.174484,-41.238815,-16.792538,-28.435202,-29.575224,-92.125656,-105.17911,-110.77906,10.09569,-165.83975,43.006382,60.84993,-55.725033,-157.9625,-69.83168,105.41536,-142.38544,35.35307,98.9651,13.86898,-104.40955,-66.25164,-58.07639,31.425327,171.19234,66.28653,85.218315,91.47302,99.12206,-106.537964,-14.573621,-7.84663,41.65836,-144.30115,145.13644,119.92843,153.84276,14.166094,134.74147,-1.0791516,-54.201813,51.174484,-41.238815,-16.792538,-28.435202,-29.575224,-92.125656,-105.17911,-110.77906,10.09569,-165.83975,43.006382,60.84993,-55.725033,-157.9625,-69.83168,105.41536,-142.38544,35.35307,98.9651,13.86898,-104.40955,-66.25164,-58.07639,31.425327,171.19234,66.28653,85.218315,91.47302,99.12206,-106.537964,-14.573621,-7.84663,41.65836,-144.30115,145.13644,119.92843,153.84276,14.166094,134.74147,-1.0791516,-54.201813,51.174484,-41.238815,-16.792538,-28.435202,-29.575224,-92.125656,-105.17911,-110.77906,10.09569,-165.83975,43.006382,60.84993,-55.725033,-157.9625,-69.83168,105.41536,-142.38544,35.35307,98.9651,13.86898,-104.40955,-66.25164,-58.07639,31.425327,171.19234,66.28653,85.218315,91.47302,99.12206,-106.537964,-14.573621,-7.84663,41.65836,-144.30115,145.13644,119.92843,153.84276,14.166094,134.74147,-1.0791516,-54.201813,51.174484,-41.238815,-16.792538,-28.435202,-29.575224,-92.125656,-105.17911,-110.77906,10.09569,-165.83975,43.006382,60.84993,-55.725033,-157.9625,-69.83168,105.41536,-142.38544,35.35307,98.9651,13.86898,-104.40955,-66.25164,-58.07639,31.425327,171.19234,66.28653,85.218315,91.47302,99.12206,-106.537964,-14.573621,-7.84663,41.65836,-144.30115,145.13644,119.92843,153.84276,14.166094,134.74147,-1.0791516,-54.201813,51.174484,-41.238815,-16.792538,-28.435202,-29.575224,-92.125656,-105.17911,-110.77906,10.09569,-165.83975,43.006382,60.84993,-55.725033,-157.9625,-69.83168,105.41536,-142.38544,35.35307,98.9651,13.86898,-104.40955,-66.25164,-58.07639,31.425327,171.19234,66.28653,85.218315,91.47302,99.12206,-106.537964,-14.573621,-7.84663,41.65836,-144.30115,145.13644,119.92843,153.84276,14.166094,134.74147,-1.0791516,-54.201813,51.174484,-41.238815,-16.792538,-28.435202,-29.575224,-92.125656,-105.17911,-110.77906,10.09569,-165.83975,43.006382,60.84993,-55.725033,-157.9625,-69.83168,105.41536,-142.38544,35.35307,98.9651,13.86898,-104.40955,-66.25164,-58.07639,31.425327,171.19234,66.28653,85.218315,91.47302,99.12206,-106.537964,-14.573621,-7.84663,41.65836,-144.30115,145.13644,119.92843,153.84276,14.166094,134.74147,-1.0791516,-54.201813,51.174484,-41.238815,-16.792538,-28.435202,-29.575224,-92.125656,-105.17911,-110.77906,10.09569,-165.83975,43.006382,60.84993,-55.725033,-157.9625,-69.83168,105.41536,-142.38544,35.35307,98.9651,13.86898,-104.40955,-66.25164,-58.07639,31.425327,171.19234,66.28653,85.218315,91.47302,99.12206,-106.537964,-14.573621,-7.84663,41.65836,-144.30115,145.13644,119.92843,153.84276,14.166094,134.74147,-1.0791516,-54.201813,51.174484,-41.238815,-16.792538,-28.435202,-29.575224,-92.125656,-105.17911,-110.77906,10.09569,-165.83975,43.006382,60.84993,-55.725033,-157.9625,-69.83168,105.41536,-142.38544,35.35307,98.9651,13.86898,-104.40955,-66.25164,-58.07639,31.425327,171.19234,66.28653,85.218315,91.47302,99.12206,-106.537964,-14.573621,-7.84663,41.65836,-144.30115,145.13644,119.92843,153.84276,14.166094,134.74147,-1.0791516,-54.201813,51.174484,-41.238815,-16.792538,-28.435202,-29.575224,-92.125656,-105.17911,-110.77906,10.09569,-165.83975,43.006382,60.84993,-55.725033,-157.9625,-69.83168,105.41536,-142.38544,35.35307,98.9651,13.86898,-104.40955,-66.25164,-58.07639,31.425327,171.19234,66.28653,85.218315,91.47302,99.12206,-106.537964,-14.573621,-7.84663,41.65836,-144.30115,145.13644,119.92843,153.84276,14.166094,134.74147,-1.0791516,-54.201813,51.174484,-41.238815,-16.792538,-28.435202,-29.575224,-92.125656,-105.17911,-110.77906,10.09569,-165.83975,43.006382,60.84993,-55.725033,-157.9625,-69.83168,105.41536,-142.38544,35.35307,98.9651,13.86898,-104.40955,-66.25164,-58.07639,31.425327,171.19234,66.28653,85.218315,91.47302,99.12206,-106.537964,-14.573621,-7.84663,41.65836,-144.30115,145.13644,119.92843,153.84276,14.166094,134.74147,-1.0791516,-54.201813,51.174484,-41.238815,-16.792538,-28.435202,-29.575224,-92.125656,-105.17911,-110.77906,10.09569,-165.83975,43.006382,60.84993,-55.725033,-157.9625,-69.83168,105.41536,-142.38544,35.35307,98.9651,13.86898,-104.40955,-66.25164,-58.07639,31.425327,171.19234,66.28653,85.218315,91.47302,99.12206,-106.537964,-14.573621,-7.84663,41.65836,-144.30115,145.13644,119.92843,153.84276,14.166094,134.74147,-1.0791516,-54.201813,51.174484,-41.238815,-16.792538,-28.435202,-29.575224,-92.125656,-105.17911,-110.77906,10.09569,-165.83975,43.006382,60.84993,-55.725033,-157.9625,-69.83168,105.41536,-142.38544,35.35307,98.9651,13.86898,-104.40955,-66.25164,-58.07639,31.425327,171.19234,66.28653,85.218315,91.47302,99.12206,-106.537964,-14.573621,-7.84663,41.65836,-144.30115,145.13644,119.92843,153.84276,14.166094,134.74147,-1.0791516,-54.201813,51.174484,-41.238815,-16.792538,-28.435202,-29.575224,-92.125656,-105.17911,-110.77906,10.09569,-165.83975,43.006382,60.84993,-55.725033,-157.9625,-69.83168,105.41536,-142.38544,35.35307,98.9651,13.86898,-104.40955,-66.25164,-58.07639,31.425327,171.19234,66.28653,85.218315,91.47302,99.12206,-106.537964,-14.573621,-7.84663,41.65836,-144.30115,145.13644,119.92843,153.84276,14.166094,134.74147,-1.0791516,-54.201813,51.174484,-41.238815,-16.792538,-28.435202,-29.575224,-92.125656,-105.17911,-110.77906,10.09569,-165.83975,43.006382,60.84993,-55.725033,-157.9625,-69.83168,105.41536,-142.38544,35.35307,98.9651,13.86898,-104.40955,-66.25164,-58.07639,31.425327,171.19234,66.28653,85.218315,91.47302,99.12206,-106.537964,-14.573621,-7.84663,41.65836,-144.30115,145.13644,119.92843,153.84276,14.166094,134.74147,-1.0791516,-54.201813,51.174484,-41.238815,-16.792538,-28.435202,-29.575224,-92.125656,-105.17911,-110.77906,10.09569,-165.83975,43.006382,60.84993,-55.725033,-157.9625,-69.83168,105.41536,-142.38544,35.35307,98.9651,13.86898,-104.40955,-66.25164,-58.07639,31.425327,171.19234,66.28653,85.218315,91.47302,99.12206,-106.537964,-14.573621,-7.84663,41.65836,-144.30115,145.13644,119.92843,153.84276,14.166094,134.74147,-1.0791516,-54.201813,51.174484,-41.238815,-16.792538,-28.435202,-29.575224,-92.125656,-105.17911,-110.77906,10.09569,-165.83975,43.006382,60.84993,-55.725033,-157.9625,-69.83168,105.41536,-142.38544,35.35307,98.9651,13.86898,-104.40955,-66.25164,-58.07639,31.425327,171.19234,66.28653,85.218315,91.47302,99.12206,-106.537964,-14.573621,-7.84663,41.65836,-144.30115,145.13644,119.92843,153.84276,14.166094,134.74147,-1.0791516,-54.201813,51.174484,-41.238815,-16.792538,-28.435202,-29.575224,-92.125656,-105.17911,-110.77906,10.09569,-165.83975,43.006382,60.84993,-55.725033,-157.9625,-69.83168,105.41536,-142.38544,35.35307,98.9651,13.86898,-104.40955,-66.25164,-58.07639,31.425327,171.19234,66.28653,85.218315,91.47302,99.12206,-106.537964,-14.573621,-7.84663,41.65836,-144.30115,145.13644,119.92843,153.84276,14.166094,134.74147,-1.0791516,-54.201813,51.174484,-41.238815,-16.792538,-28.435202,-29.575224,-92.125656,-105.17911,-110.77906,10.09569,-165.83975,43.006382,60.84993,-55.725033,-157.9625,-69.83168,105.41536,-142.38544,35.35307,98.9651,13.86898,-104.40955,-66.25164,-58.07639,31.425327,171.19234,66.28653,85.218315,91.47302,99.12206,-106.537964,-14.573621,-7.84663,41.65836,-144.30115,145.13644,119.92843,153.84276,14.166094,134.74147,-1.0791516,-54.201813,51.174484,-41.238815,-16.792538,-28.435202,-29.575224,-92.125656,-105.17911,-110.77906,10.09569,-165.83975,43.006382,60.84993,-55.725033,-157.9625,-69.83168,105.41536,-142.38544,35.35307,98.9651,13.86898,-104.40955,-66.25164,-58.07639,31.425327,171.19234,66.28653,85.218315,91.47302,99.12206,-106.537964,-14.573621,-7.84663,41.65836,-144.30115,145.13644,119.92843,153.84276,14.166094,134.74147,-1.0791516,-54.201813,51.174484,-41.238815,-16.792538,-28.435202,-29.575224,-92.125656,-105.17911,-110.77906,10.09569,-165.83975,43.006382,60.84993,-55.725033,-157.9625,-69.83168,105.41536,-142.38544,35.35307,98.9651,13.86898,-104.40955,-66.25164,-58.07639,31.425327,171.19234,66.28653,85.218315,91.47302,99.12206,-106.537964,-14.573621,-7.84663,41.65836,-144.30115,145.13644,119.92843,153.84276,14.166094,134.74147,-1.0791516,-54.201813,51.174484,-41.238815,-16.792538,-28.435202,-29.575224,-92.125656,-105.17911,-110.77906,10.09569,-165.83975,43.006382,60.84993,-55.725033,-157.9625,-69.83168,105.41536,-142.38544,35.35307,98.9651,13.86898,-104.40955,-66.25164,-58.07639,31.425327,171.19234,66.28653,85.218315,91.47302,99.12206,-106.537964,-14.573621,-7.84663,41.65836,-144.30115,145.13644,119.92843,153.84276,14.166094,134.74147,-1.0791516,-54.201813,51.174484,-41.238815,-16.792538,-28.435202,-29.575224,-92.125656,-105.17911,-110.77906,10.09569,-165.83975,43.006382,60.84993,-55.725033,-157.9625,-69.83168,105.41536,-142.38544,35.35307,98.9651,13.86898,-104.40955,-66.25164,-58.07639,31.425327,171.19234,66.28653,85.218315,91.47302,99.12206,-106.537964,-14.573621,-7.84663,41.65836,-144.30115,145.13644,119.92843,153.84276,14.166094,134.74147,-1.0791516,-54.201813,51.174484,-41.238815,-16.792538,-28.435202,-29.575224,-92.125656,-105.17911,-110.77906,10.09569,-165.83975,43.006382,60.84993,-55.725033,-157.9625,-69.83168,105.41536,-142.38544,35.35307,98.9651,13.86898,-104.40955,-66.25164,-58.07639,31.425327,171.19234,66.28653,85.218315,91.47302,99.12206,-106.537964,-14.573621,-7.84663,41.65836,-144.30115,145.13644,119.92843,153.84276,14.166094,134.74147,-1.0791516,-54.201813,51.174484,-41.238815,-16.792538,-28.435202,-29.575224,-92.125656,-105.17911,-110.77906,10.09569,-165.83975,43.006382,60.84993,-55.725033,-157.9625,-69.83168,105.41536,-142.38544,35.35307,98.9651,13.86898,-104.40955,-66.25164,-58.07639,31.425327,171.19234,66.28653,85.218315,91.47302,99.12206,-106.537964,-14.573621,-7.84663,41.65836,-144.30115,145.13644,119.92843,153.84276,14.166094,134.74147,-1.0791516,-54.201813,51.174484,-41.238815,-16.792538,-28.435202,-29.575224,-92.125656,-105.17911,-110.77906,10.09569,-165.83975,43.006382,60.84993,-55.725033,-157.9625,-69.83168,105.41536,-142.38544,35.35307,98.9651,13.86898,-104.40955,-66.25164,-58.07639,31.425327,171.19234,66.28653,85.218315,91.47302,99.12206,-106.537964,-14.573621,-7.84663,41.65836,-144.30115,145.13644,119.92843,153.84276,14.166094,134.74147,-1.0791516,-54.201813,51.174484,-41.238815,-16.792538,-28.435202,-29.575224,-92.125656,-105.17911,-110.77906,10.09569,-165.83975,43.006382,60.84993,-55.725033,-157.9625,-69.83168,105.41536,-142.38544,35.35307,98.9651,13.86898,-104.40955,-66.25164,-58.07639,31.425327,171.19234,66.28653,85.218315,91.47302,99.12206,-106.537964,-14.573621,-7.84663,41.65836,-144.30115,145.13644,119.92843,153.84276,14.166094,134.74147,-1.0791516,-54.201813,51.174484,-41.238815,-16.792538,-28.435202,-29.575224,-92.125656,-105.17911,-110.77906,10.09569,-165.83975,43.006382,60.84993,-55.725033,-157.9625,-69.83168,105.41536,-142.38544,35.35307,98.9651,13.86898,-104.40955,-66.25164,-58.07639,31.425327,171.19234,66.28653,85.218315,91.47302,99.12206,-106.537964,-14.573621,-7.84663,41.65836,-144.30115,145.13644,119.92843,153.84276,14.166094,134.74147,-1.0791516,-54.201813,51.174484,-41.238815,-16.792538,-28.435202,-29.575224,-92.125656,-105.17911,-110.77906,10.09569,-165.83975,43.006382,60.84993,-55.725033,-157.9625,-69.83168,105.41536,-142.38544,35.35307,98.9651,13.86898,-104.40955,-66.25164,-58.07639,31.425327,171.19234,66.28653,85.218315,91.47302,99.12206,-106.537964,-14.573621,-7.84663,41.65836,-144.30115,145.13644,119.92843,153.84276,14.166094,134.74147,-1.0791516,-54.201813,51.174484,-41.238815,-16.792538,-28.435202,-29.575224,-92.125656,-105.17911,-110.77906,10.09569,-165.83975,43.006382,60.84993,-55.725033,-157.9625,-69.83168,105.41536,-142.38544,35.35307,98.9651,13.86898,-104.40955,-66.25164,-58.07639,31.425327,171.19234,66.28653,85.218315,91.47302,99.12206,-106.537964,-14.573621,-7.84663,41.65836,-144.30115,145.13644,119.92843,153.84276,14.166094,134.74147,-1.0791516,-54.201813,51.174484,-41.238815,-16.792538,-28.435202,-29.575224,-92.125656,-105.17911,-110.77906,10.09569,-165.83975,43.006382,60.84993,-55.725033,-157.9625,-69.83168,105.41536,-142.38544,35.35307,98.9651,13.86898,-104.40955,-66.25164,-58.07639,31.425327,171.19234,66.28653,85.218315,91.47302,99.12206,-106.537964,-14.573621,-7.84663,41.65836,-144.30115,145.13644,119.92843,153.84276,14.166094,134.74147,-1.0791516,-54.201813,51.174484,-41.238815,-16.792538,-28.435202,-29.575224,-92.125656,-105.17911,-110.77906,10.09569,-165.83975,43.006382,60.84993,-55.725033,-157.9625,-69.83168,105.41536,-142.38544,35.35307,98.9651,13.86898,-104.40955,-66.25164,-58.07639,31.425327,171.19234,66.28653,85.218315,91.47302,99.12206,-106.537964,-14.573621,-7.84663,41.65836,-144.30115,145.13644,119.92843,153.84276,14.166094,134.74147,-1.0791516,-54.201813,51.174484,-41.238815,-16.792538,-28.435202,-29.575224,-92.125656,-105.17911,-110.77906,10.09569,-165.83975,43.006382,60.84993,-55.725033,-157.9625,-69.83168,105.41536,-142.38544,35.35307,98.9651,13.86898,-104.40955,-66.25164,-58.07639,31.425327,171.19234,66.28653,85.218315,91.47302,99.12206,-106.537964,-14.573621,-7.84663,41.65836,-144.30115,145.13644,119.92843,153.84276,14.166094,134.74147,-1.0791516,-54.201813,51.174484,-41.238815,-16.792538,-28.435202,-29.575224,-92.125656,-105.17911,-110.77906,10.09569,-165.83975,43.006382,60.84993,-55.725033,-157.9625,-69.83168,105.41536,-142.38544,35.35307,98.9651,13.86898,-104.40955,-66.25164,-58.07639,31.425327,171.19234,66.28653,85.218315,91.47302,99.12206,-106.537964,-14.573621,-7.84663,41.65836,-144.30115,145.13644,119.92843,153.84276,14.166094,134.74147,-1.0791516,-54.201813,51.174484,-41.238815,-16.792538,-28.435202,-29.575224,-92.125656,-105.17911,-110.77906,10.09569,-165.83975,43.006382,60.84993,-55.725033,-157.9625,-69.83168,105.41536,-142.38544,35.35307,98.9651,13.86898,-104.40955,-66.25164,-58.07639,31.425327,171.19234,66.28653,85.218315,91.47302,99.12206,-106.537964,-14.573621,-7.84663,41.65836,-144.30115,145.13644,119.92843,153.84276,14.166094,134.74147,-1.0791516,-54.201813,51.174484,-41.238815,-16.792538,-28.435202,-29.575224,-92.125656,-105.17911,-110.77906,10.09569,-165.83975,43.006382,60.84993,-55.725033,-157.9625,-69.83168,105.41536,-142.38544,35.35307,98.9651,13.86898,-104.40955,-66.25164,-58.07639,31.425327,171.19234,66.28653,85.218315,91.47302,99.12206,-106.537964,-14.573621,-7.84663,41.65836,-144.30115,145.13644,119.92843,153.84276,14.166094,134.74147,-1.0791516,-54.201813,51.174484,-41.238815,-16.792538,-28.435202,-29.575224,-92.125656,-105.17911,-110.77906,10.09569,-165.83975,43.006382,60.84993,-55.725033,-157.9625,-69.83168,105.41536,-142.38544,35.35307,98.9651,13.86898,-104.40955,-66.25164,-58.07639,31.425327,171.19234,66.28653,85.218315,91.47302,99.12206,-106.537964,-14.573621,-7.84663,41.65836,-144.30115,145.13644,119.92843,153.84276,14.166094,134.74147,-1.0791516,-54.201813,51.174484,-41.238815,-16.792538,-28.435202,-29.575224,-92.125656,-105.17911,-110.77906,10.09569,-165.83975,43.006382,60.84993,-55.725033,-157.9625,-69.83168,105.41536,-142.38544,35.35307,98.9651,13.86898,-104.40955,-66.25164,-58.07639,31.425327,171.19234,66.28653,85.218315,91.47302,99.12206,-106.537964,-14.573621,-7.84663,41.65836,-144.30115,145.13644,119.92843,153.84276,14.166094,134.74147,-1.0791516,-54.201813,51.174484,-41.238815,-16.792538,-28.435202,-29.575224,-92.125656,-105.17911,-110.77906,10.09569,-165.83975,43.006382,60.84993,-55.725033,-157.9625,-69.83168,105.41536,-142.38544,35.35307,98.9651,13.86898,-104.40955,-66.25164,-58.07639,31.425327,171.19234,66.28653,85.218315,91.47302,99.12206,-106.537964,-14.573621,-7.84663,41.65836,-144.30115,145.13644,119.92843,153.84276,14.166094,134.74147,-1.0791516,-54.201813,51.174484,-41.238815,-16.792538,-28.435202,-29.575224,-92.125656,-105.17911,-110.77906,10.09569,-165.83975,43.006382,60.84993,-76.21981,-157.9625,-69.83168,105.41536,-142.38544,35.35307,98.9651,13.86898,-104.40955,-66.25164,-58.07639,31.425327,171.19234,66.28653,85.218315,91.47302,99.12206,-106.537964,-14.573621,-7.84663,41.65836,-144.30115,145.13644,119.92843,153.84276,14.166094,134.74147,-1.0791516,-54.201813,51.174484,-41.238815,-16.792538,-28.435202,-29.575224,-92.125656,-105.17911,-110.77906,10.09569,-165.83975,43.006382,60.84993,-76.21981,-157.9625,-69.83168,105.41536,-142.38544,35.35307,98.9651,13.86898,-104.40955,-66.25164,-58.07639,31.425327,171.19234,66.28653,85.218315,91.47302,99.12206,-106.537964,-14.573621,-7.84663,41.65836,-144.30115,145.13644,119.92843,153.84276,14.166094,134.74147,-1.0791516,-54.201813,51.174484,-41.238815,-16.792538,-28.435202,-29.575224,-92.125656,-105.17911,-110.77906,10.09569,-165.83975,43.006382,60.84993,-76.21981,-157.9625,-69.83168,105.41536,-142.38544,35.35307,98.9651,13.86898,-104.40955,-66.25164,-58.07639,31.425327,171.19234,66.28653,85.218315,91.47302,99.12206,-106.537964,-14.573621,-7.84663,41.65836,-144.30115,145.13644,119.92843,153.84276,14.166094,134.74147,-1.0791516,-54.201813,51.174484,-41.238815,-16.792538,-28.435202,-29.575224,-92.125656,-105.17911,-110.77906,10.09569,-165.83975,43.006382,60.84993,-76.21981,-157.9625,-69.83168,105.41536,-142.38544,35.35307,98.9651,13.86898,-104.40955,-66.25164,-58.07639,31.425327,171.19234,66.28653,85.218315,91.47302,99.12206,-106.537964,-14.573621,-7.84663,41.65836,-144.30115,145.13644,119.92843,153.84276,14.166094,134.74147,-1.0791516,-54.201813,51.174484,-41.238815,-16.792538,-28.435202,-29.575224,-92.125656,-105.17911,-110.77906,10.09569,-165.83975,43.006382,60.84993,-76.21981,-157.9625,-69.83168,105.41536,-142.38544,35.35307,98.9651,13.86898,-104.40955,-66.25164,-58.07639,31.425327,171.19234,66.28653,85.218315,91.47302,99.12206,-106.537964,-14.573621,-7.84663,41.65836,-144.30115,145.13644,119.92843,153.84276,14.166094,134.74147,-1.0791516,-54.201813,51.174484,-41.238815,-16.792538,-28.435202,-29.575224,-92.125656,-105.17911,-110.77906,10.09569,-165.83975,43.006382,60.84993,-76.21981,-157.9625,-69.83168,105.41536,-142.38544,35.35307,98.9651,13.86898,-104.40955,-66.25164,-58.07639,31.425327,171.19234,66.28653,85.218315,91.47302,99.12206,-106.537964,-14.573621,-7.84663,41.65836,-144.30115,145.13644,119.92843,153.84276,14.166094,134.74147,-1.0791516,-54.201813,51.174484,-41.238815,-16.792538,-28.435202,-29.575224,-92.125656,-105.17911,-110.77906,10.09569,-165.83975,43.006382,60.84993,-76.21981,-157.9625,-69.83168,105.41536,-142.38544,35.35307,98.9651,13.86898,-104.40955,-66.25164,-58.07639,31.425327,171.19234,66.28653,85.218315,91.47302,99.12206,-106.537964,-14.573621,-7.84663,41.65836,-144.30115,145.13644,119.92843,153.84276,-46.51433,134.74147,-1.0791516,-54.201813,51.174484,-41.238815,-20.615744,-28.949574,-29.575224,-92.125656,-100.242744,-110.77906,19.689903,-165.83975,43.006382,60.84993,-76.21981,-157.9625,-69.83168,105.41536,-142.38544,35.35307,98.9651,13.86898,-104.40955,-66.25164,-58.07639,31.425327,171.19234,66.28653,85.218315,91.47302,99.12206,-106.537964,-14.573621,-7.84663,41.65836,-144.30115,145.13644,119.92843,153.84276,-46.51433,134.74147,-1.0791516,-54.201813,51.174484,-41.238815,-20.615744,-28.949574,-29.575224,-92.125656,-100.242744,-110.77906,19.689903,-165.83975,43.006382,60.84993,-76.21981,-157.9625,-69.83168,105.41536,-142.38544,35.35307,98.9651,13.86898,-104.40955,-66.25164,-58.07639,31.425327,171.19234,66.28653,85.218315,91.47302,99.12206,-106.537964,-14.573621,-7.84663,41.65836,-144.30115,145.13644,119.92843,153.84276,-46.51433,134.74147,-1.0791516,-54.201813,51.174484,-41.238815,-20.615744,-28.949574,-29.575224,-92.125656,-100.242744,-110.77906,19.689903,-165.83975,43.006382,60.84993,-76.21981,-157.9625,-69.83168,105.41536,-142.38544,35.35307,98.9651,13.86898,-104.40955,-66.25164,-58.07639,31.425327,171.19234,66.28653,85.218315,91.47302,99.12206,-106.537964,-14.573621,-7.84663,41.65836,-144.30115,145.13644,119.92843,153.84276,-46.51433,134.74147,-1.0791516,-54.201813,51.174484,-41.238815,-20.615744,-28.949574,-29.575224,-92.125656,-100.242744,-110.77906,19.689903],\"yaxis\":\"y\",\"type\":\"scattergl\"}],                        {\"template\":{\"data\":{\"histogram2dcontour\":[{\"type\":\"histogram2dcontour\",\"colorbar\":{\"outlinewidth\":0,\"ticks\":\"\"},\"colorscale\":[[0.0,\"#0d0887\"],[0.1111111111111111,\"#46039f\"],[0.2222222222222222,\"#7201a8\"],[0.3333333333333333,\"#9c179e\"],[0.4444444444444444,\"#bd3786\"],[0.5555555555555556,\"#d8576b\"],[0.6666666666666666,\"#ed7953\"],[0.7777777777777778,\"#fb9f3a\"],[0.8888888888888888,\"#fdca26\"],[1.0,\"#f0f921\"]]}],\"choropleth\":[{\"type\":\"choropleth\",\"colorbar\":{\"outlinewidth\":0,\"ticks\":\"\"}}],\"histogram2d\":[{\"type\":\"histogram2d\",\"colorbar\":{\"outlinewidth\":0,\"ticks\":\"\"},\"colorscale\":[[0.0,\"#0d0887\"],[0.1111111111111111,\"#46039f\"],[0.2222222222222222,\"#7201a8\"],[0.3333333333333333,\"#9c179e\"],[0.4444444444444444,\"#bd3786\"],[0.5555555555555556,\"#d8576b\"],[0.6666666666666666,\"#ed7953\"],[0.7777777777777778,\"#fb9f3a\"],[0.8888888888888888,\"#fdca26\"],[1.0,\"#f0f921\"]]}],\"heatmap\":[{\"type\":\"heatmap\",\"colorbar\":{\"outlinewidth\":0,\"ticks\":\"\"},\"colorscale\":[[0.0,\"#0d0887\"],[0.1111111111111111,\"#46039f\"],[0.2222222222222222,\"#7201a8\"],[0.3333333333333333,\"#9c179e\"],[0.4444444444444444,\"#bd3786\"],[0.5555555555555556,\"#d8576b\"],[0.6666666666666666,\"#ed7953\"],[0.7777777777777778,\"#fb9f3a\"],[0.8888888888888888,\"#fdca26\"],[1.0,\"#f0f921\"]]}],\"heatmapgl\":[{\"type\":\"heatmapgl\",\"colorbar\":{\"outlinewidth\":0,\"ticks\":\"\"},\"colorscale\":[[0.0,\"#0d0887\"],[0.1111111111111111,\"#46039f\"],[0.2222222222222222,\"#7201a8\"],[0.3333333333333333,\"#9c179e\"],[0.4444444444444444,\"#bd3786\"],[0.5555555555555556,\"#d8576b\"],[0.6666666666666666,\"#ed7953\"],[0.7777777777777778,\"#fb9f3a\"],[0.8888888888888888,\"#fdca26\"],[1.0,\"#f0f921\"]]}],\"contourcarpet\":[{\"type\":\"contourcarpet\",\"colorbar\":{\"outlinewidth\":0,\"ticks\":\"\"}}],\"contour\":[{\"type\":\"contour\",\"colorbar\":{\"outlinewidth\":0,\"ticks\":\"\"},\"colorscale\":[[0.0,\"#0d0887\"],[0.1111111111111111,\"#46039f\"],[0.2222222222222222,\"#7201a8\"],[0.3333333333333333,\"#9c179e\"],[0.4444444444444444,\"#bd3786\"],[0.5555555555555556,\"#d8576b\"],[0.6666666666666666,\"#ed7953\"],[0.7777777777777778,\"#fb9f3a\"],[0.8888888888888888,\"#fdca26\"],[1.0,\"#f0f921\"]]}],\"surface\":[{\"type\":\"surface\",\"colorbar\":{\"outlinewidth\":0,\"ticks\":\"\"},\"colorscale\":[[0.0,\"#0d0887\"],[0.1111111111111111,\"#46039f\"],[0.2222222222222222,\"#7201a8\"],[0.3333333333333333,\"#9c179e\"],[0.4444444444444444,\"#bd3786\"],[0.5555555555555556,\"#d8576b\"],[0.6666666666666666,\"#ed7953\"],[0.7777777777777778,\"#fb9f3a\"],[0.8888888888888888,\"#fdca26\"],[1.0,\"#f0f921\"]]}],\"mesh3d\":[{\"type\":\"mesh3d\",\"colorbar\":{\"outlinewidth\":0,\"ticks\":\"\"}}],\"scatter\":[{\"fillpattern\":{\"fillmode\":\"overlay\",\"size\":10,\"solidity\":0.2},\"type\":\"scatter\"}],\"parcoords\":[{\"type\":\"parcoords\",\"line\":{\"colorbar\":{\"outlinewidth\":0,\"ticks\":\"\"}}}],\"scatterpolargl\":[{\"type\":\"scatterpolargl\",\"marker\":{\"colorbar\":{\"outlinewidth\":0,\"ticks\":\"\"}}}],\"bar\":[{\"error_x\":{\"color\":\"#2a3f5f\"},\"error_y\":{\"color\":\"#2a3f5f\"},\"marker\":{\"line\":{\"color\":\"#E5ECF6\",\"width\":0.5},\"pattern\":{\"fillmode\":\"overlay\",\"size\":10,\"solidity\":0.2}},\"type\":\"bar\"}],\"scattergeo\":[{\"type\":\"scattergeo\",\"marker\":{\"colorbar\":{\"outlinewidth\":0,\"ticks\":\"\"}}}],\"scatterpolar\":[{\"type\":\"scatterpolar\",\"marker\":{\"colorbar\":{\"outlinewidth\":0,\"ticks\":\"\"}}}],\"histogram\":[{\"marker\":{\"pattern\":{\"fillmode\":\"overlay\",\"size\":10,\"solidity\":0.2}},\"type\":\"histogram\"}],\"scattergl\":[{\"type\":\"scattergl\",\"marker\":{\"colorbar\":{\"outlinewidth\":0,\"ticks\":\"\"}}}],\"scatter3d\":[{\"type\":\"scatter3d\",\"line\":{\"colorbar\":{\"outlinewidth\":0,\"ticks\":\"\"}},\"marker\":{\"colorbar\":{\"outlinewidth\":0,\"ticks\":\"\"}}}],\"scattermapbox\":[{\"type\":\"scattermapbox\",\"marker\":{\"colorbar\":{\"outlinewidth\":0,\"ticks\":\"\"}}}],\"scatterternary\":[{\"type\":\"scatterternary\",\"marker\":{\"colorbar\":{\"outlinewidth\":0,\"ticks\":\"\"}}}],\"scattercarpet\":[{\"type\":\"scattercarpet\",\"marker\":{\"colorbar\":{\"outlinewidth\":0,\"ticks\":\"\"}}}],\"carpet\":[{\"aaxis\":{\"endlinecolor\":\"#2a3f5f\",\"gridcolor\":\"white\",\"linecolor\":\"white\",\"minorgridcolor\":\"white\",\"startlinecolor\":\"#2a3f5f\"},\"baxis\":{\"endlinecolor\":\"#2a3f5f\",\"gridcolor\":\"white\",\"linecolor\":\"white\",\"minorgridcolor\":\"white\",\"startlinecolor\":\"#2a3f5f\"},\"type\":\"carpet\"}],\"table\":[{\"cells\":{\"fill\":{\"color\":\"#EBF0F8\"},\"line\":{\"color\":\"white\"}},\"header\":{\"fill\":{\"color\":\"#C8D4E3\"},\"line\":{\"color\":\"white\"}},\"type\":\"table\"}],\"barpolar\":[{\"marker\":{\"line\":{\"color\":\"#E5ECF6\",\"width\":0.5},\"pattern\":{\"fillmode\":\"overlay\",\"size\":10,\"solidity\":0.2}},\"type\":\"barpolar\"}],\"pie\":[{\"automargin\":true,\"type\":\"pie\"}]},\"layout\":{\"autotypenumbers\":\"strict\",\"colorway\":[\"#636efa\",\"#EF553B\",\"#00cc96\",\"#ab63fa\",\"#FFA15A\",\"#19d3f3\",\"#FF6692\",\"#B6E880\",\"#FF97FF\",\"#FECB52\"],\"font\":{\"color\":\"#2a3f5f\"},\"hovermode\":\"closest\",\"hoverlabel\":{\"align\":\"left\"},\"paper_bgcolor\":\"white\",\"plot_bgcolor\":\"#E5ECF6\",\"polar\":{\"bgcolor\":\"#E5ECF6\",\"angularaxis\":{\"gridcolor\":\"white\",\"linecolor\":\"white\",\"ticks\":\"\"},\"radialaxis\":{\"gridcolor\":\"white\",\"linecolor\":\"white\",\"ticks\":\"\"}},\"ternary\":{\"bgcolor\":\"#E5ECF6\",\"aaxis\":{\"gridcolor\":\"white\",\"linecolor\":\"white\",\"ticks\":\"\"},\"baxis\":{\"gridcolor\":\"white\",\"linecolor\":\"white\",\"ticks\":\"\"},\"caxis\":{\"gridcolor\":\"white\",\"linecolor\":\"white\",\"ticks\":\"\"}},\"coloraxis\":{\"colorbar\":{\"outlinewidth\":0,\"ticks\":\"\"}},\"colorscale\":{\"sequential\":[[0.0,\"#0d0887\"],[0.1111111111111111,\"#46039f\"],[0.2222222222222222,\"#7201a8\"],[0.3333333333333333,\"#9c179e\"],[0.4444444444444444,\"#bd3786\"],[0.5555555555555556,\"#d8576b\"],[0.6666666666666666,\"#ed7953\"],[0.7777777777777778,\"#fb9f3a\"],[0.8888888888888888,\"#fdca26\"],[1.0,\"#f0f921\"]],\"sequentialminus\":[[0.0,\"#0d0887\"],[0.1111111111111111,\"#46039f\"],[0.2222222222222222,\"#7201a8\"],[0.3333333333333333,\"#9c179e\"],[0.4444444444444444,\"#bd3786\"],[0.5555555555555556,\"#d8576b\"],[0.6666666666666666,\"#ed7953\"],[0.7777777777777778,\"#fb9f3a\"],[0.8888888888888888,\"#fdca26\"],[1.0,\"#f0f921\"]],\"diverging\":[[0,\"#8e0152\"],[0.1,\"#c51b7d\"],[0.2,\"#de77ae\"],[0.3,\"#f1b6da\"],[0.4,\"#fde0ef\"],[0.5,\"#f7f7f7\"],[0.6,\"#e6f5d0\"],[0.7,\"#b8e186\"],[0.8,\"#7fbc41\"],[0.9,\"#4d9221\"],[1,\"#276419\"]]},\"xaxis\":{\"gridcolor\":\"white\",\"linecolor\":\"white\",\"ticks\":\"\",\"title\":{\"standoff\":15},\"zerolinecolor\":\"white\",\"automargin\":true,\"zerolinewidth\":2},\"yaxis\":{\"gridcolor\":\"white\",\"linecolor\":\"white\",\"ticks\":\"\",\"title\":{\"standoff\":15},\"zerolinecolor\":\"white\",\"automargin\":true,\"zerolinewidth\":2},\"scene\":{\"xaxis\":{\"backgroundcolor\":\"#E5ECF6\",\"gridcolor\":\"white\",\"linecolor\":\"white\",\"showbackground\":true,\"ticks\":\"\",\"zerolinecolor\":\"white\",\"gridwidth\":2},\"yaxis\":{\"backgroundcolor\":\"#E5ECF6\",\"gridcolor\":\"white\",\"linecolor\":\"white\",\"showbackground\":true,\"ticks\":\"\",\"zerolinecolor\":\"white\",\"gridwidth\":2},\"zaxis\":{\"backgroundcolor\":\"#E5ECF6\",\"gridcolor\":\"white\",\"linecolor\":\"white\",\"showbackground\":true,\"ticks\":\"\",\"zerolinecolor\":\"white\",\"gridwidth\":2}},\"shapedefaults\":{\"line\":{\"color\":\"#2a3f5f\"}},\"annotationdefaults\":{\"arrowcolor\":\"#2a3f5f\",\"arrowhead\":0,\"arrowwidth\":1},\"geo\":{\"bgcolor\":\"white\",\"landcolor\":\"#E5ECF6\",\"subunitcolor\":\"white\",\"showland\":true,\"showlakes\":true,\"lakecolor\":\"white\"},\"title\":{\"x\":0.05},\"mapbox\":{\"style\":\"light\"}}},\"xaxis\":{\"anchor\":\"y\",\"domain\":[0.0,1.0],\"title\":{\"text\":\"TSNE Component 1\"}},\"yaxis\":{\"anchor\":\"x\",\"domain\":[0.0,1.0],\"title\":{\"text\":\"TSNE Component 2\"}},\"coloraxis\":{\"colorbar\":{\"title\":{\"text\":\"Cluster\"}},\"colorscale\":[[0.0,\"rgb(229, 134, 6)\"],[0.1,\"rgb(93, 105, 177)\"],[0.2,\"rgb(82, 188, 163)\"],[0.3,\"rgb(153, 201, 69)\"],[0.4,\"rgb(204, 97, 176)\"],[0.5,\"rgb(36, 121, 108)\"],[0.6,\"rgb(218, 165, 27)\"],[0.7,\"rgb(47, 138, 196)\"],[0.8,\"rgb(118, 78, 159)\"],[0.9,\"rgb(237, 100, 90)\"],[1.0,\"rgb(165, 170, 153)\"]]},\"legend\":{\"tracegroupgap\":0},\"title\":{\"text\":\"t-SNE Visualization of Symptom Clusters\"}},                        {\"responsive\": true}                    ).then(function(){\n",
       "                            \n",
       "var gd = document.getElementById('060f7cd1-03d5-442d-8348-18e6f6d6d1e0');\n",
       "var x = new MutationObserver(function (mutations, observer) {{\n",
       "        var display = window.getComputedStyle(gd).display;\n",
       "        if (!display || display === 'none') {{\n",
       "            console.log([gd, 'removed!']);\n",
       "            Plotly.purge(gd);\n",
       "            observer.disconnect();\n",
       "        }}\n",
       "}});\n",
       "\n",
       "// Listen for the removal of the full notebook cells\n",
       "var notebookContainer = gd.closest('#notebook-container');\n",
       "if (notebookContainer) {{\n",
       "    x.observe(notebookContainer, {childList: true});\n",
       "}}\n",
       "\n",
       "// Listen for the clearing of the current output cell\n",
       "var outputEl = gd.closest('.output');\n",
       "if (outputEl) {{\n",
       "    x.observe(outputEl, {childList: true});\n",
       "}}\n",
       "\n",
       "                        })                };                });            </script>        </div>"
      ]
     },
     "metadata": {},
     "output_type": "display_data"
    }
   ],
   "source": [
    "# Reduce dimensionality for visualization\n",
    "tsne = TSNE(n_components=2, random_state=42)\n",
    "X_tsne = tsne.fit_transform(X.toarray())\n",
    "\n",
    "# Create a DataFrame with the t-SNE results and the cluster labels\n",
    "tsne_df = pd.DataFrame(X_tsne, columns=['TSNE Component 1', 'TSNE Component 2'])\n",
    "tsne_df['Cluster'] = data['cluster']\n",
    "tsne_df['Disease'] = data['Disease']\n",
    "\n",
    "# Interactive plot using Plotly Express\n",
    "fig = px.scatter(\n",
    "    tsne_df, \n",
    "    x='TSNE Component 1', \n",
    "    y='TSNE Component 2', \n",
    "    color='Cluster', \n",
    "    hover_data=['Disease'],\n",
    "    title='t-SNE Visualization of Symptom Clusters',\n",
    "    color_continuous_scale=px.colors.qualitative.Vivid\n",
    ")\n",
    "\n",
    "fig.show()"
   ]
  },
  {
   "cell_type": "markdown",
   "id": "f51b6a87",
   "metadata": {
    "papermill": {
     "duration": 0.034785,
     "end_time": "2024-06-20T03:28:28.033718",
     "exception": false,
     "start_time": "2024-06-20T03:28:27.998933",
     "status": "completed"
    },
    "tags": []
   },
   "source": [
    "### Looking much better. Now let's test all the models."
   ]
  },
  {
   "cell_type": "code",
   "execution_count": 36,
   "id": "fc710436",
   "metadata": {
    "execution": {
     "iopub.execute_input": "2024-06-20T03:28:28.105306Z",
     "iopub.status.busy": "2024-06-20T03:28:28.104979Z",
     "iopub.status.idle": "2024-06-20T03:28:28.662798Z",
     "shell.execute_reply": "2024-06-20T03:28:28.661550Z"
    },
    "papermill": {
     "duration": 0.595897,
     "end_time": "2024-06-20T03:28:28.664844",
     "exception": false,
     "start_time": "2024-06-20T03:28:28.068947",
     "status": "completed"
    },
    "tags": []
   },
   "outputs": [
    {
     "name": "stdout",
     "output_type": "stream",
     "text": [
      "\u001b[1m1/1\u001b[0m \u001b[32m━━━━━━━━━━━━━━━━━━━━\u001b[0m\u001b[37m\u001b[0m \u001b[1m0s\u001b[0m 473ms/step\n",
      "Using LSTM,the predicted disease for the symptoms 'breathlessness,cough' is: Impetigo\n",
      "\n",
      "Using Embeddings,the predicted disease for the symptoms 'breathlessness,cough' is: Gastroenteritis\n",
      "\n",
      "Using TF-IDF,the predicted disease for the symptoms 'breathlessness,cough' is: Bronchial Asthma\n"
     ]
    }
   ],
   "source": [
    "def predict_disease(user_input):\n",
    "    \n",
    "    '''\n",
    "    Predict the disease based on the provided symptoms using three different models:\n",
    "    LSTM, Embeddings, and TF-IDF.\n",
    "\n",
    "    Args:\n",
    "        user_input (str): A string of symptoms separated by commas, representing the symptoms provided by the user for disease prediction.\n",
    "\n",
    "    Returns:\n",
    "        LSTM_prediction (str): The disease predicted by the LSTM model.\n",
    "        predicted_disease_tfidf (str): The disease predicted by the TF-IDF and k-means clustering model.\n",
    "        predicted_disease_embed (str): The disease predicted by the Keras vectorizer and embedding model.\n",
    "    '''\n",
    "    \n",
    "    \n",
    "    #LSTM\n",
    "    user_input_array = np.array([user_input], dtype=object)\n",
    "    user_prediction = model_1.predict(user_input_array)\n",
    "    LSTM_prediction = label_mapping[user_prediction.argmax()]\n",
    "    \n",
    "    # Keras vectorizer and embedding\n",
    "    user_input_vector = text_vectorizer([user_input])\n",
    "    user_input_vector_embed = embedding(user_input_vector)\n",
    "    user_input_vector_avg = global_avg_pooling(user_input_vector_embed).numpy()\n",
    "    predicted_cluster_embed = kmeans_1.predict(user_input_vector_avg)\n",
    "    cluster_to_disease_embed = data.groupby('cluster_embed')['Disease'].apply(lambda x: x.mode()[0]).to_dict()\n",
    "    predicted_disease_embed = cluster_to_disease_embed[predicted_cluster_embed[0]]\n",
    "    \n",
    "    # TF-IDF\n",
    "    user_input_tfidf = vectorizer.transform([user_input])\n",
    "    predicted_cluster_tfidf = kmeans_2.predict(user_input_tfidf)\n",
    "    cluster_to_disease = data.groupby('cluster')['Disease'].apply(lambda x: x.mode()[0]).to_dict()\n",
    "    predicted_disease_tfidf = cluster_to_disease[predicted_cluster_tfidf[0]]\n",
    "    \n",
    "    return LSTM_prediction, predicted_disease_tfidf, predicted_disease_embed\n",
    "\n",
    "\n",
    "user_input = \"breathlessness,cough\" # These symptoms are taken from Bronchial Asthma symptoms\n",
    "LSTM_prediction, predicted_disease_tfidf, predicted_disease_embed = predict_disease(user_input)\n",
    "print(f\"Using LSTM,the predicted disease for the symptoms '{user_input}' is: {LSTM_prediction}\\n\")\n",
    "print(f\"Using Embeddings,the predicted disease for the symptoms '{user_input}' is: {predicted_disease_embed}\\n\")\n",
    "print(f\"Using TF-IDF,the predicted disease for the symptoms '{user_input}' is: {predicted_disease_tfidf}\")"
   ]
  },
  {
   "cell_type": "markdown",
   "id": "8388b017",
   "metadata": {
    "papermill": {
     "duration": 0.036094,
     "end_time": "2024-06-20T03:28:28.740001",
     "exception": false,
     "start_time": "2024-06-20T03:28:28.703907",
     "status": "completed"
    },
    "tags": []
   },
   "source": [
    "### Looks like the TF-IDF model is the most accurate one, but let's test the models even further."
   ]
  },
  {
   "cell_type": "code",
   "execution_count": 37,
   "id": "0a41612f",
   "metadata": {
    "execution": {
     "iopub.execute_input": "2024-06-20T03:28:28.812744Z",
     "iopub.status.busy": "2024-06-20T03:28:28.812411Z",
     "iopub.status.idle": "2024-06-20T03:28:30.652092Z",
     "shell.execute_reply": "2024-06-20T03:28:30.651242Z"
    },
    "papermill": {
     "duration": 1.878514,
     "end_time": "2024-06-20T03:28:30.654157",
     "exception": false,
     "start_time": "2024-06-20T03:28:28.775643",
     "status": "completed"
    },
    "tags": []
   },
   "outputs": [
    {
     "data": {
      "text/html": [
       "<style type=\"text/css\">\n",
       "#T_98792_row0_col2, #T_98792_row0_col4, #T_98792_row1_col4, #T_98792_row2_col4, #T_98792_row3_col4, #T_98792_row4_col4, #T_98792_row5_col2, #T_98792_row5_col3, #T_98792_row5_col4, #T_98792_row6_col4, #T_98792_row7_col2, #T_98792_row7_col4, #T_98792_row8_col2, #T_98792_row8_col3, #T_98792_row8_col4, #T_98792_row9_col2, #T_98792_row9_col4, #T_98792_row10_col2, #T_98792_row10_col4, #T_98792_row11_col4, #T_98792_row12_col2, #T_98792_row12_col3, #T_98792_row12_col4, #T_98792_row13_col2, #T_98792_row13_col4, #T_98792_row17_col2, #T_98792_row17_col4, #T_98792_row18_col2, #T_98792_row18_col3, #T_98792_row18_col4, #T_98792_row19_col4 {\n",
       "  background-color: darkgreen;\n",
       "}\n",
       "</style>\n",
       "<table id=\"T_98792\">\n",
       "  <thead>\n",
       "    <tr>\n",
       "      <th class=\"blank level0\" >&nbsp;</th>\n",
       "      <th id=\"T_98792_level0_col0\" class=\"col_heading level0 col0\" >Shuffled Tokens</th>\n",
       "      <th id=\"T_98792_level0_col1\" class=\"col_heading level0 col1\" >Actual Disease</th>\n",
       "      <th id=\"T_98792_level0_col2\" class=\"col_heading level0 col2\" >LSTM Prediction</th>\n",
       "      <th id=\"T_98792_level0_col3\" class=\"col_heading level0 col3\" >Embedding Prediction</th>\n",
       "      <th id=\"T_98792_level0_col4\" class=\"col_heading level0 col4\" >TF-IDF Prediction</th>\n",
       "    </tr>\n",
       "  </thead>\n",
       "  <tbody>\n",
       "    <tr>\n",
       "      <th id=\"T_98792_level0_row0\" class=\"row_heading level0 row0\" >0</th>\n",
       "      <td id=\"T_98792_row0_col0\" class=\"data row0 col0\" >extra marital contacts</td>\n",
       "      <td id=\"T_98792_row0_col1\" class=\"data row0 col1\" >AIDS</td>\n",
       "      <td id=\"T_98792_row0_col2\" class=\"data row0 col2\" >AIDS</td>\n",
       "      <td id=\"T_98792_row0_col3\" class=\"data row0 col3\" >Gastroenteritis</td>\n",
       "      <td id=\"T_98792_row0_col4\" class=\"data row0 col4\" >AIDS</td>\n",
       "    </tr>\n",
       "    <tr>\n",
       "      <th id=\"T_98792_level0_row1\" class=\"row_heading level0 row1\" >1</th>\n",
       "      <td id=\"T_98792_row1_col0\" class=\"data row1 col0\" >cough, muscle pain, fatigue, sinus pressure, chest pain, throat irritation, malaise</td>\n",
       "      <td id=\"T_98792_row1_col1\" class=\"data row1 col1\" >Common Cold</td>\n",
       "      <td id=\"T_98792_row1_col2\" class=\"data row1 col2\" >Osteoarthristis</td>\n",
       "      <td id=\"T_98792_row1_col3\" class=\"data row1 col3\" >Malaria</td>\n",
       "      <td id=\"T_98792_row1_col4\" class=\"data row1 col4\" >Common Cold</td>\n",
       "    </tr>\n",
       "    <tr>\n",
       "      <th id=\"T_98792_level0_row2\" class=\"row_heading level0 row2\" >2</th>\n",
       "      <td id=\"T_98792_row2_col0\" class=\"data row2 col0\" >sinus pressure</td>\n",
       "      <td id=\"T_98792_row2_col1\" class=\"data row2 col1\" >Common Cold</td>\n",
       "      <td id=\"T_98792_row2_col2\" class=\"data row2 col2\" >Bronchial Asthma</td>\n",
       "      <td id=\"T_98792_row2_col3\" class=\"data row2 col3\" >Heart attack</td>\n",
       "      <td id=\"T_98792_row2_col4\" class=\"data row2 col4\" >Common Cold</td>\n",
       "    </tr>\n",
       "    <tr>\n",
       "      <th id=\"T_98792_level0_row3\" class=\"row_heading level0 row3\" >3</th>\n",
       "      <td id=\"T_98792_row3_col0\" class=\"data row3 col0\" >weight loss, lethargy, excessive hunger, increased appetite, obesity</td>\n",
       "      <td id=\"T_98792_row3_col1\" class=\"data row3 col1\" >Diabetes </td>\n",
       "      <td id=\"T_98792_row3_col2\" class=\"data row3 col2\" >Hypertension </td>\n",
       "      <td id=\"T_98792_row3_col3\" class=\"data row3 col3\" >Hypertension </td>\n",
       "      <td id=\"T_98792_row3_col4\" class=\"data row3 col4\" >Diabetes </td>\n",
       "    </tr>\n",
       "    <tr>\n",
       "      <th id=\"T_98792_level0_row4\" class=\"row_heading level0 row4\" >4</th>\n",
       "      <td id=\"T_98792_row4_col0\" class=\"data row4 col0\" >continuous sneezing, chest pain, congestion, runny nose, cough, throat irritation, sinus pressure, loss of smell, phlegm, chills</td>\n",
       "      <td id=\"T_98792_row4_col1\" class=\"data row4 col1\" >Common Cold</td>\n",
       "      <td id=\"T_98792_row4_col2\" class=\"data row4 col2\" >hepatitis A</td>\n",
       "      <td id=\"T_98792_row4_col3\" class=\"data row4 col3\" >Hepatitis D</td>\n",
       "      <td id=\"T_98792_row4_col4\" class=\"data row4 col4\" >Common Cold</td>\n",
       "    </tr>\n",
       "    <tr>\n",
       "      <th id=\"T_98792_level0_row5\" class=\"row_heading level0 row5\" >5</th>\n",
       "      <td id=\"T_98792_row5_col0\" class=\"data row5 col0\" >stomach pain, ulcers on tongue, cough, chest pain, acidity, vomiting</td>\n",
       "      <td id=\"T_98792_row5_col1\" class=\"data row5 col1\" >GERD</td>\n",
       "      <td id=\"T_98792_row5_col2\" class=\"data row5 col2\" >GERD</td>\n",
       "      <td id=\"T_98792_row5_col3\" class=\"data row5 col3\" >GERD</td>\n",
       "      <td id=\"T_98792_row5_col4\" class=\"data row5 col4\" >GERD</td>\n",
       "    </tr>\n",
       "    <tr>\n",
       "      <th id=\"T_98792_level0_row6\" class=\"row_heading level0 row6\" >6</th>\n",
       "      <td id=\"T_98792_row6_col0\" class=\"data row6 col0\" >continuous feel of urine</td>\n",
       "      <td id=\"T_98792_row6_col1\" class=\"data row6 col1\" >Urinary tract infection</td>\n",
       "      <td id=\"T_98792_row6_col2\" class=\"data row6 col2\" >(vertigo) Paroymsal  Positional Vertigo</td>\n",
       "      <td id=\"T_98792_row6_col3\" class=\"data row6 col3\" >Heart attack</td>\n",
       "      <td id=\"T_98792_row6_col4\" class=\"data row6 col4\" >Urinary tract infection</td>\n",
       "    </tr>\n",
       "    <tr>\n",
       "      <th id=\"T_98792_level0_row7\" class=\"row_heading level0 row7\" >7</th>\n",
       "      <td id=\"T_98792_row7_col0\" class=\"data row7 col0\" >loss of appetite, yellowing of eyes, dark urine, joint pain, nausea, abdominal pain</td>\n",
       "      <td id=\"T_98792_row7_col1\" class=\"data row7 col1\" >Hepatitis D</td>\n",
       "      <td id=\"T_98792_row7_col2\" class=\"data row7 col2\" >Hepatitis D</td>\n",
       "      <td id=\"T_98792_row7_col3\" class=\"data row7 col3\" >Chronic cholestasis</td>\n",
       "      <td id=\"T_98792_row7_col4\" class=\"data row7 col4\" >Hepatitis D</td>\n",
       "    </tr>\n",
       "    <tr>\n",
       "      <th id=\"T_98792_level0_row8\" class=\"row_heading level0 row8\" >8</th>\n",
       "      <td id=\"T_98792_row8_col0\" class=\"data row8 col0\" >family history, yellowing of eyes, yellowish skin, loss of appetite, fatigue</td>\n",
       "      <td id=\"T_98792_row8_col1\" class=\"data row8 col1\" >Hepatitis C</td>\n",
       "      <td id=\"T_98792_row8_col2\" class=\"data row8 col2\" >Hepatitis C</td>\n",
       "      <td id=\"T_98792_row8_col3\" class=\"data row8 col3\" >Hepatitis C</td>\n",
       "      <td id=\"T_98792_row8_col4\" class=\"data row8 col4\" >Hepatitis C</td>\n",
       "    </tr>\n",
       "    <tr>\n",
       "      <th id=\"T_98792_level0_row9\" class=\"row_heading level0 row9\" >9</th>\n",
       "      <td id=\"T_98792_row9_col0\" class=\"data row9 col0\" >blackheads, scurring</td>\n",
       "      <td id=\"T_98792_row9_col1\" class=\"data row9 col1\" >Acne</td>\n",
       "      <td id=\"T_98792_row9_col2\" class=\"data row9 col2\" >Acne</td>\n",
       "      <td id=\"T_98792_row9_col3\" class=\"data row9 col3\" >Heart attack</td>\n",
       "      <td id=\"T_98792_row9_col4\" class=\"data row9 col4\" >Acne</td>\n",
       "    </tr>\n",
       "    <tr>\n",
       "      <th id=\"T_98792_level0_row10\" class=\"row_heading level0 row10\" >10</th>\n",
       "      <td id=\"T_98792_row10_col0\" class=\"data row10 col0\" >mild fever, muscle pain, yellowish skin, nausea, loss of appetite, dark urine, joint pain, abdominal pain, diarrhoea</td>\n",
       "      <td id=\"T_98792_row10_col1\" class=\"data row10 col1\" >hepatitis A</td>\n",
       "      <td id=\"T_98792_row10_col2\" class=\"data row10 col2\" >hepatitis A</td>\n",
       "      <td id=\"T_98792_row10_col3\" class=\"data row10 col3\" >Hepatitis D</td>\n",
       "      <td id=\"T_98792_row10_col4\" class=\"data row10 col4\" >hepatitis A</td>\n",
       "    </tr>\n",
       "    <tr>\n",
       "      <th id=\"T_98792_level0_row11\" class=\"row_heading level0 row11\" >11</th>\n",
       "      <td id=\"T_98792_row11_col0\" class=\"data row11 col0\" >painful walking</td>\n",
       "      <td id=\"T_98792_row11_col1\" class=\"data row11 col1\" >Arthritis</td>\n",
       "      <td id=\"T_98792_row11_col2\" class=\"data row11 col2\" >Bronchial Asthma</td>\n",
       "      <td id=\"T_98792_row11_col3\" class=\"data row11 col3\" >Heart attack</td>\n",
       "      <td id=\"T_98792_row11_col4\" class=\"data row11 col4\" >Arthritis</td>\n",
       "    </tr>\n",
       "    <tr>\n",
       "      <th id=\"T_98792_level0_row12\" class=\"row_heading level0 row12\" >12</th>\n",
       "      <td id=\"T_98792_row12_col0\" class=\"data row12 col0\" >palpitations, irritability, headache, sweating, anxiety, drying and tingling lips, blurred and distorted vision, slurred speech, fatigue, nausea, vomiting, excessive hunger</td>\n",
       "      <td id=\"T_98792_row12_col1\" class=\"data row12 col1\" >Hypoglycemia</td>\n",
       "      <td id=\"T_98792_row12_col2\" class=\"data row12 col2\" >Hypoglycemia</td>\n",
       "      <td id=\"T_98792_row12_col3\" class=\"data row12 col3\" >Hypoglycemia</td>\n",
       "      <td id=\"T_98792_row12_col4\" class=\"data row12 col4\" >Hypoglycemia</td>\n",
       "    </tr>\n",
       "    <tr>\n",
       "      <th id=\"T_98792_level0_row13\" class=\"row_heading level0 row13\" >13</th>\n",
       "      <td id=\"T_98792_row13_col0\" class=\"data row13 col0\" >indigestion, abdominal pain, loss of appetite</td>\n",
       "      <td id=\"T_98792_row13_col1\" class=\"data row13 col1\" >Peptic ulcer diseae</td>\n",
       "      <td id=\"T_98792_row13_col2\" class=\"data row13 col2\" >Peptic ulcer diseae</td>\n",
       "      <td id=\"T_98792_row13_col3\" class=\"data row13 col3\" >Heart attack</td>\n",
       "      <td id=\"T_98792_row13_col4\" class=\"data row13 col4\" >Peptic ulcer diseae</td>\n",
       "    </tr>\n",
       "    <tr>\n",
       "      <th id=\"T_98792_level0_row14\" class=\"row_heading level0 row14\" >14</th>\n",
       "      <td id=\"T_98792_row14_col0\" class=\"data row14 col0\" >fatigue, sweating</td>\n",
       "      <td id=\"T_98792_row14_col1\" class=\"data row14 col1\" >Pneumonia</td>\n",
       "      <td id=\"T_98792_row14_col2\" class=\"data row14 col2\" >Gastroenteritis</td>\n",
       "      <td id=\"T_98792_row14_col3\" class=\"data row14 col3\" >Gastroenteritis</td>\n",
       "      <td id=\"T_98792_row14_col4\" class=\"data row14 col4\" >Heart attack</td>\n",
       "    </tr>\n",
       "    <tr>\n",
       "      <th id=\"T_98792_level0_row15\" class=\"row_heading level0 row15\" >15</th>\n",
       "      <td id=\"T_98792_row15_col0\" class=\"data row15 col0\" >vomiting</td>\n",
       "      <td id=\"T_98792_row15_col1\" class=\"data row15 col1\" >(vertigo) Paroymsal  Positional Vertigo</td>\n",
       "      <td id=\"T_98792_row15_col2\" class=\"data row15 col2\" >Gastroenteritis</td>\n",
       "      <td id=\"T_98792_row15_col3\" class=\"data row15 col3\" >Heart attack</td>\n",
       "      <td id=\"T_98792_row15_col4\" class=\"data row15 col4\" >Heart attack</td>\n",
       "    </tr>\n",
       "    <tr>\n",
       "      <th id=\"T_98792_level0_row16\" class=\"row_heading level0 row16\" >16</th>\n",
       "      <td id=\"T_98792_row16_col0\" class=\"data row16 col0\" >neck pain</td>\n",
       "      <td id=\"T_98792_row16_col1\" class=\"data row16 col1\" >Osteoarthristis</td>\n",
       "      <td id=\"T_98792_row16_col2\" class=\"data row16 col2\" >Bronchial Asthma</td>\n",
       "      <td id=\"T_98792_row16_col3\" class=\"data row16 col3\" >Heart attack</td>\n",
       "      <td id=\"T_98792_row16_col4\" class=\"data row16 col4\" >Cervical spondylosis</td>\n",
       "    </tr>\n",
       "    <tr>\n",
       "      <th id=\"T_98792_level0_row17\" class=\"row_heading level0 row17\" >17</th>\n",
       "      <td id=\"T_98792_row17_col0\" class=\"data row17 col0\" >family history, fatigue, cough</td>\n",
       "      <td id=\"T_98792_row17_col1\" class=\"data row17 col1\" >Bronchial Asthma</td>\n",
       "      <td id=\"T_98792_row17_col2\" class=\"data row17 col2\" >Bronchial Asthma</td>\n",
       "      <td id=\"T_98792_row17_col3\" class=\"data row17 col3\" >Gastroenteritis</td>\n",
       "      <td id=\"T_98792_row17_col4\" class=\"data row17 col4\" >Bronchial Asthma</td>\n",
       "    </tr>\n",
       "    <tr>\n",
       "      <th id=\"T_98792_level0_row18\" class=\"row_heading level0 row18\" >18</th>\n",
       "      <td id=\"T_98792_row18_col0\" class=\"data row18 col0\" >cough, chest pain, acidity, vomiting, ulcers on tongue</td>\n",
       "      <td id=\"T_98792_row18_col1\" class=\"data row18 col1\" >GERD</td>\n",
       "      <td id=\"T_98792_row18_col2\" class=\"data row18 col2\" >GERD</td>\n",
       "      <td id=\"T_98792_row18_col3\" class=\"data row18 col3\" >GERD</td>\n",
       "      <td id=\"T_98792_row18_col4\" class=\"data row18 col4\" >GERD</td>\n",
       "    </tr>\n",
       "    <tr>\n",
       "      <th id=\"T_98792_level0_row19\" class=\"row_heading level0 row19\" >19</th>\n",
       "      <td id=\"T_98792_row19_col0\" class=\"data row19 col0\" >vomiting, coma, stomach bleeding, fatigue, acute liver failure, abdominal pain, dark urine, yellowish skin, high fever, nausea</td>\n",
       "      <td id=\"T_98792_row19_col1\" class=\"data row19 col1\" >Hepatitis E</td>\n",
       "      <td id=\"T_98792_row19_col2\" class=\"data row19 col2\" >Diabetes </td>\n",
       "      <td id=\"T_98792_row19_col3\" class=\"data row19 col3\" >Typhoid</td>\n",
       "      <td id=\"T_98792_row19_col4\" class=\"data row19 col4\" >Hepatitis E</td>\n",
       "    </tr>\n",
       "  </tbody>\n",
       "</table>\n"
      ],
      "text/plain": [
       "<pandas.io.formats.style.Styler at 0x7a8704111b40>"
      ]
     },
     "execution_count": 37,
     "metadata": {},
     "output_type": "execute_result"
    }
   ],
   "source": [
    "def shuffle_tokens(df, num_tokens=None):\n",
    "    '''\n",
    "    Randomly shuffle and select a subset of tokens (symptoms) from a randomly selected row in the DataFrame.\n",
    "\n",
    "    Args:\n",
    "        df (pd.DataFrame): A DataFrame containing two columns: 'Disease' and 'Basic Tokens'.\n",
    "        num_tokens (int, optional): The number of tokens to select from the shuffled list. If None, a random number of tokens will be selected.\n",
    "\n",
    "    Returns:\n",
    "        disease (str): The disease corresponding to the randomly selected row.\n",
    "        shuffled_tokens (str): A string of randomly shuffled and selected tokens (symptoms) from the chosen row.\n",
    "\n",
    "    '''\n",
    "    # Select a random row index\n",
    "    idx = np.random.randint(0, len(df))\n",
    "\n",
    "    # Retrieve disease value\n",
    "    disease = df.iloc[idx]['Disease']\n",
    "\n",
    "    # Retrieve tokens and shuffle\n",
    "    tokens_str = df.iloc[idx]['Basic Tokens']\n",
    "    tokens_list = [token.strip() for token in tokens_str.split(',')]\n",
    "    np.random.shuffle(tokens_list)\n",
    "    \n",
    "    # Select a random number of tokens if num_tokens is not specified\n",
    "    if num_tokens is None:\n",
    "        num_tokens = np.random.randint(1, len(tokens_list) + 1)\n",
    "    \n",
    "    # Randomly select a subset of tokens\n",
    "    selected_tokens = np.random.choice(tokens_list, num_tokens, replace=False)\n",
    "    shuffled_tokens = ', '.join(selected_tokens)\n",
    "\n",
    "    return disease, shuffled_tokens\n",
    "\n",
    "def predict_disease(user_input):\n",
    "    # LSTM prediction\n",
    "    user_input_array = np.array([user_input], dtype=object)\n",
    "    user_prediction = model_1.predict(user_input_array, verbose = 0)\n",
    "    LSTM_prediction = label_mapping[user_prediction.argmax()]\n",
    "    \n",
    "    # Keras vectorizer and embedding prediction\n",
    "    user_input_vector = text_vectorizer([user_input])\n",
    "    user_input_vector_embed = embedding(user_input_vector)\n",
    "    user_input_vector_avg = global_avg_pooling(user_input_vector_embed).numpy()\n",
    "    predicted_cluster_embed = kmeans_1.predict(user_input_vector_avg)\n",
    "    cluster_to_disease_embed = data.groupby('cluster_embed')['Disease'].apply(lambda x: x.mode()[0]).to_dict()\n",
    "    predicted_disease_embed = cluster_to_disease_embed[predicted_cluster_embed[0]]\n",
    "    \n",
    "    # TF-IDF prediction\n",
    "    user_input_tfidf = vectorizer.transform([user_input])\n",
    "    predicted_cluster_tfidf = kmeans_2.predict(user_input_tfidf)\n",
    "    cluster_to_disease = data.groupby('cluster')['Disease'].apply(lambda x: x.mode()[0]).to_dict()\n",
    "    predicted_disease_tfidf = cluster_to_disease[predicted_cluster_tfidf[0]]\n",
    "    \n",
    "    return LSTM_prediction, predicted_disease_tfidf, predicted_disease_embed\n",
    "\n",
    "# Create the DataFrame\n",
    "results = []\n",
    "\n",
    "for _ in range(20):\n",
    "    disease, shuffled_tokens = shuffle_tokens(data)\n",
    "    LSTM_prediction, predicted_disease_tfidf, predicted_disease_embed = predict_disease(shuffled_tokens)\n",
    "    \n",
    "    results.append({\n",
    "        'Shuffled Tokens': shuffled_tokens,\n",
    "        'Actual Disease': disease,\n",
    "        'LSTM Prediction': LSTM_prediction,\n",
    "        'Embedding Prediction': predicted_disease_embed,\n",
    "        'TF-IDF Prediction': predicted_disease_tfidf\n",
    "    })\n",
    "\n",
    "results_df = pd.DataFrame(results)\n",
    "\n",
    "def highlight_matches(s):\n",
    "    is_match = s == results_df['Actual Disease']\n",
    "    return ['background-color: darkgreen' if v else '' for v in is_match]\n",
    "\n",
    "# Apply the highlighting to the prediction columns\n",
    "styled_df = results_df.style.apply(highlight_matches, subset=['LSTM Prediction', 'Embedding Prediction', 'TF-IDF Prediction'])\n",
    "\n",
    "styled_df"
   ]
  },
  {
   "cell_type": "markdown",
   "id": "8d09f5bb",
   "metadata": {
    "papermill": {
     "duration": 0.036408,
     "end_time": "2024-06-20T03:28:30.728782",
     "exception": false,
     "start_time": "2024-06-20T03:28:30.692374",
     "status": "completed"
    },
    "tags": []
   },
   "source": [
    "### As shown in the table above, the highlighted cells indicate where the predictions match the actual disease, with the TF-IDF model demonstrating the best performance."
   ]
  },
  {
   "cell_type": "markdown",
   "id": "5936a91c",
   "metadata": {
    "papermill": {
     "duration": 0.035392,
     "end_time": "2024-06-20T03:28:30.800004",
     "exception": false,
     "start_time": "2024-06-20T03:28:30.764612",
     "status": "completed"
    },
    "tags": []
   },
   "source": [
    "### Did we solve the train-test contamination? ***NO***\n",
    "### We simply navigated around that problem without resulting in an overfitted or poor preformance model."
   ]
  },
  {
   "cell_type": "markdown",
   "id": "8994ec18",
   "metadata": {
    "papermill": {
     "duration": 0.03634,
     "end_time": "2024-06-20T03:28:30.872331",
     "exception": false,
     "start_time": "2024-06-20T03:28:30.835991",
     "status": "completed"
    },
    "tags": []
   },
   "source": [
    "#### Can this problem be fixed in this particular dataset? As far as I know, it can't be fixed because the issue is inherent to the entire dataset and the way it was made."
   ]
  },
  {
   "cell_type": "markdown",
   "id": "d53c5e89",
   "metadata": {
    "papermill": {
     "duration": 0.035423,
     "end_time": "2024-06-20T03:28:30.943874",
     "exception": false,
     "start_time": "2024-06-20T03:28:30.908451",
     "status": "completed"
    },
    "tags": []
   },
   "source": [
    "# Conclusion\n",
    "#### In this notebook, we tackled the challenge of train-test contamination, a persistent issue in machine learning. Despite the inherent difficulties posed by the dataset, we explored various approaches to mitigate its impact. By leveraging techniques like TF-IDF and careful model selection, we navigated around the problem while enhancing the model's performance. While the issue remains unsolved due to its dataset-wide nature, our strategies allowed us to build robust models that generalize well to new data. Moving forward, continued exploration and innovation in preprocessing and modeling techniques will be crucial in addressing such challenges effectively."
   ]
  }
 ],
 "metadata": {
  "kaggle": {
   "accelerator": "nvidiaTeslaT4",
   "dataSources": [
    {
     "datasetId": 672162,
     "sourceId": 1182853,
     "sourceType": "datasetVersion"
    }
   ],
   "dockerImageVersionId": 30733,
   "isGpuEnabled": true,
   "isInternetEnabled": true,
   "language": "python",
   "sourceType": "notebook"
  },
  "kernelspec": {
   "display_name": "Python 3",
   "language": "python",
   "name": "python3"
  },
  "language_info": {
   "codemirror_mode": {
    "name": "ipython",
    "version": 3
   },
   "file_extension": ".py",
   "mimetype": "text/x-python",
   "name": "python",
   "nbconvert_exporter": "python",
   "pygments_lexer": "ipython3",
   "version": "3.10.13"
  },
  "papermill": {
   "default_parameters": {},
   "duration": 79.271582,
   "end_time": "2024-06-20T03:28:33.578158",
   "environment_variables": {},
   "exception": null,
   "input_path": "__notebook__.ipynb",
   "output_path": "__notebook__.ipynb",
   "parameters": {},
   "start_time": "2024-06-20T03:27:14.306576",
   "version": "2.5.0"
  }
 },
 "nbformat": 4,
 "nbformat_minor": 5
}
